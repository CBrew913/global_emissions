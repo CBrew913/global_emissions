{
 "cells": [
  {
   "cell_type": "code",
   "execution_count": 1,
   "id": "ddaed3ab",
   "metadata": {},
   "outputs": [],
   "source": [
    "%matplotlib inline\n",
    "%matplotlib notebook\n",
    "\n",
    "import warnings\n",
    "warnings.filterwarnings('ignore')"
   ]
  },
  {
   "cell_type": "code",
   "execution_count": 2,
   "id": "0587e334",
   "metadata": {},
   "outputs": [],
   "source": [
    "# Dependencies\n",
    "import os\n",
    "import numpy as np\n",
    "import pandas as pd\n",
    "import plotly.io as pio\n",
    "import plotly.express as px\n",
    "import matplotlib.pyplot as plt"
   ]
  },
  {
   "cell_type": "code",
   "execution_count": 3,
   "id": "9ecd9978",
   "metadata": {},
   "outputs": [],
   "source": [
    "# Setting dataset filepath and export dir\n",
    "filepath = os.path.join('resources', 'Methane_final.csv')\n",
    "\n",
    "if not os.path.exists('images'):\n",
    "    os.mkdir('images')"
   ]
  },
  {
   "cell_type": "code",
   "execution_count": 4,
   "id": "74b730d2",
   "metadata": {},
   "outputs": [
    {
     "data": {
      "text/html": [
       "<div>\n",
       "<style scoped>\n",
       "    .dataframe tbody tr th:only-of-type {\n",
       "        vertical-align: middle;\n",
       "    }\n",
       "\n",
       "    .dataframe tbody tr th {\n",
       "        vertical-align: top;\n",
       "    }\n",
       "\n",
       "    .dataframe thead th {\n",
       "        text-align: right;\n",
       "    }\n",
       "</style>\n",
       "<table border=\"1\" class=\"dataframe\">\n",
       "  <thead>\n",
       "    <tr style=\"text-align: right;\">\n",
       "      <th></th>\n",
       "      <th>region</th>\n",
       "      <th>country</th>\n",
       "      <th>emissions</th>\n",
       "      <th>type</th>\n",
       "      <th>segment</th>\n",
       "      <th>reason</th>\n",
       "      <th>baseYear</th>\n",
       "      <th>notes</th>\n",
       "    </tr>\n",
       "  </thead>\n",
       "  <tbody>\n",
       "    <tr>\n",
       "      <th>0</th>\n",
       "      <td>Africa</td>\n",
       "      <td>Algeria</td>\n",
       "      <td>257.611206</td>\n",
       "      <td>Agriculture</td>\n",
       "      <td>Total</td>\n",
       "      <td>All</td>\n",
       "      <td>2019-2021</td>\n",
       "      <td>Average based on United Nations Framework Conv...</td>\n",
       "    </tr>\n",
       "    <tr>\n",
       "      <th>1</th>\n",
       "      <td>Africa</td>\n",
       "      <td>Algeria</td>\n",
       "      <td>0.052000</td>\n",
       "      <td>Energy</td>\n",
       "      <td>Bioenergy</td>\n",
       "      <td>All</td>\n",
       "      <td>2022</td>\n",
       "      <td>Estimates from end-uses are for 2020 or 2021 (...</td>\n",
       "    </tr>\n",
       "    <tr>\n",
       "      <th>2</th>\n",
       "      <td>Africa</td>\n",
       "      <td>Algeria</td>\n",
       "      <td>130.798996</td>\n",
       "      <td>Energy</td>\n",
       "      <td>Gas pipelines and LNG facilities</td>\n",
       "      <td>Fugitive</td>\n",
       "      <td>2022</td>\n",
       "      <td>Not available</td>\n",
       "    </tr>\n",
       "    <tr>\n",
       "      <th>3</th>\n",
       "      <td>Africa</td>\n",
       "      <td>Algeria</td>\n",
       "      <td>69.741898</td>\n",
       "      <td>Energy</td>\n",
       "      <td>Gas pipelines and LNG facilities</td>\n",
       "      <td>Vented</td>\n",
       "      <td>2022</td>\n",
       "      <td>Not available</td>\n",
       "    </tr>\n",
       "    <tr>\n",
       "      <th>4</th>\n",
       "      <td>Africa</td>\n",
       "      <td>Algeria</td>\n",
       "      <td>213.987000</td>\n",
       "      <td>Energy</td>\n",
       "      <td>Onshore gas</td>\n",
       "      <td>Fugitive</td>\n",
       "      <td>2022</td>\n",
       "      <td>Not available</td>\n",
       "    </tr>\n",
       "  </tbody>\n",
       "</table>\n",
       "</div>"
      ],
      "text/plain": [
       "   region  country   emissions         type                           segment  \\\n",
       "0  Africa  Algeria  257.611206  Agriculture                             Total   \n",
       "1  Africa  Algeria    0.052000       Energy                         Bioenergy   \n",
       "2  Africa  Algeria  130.798996       Energy  Gas pipelines and LNG facilities   \n",
       "3  Africa  Algeria   69.741898       Energy  Gas pipelines and LNG facilities   \n",
       "4  Africa  Algeria  213.987000       Energy                       Onshore gas   \n",
       "\n",
       "     reason   baseYear                                              notes  \n",
       "0       All  2019-2021  Average based on United Nations Framework Conv...  \n",
       "1       All       2022  Estimates from end-uses are for 2020 or 2021 (...  \n",
       "2  Fugitive       2022                                      Not available  \n",
       "3    Vented       2022                                      Not available  \n",
       "4  Fugitive       2022                                      Not available  "
      ]
     },
     "execution_count": 4,
     "metadata": {},
     "output_type": "execute_result"
    }
   ],
   "source": [
    "# Read csv\n",
    "emissions = pd.read_csv(filepath, index_col=[0])\n",
    "emissions.head()"
   ]
  },
  {
   "cell_type": "code",
   "execution_count": 5,
   "id": "bbe2a935",
   "metadata": {},
   "outputs": [
    {
     "name": "stdout",
     "output_type": "stream",
     "text": [
      "<class 'pandas.core.frame.DataFrame'>\n",
      "Int64Index: 1548 entries, 0 to 1547\n",
      "Data columns (total 8 columns):\n",
      " #   Column     Non-Null Count  Dtype  \n",
      "---  ------     --------------  -----  \n",
      " 0   region     1548 non-null   object \n",
      " 1   country    1548 non-null   object \n",
      " 2   emissions  1548 non-null   float64\n",
      " 3   type       1548 non-null   object \n",
      " 4   segment    1548 non-null   object \n",
      " 5   reason     1548 non-null   object \n",
      " 6   baseYear   1548 non-null   object \n",
      " 7   notes      1548 non-null   object \n",
      "dtypes: float64(1), object(7)\n",
      "memory usage: 108.8+ KB\n"
     ]
    }
   ],
   "source": [
    "# region\n",
    "# country - Country of Emission\n",
    "# emissions - Methane Emissions (kt)\n",
    "# type - Sector from which emissions occur\n",
    "# Segment- Sub-sector from which emissions occur\n",
    "# reason - The reason for the emission\n",
    "# baseYear - Base year for the tracking of emissions\n",
    "# notes - The source of data\n",
    "emissions.info()"
   ]
  },
  {
   "cell_type": "code",
   "execution_count": 6,
   "id": "5cde4fc5",
   "metadata": {},
   "outputs": [
    {
     "data": {
      "text/plain": [
       "877"
      ]
     },
     "execution_count": 6,
     "metadata": {},
     "output_type": "execute_result"
    }
   ],
   "source": [
    "# Evaluating notes column\n",
    "na = (emissions['notes'] == 'Not available').sum()\n",
    "na"
   ]
  },
  {
   "cell_type": "code",
   "execution_count": 7,
   "id": "92355d13",
   "metadata": {},
   "outputs": [
    {
     "data": {
      "text/plain": [
       "Energy         1233\n",
       "Agriculture     105\n",
       "Other           105\n",
       "Waste           105\n",
       "Name: type, dtype: int64"
      ]
     },
     "execution_count": 7,
     "metadata": {},
     "output_type": "execute_result"
    }
   ],
   "source": [
    "# Dropping notes column and evaluating type column\n",
    "emissions.drop('notes', axis=1, inplace=True)\n",
    "emissions['type'].value_counts()"
   ]
  },
  {
   "cell_type": "code",
   "execution_count": 8,
   "id": "a7527d2a",
   "metadata": {
    "scrolled": true
   },
   "outputs": [
    {
     "data": {
      "text/plain": [
       "Total                                             414\n",
       "Onshore oil                                       217\n",
       "Gas pipelines and LNG facilities                  164\n",
       "Offshore oil                                      159\n",
       "Onshore gas                                       144\n",
       "Offshore gas                                      118\n",
       "Other from oil and gas                             98\n",
       "Bioenergy                                          93\n",
       "Other from coal                                    66\n",
       "Steam coal                                         30\n",
       "Coking coal                                        24\n",
       "Satellite-detected large oil and gas emissions     21\n",
       "Name: segment, dtype: int64"
      ]
     },
     "execution_count": 8,
     "metadata": {},
     "output_type": "execute_result"
    }
   ],
   "source": [
    "# Evaluating segment column\n",
    "emissions['segment'].value_counts()"
   ]
  },
  {
   "cell_type": "code",
   "execution_count": 9,
   "id": "457ff509",
   "metadata": {},
   "outputs": [],
   "source": [
    "# Removing 'World' values\n",
    "emissions = emissions[emissions['region'] != 'World']"
   ]
  },
  {
   "cell_type": "code",
   "execution_count": 10,
   "id": "670a5025",
   "metadata": {},
   "outputs": [
    {
     "data": {
      "text/html": [
       "<div>\n",
       "<style scoped>\n",
       "    .dataframe tbody tr th:only-of-type {\n",
       "        vertical-align: middle;\n",
       "    }\n",
       "\n",
       "    .dataframe tbody tr th {\n",
       "        vertical-align: top;\n",
       "    }\n",
       "\n",
       "    .dataframe thead th {\n",
       "        text-align: right;\n",
       "    }\n",
       "</style>\n",
       "<table border=\"1\" class=\"dataframe\">\n",
       "  <thead>\n",
       "    <tr style=\"text-align: right;\">\n",
       "      <th></th>\n",
       "      <th>region</th>\n",
       "      <th>country</th>\n",
       "      <th>emissions</th>\n",
       "      <th>type</th>\n",
       "      <th>segment</th>\n",
       "      <th>reason</th>\n",
       "      <th>baseYear</th>\n",
       "    </tr>\n",
       "  </thead>\n",
       "  <tbody>\n",
       "    <tr>\n",
       "      <th>1</th>\n",
       "      <td>Africa</td>\n",
       "      <td>Algeria</td>\n",
       "      <td>0.052000</td>\n",
       "      <td>Energy</td>\n",
       "      <td>Bioenergy</td>\n",
       "      <td>All</td>\n",
       "      <td>2022</td>\n",
       "    </tr>\n",
       "    <tr>\n",
       "      <th>2</th>\n",
       "      <td>Africa</td>\n",
       "      <td>Algeria</td>\n",
       "      <td>130.798996</td>\n",
       "      <td>Energy</td>\n",
       "      <td>Gas pipelines and LNG facilities</td>\n",
       "      <td>Fugitive</td>\n",
       "      <td>2022</td>\n",
       "    </tr>\n",
       "    <tr>\n",
       "      <th>3</th>\n",
       "      <td>Africa</td>\n",
       "      <td>Algeria</td>\n",
       "      <td>69.741898</td>\n",
       "      <td>Energy</td>\n",
       "      <td>Gas pipelines and LNG facilities</td>\n",
       "      <td>Vented</td>\n",
       "      <td>2022</td>\n",
       "    </tr>\n",
       "    <tr>\n",
       "      <th>4</th>\n",
       "      <td>Africa</td>\n",
       "      <td>Algeria</td>\n",
       "      <td>213.987000</td>\n",
       "      <td>Energy</td>\n",
       "      <td>Onshore gas</td>\n",
       "      <td>Fugitive</td>\n",
       "      <td>2022</td>\n",
       "    </tr>\n",
       "    <tr>\n",
       "      <th>5</th>\n",
       "      <td>Africa</td>\n",
       "      <td>Algeria</td>\n",
       "      <td>464.308014</td>\n",
       "      <td>Energy</td>\n",
       "      <td>Onshore gas</td>\n",
       "      <td>Vented</td>\n",
       "      <td>2022</td>\n",
       "    </tr>\n",
       "  </tbody>\n",
       "</table>\n",
       "</div>"
      ],
      "text/plain": [
       "   region  country   emissions    type                           segment  \\\n",
       "1  Africa  Algeria    0.052000  Energy                         Bioenergy   \n",
       "2  Africa  Algeria  130.798996  Energy  Gas pipelines and LNG facilities   \n",
       "3  Africa  Algeria   69.741898  Energy  Gas pipelines and LNG facilities   \n",
       "4  Africa  Algeria  213.987000  Energy                       Onshore gas   \n",
       "5  Africa  Algeria  464.308014  Energy                       Onshore gas   \n",
       "\n",
       "     reason baseYear  \n",
       "1       All     2022  \n",
       "2  Fugitive     2022  \n",
       "3    Vented     2022  \n",
       "4  Fugitive     2022  \n",
       "5    Vented     2022  "
      ]
     },
     "execution_count": 10,
     "metadata": {},
     "output_type": "execute_result"
    }
   ],
   "source": [
    "# Pulling segment spec\n",
    "seg_totals = emissions[emissions['segment'] != 'Total']\n",
    "seg_totals.head()"
   ]
  },
  {
   "cell_type": "code",
   "execution_count": 36,
   "id": "aae9caef",
   "metadata": {},
   "outputs": [
    {
     "data": {
      "application/vnd.plotly.v1+json": {
       "config": {
        "plotlyServerURL": "https://plot.ly"
       },
       "data": [
        {
         "branchvalues": "total",
         "customdata": [
          [
           "Africa"
          ],
          [
           "Europe"
          ],
          [
           "Africa"
          ],
          [
           "Middle East"
          ],
          [
           "Russia & Caspian"
          ],
          [
           "Europe"
          ],
          [
           "Middle East"
          ],
          [
           "Europe"
          ],
          [
           "Asia Pacific"
          ],
          [
           "Central and South America"
          ],
          [
           "Central and South America"
          ],
          [
           "Africa"
          ],
          [
           "Asia Pacific"
          ],
          [
           "Europe"
          ],
          [
           "Europe"
          ],
          [
           "Europe"
          ],
          [
           "Other"
          ],
          [
           "Middle East"
          ],
          [
           "Europe"
          ],
          [
           "Africa"
          ],
          [
           "Africa"
          ],
          [
           "Asia Pacific"
          ],
          [
           "Europe"
          ],
          [
           "Asia Pacific"
          ],
          [
           "Africa"
          ],
          [
           "Africa"
          ],
          [
           "Africa"
          ],
          [
           "North America"
          ],
          [
           "Middle East"
          ],
          [
           "Europe"
          ],
          [
           "Central and South America"
          ],
          [
           "Asia Pacific"
          ],
          [
           "Africa"
          ],
          [
           "Middle East"
          ],
          [
           "Asia Pacific"
          ],
          [
           "Central and South America"
          ],
          [
           "Russia & Caspian"
          ],
          [
           "Central and South America"
          ],
          [
           "North America"
          ],
          [
           "Europe"
          ],
          [
           "Middle East"
          ],
          [
           "Europe"
          ],
          [
           "Russia & Caspian"
          ],
          [
           "Africa"
          ],
          [
           "Central and South America"
          ],
          [
           "Africa"
          ],
          [
           "Asia Pacific"
          ],
          [
           "Africa"
          ],
          [
           "Middle East"
          ],
          [
           "Europe"
          ],
          [
           "Africa"
          ],
          [
           "Africa"
          ],
          [
           "Africa"
          ],
          [
           "Asia Pacific"
          ],
          [
           "Africa"
          ],
          [
           "Central and South America"
          ],
          [
           "Europe"
          ],
          [
           "Africa"
          ],
          [
           "Central and South America"
          ],
          [
           "Africa"
          ],
          [
           "Africa"
          ],
          [
           "Central and South America"
          ],
          [
           "Asia Pacific"
          ],
          [
           "Africa"
          ],
          [
           "North America"
          ],
          [
           "Africa"
          ],
          [
           "Asia Pacific"
          ],
          [
           "Central and South America"
          ],
          [
           "Africa"
          ],
          [
           "Central and South America"
          ],
          [
           "Africa"
          ],
          [
           "Asia Pacific"
          ],
          [
           "Middle East"
          ],
          [
           "Russia & Caspian"
          ],
          [
           "Asia Pacific"
          ],
          [
           "Central and South America"
          ],
          [
           "Africa"
          ],
          [
           "Africa"
          ],
          [
           "Other"
          ],
          [
           "Africa"
          ],
          [
           "Africa"
          ],
          [
           "North America"
          ],
          [
           "Asia Pacific"
          ],
          [
           "Africa"
          ],
          [
           "Middle East"
          ],
          [
           "Middle East"
          ],
          [
           "Asia Pacific"
          ],
          [
           "Africa"
          ],
          [
           "Russia & Caspian"
          ],
          [
           "Middle East"
          ],
          [
           "Asia Pacific"
          ],
          [
           "Europe"
          ],
          [
           "Europe"
          ],
          [
           "Middle East"
          ],
          [
           "Middle East"
          ],
          [
           "Asia Pacific"
          ],
          [
           "Asia Pacific"
          ],
          [
           "Central and South America"
          ],
          [
           "Africa"
          ],
          [
           "Africa"
          ],
          [
           "Europe"
          ],
          [
           "Africa"
          ],
          [
           "Europe"
          ],
          [
           "Europe"
          ],
          [
           "Europe"
          ],
          [
           "Russia & Caspian"
          ]
         ],
         "domain": {
          "x": [
           0,
           1
          ],
          "y": [
           0,
           1
          ]
         },
         "hoverinfo": "value",
         "hovertemplate": "labels=%{label}<br>emissions=%{value}<br>parent=%{parent}<br>id=%{id}<br>region=%{customdata[0]}<extra></extra>",
         "ids": [
          "Africa/Algeria",
          "Europe/Slovenia",
          "Africa/Senegal",
          "Middle East/Saudi Arabia",
          "Russia & Caspian/Russia",
          "Europe/Romania",
          "Middle East/Qatar",
          "Europe/Poland",
          "Asia Pacific/Philippines",
          "Central and South America/Peru",
          "Central and South America/Paraguay",
          "Africa/Somalia",
          "Asia Pacific/Pakistan",
          "Europe/Other countries in Europe",
          "Europe/Other EU7 countries",
          "Europe/Other EU17 countries",
          "Other/Other",
          "Middle East/Oman",
          "Europe/Norway",
          "Africa/Nigeria",
          "Africa/Niger",
          "Asia Pacific/New Zealand",
          "Europe/Netherlands",
          "Asia Pacific/Other countries in Southeast Asia",
          "Africa/South Africa",
          "Africa/South Sudan",
          "Africa/Sudan",
          "North America",
          "Middle East",
          "Europe",
          "Central and South America",
          "Asia Pacific",
          "Africa",
          "Middle East/Yemen",
          "Asia Pacific/Vietnam",
          "Central and South America/Venezuela",
          "Russia & Caspian/Uzbekistan",
          "Central and South America/Uruguay",
          "North America/United States",
          "Europe/United Kingdom",
          "Middle East/United Arab Emirates",
          "Europe/Ukraine",
          "Russia & Caspian/Turkmenistan",
          "Africa/Tunisia",
          "Central and South America/Trinidad and Tobago",
          "Africa/Togo",
          "Asia Pacific/Thailand",
          "Africa/Tanzania",
          "Middle East/Syria",
          "Europe/Sweden",
          "Africa/Namibia",
          "Africa/Mozambique",
          "Africa/Morocco",
          "Asia Pacific/Mongolia",
          "Africa/Egypt",
          "Central and South America/Ecuador",
          "Europe/Denmark",
          "Africa/Democratic Republic of Congo",
          "Central and South America/Cuba",
          "Africa/Cote d'Ivoire",
          "Africa/Congo",
          "Central and South America/Colombia",
          "Asia Pacific/China",
          "Africa/Chad",
          "North America/Canada",
          "Africa/Cameroon",
          "Asia Pacific/Brunei",
          "Central and South America/Brazil",
          "Africa/Botswana",
          "Central and South America/Bolivia",
          "Africa/Benin",
          "Asia Pacific/Bangladesh",
          "Middle East/Bahrain",
          "Russia & Caspian/Azerbaijan",
          "Asia Pacific/Australia",
          "Central and South America/Argentina",
          "Africa/Angola",
          "Africa/Equatorial Guinea",
          "Other",
          "Africa/Eritrea",
          "Africa/Ethiopia",
          "North America/Mexico",
          "Asia Pacific/Malaysia",
          "Africa/Libya",
          "Middle East/Lebanon",
          "Middle East/Kuwait",
          "Asia Pacific/Korea",
          "Africa/Kenya",
          "Russia & Caspian/Kazakhstan",
          "Middle East/Jordan",
          "Asia Pacific/Japan",
          "Europe/Italy",
          "Europe/Israel",
          "Middle East/Iraq",
          "Middle East/Iran",
          "Asia Pacific/Indonesia",
          "Asia Pacific/India",
          "Central and South America/Guyana",
          "Africa/Guinea",
          "Africa/Ghana",
          "Europe/Germany",
          "Africa/Gabon",
          "Europe/France",
          "Europe/European Union",
          "Europe/Estonia",
          "Russia & Caspian"
         ],
         "labels": [
          "Algeria",
          "Slovenia",
          "Senegal",
          "Saudi Arabia",
          "Russia",
          "Romania",
          "Qatar",
          "Poland",
          "Philippines",
          "Peru",
          "Paraguay",
          "Somalia",
          "Pakistan",
          "Other countries in Europe",
          "Other EU7 countries",
          "Other EU17 countries",
          "Other",
          "Oman",
          "Norway",
          "Nigeria",
          "Niger",
          "New Zealand",
          "Netherlands",
          "Other countries in Southeast Asia",
          "South Africa",
          "South Sudan",
          "Sudan",
          "North America",
          "Middle East",
          "Europe",
          "Central and South America",
          "Asia Pacific",
          "Africa",
          "Yemen",
          "Vietnam",
          "Venezuela",
          "Uzbekistan",
          "Uruguay",
          "United States",
          "United Kingdom",
          "United Arab Emirates",
          "Ukraine",
          "Turkmenistan",
          "Tunisia",
          "Trinidad and Tobago",
          "Togo",
          "Thailand",
          "Tanzania",
          "Syria",
          "Sweden",
          "Namibia",
          "Mozambique",
          "Morocco",
          "Mongolia",
          "Egypt",
          "Ecuador",
          "Denmark",
          "Democratic Republic of Congo",
          "Cuba",
          "Cote d'Ivoire",
          "Congo",
          "Colombia",
          "China",
          "Chad",
          "Canada",
          "Cameroon",
          "Brunei",
          "Brazil",
          "Botswana",
          "Bolivia",
          "Benin",
          "Bangladesh",
          "Bahrain",
          "Azerbaijan",
          "Australia",
          "Argentina",
          "Angola",
          "Equatorial Guinea",
          "Other",
          "Eritrea",
          "Ethiopia",
          "Mexico",
          "Malaysia",
          "Libya",
          "Lebanon",
          "Kuwait",
          "Korea",
          "Kenya",
          "Kazakhstan",
          "Jordan",
          "Japan",
          "Italy",
          "Israel",
          "Iraq",
          "Iran",
          "Indonesia",
          "India",
          "Guyana",
          "Guinea",
          "Ghana",
          "Germany",
          "Gabon",
          "France",
          "European Union",
          "Estonia",
          "Russia & Caspian"
         ],
         "marker": {
          "colors": [
           "#636efa",
           "#EF553B",
           "#636efa",
           "#00cc96",
           "#ab63fa",
           "#EF553B",
           "#00cc96",
           "#EF553B",
           "#FFA15A",
           "#19d3f3",
           "#19d3f3",
           "#636efa",
           "#FFA15A",
           "#EF553B",
           "#EF553B",
           "#EF553B",
           "#FF6692",
           "#00cc96",
           "#EF553B",
           "#636efa",
           "#636efa",
           "#FFA15A",
           "#EF553B",
           "#FFA15A",
           "#636efa",
           "#636efa",
           "#636efa",
           "#B6E880",
           "#00cc96",
           "#EF553B",
           "#19d3f3",
           "#FFA15A",
           "#636efa",
           "#00cc96",
           "#FFA15A",
           "#19d3f3",
           "#ab63fa",
           "#19d3f3",
           "#B6E880",
           "#EF553B",
           "#00cc96",
           "#EF553B",
           "#ab63fa",
           "#636efa",
           "#19d3f3",
           "#636efa",
           "#FFA15A",
           "#636efa",
           "#00cc96",
           "#EF553B",
           "#636efa",
           "#636efa",
           "#636efa",
           "#FFA15A",
           "#636efa",
           "#19d3f3",
           "#EF553B",
           "#636efa",
           "#19d3f3",
           "#636efa",
           "#636efa",
           "#19d3f3",
           "#FFA15A",
           "#636efa",
           "#B6E880",
           "#636efa",
           "#FFA15A",
           "#19d3f3",
           "#636efa",
           "#19d3f3",
           "#636efa",
           "#FFA15A",
           "#00cc96",
           "#ab63fa",
           "#FFA15A",
           "#19d3f3",
           "#636efa",
           "#636efa",
           "#FF6692",
           "#636efa",
           "#636efa",
           "#B6E880",
           "#FFA15A",
           "#636efa",
           "#00cc96",
           "#00cc96",
           "#FFA15A",
           "#636efa",
           "#ab63fa",
           "#00cc96",
           "#FFA15A",
           "#EF553B",
           "#EF553B",
           "#00cc96",
           "#00cc96",
           "#FFA15A",
           "#FFA15A",
           "#19d3f3",
           "#636efa",
           "#636efa",
           "#EF553B",
           "#636efa",
           "#EF553B",
           "#EF553B",
           "#EF553B",
           "#ab63fa"
          ]
         },
         "name": "",
         "parents": [
          "Africa",
          "Europe",
          "Africa",
          "Middle East",
          "Russia & Caspian",
          "Europe",
          "Middle East",
          "Europe",
          "Asia Pacific",
          "Central and South America",
          "Central and South America",
          "Africa",
          "Asia Pacific",
          "Europe",
          "Europe",
          "Europe",
          "Other",
          "Middle East",
          "Europe",
          "Africa",
          "Africa",
          "Asia Pacific",
          "Europe",
          "Asia Pacific",
          "Africa",
          "Africa",
          "Africa",
          "",
          "",
          "",
          "",
          "",
          "",
          "Middle East",
          "Asia Pacific",
          "Central and South America",
          "Russia & Caspian",
          "Central and South America",
          "North America",
          "Europe",
          "Middle East",
          "Europe",
          "Russia & Caspian",
          "Africa",
          "Central and South America",
          "Africa",
          "Asia Pacific",
          "Africa",
          "Middle East",
          "Europe",
          "Africa",
          "Africa",
          "Africa",
          "Asia Pacific",
          "Africa",
          "Central and South America",
          "Europe",
          "Africa",
          "Central and South America",
          "Africa",
          "Africa",
          "Central and South America",
          "Asia Pacific",
          "Africa",
          "North America",
          "Africa",
          "Asia Pacific",
          "Central and South America",
          "Africa",
          "Central and South America",
          "Africa",
          "Asia Pacific",
          "Middle East",
          "Russia & Caspian",
          "Asia Pacific",
          "Central and South America",
          "Africa",
          "Africa",
          "",
          "Africa",
          "Africa",
          "North America",
          "Asia Pacific",
          "Africa",
          "Middle East",
          "Middle East",
          "Asia Pacific",
          "Africa",
          "Russia & Caspian",
          "Middle East",
          "Asia Pacific",
          "Europe",
          "Europe",
          "Middle East",
          "Middle East",
          "Asia Pacific",
          "Asia Pacific",
          "Central and South America",
          "Africa",
          "Africa",
          "Europe",
          "Africa",
          "Europe",
          "Europe",
          "Europe",
          ""
         ],
         "type": "sunburst",
         "values": [
          2669.194642312359,
          7.726953619392589,
          13.024876680225136,
          3051.0966617316008,
          18078.08385658264,
          285.410905867815,
          1138.517774708569,
          865.2888784296811,
          116.43430654332042,
          131.71063903719187,
          16.34809112548828,
          29.507999420166016,
          920.3993654251099,
          448.1883523222059,
          55.59594362974167,
          600.0644304789603,
          2420.880063492863,
          869.2565175741911,
          41.103772475384176,
          3306.071265136823,
          40.86768516106531,
          37.334140941500664,
          29.25938070891425,
          527.3272294998169,
          1239.029734870419,
          76.9888933300972,
          143.06582760810852,
          20899.358121551573,
          16270.411918900907,
          6882.477476314409,
          7323.162745520007,
          41620.08553819265,
          13267.93909550435,
          145.1815997250378,
          60.932000160217285,
          2642.703637290746,
          780.9161390420049,
          7.599424537271261,
          16769.630409240723,
          274.6314067803323,
          1439.1328016519547,
          553.4212055206299,
          4740.040899455547,
          77.23422545194626,
          209.22000166773796,
          19.225591253489256,
          535.2486734390259,
          203.39022368192667,
          237.66441609337926,
          31.990554362535477,
          2.6310891509056096,
          227.35590098937973,
          22.18147224164568,
          216.8521963953972,
          958.0423972010612,
          277.09926027059555,
          41.515834495425224,
          260.69290310144424,
          21.065090607851744,
          93.39645344018936,
          264.7666951417923,
          778.1613088846207,
          25372.22229385376,
          51.4169500390999,
          2548.398477651179,
          216.56076430529356,
          43.507292967289686,
          1756.4953835010529,
          6.199222539551556,
          128.09658127231523,
          26.628539759665728,
          334.3358369767666,
          190.68525731563568,
          323.2549617290497,
          2232.2388623952866,
          1307.0935932584107,
          568.7333822846413,
          169.01870894432068,
          2420.880063492863,
          5.936958324164152,
          464.2127700597048,
          1581.3292346596718,
          474.02106988430023,
          1599.4412817955017,
          4.712916038930416,
          1002.0822172164917,
          200.32664331793785,
          143.82598201930523,
          2740.5611456632614,
          47.2069646269083,
          283.30033407267183,
          285.78645250946283,
          43.2089960873127,
          2515.052600413561,
          5629.822191804647,
          5080.369268417358,
          5185.236023902893,
          47.56973406672478,
          0.0080000003799796,
          120.73608818650246,
          353.09372605290264,
          248.55257107317448,
          193.59646832570434,
          2760.969970226288,
          11.624244421720505,
          26662.857002472505
         ]
        }
       ],
       "layout": {
        "legend": {
         "tracegroupgap": 0
        },
        "template": {
         "data": {
          "bar": [
           {
            "error_x": {
             "color": "#2a3f5f"
            },
            "error_y": {
             "color": "#2a3f5f"
            },
            "marker": {
             "line": {
              "color": "#E5ECF6",
              "width": 0.5
             },
             "pattern": {
              "fillmode": "overlay",
              "size": 10,
              "solidity": 0.2
             }
            },
            "type": "bar"
           }
          ],
          "barpolar": [
           {
            "marker": {
             "line": {
              "color": "#E5ECF6",
              "width": 0.5
             },
             "pattern": {
              "fillmode": "overlay",
              "size": 10,
              "solidity": 0.2
             }
            },
            "type": "barpolar"
           }
          ],
          "carpet": [
           {
            "aaxis": {
             "endlinecolor": "#2a3f5f",
             "gridcolor": "white",
             "linecolor": "white",
             "minorgridcolor": "white",
             "startlinecolor": "#2a3f5f"
            },
            "baxis": {
             "endlinecolor": "#2a3f5f",
             "gridcolor": "white",
             "linecolor": "white",
             "minorgridcolor": "white",
             "startlinecolor": "#2a3f5f"
            },
            "type": "carpet"
           }
          ],
          "choropleth": [
           {
            "colorbar": {
             "outlinewidth": 0,
             "ticks": ""
            },
            "type": "choropleth"
           }
          ],
          "contour": [
           {
            "colorbar": {
             "outlinewidth": 0,
             "ticks": ""
            },
            "colorscale": [
             [
              0,
              "#0d0887"
             ],
             [
              0.1111111111111111,
              "#46039f"
             ],
             [
              0.2222222222222222,
              "#7201a8"
             ],
             [
              0.3333333333333333,
              "#9c179e"
             ],
             [
              0.4444444444444444,
              "#bd3786"
             ],
             [
              0.5555555555555556,
              "#d8576b"
             ],
             [
              0.6666666666666666,
              "#ed7953"
             ],
             [
              0.7777777777777778,
              "#fb9f3a"
             ],
             [
              0.8888888888888888,
              "#fdca26"
             ],
             [
              1,
              "#f0f921"
             ]
            ],
            "type": "contour"
           }
          ],
          "contourcarpet": [
           {
            "colorbar": {
             "outlinewidth": 0,
             "ticks": ""
            },
            "type": "contourcarpet"
           }
          ],
          "heatmap": [
           {
            "colorbar": {
             "outlinewidth": 0,
             "ticks": ""
            },
            "colorscale": [
             [
              0,
              "#0d0887"
             ],
             [
              0.1111111111111111,
              "#46039f"
             ],
             [
              0.2222222222222222,
              "#7201a8"
             ],
             [
              0.3333333333333333,
              "#9c179e"
             ],
             [
              0.4444444444444444,
              "#bd3786"
             ],
             [
              0.5555555555555556,
              "#d8576b"
             ],
             [
              0.6666666666666666,
              "#ed7953"
             ],
             [
              0.7777777777777778,
              "#fb9f3a"
             ],
             [
              0.8888888888888888,
              "#fdca26"
             ],
             [
              1,
              "#f0f921"
             ]
            ],
            "type": "heatmap"
           }
          ],
          "heatmapgl": [
           {
            "colorbar": {
             "outlinewidth": 0,
             "ticks": ""
            },
            "colorscale": [
             [
              0,
              "#0d0887"
             ],
             [
              0.1111111111111111,
              "#46039f"
             ],
             [
              0.2222222222222222,
              "#7201a8"
             ],
             [
              0.3333333333333333,
              "#9c179e"
             ],
             [
              0.4444444444444444,
              "#bd3786"
             ],
             [
              0.5555555555555556,
              "#d8576b"
             ],
             [
              0.6666666666666666,
              "#ed7953"
             ],
             [
              0.7777777777777778,
              "#fb9f3a"
             ],
             [
              0.8888888888888888,
              "#fdca26"
             ],
             [
              1,
              "#f0f921"
             ]
            ],
            "type": "heatmapgl"
           }
          ],
          "histogram": [
           {
            "marker": {
             "pattern": {
              "fillmode": "overlay",
              "size": 10,
              "solidity": 0.2
             }
            },
            "type": "histogram"
           }
          ],
          "histogram2d": [
           {
            "colorbar": {
             "outlinewidth": 0,
             "ticks": ""
            },
            "colorscale": [
             [
              0,
              "#0d0887"
             ],
             [
              0.1111111111111111,
              "#46039f"
             ],
             [
              0.2222222222222222,
              "#7201a8"
             ],
             [
              0.3333333333333333,
              "#9c179e"
             ],
             [
              0.4444444444444444,
              "#bd3786"
             ],
             [
              0.5555555555555556,
              "#d8576b"
             ],
             [
              0.6666666666666666,
              "#ed7953"
             ],
             [
              0.7777777777777778,
              "#fb9f3a"
             ],
             [
              0.8888888888888888,
              "#fdca26"
             ],
             [
              1,
              "#f0f921"
             ]
            ],
            "type": "histogram2d"
           }
          ],
          "histogram2dcontour": [
           {
            "colorbar": {
             "outlinewidth": 0,
             "ticks": ""
            },
            "colorscale": [
             [
              0,
              "#0d0887"
             ],
             [
              0.1111111111111111,
              "#46039f"
             ],
             [
              0.2222222222222222,
              "#7201a8"
             ],
             [
              0.3333333333333333,
              "#9c179e"
             ],
             [
              0.4444444444444444,
              "#bd3786"
             ],
             [
              0.5555555555555556,
              "#d8576b"
             ],
             [
              0.6666666666666666,
              "#ed7953"
             ],
             [
              0.7777777777777778,
              "#fb9f3a"
             ],
             [
              0.8888888888888888,
              "#fdca26"
             ],
             [
              1,
              "#f0f921"
             ]
            ],
            "type": "histogram2dcontour"
           }
          ],
          "mesh3d": [
           {
            "colorbar": {
             "outlinewidth": 0,
             "ticks": ""
            },
            "type": "mesh3d"
           }
          ],
          "parcoords": [
           {
            "line": {
             "colorbar": {
              "outlinewidth": 0,
              "ticks": ""
             }
            },
            "type": "parcoords"
           }
          ],
          "pie": [
           {
            "automargin": true,
            "type": "pie"
           }
          ],
          "scatter": [
           {
            "fillpattern": {
             "fillmode": "overlay",
             "size": 10,
             "solidity": 0.2
            },
            "type": "scatter"
           }
          ],
          "scatter3d": [
           {
            "line": {
             "colorbar": {
              "outlinewidth": 0,
              "ticks": ""
             }
            },
            "marker": {
             "colorbar": {
              "outlinewidth": 0,
              "ticks": ""
             }
            },
            "type": "scatter3d"
           }
          ],
          "scattercarpet": [
           {
            "marker": {
             "colorbar": {
              "outlinewidth": 0,
              "ticks": ""
             }
            },
            "type": "scattercarpet"
           }
          ],
          "scattergeo": [
           {
            "marker": {
             "colorbar": {
              "outlinewidth": 0,
              "ticks": ""
             }
            },
            "type": "scattergeo"
           }
          ],
          "scattergl": [
           {
            "marker": {
             "colorbar": {
              "outlinewidth": 0,
              "ticks": ""
             }
            },
            "type": "scattergl"
           }
          ],
          "scattermapbox": [
           {
            "marker": {
             "colorbar": {
              "outlinewidth": 0,
              "ticks": ""
             }
            },
            "type": "scattermapbox"
           }
          ],
          "scatterpolar": [
           {
            "marker": {
             "colorbar": {
              "outlinewidth": 0,
              "ticks": ""
             }
            },
            "type": "scatterpolar"
           }
          ],
          "scatterpolargl": [
           {
            "marker": {
             "colorbar": {
              "outlinewidth": 0,
              "ticks": ""
             }
            },
            "type": "scatterpolargl"
           }
          ],
          "scatterternary": [
           {
            "marker": {
             "colorbar": {
              "outlinewidth": 0,
              "ticks": ""
             }
            },
            "type": "scatterternary"
           }
          ],
          "surface": [
           {
            "colorbar": {
             "outlinewidth": 0,
             "ticks": ""
            },
            "colorscale": [
             [
              0,
              "#0d0887"
             ],
             [
              0.1111111111111111,
              "#46039f"
             ],
             [
              0.2222222222222222,
              "#7201a8"
             ],
             [
              0.3333333333333333,
              "#9c179e"
             ],
             [
              0.4444444444444444,
              "#bd3786"
             ],
             [
              0.5555555555555556,
              "#d8576b"
             ],
             [
              0.6666666666666666,
              "#ed7953"
             ],
             [
              0.7777777777777778,
              "#fb9f3a"
             ],
             [
              0.8888888888888888,
              "#fdca26"
             ],
             [
              1,
              "#f0f921"
             ]
            ],
            "type": "surface"
           }
          ],
          "table": [
           {
            "cells": {
             "fill": {
              "color": "#EBF0F8"
             },
             "line": {
              "color": "white"
             }
            },
            "header": {
             "fill": {
              "color": "#C8D4E3"
             },
             "line": {
              "color": "white"
             }
            },
            "type": "table"
           }
          ]
         },
         "layout": {
          "annotationdefaults": {
           "arrowcolor": "#2a3f5f",
           "arrowhead": 0,
           "arrowwidth": 1
          },
          "autotypenumbers": "strict",
          "coloraxis": {
           "colorbar": {
            "outlinewidth": 0,
            "ticks": ""
           }
          },
          "colorscale": {
           "diverging": [
            [
             0,
             "#8e0152"
            ],
            [
             0.1,
             "#c51b7d"
            ],
            [
             0.2,
             "#de77ae"
            ],
            [
             0.3,
             "#f1b6da"
            ],
            [
             0.4,
             "#fde0ef"
            ],
            [
             0.5,
             "#f7f7f7"
            ],
            [
             0.6,
             "#e6f5d0"
            ],
            [
             0.7,
             "#b8e186"
            ],
            [
             0.8,
             "#7fbc41"
            ],
            [
             0.9,
             "#4d9221"
            ],
            [
             1,
             "#276419"
            ]
           ],
           "sequential": [
            [
             0,
             "#0d0887"
            ],
            [
             0.1111111111111111,
             "#46039f"
            ],
            [
             0.2222222222222222,
             "#7201a8"
            ],
            [
             0.3333333333333333,
             "#9c179e"
            ],
            [
             0.4444444444444444,
             "#bd3786"
            ],
            [
             0.5555555555555556,
             "#d8576b"
            ],
            [
             0.6666666666666666,
             "#ed7953"
            ],
            [
             0.7777777777777778,
             "#fb9f3a"
            ],
            [
             0.8888888888888888,
             "#fdca26"
            ],
            [
             1,
             "#f0f921"
            ]
           ],
           "sequentialminus": [
            [
             0,
             "#0d0887"
            ],
            [
             0.1111111111111111,
             "#46039f"
            ],
            [
             0.2222222222222222,
             "#7201a8"
            ],
            [
             0.3333333333333333,
             "#9c179e"
            ],
            [
             0.4444444444444444,
             "#bd3786"
            ],
            [
             0.5555555555555556,
             "#d8576b"
            ],
            [
             0.6666666666666666,
             "#ed7953"
            ],
            [
             0.7777777777777778,
             "#fb9f3a"
            ],
            [
             0.8888888888888888,
             "#fdca26"
            ],
            [
             1,
             "#f0f921"
            ]
           ]
          },
          "colorway": [
           "#636efa",
           "#EF553B",
           "#00cc96",
           "#ab63fa",
           "#FFA15A",
           "#19d3f3",
           "#FF6692",
           "#B6E880",
           "#FF97FF",
           "#FECB52"
          ],
          "font": {
           "color": "#2a3f5f"
          },
          "geo": {
           "bgcolor": "white",
           "lakecolor": "white",
           "landcolor": "#E5ECF6",
           "showlakes": true,
           "showland": true,
           "subunitcolor": "white"
          },
          "hoverlabel": {
           "align": "left"
          },
          "hovermode": "closest",
          "mapbox": {
           "style": "light"
          },
          "paper_bgcolor": "white",
          "plot_bgcolor": "#E5ECF6",
          "polar": {
           "angularaxis": {
            "gridcolor": "white",
            "linecolor": "white",
            "ticks": ""
           },
           "bgcolor": "#E5ECF6",
           "radialaxis": {
            "gridcolor": "white",
            "linecolor": "white",
            "ticks": ""
           }
          },
          "scene": {
           "xaxis": {
            "backgroundcolor": "#E5ECF6",
            "gridcolor": "white",
            "gridwidth": 2,
            "linecolor": "white",
            "showbackground": true,
            "ticks": "",
            "zerolinecolor": "white"
           },
           "yaxis": {
            "backgroundcolor": "#E5ECF6",
            "gridcolor": "white",
            "gridwidth": 2,
            "linecolor": "white",
            "showbackground": true,
            "ticks": "",
            "zerolinecolor": "white"
           },
           "zaxis": {
            "backgroundcolor": "#E5ECF6",
            "gridcolor": "white",
            "gridwidth": 2,
            "linecolor": "white",
            "showbackground": true,
            "ticks": "",
            "zerolinecolor": "white"
           }
          },
          "shapedefaults": {
           "line": {
            "color": "#2a3f5f"
           }
          },
          "ternary": {
           "aaxis": {
            "gridcolor": "white",
            "linecolor": "white",
            "ticks": ""
           },
           "baxis": {
            "gridcolor": "white",
            "linecolor": "white",
            "ticks": ""
           },
           "bgcolor": "#E5ECF6",
           "caxis": {
            "gridcolor": "white",
            "linecolor": "white",
            "ticks": ""
           }
          },
          "title": {
           "x": 0.05
          },
          "xaxis": {
           "automargin": true,
           "gridcolor": "white",
           "linecolor": "white",
           "ticks": "",
           "title": {
            "standoff": 15
           },
           "zerolinecolor": "white",
           "zerolinewidth": 2
          },
          "yaxis": {
           "automargin": true,
           "gridcolor": "white",
           "linecolor": "white",
           "ticks": "",
           "title": {
            "standoff": 15
           },
           "zerolinecolor": "white",
           "zerolinewidth": 2
          }
         }
        },
        "title": {
         "text": "Methane Emissions by Region"
        }
       }
      },
      "text/html": [
       "<div>                            <div id=\"7cf81f43-0496-401f-a5e4-ff120c75c74f\" class=\"plotly-graph-div\" style=\"height:525px; width:100%;\"></div>            <script type=\"text/javascript\">                require([\"plotly\"], function(Plotly) {                    window.PLOTLYENV=window.PLOTLYENV || {};                                    if (document.getElementById(\"7cf81f43-0496-401f-a5e4-ff120c75c74f\")) {                    Plotly.newPlot(                        \"7cf81f43-0496-401f-a5e4-ff120c75c74f\",                        [{\"branchvalues\":\"total\",\"customdata\":[[\"Africa\"],[\"Europe\"],[\"Africa\"],[\"Middle East\"],[\"Russia & Caspian\"],[\"Europe\"],[\"Middle East\"],[\"Europe\"],[\"Asia Pacific\"],[\"Central and South America\"],[\"Central and South America\"],[\"Africa\"],[\"Asia Pacific\"],[\"Europe\"],[\"Europe\"],[\"Europe\"],[\"Other\"],[\"Middle East\"],[\"Europe\"],[\"Africa\"],[\"Africa\"],[\"Asia Pacific\"],[\"Europe\"],[\"Asia Pacific\"],[\"Africa\"],[\"Africa\"],[\"Africa\"],[\"North America\"],[\"Middle East\"],[\"Europe\"],[\"Central and South America\"],[\"Asia Pacific\"],[\"Africa\"],[\"Middle East\"],[\"Asia Pacific\"],[\"Central and South America\"],[\"Russia & Caspian\"],[\"Central and South America\"],[\"North America\"],[\"Europe\"],[\"Middle East\"],[\"Europe\"],[\"Russia & Caspian\"],[\"Africa\"],[\"Central and South America\"],[\"Africa\"],[\"Asia Pacific\"],[\"Africa\"],[\"Middle East\"],[\"Europe\"],[\"Africa\"],[\"Africa\"],[\"Africa\"],[\"Asia Pacific\"],[\"Africa\"],[\"Central and South America\"],[\"Europe\"],[\"Africa\"],[\"Central and South America\"],[\"Africa\"],[\"Africa\"],[\"Central and South America\"],[\"Asia Pacific\"],[\"Africa\"],[\"North America\"],[\"Africa\"],[\"Asia Pacific\"],[\"Central and South America\"],[\"Africa\"],[\"Central and South America\"],[\"Africa\"],[\"Asia Pacific\"],[\"Middle East\"],[\"Russia & Caspian\"],[\"Asia Pacific\"],[\"Central and South America\"],[\"Africa\"],[\"Africa\"],[\"Other\"],[\"Africa\"],[\"Africa\"],[\"North America\"],[\"Asia Pacific\"],[\"Africa\"],[\"Middle East\"],[\"Middle East\"],[\"Asia Pacific\"],[\"Africa\"],[\"Russia & Caspian\"],[\"Middle East\"],[\"Asia Pacific\"],[\"Europe\"],[\"Europe\"],[\"Middle East\"],[\"Middle East\"],[\"Asia Pacific\"],[\"Asia Pacific\"],[\"Central and South America\"],[\"Africa\"],[\"Africa\"],[\"Europe\"],[\"Africa\"],[\"Europe\"],[\"Europe\"],[\"Europe\"],[\"Russia & Caspian\"]],\"domain\":{\"x\":[0.0,1.0],\"y\":[0.0,1.0]},\"hovertemplate\":\"labels=%{label}<br>emissions=%{value}<br>parent=%{parent}<br>id=%{id}<br>region=%{customdata[0]}<extra></extra>\",\"ids\":[\"Africa/Algeria\",\"Europe/Slovenia\",\"Africa/Senegal\",\"Middle East/Saudi Arabia\",\"Russia & Caspian/Russia\",\"Europe/Romania\",\"Middle East/Qatar\",\"Europe/Poland\",\"Asia Pacific/Philippines\",\"Central and South America/Peru\",\"Central and South America/Paraguay\",\"Africa/Somalia\",\"Asia Pacific/Pakistan\",\"Europe/Other countries in Europe\",\"Europe/Other EU7 countries\",\"Europe/Other EU17 countries\",\"Other/Other\",\"Middle East/Oman\",\"Europe/Norway\",\"Africa/Nigeria\",\"Africa/Niger\",\"Asia Pacific/New Zealand\",\"Europe/Netherlands\",\"Asia Pacific/Other countries in Southeast Asia\",\"Africa/South Africa\",\"Africa/South Sudan\",\"Africa/Sudan\",\"North America\",\"Middle East\",\"Europe\",\"Central and South America\",\"Asia Pacific\",\"Africa\",\"Middle East/Yemen\",\"Asia Pacific/Vietnam\",\"Central and South America/Venezuela\",\"Russia & Caspian/Uzbekistan\",\"Central and South America/Uruguay\",\"North America/United States\",\"Europe/United Kingdom\",\"Middle East/United Arab Emirates\",\"Europe/Ukraine\",\"Russia & Caspian/Turkmenistan\",\"Africa/Tunisia\",\"Central and South America/Trinidad and Tobago\",\"Africa/Togo\",\"Asia Pacific/Thailand\",\"Africa/Tanzania\",\"Middle East/Syria\",\"Europe/Sweden\",\"Africa/Namibia\",\"Africa/Mozambique\",\"Africa/Morocco\",\"Asia Pacific/Mongolia\",\"Africa/Egypt\",\"Central and South America/Ecuador\",\"Europe/Denmark\",\"Africa/Democratic Republic of Congo\",\"Central and South America/Cuba\",\"Africa/Cote d'Ivoire\",\"Africa/Congo\",\"Central and South America/Colombia\",\"Asia Pacific/China\",\"Africa/Chad\",\"North America/Canada\",\"Africa/Cameroon\",\"Asia Pacific/Brunei\",\"Central and South America/Brazil\",\"Africa/Botswana\",\"Central and South America/Bolivia\",\"Africa/Benin\",\"Asia Pacific/Bangladesh\",\"Middle East/Bahrain\",\"Russia & Caspian/Azerbaijan\",\"Asia Pacific/Australia\",\"Central and South America/Argentina\",\"Africa/Angola\",\"Africa/Equatorial Guinea\",\"Other\",\"Africa/Eritrea\",\"Africa/Ethiopia\",\"North America/Mexico\",\"Asia Pacific/Malaysia\",\"Africa/Libya\",\"Middle East/Lebanon\",\"Middle East/Kuwait\",\"Asia Pacific/Korea\",\"Africa/Kenya\",\"Russia & Caspian/Kazakhstan\",\"Middle East/Jordan\",\"Asia Pacific/Japan\",\"Europe/Italy\",\"Europe/Israel\",\"Middle East/Iraq\",\"Middle East/Iran\",\"Asia Pacific/Indonesia\",\"Asia Pacific/India\",\"Central and South America/Guyana\",\"Africa/Guinea\",\"Africa/Ghana\",\"Europe/Germany\",\"Africa/Gabon\",\"Europe/France\",\"Europe/European Union\",\"Europe/Estonia\",\"Russia & Caspian\"],\"labels\":[\"Algeria\",\"Slovenia\",\"Senegal\",\"Saudi Arabia\",\"Russia\",\"Romania\",\"Qatar\",\"Poland\",\"Philippines\",\"Peru\",\"Paraguay\",\"Somalia\",\"Pakistan\",\"Other countries in Europe\",\"Other EU7 countries\",\"Other EU17 countries\",\"Other\",\"Oman\",\"Norway\",\"Nigeria\",\"Niger\",\"New Zealand\",\"Netherlands\",\"Other countries in Southeast Asia\",\"South Africa\",\"South Sudan\",\"Sudan\",\"North America\",\"Middle East\",\"Europe\",\"Central and South America\",\"Asia Pacific\",\"Africa\",\"Yemen\",\"Vietnam\",\"Venezuela\",\"Uzbekistan\",\"Uruguay\",\"United States\",\"United Kingdom\",\"United Arab Emirates\",\"Ukraine\",\"Turkmenistan\",\"Tunisia\",\"Trinidad and Tobago\",\"Togo\",\"Thailand\",\"Tanzania\",\"Syria\",\"Sweden\",\"Namibia\",\"Mozambique\",\"Morocco\",\"Mongolia\",\"Egypt\",\"Ecuador\",\"Denmark\",\"Democratic Republic of Congo\",\"Cuba\",\"Cote d'Ivoire\",\"Congo\",\"Colombia\",\"China\",\"Chad\",\"Canada\",\"Cameroon\",\"Brunei\",\"Brazil\",\"Botswana\",\"Bolivia\",\"Benin\",\"Bangladesh\",\"Bahrain\",\"Azerbaijan\",\"Australia\",\"Argentina\",\"Angola\",\"Equatorial Guinea\",\"Other\",\"Eritrea\",\"Ethiopia\",\"Mexico\",\"Malaysia\",\"Libya\",\"Lebanon\",\"Kuwait\",\"Korea\",\"Kenya\",\"Kazakhstan\",\"Jordan\",\"Japan\",\"Italy\",\"Israel\",\"Iraq\",\"Iran\",\"Indonesia\",\"India\",\"Guyana\",\"Guinea\",\"Ghana\",\"Germany\",\"Gabon\",\"France\",\"European Union\",\"Estonia\",\"Russia & Caspian\"],\"marker\":{\"colors\":[\"#636efa\",\"#EF553B\",\"#636efa\",\"#00cc96\",\"#ab63fa\",\"#EF553B\",\"#00cc96\",\"#EF553B\",\"#FFA15A\",\"#19d3f3\",\"#19d3f3\",\"#636efa\",\"#FFA15A\",\"#EF553B\",\"#EF553B\",\"#EF553B\",\"#FF6692\",\"#00cc96\",\"#EF553B\",\"#636efa\",\"#636efa\",\"#FFA15A\",\"#EF553B\",\"#FFA15A\",\"#636efa\",\"#636efa\",\"#636efa\",\"#B6E880\",\"#00cc96\",\"#EF553B\",\"#19d3f3\",\"#FFA15A\",\"#636efa\",\"#00cc96\",\"#FFA15A\",\"#19d3f3\",\"#ab63fa\",\"#19d3f3\",\"#B6E880\",\"#EF553B\",\"#00cc96\",\"#EF553B\",\"#ab63fa\",\"#636efa\",\"#19d3f3\",\"#636efa\",\"#FFA15A\",\"#636efa\",\"#00cc96\",\"#EF553B\",\"#636efa\",\"#636efa\",\"#636efa\",\"#FFA15A\",\"#636efa\",\"#19d3f3\",\"#EF553B\",\"#636efa\",\"#19d3f3\",\"#636efa\",\"#636efa\",\"#19d3f3\",\"#FFA15A\",\"#636efa\",\"#B6E880\",\"#636efa\",\"#FFA15A\",\"#19d3f3\",\"#636efa\",\"#19d3f3\",\"#636efa\",\"#FFA15A\",\"#00cc96\",\"#ab63fa\",\"#FFA15A\",\"#19d3f3\",\"#636efa\",\"#636efa\",\"#FF6692\",\"#636efa\",\"#636efa\",\"#B6E880\",\"#FFA15A\",\"#636efa\",\"#00cc96\",\"#00cc96\",\"#FFA15A\",\"#636efa\",\"#ab63fa\",\"#00cc96\",\"#FFA15A\",\"#EF553B\",\"#EF553B\",\"#00cc96\",\"#00cc96\",\"#FFA15A\",\"#FFA15A\",\"#19d3f3\",\"#636efa\",\"#636efa\",\"#EF553B\",\"#636efa\",\"#EF553B\",\"#EF553B\",\"#EF553B\",\"#ab63fa\"]},\"name\":\"\",\"parents\":[\"Africa\",\"Europe\",\"Africa\",\"Middle East\",\"Russia & Caspian\",\"Europe\",\"Middle East\",\"Europe\",\"Asia Pacific\",\"Central and South America\",\"Central and South America\",\"Africa\",\"Asia Pacific\",\"Europe\",\"Europe\",\"Europe\",\"Other\",\"Middle East\",\"Europe\",\"Africa\",\"Africa\",\"Asia Pacific\",\"Europe\",\"Asia Pacific\",\"Africa\",\"Africa\",\"Africa\",\"\",\"\",\"\",\"\",\"\",\"\",\"Middle East\",\"Asia Pacific\",\"Central and South America\",\"Russia & Caspian\",\"Central and South America\",\"North America\",\"Europe\",\"Middle East\",\"Europe\",\"Russia & Caspian\",\"Africa\",\"Central and South America\",\"Africa\",\"Asia Pacific\",\"Africa\",\"Middle East\",\"Europe\",\"Africa\",\"Africa\",\"Africa\",\"Asia Pacific\",\"Africa\",\"Central and South America\",\"Europe\",\"Africa\",\"Central and South America\",\"Africa\",\"Africa\",\"Central and South America\",\"Asia Pacific\",\"Africa\",\"North America\",\"Africa\",\"Asia Pacific\",\"Central and South America\",\"Africa\",\"Central and South America\",\"Africa\",\"Asia Pacific\",\"Middle East\",\"Russia & Caspian\",\"Asia Pacific\",\"Central and South America\",\"Africa\",\"Africa\",\"\",\"Africa\",\"Africa\",\"North America\",\"Asia Pacific\",\"Africa\",\"Middle East\",\"Middle East\",\"Asia Pacific\",\"Africa\",\"Russia & Caspian\",\"Middle East\",\"Asia Pacific\",\"Europe\",\"Europe\",\"Middle East\",\"Middle East\",\"Asia Pacific\",\"Asia Pacific\",\"Central and South America\",\"Africa\",\"Africa\",\"Europe\",\"Africa\",\"Europe\",\"Europe\",\"Europe\",\"\"],\"values\":[2669.194642312359,7.726953619392589,13.024876680225136,3051.0966617316008,18078.08385658264,285.410905867815,1138.517774708569,865.2888784296811,116.43430654332042,131.71063903719187,16.34809112548828,29.507999420166016,920.3993654251099,448.1883523222059,55.59594362974167,600.0644304789603,2420.880063492863,869.2565175741911,41.103772475384176,3306.071265136823,40.86768516106531,37.334140941500664,29.25938070891425,527.3272294998169,1239.029734870419,76.9888933300972,143.06582760810852,20899.358121551573,16270.411918900907,6882.477476314409,7323.162745520007,41620.08553819265,13267.93909550435,145.1815997250378,60.932000160217285,2642.703637290746,780.9161390420049,7.599424537271261,16769.630409240723,274.6314067803323,1439.1328016519547,553.4212055206299,4740.040899455547,77.23422545194626,209.22000166773796,19.225591253489256,535.2486734390259,203.39022368192667,237.66441609337926,31.990554362535477,2.6310891509056096,227.35590098937973,22.18147224164568,216.8521963953972,958.0423972010612,277.09926027059555,41.515834495425224,260.69290310144424,21.065090607851744,93.39645344018936,264.7666951417923,778.1613088846207,25372.22229385376,51.4169500390999,2548.398477651179,216.56076430529356,43.507292967289686,1756.4953835010529,6.199222539551556,128.09658127231523,26.628539759665728,334.3358369767666,190.68525731563568,323.2549617290497,2232.2388623952866,1307.0935932584107,568.7333822846413,169.01870894432068,2420.880063492863,5.936958324164152,464.2127700597048,1581.3292346596718,474.02106988430023,1599.4412817955017,4.712916038930416,1002.0822172164917,200.32664331793785,143.82598201930523,2740.5611456632614,47.2069646269083,283.30033407267183,285.78645250946283,43.2089960873127,2515.052600413561,5629.822191804647,5080.369268417358,5185.236023902893,47.56973406672478,0.0080000003799796,120.73608818650246,353.09372605290264,248.55257107317448,193.59646832570434,2760.969970226288,11.624244421720505,26662.857002472505],\"type\":\"sunburst\",\"hoverinfo\":\"value\"}],                        {\"template\":{\"data\":{\"histogram2dcontour\":[{\"type\":\"histogram2dcontour\",\"colorbar\":{\"outlinewidth\":0,\"ticks\":\"\"},\"colorscale\":[[0.0,\"#0d0887\"],[0.1111111111111111,\"#46039f\"],[0.2222222222222222,\"#7201a8\"],[0.3333333333333333,\"#9c179e\"],[0.4444444444444444,\"#bd3786\"],[0.5555555555555556,\"#d8576b\"],[0.6666666666666666,\"#ed7953\"],[0.7777777777777778,\"#fb9f3a\"],[0.8888888888888888,\"#fdca26\"],[1.0,\"#f0f921\"]]}],\"choropleth\":[{\"type\":\"choropleth\",\"colorbar\":{\"outlinewidth\":0,\"ticks\":\"\"}}],\"histogram2d\":[{\"type\":\"histogram2d\",\"colorbar\":{\"outlinewidth\":0,\"ticks\":\"\"},\"colorscale\":[[0.0,\"#0d0887\"],[0.1111111111111111,\"#46039f\"],[0.2222222222222222,\"#7201a8\"],[0.3333333333333333,\"#9c179e\"],[0.4444444444444444,\"#bd3786\"],[0.5555555555555556,\"#d8576b\"],[0.6666666666666666,\"#ed7953\"],[0.7777777777777778,\"#fb9f3a\"],[0.8888888888888888,\"#fdca26\"],[1.0,\"#f0f921\"]]}],\"heatmap\":[{\"type\":\"heatmap\",\"colorbar\":{\"outlinewidth\":0,\"ticks\":\"\"},\"colorscale\":[[0.0,\"#0d0887\"],[0.1111111111111111,\"#46039f\"],[0.2222222222222222,\"#7201a8\"],[0.3333333333333333,\"#9c179e\"],[0.4444444444444444,\"#bd3786\"],[0.5555555555555556,\"#d8576b\"],[0.6666666666666666,\"#ed7953\"],[0.7777777777777778,\"#fb9f3a\"],[0.8888888888888888,\"#fdca26\"],[1.0,\"#f0f921\"]]}],\"heatmapgl\":[{\"type\":\"heatmapgl\",\"colorbar\":{\"outlinewidth\":0,\"ticks\":\"\"},\"colorscale\":[[0.0,\"#0d0887\"],[0.1111111111111111,\"#46039f\"],[0.2222222222222222,\"#7201a8\"],[0.3333333333333333,\"#9c179e\"],[0.4444444444444444,\"#bd3786\"],[0.5555555555555556,\"#d8576b\"],[0.6666666666666666,\"#ed7953\"],[0.7777777777777778,\"#fb9f3a\"],[0.8888888888888888,\"#fdca26\"],[1.0,\"#f0f921\"]]}],\"contourcarpet\":[{\"type\":\"contourcarpet\",\"colorbar\":{\"outlinewidth\":0,\"ticks\":\"\"}}],\"contour\":[{\"type\":\"contour\",\"colorbar\":{\"outlinewidth\":0,\"ticks\":\"\"},\"colorscale\":[[0.0,\"#0d0887\"],[0.1111111111111111,\"#46039f\"],[0.2222222222222222,\"#7201a8\"],[0.3333333333333333,\"#9c179e\"],[0.4444444444444444,\"#bd3786\"],[0.5555555555555556,\"#d8576b\"],[0.6666666666666666,\"#ed7953\"],[0.7777777777777778,\"#fb9f3a\"],[0.8888888888888888,\"#fdca26\"],[1.0,\"#f0f921\"]]}],\"surface\":[{\"type\":\"surface\",\"colorbar\":{\"outlinewidth\":0,\"ticks\":\"\"},\"colorscale\":[[0.0,\"#0d0887\"],[0.1111111111111111,\"#46039f\"],[0.2222222222222222,\"#7201a8\"],[0.3333333333333333,\"#9c179e\"],[0.4444444444444444,\"#bd3786\"],[0.5555555555555556,\"#d8576b\"],[0.6666666666666666,\"#ed7953\"],[0.7777777777777778,\"#fb9f3a\"],[0.8888888888888888,\"#fdca26\"],[1.0,\"#f0f921\"]]}],\"mesh3d\":[{\"type\":\"mesh3d\",\"colorbar\":{\"outlinewidth\":0,\"ticks\":\"\"}}],\"scatter\":[{\"fillpattern\":{\"fillmode\":\"overlay\",\"size\":10,\"solidity\":0.2},\"type\":\"scatter\"}],\"parcoords\":[{\"type\":\"parcoords\",\"line\":{\"colorbar\":{\"outlinewidth\":0,\"ticks\":\"\"}}}],\"scatterpolargl\":[{\"type\":\"scatterpolargl\",\"marker\":{\"colorbar\":{\"outlinewidth\":0,\"ticks\":\"\"}}}],\"bar\":[{\"error_x\":{\"color\":\"#2a3f5f\"},\"error_y\":{\"color\":\"#2a3f5f\"},\"marker\":{\"line\":{\"color\":\"#E5ECF6\",\"width\":0.5},\"pattern\":{\"fillmode\":\"overlay\",\"size\":10,\"solidity\":0.2}},\"type\":\"bar\"}],\"scattergeo\":[{\"type\":\"scattergeo\",\"marker\":{\"colorbar\":{\"outlinewidth\":0,\"ticks\":\"\"}}}],\"scatterpolar\":[{\"type\":\"scatterpolar\",\"marker\":{\"colorbar\":{\"outlinewidth\":0,\"ticks\":\"\"}}}],\"histogram\":[{\"marker\":{\"pattern\":{\"fillmode\":\"overlay\",\"size\":10,\"solidity\":0.2}},\"type\":\"histogram\"}],\"scattergl\":[{\"type\":\"scattergl\",\"marker\":{\"colorbar\":{\"outlinewidth\":0,\"ticks\":\"\"}}}],\"scatter3d\":[{\"type\":\"scatter3d\",\"line\":{\"colorbar\":{\"outlinewidth\":0,\"ticks\":\"\"}},\"marker\":{\"colorbar\":{\"outlinewidth\":0,\"ticks\":\"\"}}}],\"scattermapbox\":[{\"type\":\"scattermapbox\",\"marker\":{\"colorbar\":{\"outlinewidth\":0,\"ticks\":\"\"}}}],\"scatterternary\":[{\"type\":\"scatterternary\",\"marker\":{\"colorbar\":{\"outlinewidth\":0,\"ticks\":\"\"}}}],\"scattercarpet\":[{\"type\":\"scattercarpet\",\"marker\":{\"colorbar\":{\"outlinewidth\":0,\"ticks\":\"\"}}}],\"carpet\":[{\"aaxis\":{\"endlinecolor\":\"#2a3f5f\",\"gridcolor\":\"white\",\"linecolor\":\"white\",\"minorgridcolor\":\"white\",\"startlinecolor\":\"#2a3f5f\"},\"baxis\":{\"endlinecolor\":\"#2a3f5f\",\"gridcolor\":\"white\",\"linecolor\":\"white\",\"minorgridcolor\":\"white\",\"startlinecolor\":\"#2a3f5f\"},\"type\":\"carpet\"}],\"table\":[{\"cells\":{\"fill\":{\"color\":\"#EBF0F8\"},\"line\":{\"color\":\"white\"}},\"header\":{\"fill\":{\"color\":\"#C8D4E3\"},\"line\":{\"color\":\"white\"}},\"type\":\"table\"}],\"barpolar\":[{\"marker\":{\"line\":{\"color\":\"#E5ECF6\",\"width\":0.5},\"pattern\":{\"fillmode\":\"overlay\",\"size\":10,\"solidity\":0.2}},\"type\":\"barpolar\"}],\"pie\":[{\"automargin\":true,\"type\":\"pie\"}]},\"layout\":{\"autotypenumbers\":\"strict\",\"colorway\":[\"#636efa\",\"#EF553B\",\"#00cc96\",\"#ab63fa\",\"#FFA15A\",\"#19d3f3\",\"#FF6692\",\"#B6E880\",\"#FF97FF\",\"#FECB52\"],\"font\":{\"color\":\"#2a3f5f\"},\"hovermode\":\"closest\",\"hoverlabel\":{\"align\":\"left\"},\"paper_bgcolor\":\"white\",\"plot_bgcolor\":\"#E5ECF6\",\"polar\":{\"bgcolor\":\"#E5ECF6\",\"angularaxis\":{\"gridcolor\":\"white\",\"linecolor\":\"white\",\"ticks\":\"\"},\"radialaxis\":{\"gridcolor\":\"white\",\"linecolor\":\"white\",\"ticks\":\"\"}},\"ternary\":{\"bgcolor\":\"#E5ECF6\",\"aaxis\":{\"gridcolor\":\"white\",\"linecolor\":\"white\",\"ticks\":\"\"},\"baxis\":{\"gridcolor\":\"white\",\"linecolor\":\"white\",\"ticks\":\"\"},\"caxis\":{\"gridcolor\":\"white\",\"linecolor\":\"white\",\"ticks\":\"\"}},\"coloraxis\":{\"colorbar\":{\"outlinewidth\":0,\"ticks\":\"\"}},\"colorscale\":{\"sequential\":[[0.0,\"#0d0887\"],[0.1111111111111111,\"#46039f\"],[0.2222222222222222,\"#7201a8\"],[0.3333333333333333,\"#9c179e\"],[0.4444444444444444,\"#bd3786\"],[0.5555555555555556,\"#d8576b\"],[0.6666666666666666,\"#ed7953\"],[0.7777777777777778,\"#fb9f3a\"],[0.8888888888888888,\"#fdca26\"],[1.0,\"#f0f921\"]],\"sequentialminus\":[[0.0,\"#0d0887\"],[0.1111111111111111,\"#46039f\"],[0.2222222222222222,\"#7201a8\"],[0.3333333333333333,\"#9c179e\"],[0.4444444444444444,\"#bd3786\"],[0.5555555555555556,\"#d8576b\"],[0.6666666666666666,\"#ed7953\"],[0.7777777777777778,\"#fb9f3a\"],[0.8888888888888888,\"#fdca26\"],[1.0,\"#f0f921\"]],\"diverging\":[[0,\"#8e0152\"],[0.1,\"#c51b7d\"],[0.2,\"#de77ae\"],[0.3,\"#f1b6da\"],[0.4,\"#fde0ef\"],[0.5,\"#f7f7f7\"],[0.6,\"#e6f5d0\"],[0.7,\"#b8e186\"],[0.8,\"#7fbc41\"],[0.9,\"#4d9221\"],[1,\"#276419\"]]},\"xaxis\":{\"gridcolor\":\"white\",\"linecolor\":\"white\",\"ticks\":\"\",\"title\":{\"standoff\":15},\"zerolinecolor\":\"white\",\"automargin\":true,\"zerolinewidth\":2},\"yaxis\":{\"gridcolor\":\"white\",\"linecolor\":\"white\",\"ticks\":\"\",\"title\":{\"standoff\":15},\"zerolinecolor\":\"white\",\"automargin\":true,\"zerolinewidth\":2},\"scene\":{\"xaxis\":{\"backgroundcolor\":\"#E5ECF6\",\"gridcolor\":\"white\",\"linecolor\":\"white\",\"showbackground\":true,\"ticks\":\"\",\"zerolinecolor\":\"white\",\"gridwidth\":2},\"yaxis\":{\"backgroundcolor\":\"#E5ECF6\",\"gridcolor\":\"white\",\"linecolor\":\"white\",\"showbackground\":true,\"ticks\":\"\",\"zerolinecolor\":\"white\",\"gridwidth\":2},\"zaxis\":{\"backgroundcolor\":\"#E5ECF6\",\"gridcolor\":\"white\",\"linecolor\":\"white\",\"showbackground\":true,\"ticks\":\"\",\"zerolinecolor\":\"white\",\"gridwidth\":2}},\"shapedefaults\":{\"line\":{\"color\":\"#2a3f5f\"}},\"annotationdefaults\":{\"arrowcolor\":\"#2a3f5f\",\"arrowhead\":0,\"arrowwidth\":1},\"geo\":{\"bgcolor\":\"white\",\"landcolor\":\"#E5ECF6\",\"subunitcolor\":\"white\",\"showland\":true,\"showlakes\":true,\"lakecolor\":\"white\"},\"title\":{\"x\":0.05},\"mapbox\":{\"style\":\"light\"}}},\"legend\":{\"tracegroupgap\":0},\"title\":{\"text\":\"Methane Emissions by Region\"}},                        {\"responsive\": true}                    ).then(function(){\n",
       "                            \n",
       "var gd = document.getElementById('7cf81f43-0496-401f-a5e4-ff120c75c74f');\n",
       "var x = new MutationObserver(function (mutations, observer) {{\n",
       "        var display = window.getComputedStyle(gd).display;\n",
       "        if (!display || display === 'none') {{\n",
       "            console.log([gd, 'removed!']);\n",
       "            Plotly.purge(gd);\n",
       "            observer.disconnect();\n",
       "        }}\n",
       "}});\n",
       "\n",
       "// Listen for the removal of the full notebook cells\n",
       "var notebookContainer = gd.closest('#notebook-container');\n",
       "if (notebookContainer) {{\n",
       "    x.observe(notebookContainer, {childList: true});\n",
       "}}\n",
       "\n",
       "// Listen for the clearing of the current output cell\n",
       "var outputEl = gd.closest('.output');\n",
       "if (outputEl) {{\n",
       "    x.observe(outputEl, {childList: true});\n",
       "}}\n",
       "\n",
       "                        })                };                });            </script>        </div>"
      ]
     },
     "metadata": {},
     "output_type": "display_data"
    }
   ],
   "source": [
    "# Creating region-based sunburst chart\n",
    "region_sb = px.sunburst(\n",
    "    seg_totals, \n",
    "    path=['region', 'country'], \n",
    "    title='Methane Emissions by Region',\n",
    "    values='emissions', \n",
    "    color='region'\n",
    ")\n",
    "\n",
    "\n",
    "\n",
    "region_sb.update_traces(hoverinfo = 'value')\n",
    "\n",
    "region_sb.show()"
   ]
  },
  {
   "cell_type": "code",
   "execution_count": 12,
   "id": "9153f37f",
   "metadata": {},
   "outputs": [],
   "source": [
    "region_sb.write_image('images/region_sb.jpeg')\n",
    "pio.write_html(region_sb, file='region_sb.html')"
   ]
  },
  {
   "cell_type": "code",
   "execution_count": 13,
   "id": "76c0f868",
   "metadata": {},
   "outputs": [],
   "source": [
    "# Grouping by segment data\n",
    "seg_grouped=seg_totals.groupby('segment').sum().reset_index()\n",
    "seg_grouped.sort_values('emissions',ascending=False,inplace=True)"
   ]
  },
  {
   "cell_type": "code",
   "execution_count": 14,
   "id": "268b973f",
   "metadata": {},
   "outputs": [
    {
     "data": {
      "application/vnd.plotly.v1+json": {
       "config": {
        "plotlyServerURL": "https://plot.ly"
       },
       "data": [
        {
         "alignmentgroup": "True",
         "hovertemplate": "segment=%{x}<br>Methane emission=%{y}<extra></extra>",
         "legendgroup": "Onshore oil",
         "marker": {
          "color": "#636efa",
          "pattern": {
           "shape": ""
          }
         },
         "name": "Onshore oil",
         "offsetgroup": "Onshore oil",
         "orientation": "v",
         "showlegend": false,
         "textposition": "auto",
         "type": "bar",
         "x": [
          "Onshore oil"
         ],
         "xaxis": "x",
         "y": [
          34332.783240311546
         ],
         "yaxis": "y"
        },
        {
         "alignmentgroup": "True",
         "hovertemplate": "segment=%{x}<br>Methane emission=%{y}<extra></extra>",
         "legendgroup": "Steam coal",
         "marker": {
          "color": "#EF553B",
          "pattern": {
           "shape": ""
          }
         },
         "name": "Steam coal",
         "offsetgroup": "Steam coal",
         "orientation": "v",
         "showlegend": false,
         "textposition": "auto",
         "type": "bar",
         "x": [
          "Steam coal"
         ],
         "xaxis": "x",
         "y": [
          30047.273343540728
         ],
         "yaxis": "y"
        },
        {
         "alignmentgroup": "True",
         "hovertemplate": "segment=%{x}<br>Methane emission=%{y}<extra></extra>",
         "legendgroup": "Onshore gas",
         "marker": {
          "color": "#00cc96",
          "pattern": {
           "shape": ""
          }
         },
         "name": "Onshore gas",
         "offsetgroup": "Onshore gas",
         "orientation": "v",
         "showlegend": false,
         "textposition": "auto",
         "type": "bar",
         "x": [
          "Onshore gas"
         ],
         "xaxis": "x",
         "y": [
          18097.597572999308
         ],
         "yaxis": "y"
        },
        {
         "alignmentgroup": "True",
         "hovertemplate": "segment=%{x}<br>Methane emission=%{y}<extra></extra>",
         "legendgroup": "Gas pipelines and LNG facilities",
         "marker": {
          "color": "#ab63fa",
          "pattern": {
           "shape": ""
          }
         },
         "name": "Gas pipelines and LNG facilities",
         "offsetgroup": "Gas pipelines and LNG facilities",
         "orientation": "v",
         "showlegend": false,
         "textposition": "auto",
         "type": "bar",
         "x": [
          "Gas pipelines and LNG facilities"
         ],
         "xaxis": "x",
         "y": [
          12639.023727074265
         ],
         "yaxis": "y"
        },
        {
         "alignmentgroup": "True",
         "hovertemplate": "segment=%{x}<br>Methane emission=%{y}<extra></extra>",
         "legendgroup": "Coking coal",
         "marker": {
          "color": "#FFA15A",
          "pattern": {
           "shape": ""
          }
         },
         "name": "Coking coal",
         "offsetgroup": "Coking coal",
         "orientation": "v",
         "showlegend": false,
         "textposition": "auto",
         "type": "bar",
         "x": [
          "Coking coal"
         ],
         "xaxis": "x",
         "y": [
          10313.157683730125
         ],
         "yaxis": "y"
        },
        {
         "alignmentgroup": "True",
         "hovertemplate": "segment=%{x}<br>Methane emission=%{y}<extra></extra>",
         "legendgroup": "Bioenergy",
         "marker": {
          "color": "#19d3f3",
          "pattern": {
           "shape": ""
          }
         },
         "name": "Bioenergy",
         "offsetgroup": "Bioenergy",
         "orientation": "v",
         "showlegend": false,
         "textposition": "auto",
         "type": "bar",
         "x": [
          "Bioenergy"
         ],
         "xaxis": "x",
         "y": [
          9926.408037604764
         ],
         "yaxis": "y"
        },
        {
         "alignmentgroup": "True",
         "hovertemplate": "segment=%{x}<br>Methane emission=%{y}<extra></extra>",
         "legendgroup": "Offshore oil",
         "marker": {
          "color": "#FF6692",
          "pattern": {
           "shape": ""
          }
         },
         "name": "Offshore oil",
         "offsetgroup": "Offshore oil",
         "orientation": "v",
         "showlegend": false,
         "textposition": "auto",
         "type": "bar",
         "x": [
          "Offshore oil"
         ],
         "xaxis": "x",
         "y": [
          8349.611860015022
         ],
         "yaxis": "y"
        },
        {
         "alignmentgroup": "True",
         "hovertemplate": "segment=%{x}<br>Methane emission=%{y}<extra></extra>",
         "legendgroup": "Offshore gas",
         "marker": {
          "color": "#B6E880",
          "pattern": {
           "shape": ""
          }
         },
         "name": "Offshore gas",
         "offsetgroup": "Offshore gas",
         "orientation": "v",
         "showlegend": false,
         "textposition": "auto",
         "type": "bar",
         "x": [
          "Offshore gas"
         ],
         "xaxis": "x",
         "y": [
          4342.3967769229785
         ],
         "yaxis": "y"
        },
        {
         "alignmentgroup": "True",
         "hovertemplate": "segment=%{x}<br>Methane emission=%{y}<extra></extra>",
         "legendgroup": "Satellite-detected large oil and gas emissions",
         "marker": {
          "color": "#FF97FF",
          "pattern": {
           "shape": ""
          }
         },
         "name": "Satellite-detected large oil and gas emissions",
         "offsetgroup": "Satellite-detected large oil and gas emissions",
         "orientation": "v",
         "showlegend": false,
         "textposition": "auto",
         "type": "bar",
         "x": [
          "Satellite-detected large oil and gas emissions"
         ],
         "xaxis": "x",
         "y": [
          3106.4000066518784
         ],
         "yaxis": "y"
        },
        {
         "alignmentgroup": "True",
         "hovertemplate": "segment=%{x}<br>Methane emission=%{y}<extra></extra>",
         "legendgroup": "Other from oil and gas",
         "marker": {
          "color": "#FECB52",
          "pattern": {
           "shape": ""
          }
         },
         "name": "Other from oil and gas",
         "offsetgroup": "Other from oil and gas",
         "orientation": "v",
         "showlegend": false,
         "textposition": "auto",
         "type": "bar",
         "x": [
          "Other from oil and gas"
         ],
         "xaxis": "x",
         "y": [
          2493.177698748652
         ],
         "yaxis": "y"
        },
        {
         "alignmentgroup": "True",
         "hovertemplate": "segment=%{x}<br>Methane emission=%{y}<extra></extra>",
         "legendgroup": "Other from coal",
         "marker": {
          "color": "#636efa",
          "pattern": {
           "shape": ""
          }
         },
         "name": "Other from coal",
         "offsetgroup": "Other from coal",
         "orientation": "v",
         "showlegend": false,
         "textposition": "auto",
         "type": "bar",
         "x": [
          "Other from coal"
         ],
         "xaxis": "x",
         "y": [
          1699.342014349997
         ],
         "yaxis": "y"
        }
       ],
       "layout": {
        "barmode": "relative",
        "legend": {
         "title": {
          "text": "segment"
         },
         "tracegroupgap": 0
        },
        "template": {
         "data": {
          "bar": [
           {
            "error_x": {
             "color": "#2a3f5f"
            },
            "error_y": {
             "color": "#2a3f5f"
            },
            "marker": {
             "line": {
              "color": "#E5ECF6",
              "width": 0.5
             },
             "pattern": {
              "fillmode": "overlay",
              "size": 10,
              "solidity": 0.2
             }
            },
            "type": "bar"
           }
          ],
          "barpolar": [
           {
            "marker": {
             "line": {
              "color": "#E5ECF6",
              "width": 0.5
             },
             "pattern": {
              "fillmode": "overlay",
              "size": 10,
              "solidity": 0.2
             }
            },
            "type": "barpolar"
           }
          ],
          "carpet": [
           {
            "aaxis": {
             "endlinecolor": "#2a3f5f",
             "gridcolor": "white",
             "linecolor": "white",
             "minorgridcolor": "white",
             "startlinecolor": "#2a3f5f"
            },
            "baxis": {
             "endlinecolor": "#2a3f5f",
             "gridcolor": "white",
             "linecolor": "white",
             "minorgridcolor": "white",
             "startlinecolor": "#2a3f5f"
            },
            "type": "carpet"
           }
          ],
          "choropleth": [
           {
            "colorbar": {
             "outlinewidth": 0,
             "ticks": ""
            },
            "type": "choropleth"
           }
          ],
          "contour": [
           {
            "colorbar": {
             "outlinewidth": 0,
             "ticks": ""
            },
            "colorscale": [
             [
              0,
              "#0d0887"
             ],
             [
              0.1111111111111111,
              "#46039f"
             ],
             [
              0.2222222222222222,
              "#7201a8"
             ],
             [
              0.3333333333333333,
              "#9c179e"
             ],
             [
              0.4444444444444444,
              "#bd3786"
             ],
             [
              0.5555555555555556,
              "#d8576b"
             ],
             [
              0.6666666666666666,
              "#ed7953"
             ],
             [
              0.7777777777777778,
              "#fb9f3a"
             ],
             [
              0.8888888888888888,
              "#fdca26"
             ],
             [
              1,
              "#f0f921"
             ]
            ],
            "type": "contour"
           }
          ],
          "contourcarpet": [
           {
            "colorbar": {
             "outlinewidth": 0,
             "ticks": ""
            },
            "type": "contourcarpet"
           }
          ],
          "heatmap": [
           {
            "colorbar": {
             "outlinewidth": 0,
             "ticks": ""
            },
            "colorscale": [
             [
              0,
              "#0d0887"
             ],
             [
              0.1111111111111111,
              "#46039f"
             ],
             [
              0.2222222222222222,
              "#7201a8"
             ],
             [
              0.3333333333333333,
              "#9c179e"
             ],
             [
              0.4444444444444444,
              "#bd3786"
             ],
             [
              0.5555555555555556,
              "#d8576b"
             ],
             [
              0.6666666666666666,
              "#ed7953"
             ],
             [
              0.7777777777777778,
              "#fb9f3a"
             ],
             [
              0.8888888888888888,
              "#fdca26"
             ],
             [
              1,
              "#f0f921"
             ]
            ],
            "type": "heatmap"
           }
          ],
          "heatmapgl": [
           {
            "colorbar": {
             "outlinewidth": 0,
             "ticks": ""
            },
            "colorscale": [
             [
              0,
              "#0d0887"
             ],
             [
              0.1111111111111111,
              "#46039f"
             ],
             [
              0.2222222222222222,
              "#7201a8"
             ],
             [
              0.3333333333333333,
              "#9c179e"
             ],
             [
              0.4444444444444444,
              "#bd3786"
             ],
             [
              0.5555555555555556,
              "#d8576b"
             ],
             [
              0.6666666666666666,
              "#ed7953"
             ],
             [
              0.7777777777777778,
              "#fb9f3a"
             ],
             [
              0.8888888888888888,
              "#fdca26"
             ],
             [
              1,
              "#f0f921"
             ]
            ],
            "type": "heatmapgl"
           }
          ],
          "histogram": [
           {
            "marker": {
             "pattern": {
              "fillmode": "overlay",
              "size": 10,
              "solidity": 0.2
             }
            },
            "type": "histogram"
           }
          ],
          "histogram2d": [
           {
            "colorbar": {
             "outlinewidth": 0,
             "ticks": ""
            },
            "colorscale": [
             [
              0,
              "#0d0887"
             ],
             [
              0.1111111111111111,
              "#46039f"
             ],
             [
              0.2222222222222222,
              "#7201a8"
             ],
             [
              0.3333333333333333,
              "#9c179e"
             ],
             [
              0.4444444444444444,
              "#bd3786"
             ],
             [
              0.5555555555555556,
              "#d8576b"
             ],
             [
              0.6666666666666666,
              "#ed7953"
             ],
             [
              0.7777777777777778,
              "#fb9f3a"
             ],
             [
              0.8888888888888888,
              "#fdca26"
             ],
             [
              1,
              "#f0f921"
             ]
            ],
            "type": "histogram2d"
           }
          ],
          "histogram2dcontour": [
           {
            "colorbar": {
             "outlinewidth": 0,
             "ticks": ""
            },
            "colorscale": [
             [
              0,
              "#0d0887"
             ],
             [
              0.1111111111111111,
              "#46039f"
             ],
             [
              0.2222222222222222,
              "#7201a8"
             ],
             [
              0.3333333333333333,
              "#9c179e"
             ],
             [
              0.4444444444444444,
              "#bd3786"
             ],
             [
              0.5555555555555556,
              "#d8576b"
             ],
             [
              0.6666666666666666,
              "#ed7953"
             ],
             [
              0.7777777777777778,
              "#fb9f3a"
             ],
             [
              0.8888888888888888,
              "#fdca26"
             ],
             [
              1,
              "#f0f921"
             ]
            ],
            "type": "histogram2dcontour"
           }
          ],
          "mesh3d": [
           {
            "colorbar": {
             "outlinewidth": 0,
             "ticks": ""
            },
            "type": "mesh3d"
           }
          ],
          "parcoords": [
           {
            "line": {
             "colorbar": {
              "outlinewidth": 0,
              "ticks": ""
             }
            },
            "type": "parcoords"
           }
          ],
          "pie": [
           {
            "automargin": true,
            "type": "pie"
           }
          ],
          "scatter": [
           {
            "fillpattern": {
             "fillmode": "overlay",
             "size": 10,
             "solidity": 0.2
            },
            "type": "scatter"
           }
          ],
          "scatter3d": [
           {
            "line": {
             "colorbar": {
              "outlinewidth": 0,
              "ticks": ""
             }
            },
            "marker": {
             "colorbar": {
              "outlinewidth": 0,
              "ticks": ""
             }
            },
            "type": "scatter3d"
           }
          ],
          "scattercarpet": [
           {
            "marker": {
             "colorbar": {
              "outlinewidth": 0,
              "ticks": ""
             }
            },
            "type": "scattercarpet"
           }
          ],
          "scattergeo": [
           {
            "marker": {
             "colorbar": {
              "outlinewidth": 0,
              "ticks": ""
             }
            },
            "type": "scattergeo"
           }
          ],
          "scattergl": [
           {
            "marker": {
             "colorbar": {
              "outlinewidth": 0,
              "ticks": ""
             }
            },
            "type": "scattergl"
           }
          ],
          "scattermapbox": [
           {
            "marker": {
             "colorbar": {
              "outlinewidth": 0,
              "ticks": ""
             }
            },
            "type": "scattermapbox"
           }
          ],
          "scatterpolar": [
           {
            "marker": {
             "colorbar": {
              "outlinewidth": 0,
              "ticks": ""
             }
            },
            "type": "scatterpolar"
           }
          ],
          "scatterpolargl": [
           {
            "marker": {
             "colorbar": {
              "outlinewidth": 0,
              "ticks": ""
             }
            },
            "type": "scatterpolargl"
           }
          ],
          "scatterternary": [
           {
            "marker": {
             "colorbar": {
              "outlinewidth": 0,
              "ticks": ""
             }
            },
            "type": "scatterternary"
           }
          ],
          "surface": [
           {
            "colorbar": {
             "outlinewidth": 0,
             "ticks": ""
            },
            "colorscale": [
             [
              0,
              "#0d0887"
             ],
             [
              0.1111111111111111,
              "#46039f"
             ],
             [
              0.2222222222222222,
              "#7201a8"
             ],
             [
              0.3333333333333333,
              "#9c179e"
             ],
             [
              0.4444444444444444,
              "#bd3786"
             ],
             [
              0.5555555555555556,
              "#d8576b"
             ],
             [
              0.6666666666666666,
              "#ed7953"
             ],
             [
              0.7777777777777778,
              "#fb9f3a"
             ],
             [
              0.8888888888888888,
              "#fdca26"
             ],
             [
              1,
              "#f0f921"
             ]
            ],
            "type": "surface"
           }
          ],
          "table": [
           {
            "cells": {
             "fill": {
              "color": "#EBF0F8"
             },
             "line": {
              "color": "white"
             }
            },
            "header": {
             "fill": {
              "color": "#C8D4E3"
             },
             "line": {
              "color": "white"
             }
            },
            "type": "table"
           }
          ]
         },
         "layout": {
          "annotationdefaults": {
           "arrowcolor": "#2a3f5f",
           "arrowhead": 0,
           "arrowwidth": 1
          },
          "autotypenumbers": "strict",
          "coloraxis": {
           "colorbar": {
            "outlinewidth": 0,
            "ticks": ""
           }
          },
          "colorscale": {
           "diverging": [
            [
             0,
             "#8e0152"
            ],
            [
             0.1,
             "#c51b7d"
            ],
            [
             0.2,
             "#de77ae"
            ],
            [
             0.3,
             "#f1b6da"
            ],
            [
             0.4,
             "#fde0ef"
            ],
            [
             0.5,
             "#f7f7f7"
            ],
            [
             0.6,
             "#e6f5d0"
            ],
            [
             0.7,
             "#b8e186"
            ],
            [
             0.8,
             "#7fbc41"
            ],
            [
             0.9,
             "#4d9221"
            ],
            [
             1,
             "#276419"
            ]
           ],
           "sequential": [
            [
             0,
             "#0d0887"
            ],
            [
             0.1111111111111111,
             "#46039f"
            ],
            [
             0.2222222222222222,
             "#7201a8"
            ],
            [
             0.3333333333333333,
             "#9c179e"
            ],
            [
             0.4444444444444444,
             "#bd3786"
            ],
            [
             0.5555555555555556,
             "#d8576b"
            ],
            [
             0.6666666666666666,
             "#ed7953"
            ],
            [
             0.7777777777777778,
             "#fb9f3a"
            ],
            [
             0.8888888888888888,
             "#fdca26"
            ],
            [
             1,
             "#f0f921"
            ]
           ],
           "sequentialminus": [
            [
             0,
             "#0d0887"
            ],
            [
             0.1111111111111111,
             "#46039f"
            ],
            [
             0.2222222222222222,
             "#7201a8"
            ],
            [
             0.3333333333333333,
             "#9c179e"
            ],
            [
             0.4444444444444444,
             "#bd3786"
            ],
            [
             0.5555555555555556,
             "#d8576b"
            ],
            [
             0.6666666666666666,
             "#ed7953"
            ],
            [
             0.7777777777777778,
             "#fb9f3a"
            ],
            [
             0.8888888888888888,
             "#fdca26"
            ],
            [
             1,
             "#f0f921"
            ]
           ]
          },
          "colorway": [
           "#636efa",
           "#EF553B",
           "#00cc96",
           "#ab63fa",
           "#FFA15A",
           "#19d3f3",
           "#FF6692",
           "#B6E880",
           "#FF97FF",
           "#FECB52"
          ],
          "font": {
           "color": "#2a3f5f"
          },
          "geo": {
           "bgcolor": "white",
           "lakecolor": "white",
           "landcolor": "#E5ECF6",
           "showlakes": true,
           "showland": true,
           "subunitcolor": "white"
          },
          "hoverlabel": {
           "align": "left"
          },
          "hovermode": "closest",
          "mapbox": {
           "style": "light"
          },
          "paper_bgcolor": "white",
          "plot_bgcolor": "#E5ECF6",
          "polar": {
           "angularaxis": {
            "gridcolor": "white",
            "linecolor": "white",
            "ticks": ""
           },
           "bgcolor": "#E5ECF6",
           "radialaxis": {
            "gridcolor": "white",
            "linecolor": "white",
            "ticks": ""
           }
          },
          "scene": {
           "xaxis": {
            "backgroundcolor": "#E5ECF6",
            "gridcolor": "white",
            "gridwidth": 2,
            "linecolor": "white",
            "showbackground": true,
            "ticks": "",
            "zerolinecolor": "white"
           },
           "yaxis": {
            "backgroundcolor": "#E5ECF6",
            "gridcolor": "white",
            "gridwidth": 2,
            "linecolor": "white",
            "showbackground": true,
            "ticks": "",
            "zerolinecolor": "white"
           },
           "zaxis": {
            "backgroundcolor": "#E5ECF6",
            "gridcolor": "white",
            "gridwidth": 2,
            "linecolor": "white",
            "showbackground": true,
            "ticks": "",
            "zerolinecolor": "white"
           }
          },
          "shapedefaults": {
           "line": {
            "color": "#2a3f5f"
           }
          },
          "ternary": {
           "aaxis": {
            "gridcolor": "white",
            "linecolor": "white",
            "ticks": ""
           },
           "baxis": {
            "gridcolor": "white",
            "linecolor": "white",
            "ticks": ""
           },
           "bgcolor": "#E5ECF6",
           "caxis": {
            "gridcolor": "white",
            "linecolor": "white",
            "ticks": ""
           }
          },
          "title": {
           "x": 0.05
          },
          "xaxis": {
           "automargin": true,
           "gridcolor": "white",
           "linecolor": "white",
           "ticks": "",
           "title": {
            "standoff": 15
           },
           "zerolinecolor": "white",
           "zerolinewidth": 2
          },
          "yaxis": {
           "automargin": true,
           "gridcolor": "white",
           "linecolor": "white",
           "ticks": "",
           "title": {
            "standoff": 15
           },
           "zerolinecolor": "white",
           "zerolinewidth": 2
          }
         }
        },
        "title": {
         "text": "Methane Emissions by Segment"
        },
        "xaxis": {
         "anchor": "y",
         "categoryarray": [
          "Onshore oil",
          "Steam coal",
          "Onshore gas",
          "Gas pipelines and LNG facilities",
          "Coking coal",
          "Bioenergy",
          "Offshore oil",
          "Offshore gas",
          "Satellite-detected large oil and gas emissions",
          "Other from oil and gas",
          "Other from coal"
         ],
         "categoryorder": "array",
         "domain": [
          0,
          1
         ],
         "title": {
          "text": "segment"
         }
        },
        "yaxis": {
         "anchor": "x",
         "domain": [
          0,
          1
         ],
         "title": {
          "text": "Methane emission"
         }
        }
       }
      },
      "text/html": [
       "<div>                            <div id=\"9550cb2a-2507-421a-a16a-02caee5b2b4a\" class=\"plotly-graph-div\" style=\"height:525px; width:100%;\"></div>            <script type=\"text/javascript\">                require([\"plotly\"], function(Plotly) {                    window.PLOTLYENV=window.PLOTLYENV || {};                                    if (document.getElementById(\"9550cb2a-2507-421a-a16a-02caee5b2b4a\")) {                    Plotly.newPlot(                        \"9550cb2a-2507-421a-a16a-02caee5b2b4a\",                        [{\"alignmentgroup\":\"True\",\"hovertemplate\":\"segment=%{x}<br>Methane emission=%{y}<extra></extra>\",\"legendgroup\":\"Onshore oil\",\"marker\":{\"color\":\"#636efa\",\"pattern\":{\"shape\":\"\"}},\"name\":\"Onshore oil\",\"offsetgroup\":\"Onshore oil\",\"orientation\":\"v\",\"showlegend\":false,\"textposition\":\"auto\",\"x\":[\"Onshore oil\"],\"xaxis\":\"x\",\"y\":[34332.783240311546],\"yaxis\":\"y\",\"type\":\"bar\"},{\"alignmentgroup\":\"True\",\"hovertemplate\":\"segment=%{x}<br>Methane emission=%{y}<extra></extra>\",\"legendgroup\":\"Steam coal\",\"marker\":{\"color\":\"#EF553B\",\"pattern\":{\"shape\":\"\"}},\"name\":\"Steam coal\",\"offsetgroup\":\"Steam coal\",\"orientation\":\"v\",\"showlegend\":false,\"textposition\":\"auto\",\"x\":[\"Steam coal\"],\"xaxis\":\"x\",\"y\":[30047.273343540728],\"yaxis\":\"y\",\"type\":\"bar\"},{\"alignmentgroup\":\"True\",\"hovertemplate\":\"segment=%{x}<br>Methane emission=%{y}<extra></extra>\",\"legendgroup\":\"Onshore gas\",\"marker\":{\"color\":\"#00cc96\",\"pattern\":{\"shape\":\"\"}},\"name\":\"Onshore gas\",\"offsetgroup\":\"Onshore gas\",\"orientation\":\"v\",\"showlegend\":false,\"textposition\":\"auto\",\"x\":[\"Onshore gas\"],\"xaxis\":\"x\",\"y\":[18097.597572999308],\"yaxis\":\"y\",\"type\":\"bar\"},{\"alignmentgroup\":\"True\",\"hovertemplate\":\"segment=%{x}<br>Methane emission=%{y}<extra></extra>\",\"legendgroup\":\"Gas pipelines and LNG facilities\",\"marker\":{\"color\":\"#ab63fa\",\"pattern\":{\"shape\":\"\"}},\"name\":\"Gas pipelines and LNG facilities\",\"offsetgroup\":\"Gas pipelines and LNG facilities\",\"orientation\":\"v\",\"showlegend\":false,\"textposition\":\"auto\",\"x\":[\"Gas pipelines and LNG facilities\"],\"xaxis\":\"x\",\"y\":[12639.023727074265],\"yaxis\":\"y\",\"type\":\"bar\"},{\"alignmentgroup\":\"True\",\"hovertemplate\":\"segment=%{x}<br>Methane emission=%{y}<extra></extra>\",\"legendgroup\":\"Coking coal\",\"marker\":{\"color\":\"#FFA15A\",\"pattern\":{\"shape\":\"\"}},\"name\":\"Coking coal\",\"offsetgroup\":\"Coking coal\",\"orientation\":\"v\",\"showlegend\":false,\"textposition\":\"auto\",\"x\":[\"Coking coal\"],\"xaxis\":\"x\",\"y\":[10313.157683730125],\"yaxis\":\"y\",\"type\":\"bar\"},{\"alignmentgroup\":\"True\",\"hovertemplate\":\"segment=%{x}<br>Methane emission=%{y}<extra></extra>\",\"legendgroup\":\"Bioenergy\",\"marker\":{\"color\":\"#19d3f3\",\"pattern\":{\"shape\":\"\"}},\"name\":\"Bioenergy\",\"offsetgroup\":\"Bioenergy\",\"orientation\":\"v\",\"showlegend\":false,\"textposition\":\"auto\",\"x\":[\"Bioenergy\"],\"xaxis\":\"x\",\"y\":[9926.408037604764],\"yaxis\":\"y\",\"type\":\"bar\"},{\"alignmentgroup\":\"True\",\"hovertemplate\":\"segment=%{x}<br>Methane emission=%{y}<extra></extra>\",\"legendgroup\":\"Offshore oil\",\"marker\":{\"color\":\"#FF6692\",\"pattern\":{\"shape\":\"\"}},\"name\":\"Offshore oil\",\"offsetgroup\":\"Offshore oil\",\"orientation\":\"v\",\"showlegend\":false,\"textposition\":\"auto\",\"x\":[\"Offshore oil\"],\"xaxis\":\"x\",\"y\":[8349.611860015022],\"yaxis\":\"y\",\"type\":\"bar\"},{\"alignmentgroup\":\"True\",\"hovertemplate\":\"segment=%{x}<br>Methane emission=%{y}<extra></extra>\",\"legendgroup\":\"Offshore gas\",\"marker\":{\"color\":\"#B6E880\",\"pattern\":{\"shape\":\"\"}},\"name\":\"Offshore gas\",\"offsetgroup\":\"Offshore gas\",\"orientation\":\"v\",\"showlegend\":false,\"textposition\":\"auto\",\"x\":[\"Offshore gas\"],\"xaxis\":\"x\",\"y\":[4342.3967769229785],\"yaxis\":\"y\",\"type\":\"bar\"},{\"alignmentgroup\":\"True\",\"hovertemplate\":\"segment=%{x}<br>Methane emission=%{y}<extra></extra>\",\"legendgroup\":\"Satellite-detected large oil and gas emissions\",\"marker\":{\"color\":\"#FF97FF\",\"pattern\":{\"shape\":\"\"}},\"name\":\"Satellite-detected large oil and gas emissions\",\"offsetgroup\":\"Satellite-detected large oil and gas emissions\",\"orientation\":\"v\",\"showlegend\":false,\"textposition\":\"auto\",\"x\":[\"Satellite-detected large oil and gas emissions\"],\"xaxis\":\"x\",\"y\":[3106.4000066518784],\"yaxis\":\"y\",\"type\":\"bar\"},{\"alignmentgroup\":\"True\",\"hovertemplate\":\"segment=%{x}<br>Methane emission=%{y}<extra></extra>\",\"legendgroup\":\"Other from oil and gas\",\"marker\":{\"color\":\"#FECB52\",\"pattern\":{\"shape\":\"\"}},\"name\":\"Other from oil and gas\",\"offsetgroup\":\"Other from oil and gas\",\"orientation\":\"v\",\"showlegend\":false,\"textposition\":\"auto\",\"x\":[\"Other from oil and gas\"],\"xaxis\":\"x\",\"y\":[2493.177698748652],\"yaxis\":\"y\",\"type\":\"bar\"},{\"alignmentgroup\":\"True\",\"hovertemplate\":\"segment=%{x}<br>Methane emission=%{y}<extra></extra>\",\"legendgroup\":\"Other from coal\",\"marker\":{\"color\":\"#636efa\",\"pattern\":{\"shape\":\"\"}},\"name\":\"Other from coal\",\"offsetgroup\":\"Other from coal\",\"orientation\":\"v\",\"showlegend\":false,\"textposition\":\"auto\",\"x\":[\"Other from coal\"],\"xaxis\":\"x\",\"y\":[1699.342014349997],\"yaxis\":\"y\",\"type\":\"bar\"}],                        {\"template\":{\"data\":{\"histogram2dcontour\":[{\"type\":\"histogram2dcontour\",\"colorbar\":{\"outlinewidth\":0,\"ticks\":\"\"},\"colorscale\":[[0.0,\"#0d0887\"],[0.1111111111111111,\"#46039f\"],[0.2222222222222222,\"#7201a8\"],[0.3333333333333333,\"#9c179e\"],[0.4444444444444444,\"#bd3786\"],[0.5555555555555556,\"#d8576b\"],[0.6666666666666666,\"#ed7953\"],[0.7777777777777778,\"#fb9f3a\"],[0.8888888888888888,\"#fdca26\"],[1.0,\"#f0f921\"]]}],\"choropleth\":[{\"type\":\"choropleth\",\"colorbar\":{\"outlinewidth\":0,\"ticks\":\"\"}}],\"histogram2d\":[{\"type\":\"histogram2d\",\"colorbar\":{\"outlinewidth\":0,\"ticks\":\"\"},\"colorscale\":[[0.0,\"#0d0887\"],[0.1111111111111111,\"#46039f\"],[0.2222222222222222,\"#7201a8\"],[0.3333333333333333,\"#9c179e\"],[0.4444444444444444,\"#bd3786\"],[0.5555555555555556,\"#d8576b\"],[0.6666666666666666,\"#ed7953\"],[0.7777777777777778,\"#fb9f3a\"],[0.8888888888888888,\"#fdca26\"],[1.0,\"#f0f921\"]]}],\"heatmap\":[{\"type\":\"heatmap\",\"colorbar\":{\"outlinewidth\":0,\"ticks\":\"\"},\"colorscale\":[[0.0,\"#0d0887\"],[0.1111111111111111,\"#46039f\"],[0.2222222222222222,\"#7201a8\"],[0.3333333333333333,\"#9c179e\"],[0.4444444444444444,\"#bd3786\"],[0.5555555555555556,\"#d8576b\"],[0.6666666666666666,\"#ed7953\"],[0.7777777777777778,\"#fb9f3a\"],[0.8888888888888888,\"#fdca26\"],[1.0,\"#f0f921\"]]}],\"heatmapgl\":[{\"type\":\"heatmapgl\",\"colorbar\":{\"outlinewidth\":0,\"ticks\":\"\"},\"colorscale\":[[0.0,\"#0d0887\"],[0.1111111111111111,\"#46039f\"],[0.2222222222222222,\"#7201a8\"],[0.3333333333333333,\"#9c179e\"],[0.4444444444444444,\"#bd3786\"],[0.5555555555555556,\"#d8576b\"],[0.6666666666666666,\"#ed7953\"],[0.7777777777777778,\"#fb9f3a\"],[0.8888888888888888,\"#fdca26\"],[1.0,\"#f0f921\"]]}],\"contourcarpet\":[{\"type\":\"contourcarpet\",\"colorbar\":{\"outlinewidth\":0,\"ticks\":\"\"}}],\"contour\":[{\"type\":\"contour\",\"colorbar\":{\"outlinewidth\":0,\"ticks\":\"\"},\"colorscale\":[[0.0,\"#0d0887\"],[0.1111111111111111,\"#46039f\"],[0.2222222222222222,\"#7201a8\"],[0.3333333333333333,\"#9c179e\"],[0.4444444444444444,\"#bd3786\"],[0.5555555555555556,\"#d8576b\"],[0.6666666666666666,\"#ed7953\"],[0.7777777777777778,\"#fb9f3a\"],[0.8888888888888888,\"#fdca26\"],[1.0,\"#f0f921\"]]}],\"surface\":[{\"type\":\"surface\",\"colorbar\":{\"outlinewidth\":0,\"ticks\":\"\"},\"colorscale\":[[0.0,\"#0d0887\"],[0.1111111111111111,\"#46039f\"],[0.2222222222222222,\"#7201a8\"],[0.3333333333333333,\"#9c179e\"],[0.4444444444444444,\"#bd3786\"],[0.5555555555555556,\"#d8576b\"],[0.6666666666666666,\"#ed7953\"],[0.7777777777777778,\"#fb9f3a\"],[0.8888888888888888,\"#fdca26\"],[1.0,\"#f0f921\"]]}],\"mesh3d\":[{\"type\":\"mesh3d\",\"colorbar\":{\"outlinewidth\":0,\"ticks\":\"\"}}],\"scatter\":[{\"fillpattern\":{\"fillmode\":\"overlay\",\"size\":10,\"solidity\":0.2},\"type\":\"scatter\"}],\"parcoords\":[{\"type\":\"parcoords\",\"line\":{\"colorbar\":{\"outlinewidth\":0,\"ticks\":\"\"}}}],\"scatterpolargl\":[{\"type\":\"scatterpolargl\",\"marker\":{\"colorbar\":{\"outlinewidth\":0,\"ticks\":\"\"}}}],\"bar\":[{\"error_x\":{\"color\":\"#2a3f5f\"},\"error_y\":{\"color\":\"#2a3f5f\"},\"marker\":{\"line\":{\"color\":\"#E5ECF6\",\"width\":0.5},\"pattern\":{\"fillmode\":\"overlay\",\"size\":10,\"solidity\":0.2}},\"type\":\"bar\"}],\"scattergeo\":[{\"type\":\"scattergeo\",\"marker\":{\"colorbar\":{\"outlinewidth\":0,\"ticks\":\"\"}}}],\"scatterpolar\":[{\"type\":\"scatterpolar\",\"marker\":{\"colorbar\":{\"outlinewidth\":0,\"ticks\":\"\"}}}],\"histogram\":[{\"marker\":{\"pattern\":{\"fillmode\":\"overlay\",\"size\":10,\"solidity\":0.2}},\"type\":\"histogram\"}],\"scattergl\":[{\"type\":\"scattergl\",\"marker\":{\"colorbar\":{\"outlinewidth\":0,\"ticks\":\"\"}}}],\"scatter3d\":[{\"type\":\"scatter3d\",\"line\":{\"colorbar\":{\"outlinewidth\":0,\"ticks\":\"\"}},\"marker\":{\"colorbar\":{\"outlinewidth\":0,\"ticks\":\"\"}}}],\"scattermapbox\":[{\"type\":\"scattermapbox\",\"marker\":{\"colorbar\":{\"outlinewidth\":0,\"ticks\":\"\"}}}],\"scatterternary\":[{\"type\":\"scatterternary\",\"marker\":{\"colorbar\":{\"outlinewidth\":0,\"ticks\":\"\"}}}],\"scattercarpet\":[{\"type\":\"scattercarpet\",\"marker\":{\"colorbar\":{\"outlinewidth\":0,\"ticks\":\"\"}}}],\"carpet\":[{\"aaxis\":{\"endlinecolor\":\"#2a3f5f\",\"gridcolor\":\"white\",\"linecolor\":\"white\",\"minorgridcolor\":\"white\",\"startlinecolor\":\"#2a3f5f\"},\"baxis\":{\"endlinecolor\":\"#2a3f5f\",\"gridcolor\":\"white\",\"linecolor\":\"white\",\"minorgridcolor\":\"white\",\"startlinecolor\":\"#2a3f5f\"},\"type\":\"carpet\"}],\"table\":[{\"cells\":{\"fill\":{\"color\":\"#EBF0F8\"},\"line\":{\"color\":\"white\"}},\"header\":{\"fill\":{\"color\":\"#C8D4E3\"},\"line\":{\"color\":\"white\"}},\"type\":\"table\"}],\"barpolar\":[{\"marker\":{\"line\":{\"color\":\"#E5ECF6\",\"width\":0.5},\"pattern\":{\"fillmode\":\"overlay\",\"size\":10,\"solidity\":0.2}},\"type\":\"barpolar\"}],\"pie\":[{\"automargin\":true,\"type\":\"pie\"}]},\"layout\":{\"autotypenumbers\":\"strict\",\"colorway\":[\"#636efa\",\"#EF553B\",\"#00cc96\",\"#ab63fa\",\"#FFA15A\",\"#19d3f3\",\"#FF6692\",\"#B6E880\",\"#FF97FF\",\"#FECB52\"],\"font\":{\"color\":\"#2a3f5f\"},\"hovermode\":\"closest\",\"hoverlabel\":{\"align\":\"left\"},\"paper_bgcolor\":\"white\",\"plot_bgcolor\":\"#E5ECF6\",\"polar\":{\"bgcolor\":\"#E5ECF6\",\"angularaxis\":{\"gridcolor\":\"white\",\"linecolor\":\"white\",\"ticks\":\"\"},\"radialaxis\":{\"gridcolor\":\"white\",\"linecolor\":\"white\",\"ticks\":\"\"}},\"ternary\":{\"bgcolor\":\"#E5ECF6\",\"aaxis\":{\"gridcolor\":\"white\",\"linecolor\":\"white\",\"ticks\":\"\"},\"baxis\":{\"gridcolor\":\"white\",\"linecolor\":\"white\",\"ticks\":\"\"},\"caxis\":{\"gridcolor\":\"white\",\"linecolor\":\"white\",\"ticks\":\"\"}},\"coloraxis\":{\"colorbar\":{\"outlinewidth\":0,\"ticks\":\"\"}},\"colorscale\":{\"sequential\":[[0.0,\"#0d0887\"],[0.1111111111111111,\"#46039f\"],[0.2222222222222222,\"#7201a8\"],[0.3333333333333333,\"#9c179e\"],[0.4444444444444444,\"#bd3786\"],[0.5555555555555556,\"#d8576b\"],[0.6666666666666666,\"#ed7953\"],[0.7777777777777778,\"#fb9f3a\"],[0.8888888888888888,\"#fdca26\"],[1.0,\"#f0f921\"]],\"sequentialminus\":[[0.0,\"#0d0887\"],[0.1111111111111111,\"#46039f\"],[0.2222222222222222,\"#7201a8\"],[0.3333333333333333,\"#9c179e\"],[0.4444444444444444,\"#bd3786\"],[0.5555555555555556,\"#d8576b\"],[0.6666666666666666,\"#ed7953\"],[0.7777777777777778,\"#fb9f3a\"],[0.8888888888888888,\"#fdca26\"],[1.0,\"#f0f921\"]],\"diverging\":[[0,\"#8e0152\"],[0.1,\"#c51b7d\"],[0.2,\"#de77ae\"],[0.3,\"#f1b6da\"],[0.4,\"#fde0ef\"],[0.5,\"#f7f7f7\"],[0.6,\"#e6f5d0\"],[0.7,\"#b8e186\"],[0.8,\"#7fbc41\"],[0.9,\"#4d9221\"],[1,\"#276419\"]]},\"xaxis\":{\"gridcolor\":\"white\",\"linecolor\":\"white\",\"ticks\":\"\",\"title\":{\"standoff\":15},\"zerolinecolor\":\"white\",\"automargin\":true,\"zerolinewidth\":2},\"yaxis\":{\"gridcolor\":\"white\",\"linecolor\":\"white\",\"ticks\":\"\",\"title\":{\"standoff\":15},\"zerolinecolor\":\"white\",\"automargin\":true,\"zerolinewidth\":2},\"scene\":{\"xaxis\":{\"backgroundcolor\":\"#E5ECF6\",\"gridcolor\":\"white\",\"linecolor\":\"white\",\"showbackground\":true,\"ticks\":\"\",\"zerolinecolor\":\"white\",\"gridwidth\":2},\"yaxis\":{\"backgroundcolor\":\"#E5ECF6\",\"gridcolor\":\"white\",\"linecolor\":\"white\",\"showbackground\":true,\"ticks\":\"\",\"zerolinecolor\":\"white\",\"gridwidth\":2},\"zaxis\":{\"backgroundcolor\":\"#E5ECF6\",\"gridcolor\":\"white\",\"linecolor\":\"white\",\"showbackground\":true,\"ticks\":\"\",\"zerolinecolor\":\"white\",\"gridwidth\":2}},\"shapedefaults\":{\"line\":{\"color\":\"#2a3f5f\"}},\"annotationdefaults\":{\"arrowcolor\":\"#2a3f5f\",\"arrowhead\":0,\"arrowwidth\":1},\"geo\":{\"bgcolor\":\"white\",\"landcolor\":\"#E5ECF6\",\"subunitcolor\":\"white\",\"showland\":true,\"showlakes\":true,\"lakecolor\":\"white\"},\"title\":{\"x\":0.05},\"mapbox\":{\"style\":\"light\"}}},\"xaxis\":{\"anchor\":\"y\",\"domain\":[0.0,1.0],\"title\":{\"text\":\"segment\"},\"categoryorder\":\"array\",\"categoryarray\":[\"Onshore oil\",\"Steam coal\",\"Onshore gas\",\"Gas pipelines and LNG facilities\",\"Coking coal\",\"Bioenergy\",\"Offshore oil\",\"Offshore gas\",\"Satellite-detected large oil and gas emissions\",\"Other from oil and gas\",\"Other from coal\"]},\"yaxis\":{\"anchor\":\"x\",\"domain\":[0.0,1.0],\"title\":{\"text\":\"Methane emission\"}},\"legend\":{\"title\":{\"text\":\"segment\"},\"tracegroupgap\":0},\"title\":{\"text\":\"Methane Emissions by Segment\"},\"barmode\":\"relative\"},                        {\"responsive\": true}                    ).then(function(){\n",
       "                            \n",
       "var gd = document.getElementById('9550cb2a-2507-421a-a16a-02caee5b2b4a');\n",
       "var x = new MutationObserver(function (mutations, observer) {{\n",
       "        var display = window.getComputedStyle(gd).display;\n",
       "        if (!display || display === 'none') {{\n",
       "            console.log([gd, 'removed!']);\n",
       "            Plotly.purge(gd);\n",
       "            observer.disconnect();\n",
       "        }}\n",
       "}});\n",
       "\n",
       "// Listen for the removal of the full notebook cells\n",
       "var notebookContainer = gd.closest('#notebook-container');\n",
       "if (notebookContainer) {{\n",
       "    x.observe(notebookContainer, {childList: true});\n",
       "}}\n",
       "\n",
       "// Listen for the clearing of the current output cell\n",
       "var outputEl = gd.closest('.output');\n",
       "if (outputEl) {{\n",
       "    x.observe(outputEl, {childList: true});\n",
       "}}\n",
       "\n",
       "                        })                };                });            </script>        </div>"
      ]
     },
     "metadata": {},
     "output_type": "display_data"
    }
   ],
   "source": [
    "# Creating segment bar chart\n",
    "seg_bar = px.bar(seg_grouped, x = 'segment', \n",
    "                 y = 'emissions', \n",
    "                 title = 'Methane Emissions by Segment', \n",
    "                 color = 'segment',\n",
    "                 labels = {'emissions':'Methane emission'})\n",
    "seg_bar.update_traces(showlegend = False)"
   ]
  },
  {
   "cell_type": "code",
   "execution_count": 15,
   "id": "df03b7e8",
   "metadata": {},
   "outputs": [
    {
     "data": {
      "text/html": [
       "<div>\n",
       "<style scoped>\n",
       "    .dataframe tbody tr th:only-of-type {\n",
       "        vertical-align: middle;\n",
       "    }\n",
       "\n",
       "    .dataframe tbody tr th {\n",
       "        vertical-align: top;\n",
       "    }\n",
       "\n",
       "    .dataframe thead th {\n",
       "        text-align: right;\n",
       "    }\n",
       "</style>\n",
       "<table border=\"1\" class=\"dataframe\">\n",
       "  <thead>\n",
       "    <tr style=\"text-align: right;\">\n",
       "      <th></th>\n",
       "      <th>region</th>\n",
       "      <th>country</th>\n",
       "      <th>emissions</th>\n",
       "      <th>type</th>\n",
       "      <th>segment</th>\n",
       "      <th>reason</th>\n",
       "      <th>baseYear</th>\n",
       "    </tr>\n",
       "  </thead>\n",
       "  <tbody>\n",
       "    <tr>\n",
       "      <th>0</th>\n",
       "      <td>Africa</td>\n",
       "      <td>Algeria</td>\n",
       "      <td>257.611206</td>\n",
       "      <td>Agriculture</td>\n",
       "      <td>Total</td>\n",
       "      <td>All</td>\n",
       "      <td>2019-2021</td>\n",
       "    </tr>\n",
       "    <tr>\n",
       "      <th>1</th>\n",
       "      <td>Africa</td>\n",
       "      <td>Algeria</td>\n",
       "      <td>0.052000</td>\n",
       "      <td>Energy</td>\n",
       "      <td>Bioenergy</td>\n",
       "      <td>All</td>\n",
       "      <td>2022</td>\n",
       "    </tr>\n",
       "    <tr>\n",
       "      <th>2</th>\n",
       "      <td>Africa</td>\n",
       "      <td>Algeria</td>\n",
       "      <td>130.798996</td>\n",
       "      <td>Energy</td>\n",
       "      <td>Gas pipelines and LNG facilities</td>\n",
       "      <td>Fugitive</td>\n",
       "      <td>2022</td>\n",
       "    </tr>\n",
       "    <tr>\n",
       "      <th>3</th>\n",
       "      <td>Africa</td>\n",
       "      <td>Algeria</td>\n",
       "      <td>69.741898</td>\n",
       "      <td>Energy</td>\n",
       "      <td>Gas pipelines and LNG facilities</td>\n",
       "      <td>Vented</td>\n",
       "      <td>2022</td>\n",
       "    </tr>\n",
       "    <tr>\n",
       "      <th>4</th>\n",
       "      <td>Africa</td>\n",
       "      <td>Algeria</td>\n",
       "      <td>213.987000</td>\n",
       "      <td>Energy</td>\n",
       "      <td>Onshore gas</td>\n",
       "      <td>Fugitive</td>\n",
       "      <td>2022</td>\n",
       "    </tr>\n",
       "  </tbody>\n",
       "</table>\n",
       "</div>"
      ],
      "text/plain": [
       "   region  country   emissions         type                           segment  \\\n",
       "0  Africa  Algeria  257.611206  Agriculture                             Total   \n",
       "1  Africa  Algeria    0.052000       Energy                         Bioenergy   \n",
       "2  Africa  Algeria  130.798996       Energy  Gas pipelines and LNG facilities   \n",
       "3  Africa  Algeria   69.741898       Energy  Gas pipelines and LNG facilities   \n",
       "4  Africa  Algeria  213.987000       Energy                       Onshore gas   \n",
       "\n",
       "     reason   baseYear  \n",
       "0       All  2019-2021  \n",
       "1       All       2022  \n",
       "2  Fugitive       2022  \n",
       "3    Vented       2022  \n",
       "4  Fugitive       2022  "
      ]
     },
     "execution_count": 15,
     "metadata": {},
     "output_type": "execute_result"
    }
   ],
   "source": [
    "# Pulling country specific data\n",
    "countries = emissions[emissions['country'] != 'World']\n",
    "countries.head()"
   ]
  },
  {
   "cell_type": "code",
   "execution_count": 16,
   "id": "c156f629",
   "metadata": {},
   "outputs": [
    {
     "data": {
      "text/html": [
       "<div>\n",
       "<style scoped>\n",
       "    .dataframe tbody tr th:only-of-type {\n",
       "        vertical-align: middle;\n",
       "    }\n",
       "\n",
       "    .dataframe tbody tr th {\n",
       "        vertical-align: top;\n",
       "    }\n",
       "\n",
       "    .dataframe thead th {\n",
       "        text-align: right;\n",
       "    }\n",
       "</style>\n",
       "<table border=\"1\" class=\"dataframe\">\n",
       "  <thead>\n",
       "    <tr style=\"text-align: right;\">\n",
       "      <th></th>\n",
       "      <th>type</th>\n",
       "      <th>emissions</th>\n",
       "    </tr>\n",
       "  </thead>\n",
       "  <tbody>\n",
       "    <tr>\n",
       "      <th>0</th>\n",
       "      <td>Agriculture</td>\n",
       "      <td>150805.103144</td>\n",
       "    </tr>\n",
       "    <tr>\n",
       "      <th>1</th>\n",
       "      <td>Energy</td>\n",
       "      <td>135347.173195</td>\n",
       "    </tr>\n",
       "    <tr>\n",
       "      <th>2</th>\n",
       "      <td>Other</td>\n",
       "      <td>10028.772862</td>\n",
       "    </tr>\n",
       "    <tr>\n",
       "      <th>3</th>\n",
       "      <td>Waste</td>\n",
       "      <td>75079.707008</td>\n",
       "    </tr>\n",
       "  </tbody>\n",
       "</table>\n",
       "</div>"
      ],
      "text/plain": [
       "          type      emissions\n",
       "0  Agriculture  150805.103144\n",
       "1       Energy  135347.173195\n",
       "2        Other   10028.772862\n",
       "3        Waste   75079.707008"
      ]
     },
     "execution_count": 16,
     "metadata": {},
     "output_type": "execute_result"
    }
   ],
   "source": [
    "# Getting the total by emissions type\n",
    "country_totals = emissions.loc[np.where((countries['segment'] == 'Total'))]\n",
    "country_totals.groupby('type').sum().reset_index()"
   ]
  },
  {
   "cell_type": "code",
   "execution_count": 17,
   "id": "34633abb",
   "metadata": {},
   "outputs": [
    {
     "data": {
      "application/vnd.plotly.v1+json": {
       "config": {
        "plotlyServerURL": "https://plot.ly"
       },
       "data": [
        {
         "domain": {
          "x": [
           0,
           1
          ],
          "y": [
           0,
           1
          ]
         },
         "hole": 0.5,
         "hovertemplate": "type=%{label}<br>emissions=%{value}<extra></extra>",
         "labels": [
          "Agriculture",
          "Energy",
          "Other",
          "Waste",
          "Agriculture",
          "Energy",
          "Other",
          "Waste",
          "Agriculture",
          "Energy",
          "Other",
          "Waste",
          "Agriculture",
          "Energy",
          "Other",
          "Waste",
          "Agriculture",
          "Energy",
          "Other",
          "Waste",
          "Agriculture",
          "Other",
          "Waste",
          "Agriculture",
          "Energy",
          "Other",
          "Waste",
          "Agriculture",
          "Energy",
          "Other",
          "Waste",
          "Agriculture",
          "Energy",
          "Other",
          "Waste",
          "Agriculture",
          "Energy",
          "Other",
          "Waste",
          "Agriculture",
          "Energy",
          "Other",
          "Waste",
          "Agriculture",
          "Energy",
          "Other",
          "Waste",
          "Agriculture",
          "Energy",
          "Other",
          "Waste",
          "Agriculture",
          "Energy",
          "Other",
          "Waste",
          "Agriculture",
          "Energy",
          "Other",
          "Waste",
          "Agriculture",
          "Other",
          "Waste",
          "Agriculture",
          "Energy",
          "Other",
          "Waste",
          "Agriculture",
          "Energy",
          "Other",
          "Waste",
          "Agriculture",
          "Other",
          "Waste",
          "Agriculture",
          "Energy",
          "Other",
          "Waste",
          "Agriculture",
          "Other",
          "Waste",
          "Agriculture",
          "Energy",
          "Other",
          "Waste",
          "Agriculture",
          "Energy",
          "Other",
          "Waste",
          "Agriculture",
          "Energy",
          "Other",
          "Waste",
          "Agriculture",
          "Energy",
          "Other",
          "Waste",
          "Agriculture",
          "Energy",
          "Other",
          "Waste",
          "Agriculture",
          "Energy",
          "Other",
          "Waste",
          "Agriculture",
          "Energy",
          "Other",
          "Waste",
          "Agriculture",
          "Other",
          "Waste",
          "Agriculture",
          "Other",
          "Waste",
          "Agriculture",
          "Energy",
          "Other",
          "Waste",
          "Agriculture",
          "Energy",
          "Other",
          "Waste",
          "Agriculture",
          "Energy",
          "Other",
          "Waste",
          "Agriculture",
          "Energy",
          "Other",
          "Waste",
          "Agriculture",
          "Energy",
          "Other",
          "Waste",
          "Agriculture",
          "Energy",
          "Other",
          "Waste",
          "Agriculture",
          "Energy",
          "Other",
          "Waste",
          "Agriculture",
          "Energy",
          "Other",
          "Waste",
          "Agriculture",
          "Energy",
          "Other",
          "Waste",
          "Agriculture",
          "Energy",
          "Other",
          "Waste",
          "Agriculture",
          "Energy",
          "Other",
          "Waste",
          "Agriculture",
          "Energy",
          "Other",
          "Waste",
          "Agriculture",
          "Energy",
          "Other",
          "Waste",
          "Agriculture",
          "Energy",
          "Other",
          "Waste",
          "Agriculture",
          "Energy",
          "Other",
          "Waste",
          "Agriculture",
          "Energy",
          "Other",
          "Waste",
          "Agriculture",
          "Energy",
          "Other",
          "Waste",
          "Agriculture",
          "Energy",
          "Other",
          "Waste",
          "Agriculture",
          "Energy",
          "Other",
          "Waste",
          "Agriculture",
          "Energy",
          "Other",
          "Waste",
          "Agriculture",
          "Energy",
          "Other",
          "Waste",
          "Agriculture",
          "Energy",
          "Other",
          "Waste",
          "Agriculture",
          "Energy",
          "Other",
          "Waste",
          "Agriculture",
          "Energy",
          "Other",
          "Waste",
          "Agriculture",
          "Energy",
          "Other",
          "Waste",
          "Agriculture",
          "Energy",
          "Other",
          "Waste",
          "Agriculture",
          "Energy",
          "Other",
          "Waste",
          "Agriculture",
          "Energy",
          "Other",
          "Waste",
          "Agriculture",
          "Energy",
          "Other",
          "Waste",
          "Agriculture",
          "Energy",
          "Other",
          "Waste",
          "Agriculture",
          "Energy",
          "Other",
          "Waste",
          "Agriculture",
          "Energy",
          "Other",
          "Waste",
          "Agriculture",
          "Energy",
          "Other",
          "Waste",
          "Agriculture",
          "Energy",
          "Other",
          "Waste",
          "Agriculture",
          "Energy",
          "Other",
          "Waste",
          "Agriculture",
          "Energy",
          "Other",
          "Waste",
          "Agriculture",
          "Energy",
          "Other",
          "Waste",
          "Agriculture",
          "Energy",
          "Other",
          "Waste",
          "Agriculture",
          "Energy",
          "Other",
          "Waste",
          "Agriculture",
          "Energy",
          "Other",
          "Waste",
          "Agriculture",
          "Energy",
          "Other",
          "Waste",
          "Agriculture",
          "Energy",
          "Other",
          "Waste",
          "Agriculture",
          "Energy",
          "Other",
          "Waste",
          "Agriculture",
          "Energy",
          "Other",
          "Waste",
          "Agriculture",
          "Energy",
          "Other",
          "Waste",
          "Agriculture",
          "Energy",
          "Other",
          "Waste",
          "Agriculture",
          "Energy",
          "Other",
          "Waste",
          "Agriculture",
          "Energy",
          "Other",
          "Waste",
          "Agriculture",
          "Energy",
          "Other",
          "Waste",
          "Agriculture",
          "Energy",
          "Other",
          "Waste",
          "Agriculture",
          "Energy",
          "Other",
          "Waste",
          "Agriculture",
          "Energy",
          "Other",
          "Waste",
          "Agriculture",
          "Energy",
          "Other",
          "Waste",
          "Agriculture",
          "Energy",
          "Other",
          "Waste",
          "Agriculture",
          "Energy",
          "Other",
          "Waste",
          "Agriculture",
          "Energy",
          "Other",
          "Waste",
          "Agriculture",
          "Energy",
          "Other",
          "Waste",
          "Agriculture",
          "Energy",
          "Other",
          "Waste",
          "Agriculture",
          "Energy",
          "Other",
          "Waste",
          "Agriculture",
          "Energy",
          "Other",
          "Waste",
          "Agriculture",
          "Energy",
          "Other",
          "Waste",
          "Agriculture",
          "Energy",
          "Other",
          "Waste",
          "Agriculture",
          "Energy",
          "Other",
          "Waste",
          "Agriculture",
          "Energy",
          "Other",
          "Waste",
          "Agriculture",
          "Energy",
          "Other",
          "Waste",
          "Agriculture",
          "Energy",
          "Other",
          "Waste",
          "Agriculture",
          "Energy",
          "Other",
          "Waste",
          "Agriculture",
          "Energy",
          "Other",
          "Waste",
          "Agriculture",
          "Energy",
          "Other",
          "Waste",
          "Agriculture",
          "Energy",
          "Other",
          "Waste",
          "Agriculture",
          "Energy",
          "Other",
          "Waste",
          "Agriculture",
          "Energy",
          "Other",
          "Waste",
          "Agriculture",
          "Energy",
          "Other",
          "Waste",
          "Agriculture",
          "Energy",
          "Other",
          "Waste"
         ],
         "legendgroup": "",
         "name": "",
         "showlegend": true,
         "type": "pie",
         "values": [
          257.6112060546875,
          2669.194580078125,
          6.475720882415772,
          510.9656066894531,
          400.9695739746094,
          568.7333374023438,
          81.70992279052734,
          151.49404907226562,
          105.69103240966795,
          26.6285400390625,
          43.24774169921875,
          42.10737228393555,
          97.25849151611328,
          6.199222564697266,
          2.236912250518799,
          843.4016723632812,
          279.5312194824219,
          216.560775756836,
          23.94275665283203,
          194.51437377929688,
          250.8168029785156,
          173.46914672851562,
          22.85633850097656,
          1223.9329833984375,
          51.41695022583008,
          13.205078125,
          70.19759368896484,
          23.8709659576416,
          264.7666931152344,
          11.99696445465088,
          30.08274269104004,
          185.7007751464844,
          93.39645385742188,
          28.767297744750977,
          220.2355194091797,
          555.5286865234375,
          260.6929016113281,
          201.8346710205078,
          566.8305053710938,
          684.5322265625,
          958.0424194335938,
          12.003130912780762,
          947.93408203125,
          0.438739001750946,
          169.01870727539062,
          2.3649120330810547,
          11.922514915466309,
          120.17935180664062,
          5.936958312988281,
          2.5068612098693848,
          24.038236618041992,
          1910.0897216796875,
          464.2127685546875,
          177.9381866455078,
          414.8589172363281,
          5.590458393096924,
          248.5525665283203,
          5.498744964599609,
          21.208723068237305,
          29.567506790161133,
          3.931763887405396,
          14.088419914245604,
          169.0322265625,
          120.73609161376952,
          26.986873626708984,
          159.3824005126953,
          438.159423828125,
          0.0080000003799796,
          17.251436233520508,
          68.93671417236328,
          52.83677673339844,
          26.177602767944336,
          8.758500099182129,
          1250.951904296875,
          143.8259735107422,
          34.40288162231445,
          180.646713256836,
          9.208291053771973,
          15.316903114318848,
          19.37256050109864,
          67.41584777832031,
          1599.4412841796875,
          3.0724658966064453,
          83.35655975341797,
          295.3795166015625,
          22.181472778320312,
          6.258478164672852,
          405.1220397949219,
          210.65399169921875,
          227.3558959960937,
          106.01947784423828,
          155.7392578125,
          181.9879150390625,
          2.631089210510254,
          1.329381227493286,
          15.859238624572754,
          696.4396362304688,
          40.86768341064453,
          10.043743133544922,
          152.30502319335938,
          2082.188232421875,
          3306.0712890625,
          347.1287841796875,
          862.4360961914062,
          261.5225524902344,
          13.024876594543455,
          4.177417755126953,
          101.4332275390625,
          0.078720711171627,
          0.0518720373511314,
          2.491305351257324,
          86.26763916015625,
          9.578605651855469,
          49.99830627441406,
          625.7147827148438,
          29.507999420166016,
          23.82088088989257,
          108.4111557006836,
          760.32275390625,
          1239.0296630859375,
          42.40746307373047,
          834.2140502929688,
          695.7181396484375,
          76.9888916015625,
          3.3333332538604736,
          121.76155090332033,
          1549.11083984375,
          143.06582641601562,
          36.831764221191406,
          233.21359252929688,
          1180.221923828125,
          203.3902282714844,
          1225.0953369140625,
          227.552978515625,
          50.73590850830078,
          19.2255916595459,
          9.78065299987793,
          37.90462112426758,
          97.72246551513672,
          77.23422241210938,
          4.220635890960693,
          108.2469711303711,
          2450.463134765625,
          2232.23876953125,
          241.8041534423828,
          619.0491333007812,
          2410.234375,
          334.3358459472656,
          54.36891174316406,
          825.30224609375,
          0.8412342667579651,
          43.50729370117188,
          0.2182318568229675,
          9.676277160644531,
          18501.9140625,
          25372.22265625,
          1377.8709716796875,
          10424.1416015625,
          18358.517578125,
          5185.236328125,
          571.2567138671875,
          5551.7607421875,
          3518.344482421875,
          5080.369140625,
          1156.4476318359375,
          4568.9384765625,
          991.6493530273438,
          283.3003234863281,
          21.91791725158692,
          243.30145263671875,
          508.4415588378906,
          200.3266448974609,
          28.59282493591309,
          527.2578125,
          189.0501708984375,
          474.0210876464844,
          27.7065544128418,
          893.9114379882812,
          549.2429809570312,
          216.8521881103516,
          6.77065896987915,
          16.66093635559082,
          1155.9993896484375,
          37.33414077758789,
          8.055159568786621,
          165.2618865966797,
          3300.293701171875,
          527.3272094726562,
          149.16900634765625,
          436.8053588867188,
          5319.4560546875,
          920.3993530273438,
          156.03668212890625,
          854.3361206054688,
          1714.848876953125,
          116.43431091308594,
          52.23356628417969,
          649.79248046875,
          2078.933837890625,
          535.2486572265625,
          56.79174041748047,
          703.9661254882812,
          2193.2626953125,
          60.93199920654297,
          34.768653869628906,
          783.7750244140625,
          3152.9326171875,
          1307.0936279296875,
          85.4056396484375,
          705.7312622070312,
          673.754150390625,
          128.09658813476562,
          146.38304138183594,
          87.08856201171875,
          14020.0888671875,
          1756.495361328125,
          387.7013854980469,
          3800.05712890625,
          1795.9031982421875,
          778.1613159179688,
          17.213926315307617,
          643.7293090820312,
          267.4549255371094,
          21.06509017944336,
          2.341588258743286,
          160.3751678466797,
          359.8713684082031,
          277.0992736816406,
          3.937007188796997,
          235.403060913086,
          57.39715576171875,
          47.569732666015625,
          1.915329933166504,
          8.31496524810791,
          835.0689086914062,
          16.34809112548828,
          13.040079116821287,
          115.26103973388672,
          639.6949462890625,
          131.71063232421875,
          50.463600158691406,
          355.07745361328125,
          4.345527648925781,
          209.22000122070312,
          5.858375072479248,
          62.29243469238281,
          751.9459228515625,
          7.599424362182617,
          3.5114591121673584,
          138.26727294921875,
          1015.0640869140624,
          2642.70361328125,
          10.820260047912598,
          379.9532775878906,
          240.09361267089844,
          41.51583480834961,
          5.735045909881592,
          40.26875686645508,
          27.72345733642578,
          11.624244689941406,
          2.18104100227356,
          37.32962417602539,
          8851.337890625,
          2760.969970703125,
          290.8985595703125,
          4320.9970703125,
          1564.2218017578125,
          193.59646606445312,
          39.94035720825195,
          630.8741455078125,
          1269.36865234375,
          353.0937194824219,
          67.88993072509766,
          605.1366577148438,
          39.840087890625,
          43.2089958190918,
          0.6706947088241577,
          282.4595642089844,
          800.047119140625,
          285.7864685058594,
          30.06378936767578,
          579.596923828125,
          466.8436584472656,
          29.25938034057617,
          15.82078742980957,
          137.8373260498047,
          103.60773468017578,
          41.1037712097168,
          5.547865867614746,
          46.46012496948242,
          2284.248779296875,
          448.1883544921875,
          84.71975708007812,
          2321.68505859375,
          2811.933837890625,
          600.064453125,
          98.36200714111328,
          1850.4228515625,
          139.63568115234375,
          55.59594345092773,
          8.988862991333008,
          249.8030548095703,
          615.5054321289062,
          865.2888793945312,
          44.48818588256836,
          347.61395263671875,
          367.9289245605469,
          285.4109191894531,
          11.696823120117188,
          244.40768432617188,
          48.42922592163086,
          7.726953983306885,
          1.593956470489502,
          17.910375595092773,
          128.65838623046875,
          31.990554809570312,
          10.069866180419922,
          159.8013458251953,
          377.1493225097656,
          553.4212036132812,
          71.82522583007812,
          401.859619140625,
          1064.6658935546875,
          274.63140869140625,
          64.70419311523438,
          1113.1412353515625,
          0.9645923376083374,
          190.6852569580078,
          1.48150372505188,
          172.3936004638672,
          802.454345703125,
          5629.822265625,
          37.20094299316406,
          931.3856201171876,
          168.22393798828125,
          2515.052734375,
          3.4219236373901367,
          362.1964721679688,
          25.815542221069336,
          47.20696640014648,
          0.5782174468040466,
          200.5210418701172,
          7.323050498962402,
          1002.0822143554688,
          0.8249784111976624,
          257.99493408203125,
          12.067669868469238,
          4.712915897369385,
          0.7648441195487976,
          112.2239990234375,
          37.05989837646485,
          869.2565307617188,
          9.764742851257324,
          64.55561828613281,
          11.3685884475708,
          1138.517822265625,
          5.521563529968262,
          64.40309143066406,
          121.0209732055664,
          3051.0966796875,
          27.8301010131836,
          955.779541015625,
          133.05282592773438,
          237.66441345214844,
          1.1841530799865725,
          169.2044219970703,
          47.43784332275391,
          1439.1328125,
          2.969593048095703,
          462.6634826660156,
          181.29298400878903,
          145.18161010742188,
          0.5342848896980286,
          161.4936981201172,
          1072.710693359375,
          2548.3984375,
          42.62068176269531,
          897.9652709960938,
          2420.791015625,
          1581.3292236328125,
          54.36140441894531,
          1994.62744140625,
          9409.3251953125,
          16769.630859375,
          538.3626098632812,
          5117.92822265625,
          7259.01416015625,
          2420.8798828125,
          682.0879516601562,
          3214.4951171875,
          195.1975250244141,
          323.2549743652344,
          0.96043461561203,
          104.27503204345705,
          762.0980834960938,
          2740.561279296875,
          17.407060623168945,
          198.9350128173828,
          2022.095947265625,
          18078.083984375,
          323.421630859375,
          3931.244384765625,
          304.87176513671875,
          4740.041015625,
          1.4148011207580566,
          48.02981185913086,
          901.6826171875,
          780.9161376953125,
          3.845616340637207,
          280.4182434082031
         ]
        }
       ],
       "layout": {
        "legend": {
         "tracegroupgap": 0
        },
        "template": {
         "data": {
          "bar": [
           {
            "error_x": {
             "color": "#2a3f5f"
            },
            "error_y": {
             "color": "#2a3f5f"
            },
            "marker": {
             "line": {
              "color": "#E5ECF6",
              "width": 0.5
             },
             "pattern": {
              "fillmode": "overlay",
              "size": 10,
              "solidity": 0.2
             }
            },
            "type": "bar"
           }
          ],
          "barpolar": [
           {
            "marker": {
             "line": {
              "color": "#E5ECF6",
              "width": 0.5
             },
             "pattern": {
              "fillmode": "overlay",
              "size": 10,
              "solidity": 0.2
             }
            },
            "type": "barpolar"
           }
          ],
          "carpet": [
           {
            "aaxis": {
             "endlinecolor": "#2a3f5f",
             "gridcolor": "white",
             "linecolor": "white",
             "minorgridcolor": "white",
             "startlinecolor": "#2a3f5f"
            },
            "baxis": {
             "endlinecolor": "#2a3f5f",
             "gridcolor": "white",
             "linecolor": "white",
             "minorgridcolor": "white",
             "startlinecolor": "#2a3f5f"
            },
            "type": "carpet"
           }
          ],
          "choropleth": [
           {
            "colorbar": {
             "outlinewidth": 0,
             "ticks": ""
            },
            "type": "choropleth"
           }
          ],
          "contour": [
           {
            "colorbar": {
             "outlinewidth": 0,
             "ticks": ""
            },
            "colorscale": [
             [
              0,
              "#0d0887"
             ],
             [
              0.1111111111111111,
              "#46039f"
             ],
             [
              0.2222222222222222,
              "#7201a8"
             ],
             [
              0.3333333333333333,
              "#9c179e"
             ],
             [
              0.4444444444444444,
              "#bd3786"
             ],
             [
              0.5555555555555556,
              "#d8576b"
             ],
             [
              0.6666666666666666,
              "#ed7953"
             ],
             [
              0.7777777777777778,
              "#fb9f3a"
             ],
             [
              0.8888888888888888,
              "#fdca26"
             ],
             [
              1,
              "#f0f921"
             ]
            ],
            "type": "contour"
           }
          ],
          "contourcarpet": [
           {
            "colorbar": {
             "outlinewidth": 0,
             "ticks": ""
            },
            "type": "contourcarpet"
           }
          ],
          "heatmap": [
           {
            "colorbar": {
             "outlinewidth": 0,
             "ticks": ""
            },
            "colorscale": [
             [
              0,
              "#0d0887"
             ],
             [
              0.1111111111111111,
              "#46039f"
             ],
             [
              0.2222222222222222,
              "#7201a8"
             ],
             [
              0.3333333333333333,
              "#9c179e"
             ],
             [
              0.4444444444444444,
              "#bd3786"
             ],
             [
              0.5555555555555556,
              "#d8576b"
             ],
             [
              0.6666666666666666,
              "#ed7953"
             ],
             [
              0.7777777777777778,
              "#fb9f3a"
             ],
             [
              0.8888888888888888,
              "#fdca26"
             ],
             [
              1,
              "#f0f921"
             ]
            ],
            "type": "heatmap"
           }
          ],
          "heatmapgl": [
           {
            "colorbar": {
             "outlinewidth": 0,
             "ticks": ""
            },
            "colorscale": [
             [
              0,
              "#0d0887"
             ],
             [
              0.1111111111111111,
              "#46039f"
             ],
             [
              0.2222222222222222,
              "#7201a8"
             ],
             [
              0.3333333333333333,
              "#9c179e"
             ],
             [
              0.4444444444444444,
              "#bd3786"
             ],
             [
              0.5555555555555556,
              "#d8576b"
             ],
             [
              0.6666666666666666,
              "#ed7953"
             ],
             [
              0.7777777777777778,
              "#fb9f3a"
             ],
             [
              0.8888888888888888,
              "#fdca26"
             ],
             [
              1,
              "#f0f921"
             ]
            ],
            "type": "heatmapgl"
           }
          ],
          "histogram": [
           {
            "marker": {
             "pattern": {
              "fillmode": "overlay",
              "size": 10,
              "solidity": 0.2
             }
            },
            "type": "histogram"
           }
          ],
          "histogram2d": [
           {
            "colorbar": {
             "outlinewidth": 0,
             "ticks": ""
            },
            "colorscale": [
             [
              0,
              "#0d0887"
             ],
             [
              0.1111111111111111,
              "#46039f"
             ],
             [
              0.2222222222222222,
              "#7201a8"
             ],
             [
              0.3333333333333333,
              "#9c179e"
             ],
             [
              0.4444444444444444,
              "#bd3786"
             ],
             [
              0.5555555555555556,
              "#d8576b"
             ],
             [
              0.6666666666666666,
              "#ed7953"
             ],
             [
              0.7777777777777778,
              "#fb9f3a"
             ],
             [
              0.8888888888888888,
              "#fdca26"
             ],
             [
              1,
              "#f0f921"
             ]
            ],
            "type": "histogram2d"
           }
          ],
          "histogram2dcontour": [
           {
            "colorbar": {
             "outlinewidth": 0,
             "ticks": ""
            },
            "colorscale": [
             [
              0,
              "#0d0887"
             ],
             [
              0.1111111111111111,
              "#46039f"
             ],
             [
              0.2222222222222222,
              "#7201a8"
             ],
             [
              0.3333333333333333,
              "#9c179e"
             ],
             [
              0.4444444444444444,
              "#bd3786"
             ],
             [
              0.5555555555555556,
              "#d8576b"
             ],
             [
              0.6666666666666666,
              "#ed7953"
             ],
             [
              0.7777777777777778,
              "#fb9f3a"
             ],
             [
              0.8888888888888888,
              "#fdca26"
             ],
             [
              1,
              "#f0f921"
             ]
            ],
            "type": "histogram2dcontour"
           }
          ],
          "mesh3d": [
           {
            "colorbar": {
             "outlinewidth": 0,
             "ticks": ""
            },
            "type": "mesh3d"
           }
          ],
          "parcoords": [
           {
            "line": {
             "colorbar": {
              "outlinewidth": 0,
              "ticks": ""
             }
            },
            "type": "parcoords"
           }
          ],
          "pie": [
           {
            "automargin": true,
            "type": "pie"
           }
          ],
          "scatter": [
           {
            "fillpattern": {
             "fillmode": "overlay",
             "size": 10,
             "solidity": 0.2
            },
            "type": "scatter"
           }
          ],
          "scatter3d": [
           {
            "line": {
             "colorbar": {
              "outlinewidth": 0,
              "ticks": ""
             }
            },
            "marker": {
             "colorbar": {
              "outlinewidth": 0,
              "ticks": ""
             }
            },
            "type": "scatter3d"
           }
          ],
          "scattercarpet": [
           {
            "marker": {
             "colorbar": {
              "outlinewidth": 0,
              "ticks": ""
             }
            },
            "type": "scattercarpet"
           }
          ],
          "scattergeo": [
           {
            "marker": {
             "colorbar": {
              "outlinewidth": 0,
              "ticks": ""
             }
            },
            "type": "scattergeo"
           }
          ],
          "scattergl": [
           {
            "marker": {
             "colorbar": {
              "outlinewidth": 0,
              "ticks": ""
             }
            },
            "type": "scattergl"
           }
          ],
          "scattermapbox": [
           {
            "marker": {
             "colorbar": {
              "outlinewidth": 0,
              "ticks": ""
             }
            },
            "type": "scattermapbox"
           }
          ],
          "scatterpolar": [
           {
            "marker": {
             "colorbar": {
              "outlinewidth": 0,
              "ticks": ""
             }
            },
            "type": "scatterpolar"
           }
          ],
          "scatterpolargl": [
           {
            "marker": {
             "colorbar": {
              "outlinewidth": 0,
              "ticks": ""
             }
            },
            "type": "scatterpolargl"
           }
          ],
          "scatterternary": [
           {
            "marker": {
             "colorbar": {
              "outlinewidth": 0,
              "ticks": ""
             }
            },
            "type": "scatterternary"
           }
          ],
          "surface": [
           {
            "colorbar": {
             "outlinewidth": 0,
             "ticks": ""
            },
            "colorscale": [
             [
              0,
              "#0d0887"
             ],
             [
              0.1111111111111111,
              "#46039f"
             ],
             [
              0.2222222222222222,
              "#7201a8"
             ],
             [
              0.3333333333333333,
              "#9c179e"
             ],
             [
              0.4444444444444444,
              "#bd3786"
             ],
             [
              0.5555555555555556,
              "#d8576b"
             ],
             [
              0.6666666666666666,
              "#ed7953"
             ],
             [
              0.7777777777777778,
              "#fb9f3a"
             ],
             [
              0.8888888888888888,
              "#fdca26"
             ],
             [
              1,
              "#f0f921"
             ]
            ],
            "type": "surface"
           }
          ],
          "table": [
           {
            "cells": {
             "fill": {
              "color": "#EBF0F8"
             },
             "line": {
              "color": "white"
             }
            },
            "header": {
             "fill": {
              "color": "#C8D4E3"
             },
             "line": {
              "color": "white"
             }
            },
            "type": "table"
           }
          ]
         },
         "layout": {
          "annotationdefaults": {
           "arrowcolor": "#2a3f5f",
           "arrowhead": 0,
           "arrowwidth": 1
          },
          "autotypenumbers": "strict",
          "coloraxis": {
           "colorbar": {
            "outlinewidth": 0,
            "ticks": ""
           }
          },
          "colorscale": {
           "diverging": [
            [
             0,
             "#8e0152"
            ],
            [
             0.1,
             "#c51b7d"
            ],
            [
             0.2,
             "#de77ae"
            ],
            [
             0.3,
             "#f1b6da"
            ],
            [
             0.4,
             "#fde0ef"
            ],
            [
             0.5,
             "#f7f7f7"
            ],
            [
             0.6,
             "#e6f5d0"
            ],
            [
             0.7,
             "#b8e186"
            ],
            [
             0.8,
             "#7fbc41"
            ],
            [
             0.9,
             "#4d9221"
            ],
            [
             1,
             "#276419"
            ]
           ],
           "sequential": [
            [
             0,
             "#0d0887"
            ],
            [
             0.1111111111111111,
             "#46039f"
            ],
            [
             0.2222222222222222,
             "#7201a8"
            ],
            [
             0.3333333333333333,
             "#9c179e"
            ],
            [
             0.4444444444444444,
             "#bd3786"
            ],
            [
             0.5555555555555556,
             "#d8576b"
            ],
            [
             0.6666666666666666,
             "#ed7953"
            ],
            [
             0.7777777777777778,
             "#fb9f3a"
            ],
            [
             0.8888888888888888,
             "#fdca26"
            ],
            [
             1,
             "#f0f921"
            ]
           ],
           "sequentialminus": [
            [
             0,
             "#0d0887"
            ],
            [
             0.1111111111111111,
             "#46039f"
            ],
            [
             0.2222222222222222,
             "#7201a8"
            ],
            [
             0.3333333333333333,
             "#9c179e"
            ],
            [
             0.4444444444444444,
             "#bd3786"
            ],
            [
             0.5555555555555556,
             "#d8576b"
            ],
            [
             0.6666666666666666,
             "#ed7953"
            ],
            [
             0.7777777777777778,
             "#fb9f3a"
            ],
            [
             0.8888888888888888,
             "#fdca26"
            ],
            [
             1,
             "#f0f921"
            ]
           ]
          },
          "colorway": [
           "#636efa",
           "#EF553B",
           "#00cc96",
           "#ab63fa",
           "#FFA15A",
           "#19d3f3",
           "#FF6692",
           "#B6E880",
           "#FF97FF",
           "#FECB52"
          ],
          "font": {
           "color": "#2a3f5f"
          },
          "geo": {
           "bgcolor": "white",
           "lakecolor": "white",
           "landcolor": "#E5ECF6",
           "showlakes": true,
           "showland": true,
           "subunitcolor": "white"
          },
          "hoverlabel": {
           "align": "left"
          },
          "hovermode": "closest",
          "mapbox": {
           "style": "light"
          },
          "paper_bgcolor": "white",
          "plot_bgcolor": "#E5ECF6",
          "polar": {
           "angularaxis": {
            "gridcolor": "white",
            "linecolor": "white",
            "ticks": ""
           },
           "bgcolor": "#E5ECF6",
           "radialaxis": {
            "gridcolor": "white",
            "linecolor": "white",
            "ticks": ""
           }
          },
          "scene": {
           "xaxis": {
            "backgroundcolor": "#E5ECF6",
            "gridcolor": "white",
            "gridwidth": 2,
            "linecolor": "white",
            "showbackground": true,
            "ticks": "",
            "zerolinecolor": "white"
           },
           "yaxis": {
            "backgroundcolor": "#E5ECF6",
            "gridcolor": "white",
            "gridwidth": 2,
            "linecolor": "white",
            "showbackground": true,
            "ticks": "",
            "zerolinecolor": "white"
           },
           "zaxis": {
            "backgroundcolor": "#E5ECF6",
            "gridcolor": "white",
            "gridwidth": 2,
            "linecolor": "white",
            "showbackground": true,
            "ticks": "",
            "zerolinecolor": "white"
           }
          },
          "shapedefaults": {
           "line": {
            "color": "#2a3f5f"
           }
          },
          "ternary": {
           "aaxis": {
            "gridcolor": "white",
            "linecolor": "white",
            "ticks": ""
           },
           "baxis": {
            "gridcolor": "white",
            "linecolor": "white",
            "ticks": ""
           },
           "bgcolor": "#E5ECF6",
           "caxis": {
            "gridcolor": "white",
            "linecolor": "white",
            "ticks": ""
           }
          },
          "title": {
           "x": 0.05
          },
          "xaxis": {
           "automargin": true,
           "gridcolor": "white",
           "linecolor": "white",
           "ticks": "",
           "title": {
            "standoff": 15
           },
           "zerolinecolor": "white",
           "zerolinewidth": 2
          },
          "yaxis": {
           "automargin": true,
           "gridcolor": "white",
           "linecolor": "white",
           "ticks": "",
           "title": {
            "standoff": 15
           },
           "zerolinecolor": "white",
           "zerolinewidth": 2
          }
         }
        },
        "title": {
         "text": "Methane Emissions by Type"
        }
       }
      },
      "text/html": [
       "<div>                            <div id=\"bf417cb1-f842-47be-a307-a8248881c2d6\" class=\"plotly-graph-div\" style=\"height:525px; width:100%;\"></div>            <script type=\"text/javascript\">                require([\"plotly\"], function(Plotly) {                    window.PLOTLYENV=window.PLOTLYENV || {};                                    if (document.getElementById(\"bf417cb1-f842-47be-a307-a8248881c2d6\")) {                    Plotly.newPlot(                        \"bf417cb1-f842-47be-a307-a8248881c2d6\",                        [{\"domain\":{\"x\":[0.0,1.0],\"y\":[0.0,1.0]},\"hole\":0.5,\"hovertemplate\":\"type=%{label}<br>emissions=%{value}<extra></extra>\",\"labels\":[\"Agriculture\",\"Energy\",\"Other\",\"Waste\",\"Agriculture\",\"Energy\",\"Other\",\"Waste\",\"Agriculture\",\"Energy\",\"Other\",\"Waste\",\"Agriculture\",\"Energy\",\"Other\",\"Waste\",\"Agriculture\",\"Energy\",\"Other\",\"Waste\",\"Agriculture\",\"Other\",\"Waste\",\"Agriculture\",\"Energy\",\"Other\",\"Waste\",\"Agriculture\",\"Energy\",\"Other\",\"Waste\",\"Agriculture\",\"Energy\",\"Other\",\"Waste\",\"Agriculture\",\"Energy\",\"Other\",\"Waste\",\"Agriculture\",\"Energy\",\"Other\",\"Waste\",\"Agriculture\",\"Energy\",\"Other\",\"Waste\",\"Agriculture\",\"Energy\",\"Other\",\"Waste\",\"Agriculture\",\"Energy\",\"Other\",\"Waste\",\"Agriculture\",\"Energy\",\"Other\",\"Waste\",\"Agriculture\",\"Other\",\"Waste\",\"Agriculture\",\"Energy\",\"Other\",\"Waste\",\"Agriculture\",\"Energy\",\"Other\",\"Waste\",\"Agriculture\",\"Other\",\"Waste\",\"Agriculture\",\"Energy\",\"Other\",\"Waste\",\"Agriculture\",\"Other\",\"Waste\",\"Agriculture\",\"Energy\",\"Other\",\"Waste\",\"Agriculture\",\"Energy\",\"Other\",\"Waste\",\"Agriculture\",\"Energy\",\"Other\",\"Waste\",\"Agriculture\",\"Energy\",\"Other\",\"Waste\",\"Agriculture\",\"Energy\",\"Other\",\"Waste\",\"Agriculture\",\"Energy\",\"Other\",\"Waste\",\"Agriculture\",\"Energy\",\"Other\",\"Waste\",\"Agriculture\",\"Other\",\"Waste\",\"Agriculture\",\"Other\",\"Waste\",\"Agriculture\",\"Energy\",\"Other\",\"Waste\",\"Agriculture\",\"Energy\",\"Other\",\"Waste\",\"Agriculture\",\"Energy\",\"Other\",\"Waste\",\"Agriculture\",\"Energy\",\"Other\",\"Waste\",\"Agriculture\",\"Energy\",\"Other\",\"Waste\",\"Agriculture\",\"Energy\",\"Other\",\"Waste\",\"Agriculture\",\"Energy\",\"Other\",\"Waste\",\"Agriculture\",\"Energy\",\"Other\",\"Waste\",\"Agriculture\",\"Energy\",\"Other\",\"Waste\",\"Agriculture\",\"Energy\",\"Other\",\"Waste\",\"Agriculture\",\"Energy\",\"Other\",\"Waste\",\"Agriculture\",\"Energy\",\"Other\",\"Waste\",\"Agriculture\",\"Energy\",\"Other\",\"Waste\",\"Agriculture\",\"Energy\",\"Other\",\"Waste\",\"Agriculture\",\"Energy\",\"Other\",\"Waste\",\"Agriculture\",\"Energy\",\"Other\",\"Waste\",\"Agriculture\",\"Energy\",\"Other\",\"Waste\",\"Agriculture\",\"Energy\",\"Other\",\"Waste\",\"Agriculture\",\"Energy\",\"Other\",\"Waste\",\"Agriculture\",\"Energy\",\"Other\",\"Waste\",\"Agriculture\",\"Energy\",\"Other\",\"Waste\",\"Agriculture\",\"Energy\",\"Other\",\"Waste\",\"Agriculture\",\"Energy\",\"Other\",\"Waste\",\"Agriculture\",\"Energy\",\"Other\",\"Waste\",\"Agriculture\",\"Energy\",\"Other\",\"Waste\",\"Agriculture\",\"Energy\",\"Other\",\"Waste\",\"Agriculture\",\"Energy\",\"Other\",\"Waste\",\"Agriculture\",\"Energy\",\"Other\",\"Waste\",\"Agriculture\",\"Energy\",\"Other\",\"Waste\",\"Agriculture\",\"Energy\",\"Other\",\"Waste\",\"Agriculture\",\"Energy\",\"Other\",\"Waste\",\"Agriculture\",\"Energy\",\"Other\",\"Waste\",\"Agriculture\",\"Energy\",\"Other\",\"Waste\",\"Agriculture\",\"Energy\",\"Other\",\"Waste\",\"Agriculture\",\"Energy\",\"Other\",\"Waste\",\"Agriculture\",\"Energy\",\"Other\",\"Waste\",\"Agriculture\",\"Energy\",\"Other\",\"Waste\",\"Agriculture\",\"Energy\",\"Other\",\"Waste\",\"Agriculture\",\"Energy\",\"Other\",\"Waste\",\"Agriculture\",\"Energy\",\"Other\",\"Waste\",\"Agriculture\",\"Energy\",\"Other\",\"Waste\",\"Agriculture\",\"Energy\",\"Other\",\"Waste\",\"Agriculture\",\"Energy\",\"Other\",\"Waste\",\"Agriculture\",\"Energy\",\"Other\",\"Waste\",\"Agriculture\",\"Energy\",\"Other\",\"Waste\",\"Agriculture\",\"Energy\",\"Other\",\"Waste\",\"Agriculture\",\"Energy\",\"Other\",\"Waste\",\"Agriculture\",\"Energy\",\"Other\",\"Waste\",\"Agriculture\",\"Energy\",\"Other\",\"Waste\",\"Agriculture\",\"Energy\",\"Other\",\"Waste\",\"Agriculture\",\"Energy\",\"Other\",\"Waste\",\"Agriculture\",\"Energy\",\"Other\",\"Waste\",\"Agriculture\",\"Energy\",\"Other\",\"Waste\",\"Agriculture\",\"Energy\",\"Other\",\"Waste\",\"Agriculture\",\"Energy\",\"Other\",\"Waste\",\"Agriculture\",\"Energy\",\"Other\",\"Waste\",\"Agriculture\",\"Energy\",\"Other\",\"Waste\",\"Agriculture\",\"Energy\",\"Other\",\"Waste\",\"Agriculture\",\"Energy\",\"Other\",\"Waste\",\"Agriculture\",\"Energy\",\"Other\",\"Waste\",\"Agriculture\",\"Energy\",\"Other\",\"Waste\",\"Agriculture\",\"Energy\",\"Other\",\"Waste\",\"Agriculture\",\"Energy\",\"Other\",\"Waste\",\"Agriculture\",\"Energy\",\"Other\",\"Waste\",\"Agriculture\",\"Energy\",\"Other\",\"Waste\",\"Agriculture\",\"Energy\",\"Other\",\"Waste\",\"Agriculture\",\"Energy\",\"Other\",\"Waste\",\"Agriculture\",\"Energy\",\"Other\",\"Waste\",\"Agriculture\",\"Energy\",\"Other\",\"Waste\",\"Agriculture\",\"Energy\",\"Other\",\"Waste\",\"Agriculture\",\"Energy\",\"Other\",\"Waste\",\"Agriculture\",\"Energy\",\"Other\",\"Waste\",\"Agriculture\",\"Energy\",\"Other\",\"Waste\",\"Agriculture\",\"Energy\",\"Other\",\"Waste\"],\"legendgroup\":\"\",\"name\":\"\",\"showlegend\":true,\"values\":[257.6112060546875,2669.194580078125,6.475720882415772,510.9656066894531,400.9695739746094,568.7333374023438,81.70992279052734,151.49404907226562,105.69103240966795,26.6285400390625,43.24774169921875,42.10737228393555,97.25849151611328,6.199222564697266,2.236912250518799,843.4016723632812,279.5312194824219,216.560775756836,23.94275665283203,194.51437377929688,250.8168029785156,173.46914672851562,22.85633850097656,1223.9329833984375,51.41695022583008,13.205078125,70.19759368896484,23.8709659576416,264.7666931152344,11.99696445465088,30.08274269104004,185.7007751464844,93.39645385742188,28.767297744750977,220.2355194091797,555.5286865234375,260.6929016113281,201.8346710205078,566.8305053710938,684.5322265625,958.0424194335938,12.003130912780762,947.93408203125,0.438739001750946,169.01870727539062,2.3649120330810547,11.922514915466309,120.17935180664062,5.936958312988281,2.5068612098693848,24.038236618041992,1910.0897216796875,464.2127685546875,177.9381866455078,414.8589172363281,5.590458393096924,248.5525665283203,5.498744964599609,21.208723068237305,29.567506790161133,3.931763887405396,14.088419914245604,169.0322265625,120.73609161376952,26.986873626708984,159.3824005126953,438.159423828125,0.0080000003799796,17.251436233520508,68.93671417236328,52.83677673339844,26.177602767944336,8.758500099182129,1250.951904296875,143.8259735107422,34.40288162231445,180.646713256836,9.208291053771973,15.316903114318848,19.37256050109864,67.41584777832031,1599.4412841796875,3.0724658966064453,83.35655975341797,295.3795166015625,22.181472778320312,6.258478164672852,405.1220397949219,210.65399169921875,227.3558959960937,106.01947784423828,155.7392578125,181.9879150390625,2.631089210510254,1.329381227493286,15.859238624572754,696.4396362304688,40.86768341064453,10.043743133544922,152.30502319335938,2082.188232421875,3306.0712890625,347.1287841796875,862.4360961914062,261.5225524902344,13.024876594543455,4.177417755126953,101.4332275390625,0.078720711171627,0.0518720373511314,2.491305351257324,86.26763916015625,9.578605651855469,49.99830627441406,625.7147827148438,29.507999420166016,23.82088088989257,108.4111557006836,760.32275390625,1239.0296630859375,42.40746307373047,834.2140502929688,695.7181396484375,76.9888916015625,3.3333332538604736,121.76155090332033,1549.11083984375,143.06582641601562,36.831764221191406,233.21359252929688,1180.221923828125,203.3902282714844,1225.0953369140625,227.552978515625,50.73590850830078,19.2255916595459,9.78065299987793,37.90462112426758,97.72246551513672,77.23422241210938,4.220635890960693,108.2469711303711,2450.463134765625,2232.23876953125,241.8041534423828,619.0491333007812,2410.234375,334.3358459472656,54.36891174316406,825.30224609375,0.8412342667579651,43.50729370117188,0.2182318568229675,9.676277160644531,18501.9140625,25372.22265625,1377.8709716796875,10424.1416015625,18358.517578125,5185.236328125,571.2567138671875,5551.7607421875,3518.344482421875,5080.369140625,1156.4476318359375,4568.9384765625,991.6493530273438,283.3003234863281,21.91791725158692,243.30145263671875,508.4415588378906,200.3266448974609,28.59282493591309,527.2578125,189.0501708984375,474.0210876464844,27.7065544128418,893.9114379882812,549.2429809570312,216.8521881103516,6.77065896987915,16.66093635559082,1155.9993896484375,37.33414077758789,8.055159568786621,165.2618865966797,3300.293701171875,527.3272094726562,149.16900634765625,436.8053588867188,5319.4560546875,920.3993530273438,156.03668212890625,854.3361206054688,1714.848876953125,116.43431091308594,52.23356628417969,649.79248046875,2078.933837890625,535.2486572265625,56.79174041748047,703.9661254882812,2193.2626953125,60.93199920654297,34.768653869628906,783.7750244140625,3152.9326171875,1307.0936279296875,85.4056396484375,705.7312622070312,673.754150390625,128.09658813476562,146.38304138183594,87.08856201171875,14020.0888671875,1756.495361328125,387.7013854980469,3800.05712890625,1795.9031982421875,778.1613159179688,17.213926315307617,643.7293090820312,267.4549255371094,21.06509017944336,2.341588258743286,160.3751678466797,359.8713684082031,277.0992736816406,3.937007188796997,235.403060913086,57.39715576171875,47.569732666015625,1.915329933166504,8.31496524810791,835.0689086914062,16.34809112548828,13.040079116821287,115.26103973388672,639.6949462890625,131.71063232421875,50.463600158691406,355.07745361328125,4.345527648925781,209.22000122070312,5.858375072479248,62.29243469238281,751.9459228515625,7.599424362182617,3.5114591121673584,138.26727294921875,1015.0640869140624,2642.70361328125,10.820260047912598,379.9532775878906,240.09361267089844,41.51583480834961,5.735045909881592,40.26875686645508,27.72345733642578,11.624244689941406,2.18104100227356,37.32962417602539,8851.337890625,2760.969970703125,290.8985595703125,4320.9970703125,1564.2218017578125,193.59646606445312,39.94035720825195,630.8741455078125,1269.36865234375,353.0937194824219,67.88993072509766,605.1366577148438,39.840087890625,43.2089958190918,0.6706947088241577,282.4595642089844,800.047119140625,285.7864685058594,30.06378936767578,579.596923828125,466.8436584472656,29.25938034057617,15.82078742980957,137.8373260498047,103.60773468017578,41.1037712097168,5.547865867614746,46.46012496948242,2284.248779296875,448.1883544921875,84.71975708007812,2321.68505859375,2811.933837890625,600.064453125,98.36200714111328,1850.4228515625,139.63568115234375,55.59594345092773,8.988862991333008,249.8030548095703,615.5054321289062,865.2888793945312,44.48818588256836,347.61395263671875,367.9289245605469,285.4109191894531,11.696823120117188,244.40768432617188,48.42922592163086,7.726953983306885,1.593956470489502,17.910375595092773,128.65838623046875,31.990554809570312,10.069866180419922,159.8013458251953,377.1493225097656,553.4212036132812,71.82522583007812,401.859619140625,1064.6658935546875,274.63140869140625,64.70419311523438,1113.1412353515625,0.9645923376083374,190.6852569580078,1.48150372505188,172.3936004638672,802.454345703125,5629.822265625,37.20094299316406,931.3856201171876,168.22393798828125,2515.052734375,3.4219236373901367,362.1964721679688,25.815542221069336,47.20696640014648,0.5782174468040466,200.5210418701172,7.323050498962402,1002.0822143554688,0.8249784111976624,257.99493408203125,12.067669868469238,4.712915897369385,0.7648441195487976,112.2239990234375,37.05989837646485,869.2565307617188,9.764742851257324,64.55561828613281,11.3685884475708,1138.517822265625,5.521563529968262,64.40309143066406,121.0209732055664,3051.0966796875,27.8301010131836,955.779541015625,133.05282592773438,237.66441345214844,1.1841530799865725,169.2044219970703,47.43784332275391,1439.1328125,2.969593048095703,462.6634826660156,181.29298400878903,145.18161010742188,0.5342848896980286,161.4936981201172,1072.710693359375,2548.3984375,42.62068176269531,897.9652709960938,2420.791015625,1581.3292236328125,54.36140441894531,1994.62744140625,9409.3251953125,16769.630859375,538.3626098632812,5117.92822265625,7259.01416015625,2420.8798828125,682.0879516601562,3214.4951171875,195.1975250244141,323.2549743652344,0.96043461561203,104.27503204345705,762.0980834960938,2740.561279296875,17.407060623168945,198.9350128173828,2022.095947265625,18078.083984375,323.421630859375,3931.244384765625,304.87176513671875,4740.041015625,1.4148011207580566,48.02981185913086,901.6826171875,780.9161376953125,3.845616340637207,280.4182434082031],\"type\":\"pie\"}],                        {\"template\":{\"data\":{\"histogram2dcontour\":[{\"type\":\"histogram2dcontour\",\"colorbar\":{\"outlinewidth\":0,\"ticks\":\"\"},\"colorscale\":[[0.0,\"#0d0887\"],[0.1111111111111111,\"#46039f\"],[0.2222222222222222,\"#7201a8\"],[0.3333333333333333,\"#9c179e\"],[0.4444444444444444,\"#bd3786\"],[0.5555555555555556,\"#d8576b\"],[0.6666666666666666,\"#ed7953\"],[0.7777777777777778,\"#fb9f3a\"],[0.8888888888888888,\"#fdca26\"],[1.0,\"#f0f921\"]]}],\"choropleth\":[{\"type\":\"choropleth\",\"colorbar\":{\"outlinewidth\":0,\"ticks\":\"\"}}],\"histogram2d\":[{\"type\":\"histogram2d\",\"colorbar\":{\"outlinewidth\":0,\"ticks\":\"\"},\"colorscale\":[[0.0,\"#0d0887\"],[0.1111111111111111,\"#46039f\"],[0.2222222222222222,\"#7201a8\"],[0.3333333333333333,\"#9c179e\"],[0.4444444444444444,\"#bd3786\"],[0.5555555555555556,\"#d8576b\"],[0.6666666666666666,\"#ed7953\"],[0.7777777777777778,\"#fb9f3a\"],[0.8888888888888888,\"#fdca26\"],[1.0,\"#f0f921\"]]}],\"heatmap\":[{\"type\":\"heatmap\",\"colorbar\":{\"outlinewidth\":0,\"ticks\":\"\"},\"colorscale\":[[0.0,\"#0d0887\"],[0.1111111111111111,\"#46039f\"],[0.2222222222222222,\"#7201a8\"],[0.3333333333333333,\"#9c179e\"],[0.4444444444444444,\"#bd3786\"],[0.5555555555555556,\"#d8576b\"],[0.6666666666666666,\"#ed7953\"],[0.7777777777777778,\"#fb9f3a\"],[0.8888888888888888,\"#fdca26\"],[1.0,\"#f0f921\"]]}],\"heatmapgl\":[{\"type\":\"heatmapgl\",\"colorbar\":{\"outlinewidth\":0,\"ticks\":\"\"},\"colorscale\":[[0.0,\"#0d0887\"],[0.1111111111111111,\"#46039f\"],[0.2222222222222222,\"#7201a8\"],[0.3333333333333333,\"#9c179e\"],[0.4444444444444444,\"#bd3786\"],[0.5555555555555556,\"#d8576b\"],[0.6666666666666666,\"#ed7953\"],[0.7777777777777778,\"#fb9f3a\"],[0.8888888888888888,\"#fdca26\"],[1.0,\"#f0f921\"]]}],\"contourcarpet\":[{\"type\":\"contourcarpet\",\"colorbar\":{\"outlinewidth\":0,\"ticks\":\"\"}}],\"contour\":[{\"type\":\"contour\",\"colorbar\":{\"outlinewidth\":0,\"ticks\":\"\"},\"colorscale\":[[0.0,\"#0d0887\"],[0.1111111111111111,\"#46039f\"],[0.2222222222222222,\"#7201a8\"],[0.3333333333333333,\"#9c179e\"],[0.4444444444444444,\"#bd3786\"],[0.5555555555555556,\"#d8576b\"],[0.6666666666666666,\"#ed7953\"],[0.7777777777777778,\"#fb9f3a\"],[0.8888888888888888,\"#fdca26\"],[1.0,\"#f0f921\"]]}],\"surface\":[{\"type\":\"surface\",\"colorbar\":{\"outlinewidth\":0,\"ticks\":\"\"},\"colorscale\":[[0.0,\"#0d0887\"],[0.1111111111111111,\"#46039f\"],[0.2222222222222222,\"#7201a8\"],[0.3333333333333333,\"#9c179e\"],[0.4444444444444444,\"#bd3786\"],[0.5555555555555556,\"#d8576b\"],[0.6666666666666666,\"#ed7953\"],[0.7777777777777778,\"#fb9f3a\"],[0.8888888888888888,\"#fdca26\"],[1.0,\"#f0f921\"]]}],\"mesh3d\":[{\"type\":\"mesh3d\",\"colorbar\":{\"outlinewidth\":0,\"ticks\":\"\"}}],\"scatter\":[{\"fillpattern\":{\"fillmode\":\"overlay\",\"size\":10,\"solidity\":0.2},\"type\":\"scatter\"}],\"parcoords\":[{\"type\":\"parcoords\",\"line\":{\"colorbar\":{\"outlinewidth\":0,\"ticks\":\"\"}}}],\"scatterpolargl\":[{\"type\":\"scatterpolargl\",\"marker\":{\"colorbar\":{\"outlinewidth\":0,\"ticks\":\"\"}}}],\"bar\":[{\"error_x\":{\"color\":\"#2a3f5f\"},\"error_y\":{\"color\":\"#2a3f5f\"},\"marker\":{\"line\":{\"color\":\"#E5ECF6\",\"width\":0.5},\"pattern\":{\"fillmode\":\"overlay\",\"size\":10,\"solidity\":0.2}},\"type\":\"bar\"}],\"scattergeo\":[{\"type\":\"scattergeo\",\"marker\":{\"colorbar\":{\"outlinewidth\":0,\"ticks\":\"\"}}}],\"scatterpolar\":[{\"type\":\"scatterpolar\",\"marker\":{\"colorbar\":{\"outlinewidth\":0,\"ticks\":\"\"}}}],\"histogram\":[{\"marker\":{\"pattern\":{\"fillmode\":\"overlay\",\"size\":10,\"solidity\":0.2}},\"type\":\"histogram\"}],\"scattergl\":[{\"type\":\"scattergl\",\"marker\":{\"colorbar\":{\"outlinewidth\":0,\"ticks\":\"\"}}}],\"scatter3d\":[{\"type\":\"scatter3d\",\"line\":{\"colorbar\":{\"outlinewidth\":0,\"ticks\":\"\"}},\"marker\":{\"colorbar\":{\"outlinewidth\":0,\"ticks\":\"\"}}}],\"scattermapbox\":[{\"type\":\"scattermapbox\",\"marker\":{\"colorbar\":{\"outlinewidth\":0,\"ticks\":\"\"}}}],\"scatterternary\":[{\"type\":\"scatterternary\",\"marker\":{\"colorbar\":{\"outlinewidth\":0,\"ticks\":\"\"}}}],\"scattercarpet\":[{\"type\":\"scattercarpet\",\"marker\":{\"colorbar\":{\"outlinewidth\":0,\"ticks\":\"\"}}}],\"carpet\":[{\"aaxis\":{\"endlinecolor\":\"#2a3f5f\",\"gridcolor\":\"white\",\"linecolor\":\"white\",\"minorgridcolor\":\"white\",\"startlinecolor\":\"#2a3f5f\"},\"baxis\":{\"endlinecolor\":\"#2a3f5f\",\"gridcolor\":\"white\",\"linecolor\":\"white\",\"minorgridcolor\":\"white\",\"startlinecolor\":\"#2a3f5f\"},\"type\":\"carpet\"}],\"table\":[{\"cells\":{\"fill\":{\"color\":\"#EBF0F8\"},\"line\":{\"color\":\"white\"}},\"header\":{\"fill\":{\"color\":\"#C8D4E3\"},\"line\":{\"color\":\"white\"}},\"type\":\"table\"}],\"barpolar\":[{\"marker\":{\"line\":{\"color\":\"#E5ECF6\",\"width\":0.5},\"pattern\":{\"fillmode\":\"overlay\",\"size\":10,\"solidity\":0.2}},\"type\":\"barpolar\"}],\"pie\":[{\"automargin\":true,\"type\":\"pie\"}]},\"layout\":{\"autotypenumbers\":\"strict\",\"colorway\":[\"#636efa\",\"#EF553B\",\"#00cc96\",\"#ab63fa\",\"#FFA15A\",\"#19d3f3\",\"#FF6692\",\"#B6E880\",\"#FF97FF\",\"#FECB52\"],\"font\":{\"color\":\"#2a3f5f\"},\"hovermode\":\"closest\",\"hoverlabel\":{\"align\":\"left\"},\"paper_bgcolor\":\"white\",\"plot_bgcolor\":\"#E5ECF6\",\"polar\":{\"bgcolor\":\"#E5ECF6\",\"angularaxis\":{\"gridcolor\":\"white\",\"linecolor\":\"white\",\"ticks\":\"\"},\"radialaxis\":{\"gridcolor\":\"white\",\"linecolor\":\"white\",\"ticks\":\"\"}},\"ternary\":{\"bgcolor\":\"#E5ECF6\",\"aaxis\":{\"gridcolor\":\"white\",\"linecolor\":\"white\",\"ticks\":\"\"},\"baxis\":{\"gridcolor\":\"white\",\"linecolor\":\"white\",\"ticks\":\"\"},\"caxis\":{\"gridcolor\":\"white\",\"linecolor\":\"white\",\"ticks\":\"\"}},\"coloraxis\":{\"colorbar\":{\"outlinewidth\":0,\"ticks\":\"\"}},\"colorscale\":{\"sequential\":[[0.0,\"#0d0887\"],[0.1111111111111111,\"#46039f\"],[0.2222222222222222,\"#7201a8\"],[0.3333333333333333,\"#9c179e\"],[0.4444444444444444,\"#bd3786\"],[0.5555555555555556,\"#d8576b\"],[0.6666666666666666,\"#ed7953\"],[0.7777777777777778,\"#fb9f3a\"],[0.8888888888888888,\"#fdca26\"],[1.0,\"#f0f921\"]],\"sequentialminus\":[[0.0,\"#0d0887\"],[0.1111111111111111,\"#46039f\"],[0.2222222222222222,\"#7201a8\"],[0.3333333333333333,\"#9c179e\"],[0.4444444444444444,\"#bd3786\"],[0.5555555555555556,\"#d8576b\"],[0.6666666666666666,\"#ed7953\"],[0.7777777777777778,\"#fb9f3a\"],[0.8888888888888888,\"#fdca26\"],[1.0,\"#f0f921\"]],\"diverging\":[[0,\"#8e0152\"],[0.1,\"#c51b7d\"],[0.2,\"#de77ae\"],[0.3,\"#f1b6da\"],[0.4,\"#fde0ef\"],[0.5,\"#f7f7f7\"],[0.6,\"#e6f5d0\"],[0.7,\"#b8e186\"],[0.8,\"#7fbc41\"],[0.9,\"#4d9221\"],[1,\"#276419\"]]},\"xaxis\":{\"gridcolor\":\"white\",\"linecolor\":\"white\",\"ticks\":\"\",\"title\":{\"standoff\":15},\"zerolinecolor\":\"white\",\"automargin\":true,\"zerolinewidth\":2},\"yaxis\":{\"gridcolor\":\"white\",\"linecolor\":\"white\",\"ticks\":\"\",\"title\":{\"standoff\":15},\"zerolinecolor\":\"white\",\"automargin\":true,\"zerolinewidth\":2},\"scene\":{\"xaxis\":{\"backgroundcolor\":\"#E5ECF6\",\"gridcolor\":\"white\",\"linecolor\":\"white\",\"showbackground\":true,\"ticks\":\"\",\"zerolinecolor\":\"white\",\"gridwidth\":2},\"yaxis\":{\"backgroundcolor\":\"#E5ECF6\",\"gridcolor\":\"white\",\"linecolor\":\"white\",\"showbackground\":true,\"ticks\":\"\",\"zerolinecolor\":\"white\",\"gridwidth\":2},\"zaxis\":{\"backgroundcolor\":\"#E5ECF6\",\"gridcolor\":\"white\",\"linecolor\":\"white\",\"showbackground\":true,\"ticks\":\"\",\"zerolinecolor\":\"white\",\"gridwidth\":2}},\"shapedefaults\":{\"line\":{\"color\":\"#2a3f5f\"}},\"annotationdefaults\":{\"arrowcolor\":\"#2a3f5f\",\"arrowhead\":0,\"arrowwidth\":1},\"geo\":{\"bgcolor\":\"white\",\"landcolor\":\"#E5ECF6\",\"subunitcolor\":\"white\",\"showland\":true,\"showlakes\":true,\"lakecolor\":\"white\"},\"title\":{\"x\":0.05},\"mapbox\":{\"style\":\"light\"}}},\"legend\":{\"tracegroupgap\":0},\"title\":{\"text\":\"Methane Emissions by Type\"}},                        {\"responsive\": true}                    ).then(function(){\n",
       "                            \n",
       "var gd = document.getElementById('bf417cb1-f842-47be-a307-a8248881c2d6');\n",
       "var x = new MutationObserver(function (mutations, observer) {{\n",
       "        var display = window.getComputedStyle(gd).display;\n",
       "        if (!display || display === 'none') {{\n",
       "            console.log([gd, 'removed!']);\n",
       "            Plotly.purge(gd);\n",
       "            observer.disconnect();\n",
       "        }}\n",
       "}});\n",
       "\n",
       "// Listen for the removal of the full notebook cells\n",
       "var notebookContainer = gd.closest('#notebook-container');\n",
       "if (notebookContainer) {{\n",
       "    x.observe(notebookContainer, {childList: true});\n",
       "}}\n",
       "\n",
       "// Listen for the clearing of the current output cell\n",
       "var outputEl = gd.closest('.output');\n",
       "if (outputEl) {{\n",
       "    x.observe(outputEl, {childList: true});\n",
       "}}\n",
       "\n",
       "                        })                };                });            </script>        </div>"
      ]
     },
     "metadata": {},
     "output_type": "display_data"
    }
   ],
   "source": [
    "# Creating type pie chart\n",
    "px.pie(country_totals, values = 'emissions', title = 'Methane Emissions by Type', names = 'type', hole = 0.5)"
   ]
  },
  {
   "cell_type": "code",
   "execution_count": 18,
   "id": "3a3c5368",
   "metadata": {},
   "outputs": [
    {
     "data": {
      "text/html": [
       "<div>\n",
       "<style scoped>\n",
       "    .dataframe tbody tr th:only-of-type {\n",
       "        vertical-align: middle;\n",
       "    }\n",
       "\n",
       "    .dataframe tbody tr th {\n",
       "        vertical-align: top;\n",
       "    }\n",
       "\n",
       "    .dataframe thead th {\n",
       "        text-align: right;\n",
       "    }\n",
       "</style>\n",
       "<table border=\"1\" class=\"dataframe\">\n",
       "  <thead>\n",
       "    <tr style=\"text-align: right;\">\n",
       "      <th></th>\n",
       "      <th>region</th>\n",
       "      <th>country</th>\n",
       "      <th>emissions</th>\n",
       "      <th>type</th>\n",
       "      <th>segment</th>\n",
       "      <th>reason</th>\n",
       "      <th>baseYear</th>\n",
       "    </tr>\n",
       "  </thead>\n",
       "  <tbody>\n",
       "    <tr>\n",
       "      <th>0</th>\n",
       "      <td>Africa</td>\n",
       "      <td>Algeria</td>\n",
       "      <td>257.611206</td>\n",
       "      <td>Agriculture</td>\n",
       "      <td>Total</td>\n",
       "      <td>All</td>\n",
       "      <td>2019-2021</td>\n",
       "    </tr>\n",
       "    <tr>\n",
       "      <th>1</th>\n",
       "      <td>Africa</td>\n",
       "      <td>Algeria</td>\n",
       "      <td>0.052000</td>\n",
       "      <td>Energy</td>\n",
       "      <td>Bioenergy</td>\n",
       "      <td>All</td>\n",
       "      <td>2022</td>\n",
       "    </tr>\n",
       "    <tr>\n",
       "      <th>2</th>\n",
       "      <td>Africa</td>\n",
       "      <td>Algeria</td>\n",
       "      <td>130.798996</td>\n",
       "      <td>Energy</td>\n",
       "      <td>Gas pipelines and LNG facilities</td>\n",
       "      <td>Fugitive</td>\n",
       "      <td>2022</td>\n",
       "    </tr>\n",
       "    <tr>\n",
       "      <th>3</th>\n",
       "      <td>Africa</td>\n",
       "      <td>Algeria</td>\n",
       "      <td>69.741898</td>\n",
       "      <td>Energy</td>\n",
       "      <td>Gas pipelines and LNG facilities</td>\n",
       "      <td>Vented</td>\n",
       "      <td>2022</td>\n",
       "    </tr>\n",
       "    <tr>\n",
       "      <th>4</th>\n",
       "      <td>Africa</td>\n",
       "      <td>Algeria</td>\n",
       "      <td>213.987000</td>\n",
       "      <td>Energy</td>\n",
       "      <td>Onshore gas</td>\n",
       "      <td>Fugitive</td>\n",
       "      <td>2022</td>\n",
       "    </tr>\n",
       "  </tbody>\n",
       "</table>\n",
       "</div>"
      ],
      "text/plain": [
       "   region  country   emissions         type                           segment  \\\n",
       "0  Africa  Algeria  257.611206  Agriculture                             Total   \n",
       "1  Africa  Algeria    0.052000       Energy                         Bioenergy   \n",
       "2  Africa  Algeria  130.798996       Energy  Gas pipelines and LNG facilities   \n",
       "3  Africa  Algeria   69.741898       Energy  Gas pipelines and LNG facilities   \n",
       "4  Africa  Algeria  213.987000       Energy                       Onshore gas   \n",
       "\n",
       "     reason   baseYear  \n",
       "0       All  2019-2021  \n",
       "1       All       2022  \n",
       "2  Fugitive       2022  \n",
       "3    Vented       2022  \n",
       "4  Fugitive       2022  "
      ]
     },
     "execution_count": 18,
     "metadata": {},
     "output_type": "execute_result"
    }
   ],
   "source": [
    "# Pulling data for energy data\n",
    "energy_totals = countries[~((countries['type'] == 'Energy') & (countries['segment'] == 'Total'))]\n",
    "energy_totals.head()"
   ]
  },
  {
   "cell_type": "code",
   "execution_count": 19,
   "id": "e3ff419c",
   "metadata": {},
   "outputs": [
    {
     "data": {
      "text/html": [
       "<div>\n",
       "<style scoped>\n",
       "    .dataframe tbody tr th:only-of-type {\n",
       "        vertical-align: middle;\n",
       "    }\n",
       "\n",
       "    .dataframe tbody tr th {\n",
       "        vertical-align: top;\n",
       "    }\n",
       "\n",
       "    .dataframe thead th {\n",
       "        text-align: right;\n",
       "    }\n",
       "</style>\n",
       "<table border=\"1\" class=\"dataframe\">\n",
       "  <thead>\n",
       "    <tr style=\"text-align: right;\">\n",
       "      <th></th>\n",
       "      <th>segment</th>\n",
       "      <th>reason</th>\n",
       "      <th>emissions</th>\n",
       "    </tr>\n",
       "  </thead>\n",
       "  <tbody>\n",
       "    <tr>\n",
       "      <th>0</th>\n",
       "      <td>Total</td>\n",
       "      <td>All</td>\n",
       "      <td>235913.583015</td>\n",
       "    </tr>\n",
       "    <tr>\n",
       "      <th>1</th>\n",
       "      <td>Steam coal</td>\n",
       "      <td>All</td>\n",
       "      <td>30047.273344</td>\n",
       "    </tr>\n",
       "    <tr>\n",
       "      <th>2</th>\n",
       "      <td>Onshore oil</td>\n",
       "      <td>Vented</td>\n",
       "      <td>26029.764491</td>\n",
       "    </tr>\n",
       "    <tr>\n",
       "      <th>3</th>\n",
       "      <td>Onshore gas</td>\n",
       "      <td>Vented</td>\n",
       "      <td>12388.200895</td>\n",
       "    </tr>\n",
       "    <tr>\n",
       "      <th>4</th>\n",
       "      <td>Coking coal</td>\n",
       "      <td>All</td>\n",
       "      <td>10313.157684</td>\n",
       "    </tr>\n",
       "    <tr>\n",
       "      <th>5</th>\n",
       "      <td>Bioenergy</td>\n",
       "      <td>All</td>\n",
       "      <td>9926.408038</td>\n",
       "    </tr>\n",
       "    <tr>\n",
       "      <th>6</th>\n",
       "      <td>Gas pipelines and LNG facilities</td>\n",
       "      <td>Fugitive</td>\n",
       "      <td>8243.553747</td>\n",
       "    </tr>\n",
       "    <tr>\n",
       "      <th>7</th>\n",
       "      <td>Offshore oil</td>\n",
       "      <td>Vented</td>\n",
       "      <td>6570.998807</td>\n",
       "    </tr>\n",
       "    <tr>\n",
       "      <th>8</th>\n",
       "      <td>Onshore oil</td>\n",
       "      <td>Flared</td>\n",
       "      <td>6381.733689</td>\n",
       "    </tr>\n",
       "    <tr>\n",
       "      <th>9</th>\n",
       "      <td>Onshore gas</td>\n",
       "      <td>Fugitive</td>\n",
       "      <td>5709.396678</td>\n",
       "    </tr>\n",
       "    <tr>\n",
       "      <th>10</th>\n",
       "      <td>Gas pipelines and LNG facilities</td>\n",
       "      <td>Vented</td>\n",
       "      <td>4395.469980</td>\n",
       "    </tr>\n",
       "    <tr>\n",
       "      <th>11</th>\n",
       "      <td>Satellite-detected large oil and gas emissions</td>\n",
       "      <td>All</td>\n",
       "      <td>3106.400007</td>\n",
       "    </tr>\n",
       "    <tr>\n",
       "      <th>12</th>\n",
       "      <td>Offshore gas</td>\n",
       "      <td>Vented</td>\n",
       "      <td>2972.465665</td>\n",
       "    </tr>\n",
       "    <tr>\n",
       "      <th>13</th>\n",
       "      <td>Other from oil and gas</td>\n",
       "      <td>All</td>\n",
       "      <td>2493.177699</td>\n",
       "    </tr>\n",
       "    <tr>\n",
       "      <th>14</th>\n",
       "      <td>Onshore oil</td>\n",
       "      <td>Fugitive</td>\n",
       "      <td>1921.285059</td>\n",
       "    </tr>\n",
       "    <tr>\n",
       "      <th>15</th>\n",
       "      <td>Other from coal</td>\n",
       "      <td>All</td>\n",
       "      <td>1699.342014</td>\n",
       "    </tr>\n",
       "    <tr>\n",
       "      <th>16</th>\n",
       "      <td>Offshore gas</td>\n",
       "      <td>Fugitive</td>\n",
       "      <td>1369.931112</td>\n",
       "    </tr>\n",
       "    <tr>\n",
       "      <th>17</th>\n",
       "      <td>Offshore oil</td>\n",
       "      <td>Flared</td>\n",
       "      <td>1293.600583</td>\n",
       "    </tr>\n",
       "    <tr>\n",
       "      <th>18</th>\n",
       "      <td>Offshore oil</td>\n",
       "      <td>Fugitive</td>\n",
       "      <td>485.012469</td>\n",
       "    </tr>\n",
       "  </tbody>\n",
       "</table>\n",
       "</div>"
      ],
      "text/plain": [
       "                                           segment    reason      emissions\n",
       "0                                            Total       All  235913.583015\n",
       "1                                       Steam coal       All   30047.273344\n",
       "2                                      Onshore oil    Vented   26029.764491\n",
       "3                                      Onshore gas    Vented   12388.200895\n",
       "4                                      Coking coal       All   10313.157684\n",
       "5                                        Bioenergy       All    9926.408038\n",
       "6                 Gas pipelines and LNG facilities  Fugitive    8243.553747\n",
       "7                                     Offshore oil    Vented    6570.998807\n",
       "8                                      Onshore oil    Flared    6381.733689\n",
       "9                                      Onshore gas  Fugitive    5709.396678\n",
       "10                Gas pipelines and LNG facilities    Vented    4395.469980\n",
       "11  Satellite-detected large oil and gas emissions       All    3106.400007\n",
       "12                                    Offshore gas    Vented    2972.465665\n",
       "13                          Other from oil and gas       All    2493.177699\n",
       "14                                     Onshore oil  Fugitive    1921.285059\n",
       "15                                 Other from coal       All    1699.342014\n",
       "16                                    Offshore gas  Fugitive    1369.931112\n",
       "17                                    Offshore oil    Flared    1293.600583\n",
       "18                                    Offshore oil  Fugitive     485.012469"
      ]
     },
     "execution_count": 19,
     "metadata": {},
     "output_type": "execute_result"
    }
   ],
   "source": [
    "# Grouping segment data by reasons\n",
    "energy_reasons = energy_totals.groupby(['segment', 'reason']).sum()\n",
    "reasons_sorted = energy_reasons.sort_values('emissions', ascending = False).reset_index()\n",
    "reasons_sorted"
   ]
  },
  {
   "cell_type": "code",
   "execution_count": 20,
   "id": "940bd0ca",
   "metadata": {},
   "outputs": [
    {
     "data": {
      "application/vnd.plotly.v1+json": {
       "config": {
        "plotlyServerURL": "https://plot.ly"
       },
       "data": [
        {
         "alignmentgroup": "True",
         "hovertemplate": "reason=All<br>emissions=%{x}<br>segment=%{y}<extra></extra>",
         "legendgroup": "All",
         "marker": {
          "color": "#636efa",
          "pattern": {
           "shape": ""
          }
         },
         "name": "All",
         "offsetgroup": "All",
         "orientation": "h",
         "showlegend": true,
         "textposition": "auto",
         "type": "bar",
         "x": [
          30047.273343540728,
          10313.157683730125,
          9926.408037604764,
          3106.4000066518784,
          2493.177698748652,
          1699.342014349997
         ],
         "xaxis": "x",
         "y": [
          "Steam coal",
          "Coking coal",
          "Bioenergy",
          "Satellite-detected large oil and gas emissions",
          "Other from oil and gas",
          "Other from coal"
         ],
         "yaxis": "y"
        },
        {
         "alignmentgroup": "True",
         "hovertemplate": "reason=Vented<br>emissions=%{x}<br>segment=%{y}<extra></extra>",
         "legendgroup": "Vented",
         "marker": {
          "color": "#EF553B",
          "pattern": {
           "shape": ""
          }
         },
         "name": "Vented",
         "offsetgroup": "Vented",
         "orientation": "h",
         "showlegend": true,
         "textposition": "auto",
         "type": "bar",
         "x": [
          26029.764491464943,
          12388.200895414222,
          6570.998807357624,
          4395.469980370253,
          2972.4656653311104
         ],
         "xaxis": "x",
         "y": [
          "Onshore oil",
          "Onshore gas",
          "Offshore oil",
          "Gas pipelines and LNG facilities",
          "Offshore gas"
         ],
         "yaxis": "y"
        },
        {
         "alignmentgroup": "True",
         "hovertemplate": "reason=Fugitive<br>emissions=%{x}<br>segment=%{y}<extra></extra>",
         "legendgroup": "Fugitive",
         "marker": {
          "color": "#00cc96",
          "pattern": {
           "shape": ""
          }
         },
         "name": "Fugitive",
         "offsetgroup": "Fugitive",
         "orientation": "h",
         "showlegend": true,
         "textposition": "auto",
         "type": "bar",
         "x": [
          8243.553746704012,
          5709.396677585086,
          1921.28505943669,
          1369.931111591868,
          485.012469198904
         ],
         "xaxis": "x",
         "y": [
          "Gas pipelines and LNG facilities",
          "Onshore gas",
          "Onshore oil",
          "Offshore gas",
          "Offshore oil"
         ],
         "yaxis": "y"
        },
        {
         "alignmentgroup": "True",
         "hovertemplate": "reason=Flared<br>emissions=%{x}<br>segment=%{y}<extra></extra>",
         "legendgroup": "Flared",
         "marker": {
          "color": "#ab63fa",
          "pattern": {
           "shape": ""
          }
         },
         "name": "Flared",
         "offsetgroup": "Flared",
         "orientation": "h",
         "showlegend": true,
         "textposition": "auto",
         "type": "bar",
         "x": [
          6381.7336894099135,
          1293.600583458494
         ],
         "xaxis": "x",
         "y": [
          "Onshore oil",
          "Offshore oil"
         ],
         "yaxis": "y"
        }
       ],
       "layout": {
        "barmode": "relative",
        "legend": {
         "title": {
          "text": "reason"
         },
         "tracegroupgap": 0
        },
        "template": {
         "data": {
          "bar": [
           {
            "error_x": {
             "color": "#2a3f5f"
            },
            "error_y": {
             "color": "#2a3f5f"
            },
            "marker": {
             "line": {
              "color": "#E5ECF6",
              "width": 0.5
             },
             "pattern": {
              "fillmode": "overlay",
              "size": 10,
              "solidity": 0.2
             }
            },
            "type": "bar"
           }
          ],
          "barpolar": [
           {
            "marker": {
             "line": {
              "color": "#E5ECF6",
              "width": 0.5
             },
             "pattern": {
              "fillmode": "overlay",
              "size": 10,
              "solidity": 0.2
             }
            },
            "type": "barpolar"
           }
          ],
          "carpet": [
           {
            "aaxis": {
             "endlinecolor": "#2a3f5f",
             "gridcolor": "white",
             "linecolor": "white",
             "minorgridcolor": "white",
             "startlinecolor": "#2a3f5f"
            },
            "baxis": {
             "endlinecolor": "#2a3f5f",
             "gridcolor": "white",
             "linecolor": "white",
             "minorgridcolor": "white",
             "startlinecolor": "#2a3f5f"
            },
            "type": "carpet"
           }
          ],
          "choropleth": [
           {
            "colorbar": {
             "outlinewidth": 0,
             "ticks": ""
            },
            "type": "choropleth"
           }
          ],
          "contour": [
           {
            "colorbar": {
             "outlinewidth": 0,
             "ticks": ""
            },
            "colorscale": [
             [
              0,
              "#0d0887"
             ],
             [
              0.1111111111111111,
              "#46039f"
             ],
             [
              0.2222222222222222,
              "#7201a8"
             ],
             [
              0.3333333333333333,
              "#9c179e"
             ],
             [
              0.4444444444444444,
              "#bd3786"
             ],
             [
              0.5555555555555556,
              "#d8576b"
             ],
             [
              0.6666666666666666,
              "#ed7953"
             ],
             [
              0.7777777777777778,
              "#fb9f3a"
             ],
             [
              0.8888888888888888,
              "#fdca26"
             ],
             [
              1,
              "#f0f921"
             ]
            ],
            "type": "contour"
           }
          ],
          "contourcarpet": [
           {
            "colorbar": {
             "outlinewidth": 0,
             "ticks": ""
            },
            "type": "contourcarpet"
           }
          ],
          "heatmap": [
           {
            "colorbar": {
             "outlinewidth": 0,
             "ticks": ""
            },
            "colorscale": [
             [
              0,
              "#0d0887"
             ],
             [
              0.1111111111111111,
              "#46039f"
             ],
             [
              0.2222222222222222,
              "#7201a8"
             ],
             [
              0.3333333333333333,
              "#9c179e"
             ],
             [
              0.4444444444444444,
              "#bd3786"
             ],
             [
              0.5555555555555556,
              "#d8576b"
             ],
             [
              0.6666666666666666,
              "#ed7953"
             ],
             [
              0.7777777777777778,
              "#fb9f3a"
             ],
             [
              0.8888888888888888,
              "#fdca26"
             ],
             [
              1,
              "#f0f921"
             ]
            ],
            "type": "heatmap"
           }
          ],
          "heatmapgl": [
           {
            "colorbar": {
             "outlinewidth": 0,
             "ticks": ""
            },
            "colorscale": [
             [
              0,
              "#0d0887"
             ],
             [
              0.1111111111111111,
              "#46039f"
             ],
             [
              0.2222222222222222,
              "#7201a8"
             ],
             [
              0.3333333333333333,
              "#9c179e"
             ],
             [
              0.4444444444444444,
              "#bd3786"
             ],
             [
              0.5555555555555556,
              "#d8576b"
             ],
             [
              0.6666666666666666,
              "#ed7953"
             ],
             [
              0.7777777777777778,
              "#fb9f3a"
             ],
             [
              0.8888888888888888,
              "#fdca26"
             ],
             [
              1,
              "#f0f921"
             ]
            ],
            "type": "heatmapgl"
           }
          ],
          "histogram": [
           {
            "marker": {
             "pattern": {
              "fillmode": "overlay",
              "size": 10,
              "solidity": 0.2
             }
            },
            "type": "histogram"
           }
          ],
          "histogram2d": [
           {
            "colorbar": {
             "outlinewidth": 0,
             "ticks": ""
            },
            "colorscale": [
             [
              0,
              "#0d0887"
             ],
             [
              0.1111111111111111,
              "#46039f"
             ],
             [
              0.2222222222222222,
              "#7201a8"
             ],
             [
              0.3333333333333333,
              "#9c179e"
             ],
             [
              0.4444444444444444,
              "#bd3786"
             ],
             [
              0.5555555555555556,
              "#d8576b"
             ],
             [
              0.6666666666666666,
              "#ed7953"
             ],
             [
              0.7777777777777778,
              "#fb9f3a"
             ],
             [
              0.8888888888888888,
              "#fdca26"
             ],
             [
              1,
              "#f0f921"
             ]
            ],
            "type": "histogram2d"
           }
          ],
          "histogram2dcontour": [
           {
            "colorbar": {
             "outlinewidth": 0,
             "ticks": ""
            },
            "colorscale": [
             [
              0,
              "#0d0887"
             ],
             [
              0.1111111111111111,
              "#46039f"
             ],
             [
              0.2222222222222222,
              "#7201a8"
             ],
             [
              0.3333333333333333,
              "#9c179e"
             ],
             [
              0.4444444444444444,
              "#bd3786"
             ],
             [
              0.5555555555555556,
              "#d8576b"
             ],
             [
              0.6666666666666666,
              "#ed7953"
             ],
             [
              0.7777777777777778,
              "#fb9f3a"
             ],
             [
              0.8888888888888888,
              "#fdca26"
             ],
             [
              1,
              "#f0f921"
             ]
            ],
            "type": "histogram2dcontour"
           }
          ],
          "mesh3d": [
           {
            "colorbar": {
             "outlinewidth": 0,
             "ticks": ""
            },
            "type": "mesh3d"
           }
          ],
          "parcoords": [
           {
            "line": {
             "colorbar": {
              "outlinewidth": 0,
              "ticks": ""
             }
            },
            "type": "parcoords"
           }
          ],
          "pie": [
           {
            "automargin": true,
            "type": "pie"
           }
          ],
          "scatter": [
           {
            "fillpattern": {
             "fillmode": "overlay",
             "size": 10,
             "solidity": 0.2
            },
            "type": "scatter"
           }
          ],
          "scatter3d": [
           {
            "line": {
             "colorbar": {
              "outlinewidth": 0,
              "ticks": ""
             }
            },
            "marker": {
             "colorbar": {
              "outlinewidth": 0,
              "ticks": ""
             }
            },
            "type": "scatter3d"
           }
          ],
          "scattercarpet": [
           {
            "marker": {
             "colorbar": {
              "outlinewidth": 0,
              "ticks": ""
             }
            },
            "type": "scattercarpet"
           }
          ],
          "scattergeo": [
           {
            "marker": {
             "colorbar": {
              "outlinewidth": 0,
              "ticks": ""
             }
            },
            "type": "scattergeo"
           }
          ],
          "scattergl": [
           {
            "marker": {
             "colorbar": {
              "outlinewidth": 0,
              "ticks": ""
             }
            },
            "type": "scattergl"
           }
          ],
          "scattermapbox": [
           {
            "marker": {
             "colorbar": {
              "outlinewidth": 0,
              "ticks": ""
             }
            },
            "type": "scattermapbox"
           }
          ],
          "scatterpolar": [
           {
            "marker": {
             "colorbar": {
              "outlinewidth": 0,
              "ticks": ""
             }
            },
            "type": "scatterpolar"
           }
          ],
          "scatterpolargl": [
           {
            "marker": {
             "colorbar": {
              "outlinewidth": 0,
              "ticks": ""
             }
            },
            "type": "scatterpolargl"
           }
          ],
          "scatterternary": [
           {
            "marker": {
             "colorbar": {
              "outlinewidth": 0,
              "ticks": ""
             }
            },
            "type": "scatterternary"
           }
          ],
          "surface": [
           {
            "colorbar": {
             "outlinewidth": 0,
             "ticks": ""
            },
            "colorscale": [
             [
              0,
              "#0d0887"
             ],
             [
              0.1111111111111111,
              "#46039f"
             ],
             [
              0.2222222222222222,
              "#7201a8"
             ],
             [
              0.3333333333333333,
              "#9c179e"
             ],
             [
              0.4444444444444444,
              "#bd3786"
             ],
             [
              0.5555555555555556,
              "#d8576b"
             ],
             [
              0.6666666666666666,
              "#ed7953"
             ],
             [
              0.7777777777777778,
              "#fb9f3a"
             ],
             [
              0.8888888888888888,
              "#fdca26"
             ],
             [
              1,
              "#f0f921"
             ]
            ],
            "type": "surface"
           }
          ],
          "table": [
           {
            "cells": {
             "fill": {
              "color": "#EBF0F8"
             },
             "line": {
              "color": "white"
             }
            },
            "header": {
             "fill": {
              "color": "#C8D4E3"
             },
             "line": {
              "color": "white"
             }
            },
            "type": "table"
           }
          ]
         },
         "layout": {
          "annotationdefaults": {
           "arrowcolor": "#2a3f5f",
           "arrowhead": 0,
           "arrowwidth": 1
          },
          "autotypenumbers": "strict",
          "coloraxis": {
           "colorbar": {
            "outlinewidth": 0,
            "ticks": ""
           }
          },
          "colorscale": {
           "diverging": [
            [
             0,
             "#8e0152"
            ],
            [
             0.1,
             "#c51b7d"
            ],
            [
             0.2,
             "#de77ae"
            ],
            [
             0.3,
             "#f1b6da"
            ],
            [
             0.4,
             "#fde0ef"
            ],
            [
             0.5,
             "#f7f7f7"
            ],
            [
             0.6,
             "#e6f5d0"
            ],
            [
             0.7,
             "#b8e186"
            ],
            [
             0.8,
             "#7fbc41"
            ],
            [
             0.9,
             "#4d9221"
            ],
            [
             1,
             "#276419"
            ]
           ],
           "sequential": [
            [
             0,
             "#0d0887"
            ],
            [
             0.1111111111111111,
             "#46039f"
            ],
            [
             0.2222222222222222,
             "#7201a8"
            ],
            [
             0.3333333333333333,
             "#9c179e"
            ],
            [
             0.4444444444444444,
             "#bd3786"
            ],
            [
             0.5555555555555556,
             "#d8576b"
            ],
            [
             0.6666666666666666,
             "#ed7953"
            ],
            [
             0.7777777777777778,
             "#fb9f3a"
            ],
            [
             0.8888888888888888,
             "#fdca26"
            ],
            [
             1,
             "#f0f921"
            ]
           ],
           "sequentialminus": [
            [
             0,
             "#0d0887"
            ],
            [
             0.1111111111111111,
             "#46039f"
            ],
            [
             0.2222222222222222,
             "#7201a8"
            ],
            [
             0.3333333333333333,
             "#9c179e"
            ],
            [
             0.4444444444444444,
             "#bd3786"
            ],
            [
             0.5555555555555556,
             "#d8576b"
            ],
            [
             0.6666666666666666,
             "#ed7953"
            ],
            [
             0.7777777777777778,
             "#fb9f3a"
            ],
            [
             0.8888888888888888,
             "#fdca26"
            ],
            [
             1,
             "#f0f921"
            ]
           ]
          },
          "colorway": [
           "#636efa",
           "#EF553B",
           "#00cc96",
           "#ab63fa",
           "#FFA15A",
           "#19d3f3",
           "#FF6692",
           "#B6E880",
           "#FF97FF",
           "#FECB52"
          ],
          "font": {
           "color": "#2a3f5f"
          },
          "geo": {
           "bgcolor": "white",
           "lakecolor": "white",
           "landcolor": "#E5ECF6",
           "showlakes": true,
           "showland": true,
           "subunitcolor": "white"
          },
          "hoverlabel": {
           "align": "left"
          },
          "hovermode": "closest",
          "mapbox": {
           "style": "light"
          },
          "paper_bgcolor": "white",
          "plot_bgcolor": "#E5ECF6",
          "polar": {
           "angularaxis": {
            "gridcolor": "white",
            "linecolor": "white",
            "ticks": ""
           },
           "bgcolor": "#E5ECF6",
           "radialaxis": {
            "gridcolor": "white",
            "linecolor": "white",
            "ticks": ""
           }
          },
          "scene": {
           "xaxis": {
            "backgroundcolor": "#E5ECF6",
            "gridcolor": "white",
            "gridwidth": 2,
            "linecolor": "white",
            "showbackground": true,
            "ticks": "",
            "zerolinecolor": "white"
           },
           "yaxis": {
            "backgroundcolor": "#E5ECF6",
            "gridcolor": "white",
            "gridwidth": 2,
            "linecolor": "white",
            "showbackground": true,
            "ticks": "",
            "zerolinecolor": "white"
           },
           "zaxis": {
            "backgroundcolor": "#E5ECF6",
            "gridcolor": "white",
            "gridwidth": 2,
            "linecolor": "white",
            "showbackground": true,
            "ticks": "",
            "zerolinecolor": "white"
           }
          },
          "shapedefaults": {
           "line": {
            "color": "#2a3f5f"
           }
          },
          "ternary": {
           "aaxis": {
            "gridcolor": "white",
            "linecolor": "white",
            "ticks": ""
           },
           "baxis": {
            "gridcolor": "white",
            "linecolor": "white",
            "ticks": ""
           },
           "bgcolor": "#E5ECF6",
           "caxis": {
            "gridcolor": "white",
            "linecolor": "white",
            "ticks": ""
           }
          },
          "title": {
           "x": 0.05
          },
          "xaxis": {
           "automargin": true,
           "gridcolor": "white",
           "linecolor": "white",
           "ticks": "",
           "title": {
            "standoff": 15
           },
           "zerolinecolor": "white",
           "zerolinewidth": 2
          },
          "yaxis": {
           "automargin": true,
           "gridcolor": "white",
           "linecolor": "white",
           "ticks": "",
           "title": {
            "standoff": 15
           },
           "zerolinecolor": "white",
           "zerolinewidth": 2
          }
         }
        },
        "title": {
         "text": "Methane Emissions by Segment and Reason"
        },
        "xaxis": {
         "anchor": "y",
         "domain": [
          0,
          1
         ],
         "title": {
          "text": "emissions"
         }
        },
        "yaxis": {
         "anchor": "x",
         "domain": [
          0,
          1
         ],
         "title": {
          "text": "segment"
         }
        }
       }
      },
      "text/html": [
       "<div>                            <div id=\"87e643c1-59ab-4c2c-9ce8-957b29f30950\" class=\"plotly-graph-div\" style=\"height:525px; width:100%;\"></div>            <script type=\"text/javascript\">                require([\"plotly\"], function(Plotly) {                    window.PLOTLYENV=window.PLOTLYENV || {};                                    if (document.getElementById(\"87e643c1-59ab-4c2c-9ce8-957b29f30950\")) {                    Plotly.newPlot(                        \"87e643c1-59ab-4c2c-9ce8-957b29f30950\",                        [{\"alignmentgroup\":\"True\",\"hovertemplate\":\"reason=All<br>emissions=%{x}<br>segment=%{y}<extra></extra>\",\"legendgroup\":\"All\",\"marker\":{\"color\":\"#636efa\",\"pattern\":{\"shape\":\"\"}},\"name\":\"All\",\"offsetgroup\":\"All\",\"orientation\":\"h\",\"showlegend\":true,\"textposition\":\"auto\",\"x\":[30047.273343540728,10313.157683730125,9926.408037604764,3106.4000066518784,2493.177698748652,1699.342014349997],\"xaxis\":\"x\",\"y\":[\"Steam coal\",\"Coking coal\",\"Bioenergy\",\"Satellite-detected large oil and gas emissions\",\"Other from oil and gas\",\"Other from coal\"],\"yaxis\":\"y\",\"type\":\"bar\"},{\"alignmentgroup\":\"True\",\"hovertemplate\":\"reason=Vented<br>emissions=%{x}<br>segment=%{y}<extra></extra>\",\"legendgroup\":\"Vented\",\"marker\":{\"color\":\"#EF553B\",\"pattern\":{\"shape\":\"\"}},\"name\":\"Vented\",\"offsetgroup\":\"Vented\",\"orientation\":\"h\",\"showlegend\":true,\"textposition\":\"auto\",\"x\":[26029.764491464943,12388.200895414222,6570.998807357624,4395.469980370253,2972.4656653311104],\"xaxis\":\"x\",\"y\":[\"Onshore oil\",\"Onshore gas\",\"Offshore oil\",\"Gas pipelines and LNG facilities\",\"Offshore gas\"],\"yaxis\":\"y\",\"type\":\"bar\"},{\"alignmentgroup\":\"True\",\"hovertemplate\":\"reason=Fugitive<br>emissions=%{x}<br>segment=%{y}<extra></extra>\",\"legendgroup\":\"Fugitive\",\"marker\":{\"color\":\"#00cc96\",\"pattern\":{\"shape\":\"\"}},\"name\":\"Fugitive\",\"offsetgroup\":\"Fugitive\",\"orientation\":\"h\",\"showlegend\":true,\"textposition\":\"auto\",\"x\":[8243.553746704012,5709.396677585086,1921.28505943669,1369.931111591868,485.012469198904],\"xaxis\":\"x\",\"y\":[\"Gas pipelines and LNG facilities\",\"Onshore gas\",\"Onshore oil\",\"Offshore gas\",\"Offshore oil\"],\"yaxis\":\"y\",\"type\":\"bar\"},{\"alignmentgroup\":\"True\",\"hovertemplate\":\"reason=Flared<br>emissions=%{x}<br>segment=%{y}<extra></extra>\",\"legendgroup\":\"Flared\",\"marker\":{\"color\":\"#ab63fa\",\"pattern\":{\"shape\":\"\"}},\"name\":\"Flared\",\"offsetgroup\":\"Flared\",\"orientation\":\"h\",\"showlegend\":true,\"textposition\":\"auto\",\"x\":[6381.7336894099135,1293.600583458494],\"xaxis\":\"x\",\"y\":[\"Onshore oil\",\"Offshore oil\"],\"yaxis\":\"y\",\"type\":\"bar\"}],                        {\"template\":{\"data\":{\"histogram2dcontour\":[{\"type\":\"histogram2dcontour\",\"colorbar\":{\"outlinewidth\":0,\"ticks\":\"\"},\"colorscale\":[[0.0,\"#0d0887\"],[0.1111111111111111,\"#46039f\"],[0.2222222222222222,\"#7201a8\"],[0.3333333333333333,\"#9c179e\"],[0.4444444444444444,\"#bd3786\"],[0.5555555555555556,\"#d8576b\"],[0.6666666666666666,\"#ed7953\"],[0.7777777777777778,\"#fb9f3a\"],[0.8888888888888888,\"#fdca26\"],[1.0,\"#f0f921\"]]}],\"choropleth\":[{\"type\":\"choropleth\",\"colorbar\":{\"outlinewidth\":0,\"ticks\":\"\"}}],\"histogram2d\":[{\"type\":\"histogram2d\",\"colorbar\":{\"outlinewidth\":0,\"ticks\":\"\"},\"colorscale\":[[0.0,\"#0d0887\"],[0.1111111111111111,\"#46039f\"],[0.2222222222222222,\"#7201a8\"],[0.3333333333333333,\"#9c179e\"],[0.4444444444444444,\"#bd3786\"],[0.5555555555555556,\"#d8576b\"],[0.6666666666666666,\"#ed7953\"],[0.7777777777777778,\"#fb9f3a\"],[0.8888888888888888,\"#fdca26\"],[1.0,\"#f0f921\"]]}],\"heatmap\":[{\"type\":\"heatmap\",\"colorbar\":{\"outlinewidth\":0,\"ticks\":\"\"},\"colorscale\":[[0.0,\"#0d0887\"],[0.1111111111111111,\"#46039f\"],[0.2222222222222222,\"#7201a8\"],[0.3333333333333333,\"#9c179e\"],[0.4444444444444444,\"#bd3786\"],[0.5555555555555556,\"#d8576b\"],[0.6666666666666666,\"#ed7953\"],[0.7777777777777778,\"#fb9f3a\"],[0.8888888888888888,\"#fdca26\"],[1.0,\"#f0f921\"]]}],\"heatmapgl\":[{\"type\":\"heatmapgl\",\"colorbar\":{\"outlinewidth\":0,\"ticks\":\"\"},\"colorscale\":[[0.0,\"#0d0887\"],[0.1111111111111111,\"#46039f\"],[0.2222222222222222,\"#7201a8\"],[0.3333333333333333,\"#9c179e\"],[0.4444444444444444,\"#bd3786\"],[0.5555555555555556,\"#d8576b\"],[0.6666666666666666,\"#ed7953\"],[0.7777777777777778,\"#fb9f3a\"],[0.8888888888888888,\"#fdca26\"],[1.0,\"#f0f921\"]]}],\"contourcarpet\":[{\"type\":\"contourcarpet\",\"colorbar\":{\"outlinewidth\":0,\"ticks\":\"\"}}],\"contour\":[{\"type\":\"contour\",\"colorbar\":{\"outlinewidth\":0,\"ticks\":\"\"},\"colorscale\":[[0.0,\"#0d0887\"],[0.1111111111111111,\"#46039f\"],[0.2222222222222222,\"#7201a8\"],[0.3333333333333333,\"#9c179e\"],[0.4444444444444444,\"#bd3786\"],[0.5555555555555556,\"#d8576b\"],[0.6666666666666666,\"#ed7953\"],[0.7777777777777778,\"#fb9f3a\"],[0.8888888888888888,\"#fdca26\"],[1.0,\"#f0f921\"]]}],\"surface\":[{\"type\":\"surface\",\"colorbar\":{\"outlinewidth\":0,\"ticks\":\"\"},\"colorscale\":[[0.0,\"#0d0887\"],[0.1111111111111111,\"#46039f\"],[0.2222222222222222,\"#7201a8\"],[0.3333333333333333,\"#9c179e\"],[0.4444444444444444,\"#bd3786\"],[0.5555555555555556,\"#d8576b\"],[0.6666666666666666,\"#ed7953\"],[0.7777777777777778,\"#fb9f3a\"],[0.8888888888888888,\"#fdca26\"],[1.0,\"#f0f921\"]]}],\"mesh3d\":[{\"type\":\"mesh3d\",\"colorbar\":{\"outlinewidth\":0,\"ticks\":\"\"}}],\"scatter\":[{\"fillpattern\":{\"fillmode\":\"overlay\",\"size\":10,\"solidity\":0.2},\"type\":\"scatter\"}],\"parcoords\":[{\"type\":\"parcoords\",\"line\":{\"colorbar\":{\"outlinewidth\":0,\"ticks\":\"\"}}}],\"scatterpolargl\":[{\"type\":\"scatterpolargl\",\"marker\":{\"colorbar\":{\"outlinewidth\":0,\"ticks\":\"\"}}}],\"bar\":[{\"error_x\":{\"color\":\"#2a3f5f\"},\"error_y\":{\"color\":\"#2a3f5f\"},\"marker\":{\"line\":{\"color\":\"#E5ECF6\",\"width\":0.5},\"pattern\":{\"fillmode\":\"overlay\",\"size\":10,\"solidity\":0.2}},\"type\":\"bar\"}],\"scattergeo\":[{\"type\":\"scattergeo\",\"marker\":{\"colorbar\":{\"outlinewidth\":0,\"ticks\":\"\"}}}],\"scatterpolar\":[{\"type\":\"scatterpolar\",\"marker\":{\"colorbar\":{\"outlinewidth\":0,\"ticks\":\"\"}}}],\"histogram\":[{\"marker\":{\"pattern\":{\"fillmode\":\"overlay\",\"size\":10,\"solidity\":0.2}},\"type\":\"histogram\"}],\"scattergl\":[{\"type\":\"scattergl\",\"marker\":{\"colorbar\":{\"outlinewidth\":0,\"ticks\":\"\"}}}],\"scatter3d\":[{\"type\":\"scatter3d\",\"line\":{\"colorbar\":{\"outlinewidth\":0,\"ticks\":\"\"}},\"marker\":{\"colorbar\":{\"outlinewidth\":0,\"ticks\":\"\"}}}],\"scattermapbox\":[{\"type\":\"scattermapbox\",\"marker\":{\"colorbar\":{\"outlinewidth\":0,\"ticks\":\"\"}}}],\"scatterternary\":[{\"type\":\"scatterternary\",\"marker\":{\"colorbar\":{\"outlinewidth\":0,\"ticks\":\"\"}}}],\"scattercarpet\":[{\"type\":\"scattercarpet\",\"marker\":{\"colorbar\":{\"outlinewidth\":0,\"ticks\":\"\"}}}],\"carpet\":[{\"aaxis\":{\"endlinecolor\":\"#2a3f5f\",\"gridcolor\":\"white\",\"linecolor\":\"white\",\"minorgridcolor\":\"white\",\"startlinecolor\":\"#2a3f5f\"},\"baxis\":{\"endlinecolor\":\"#2a3f5f\",\"gridcolor\":\"white\",\"linecolor\":\"white\",\"minorgridcolor\":\"white\",\"startlinecolor\":\"#2a3f5f\"},\"type\":\"carpet\"}],\"table\":[{\"cells\":{\"fill\":{\"color\":\"#EBF0F8\"},\"line\":{\"color\":\"white\"}},\"header\":{\"fill\":{\"color\":\"#C8D4E3\"},\"line\":{\"color\":\"white\"}},\"type\":\"table\"}],\"barpolar\":[{\"marker\":{\"line\":{\"color\":\"#E5ECF6\",\"width\":0.5},\"pattern\":{\"fillmode\":\"overlay\",\"size\":10,\"solidity\":0.2}},\"type\":\"barpolar\"}],\"pie\":[{\"automargin\":true,\"type\":\"pie\"}]},\"layout\":{\"autotypenumbers\":\"strict\",\"colorway\":[\"#636efa\",\"#EF553B\",\"#00cc96\",\"#ab63fa\",\"#FFA15A\",\"#19d3f3\",\"#FF6692\",\"#B6E880\",\"#FF97FF\",\"#FECB52\"],\"font\":{\"color\":\"#2a3f5f\"},\"hovermode\":\"closest\",\"hoverlabel\":{\"align\":\"left\"},\"paper_bgcolor\":\"white\",\"plot_bgcolor\":\"#E5ECF6\",\"polar\":{\"bgcolor\":\"#E5ECF6\",\"angularaxis\":{\"gridcolor\":\"white\",\"linecolor\":\"white\",\"ticks\":\"\"},\"radialaxis\":{\"gridcolor\":\"white\",\"linecolor\":\"white\",\"ticks\":\"\"}},\"ternary\":{\"bgcolor\":\"#E5ECF6\",\"aaxis\":{\"gridcolor\":\"white\",\"linecolor\":\"white\",\"ticks\":\"\"},\"baxis\":{\"gridcolor\":\"white\",\"linecolor\":\"white\",\"ticks\":\"\"},\"caxis\":{\"gridcolor\":\"white\",\"linecolor\":\"white\",\"ticks\":\"\"}},\"coloraxis\":{\"colorbar\":{\"outlinewidth\":0,\"ticks\":\"\"}},\"colorscale\":{\"sequential\":[[0.0,\"#0d0887\"],[0.1111111111111111,\"#46039f\"],[0.2222222222222222,\"#7201a8\"],[0.3333333333333333,\"#9c179e\"],[0.4444444444444444,\"#bd3786\"],[0.5555555555555556,\"#d8576b\"],[0.6666666666666666,\"#ed7953\"],[0.7777777777777778,\"#fb9f3a\"],[0.8888888888888888,\"#fdca26\"],[1.0,\"#f0f921\"]],\"sequentialminus\":[[0.0,\"#0d0887\"],[0.1111111111111111,\"#46039f\"],[0.2222222222222222,\"#7201a8\"],[0.3333333333333333,\"#9c179e\"],[0.4444444444444444,\"#bd3786\"],[0.5555555555555556,\"#d8576b\"],[0.6666666666666666,\"#ed7953\"],[0.7777777777777778,\"#fb9f3a\"],[0.8888888888888888,\"#fdca26\"],[1.0,\"#f0f921\"]],\"diverging\":[[0,\"#8e0152\"],[0.1,\"#c51b7d\"],[0.2,\"#de77ae\"],[0.3,\"#f1b6da\"],[0.4,\"#fde0ef\"],[0.5,\"#f7f7f7\"],[0.6,\"#e6f5d0\"],[0.7,\"#b8e186\"],[0.8,\"#7fbc41\"],[0.9,\"#4d9221\"],[1,\"#276419\"]]},\"xaxis\":{\"gridcolor\":\"white\",\"linecolor\":\"white\",\"ticks\":\"\",\"title\":{\"standoff\":15},\"zerolinecolor\":\"white\",\"automargin\":true,\"zerolinewidth\":2},\"yaxis\":{\"gridcolor\":\"white\",\"linecolor\":\"white\",\"ticks\":\"\",\"title\":{\"standoff\":15},\"zerolinecolor\":\"white\",\"automargin\":true,\"zerolinewidth\":2},\"scene\":{\"xaxis\":{\"backgroundcolor\":\"#E5ECF6\",\"gridcolor\":\"white\",\"linecolor\":\"white\",\"showbackground\":true,\"ticks\":\"\",\"zerolinecolor\":\"white\",\"gridwidth\":2},\"yaxis\":{\"backgroundcolor\":\"#E5ECF6\",\"gridcolor\":\"white\",\"linecolor\":\"white\",\"showbackground\":true,\"ticks\":\"\",\"zerolinecolor\":\"white\",\"gridwidth\":2},\"zaxis\":{\"backgroundcolor\":\"#E5ECF6\",\"gridcolor\":\"white\",\"linecolor\":\"white\",\"showbackground\":true,\"ticks\":\"\",\"zerolinecolor\":\"white\",\"gridwidth\":2}},\"shapedefaults\":{\"line\":{\"color\":\"#2a3f5f\"}},\"annotationdefaults\":{\"arrowcolor\":\"#2a3f5f\",\"arrowhead\":0,\"arrowwidth\":1},\"geo\":{\"bgcolor\":\"white\",\"landcolor\":\"#E5ECF6\",\"subunitcolor\":\"white\",\"showland\":true,\"showlakes\":true,\"lakecolor\":\"white\"},\"title\":{\"x\":0.05},\"mapbox\":{\"style\":\"light\"}}},\"xaxis\":{\"anchor\":\"y\",\"domain\":[0.0,1.0],\"title\":{\"text\":\"emissions\"}},\"yaxis\":{\"anchor\":\"x\",\"domain\":[0.0,1.0],\"title\":{\"text\":\"segment\"}},\"legend\":{\"title\":{\"text\":\"reason\"},\"tracegroupgap\":0},\"title\":{\"text\":\"Methane Emissions by Segment and Reason\"},\"barmode\":\"relative\"},                        {\"responsive\": true}                    ).then(function(){\n",
       "                            \n",
       "var gd = document.getElementById('87e643c1-59ab-4c2c-9ce8-957b29f30950');\n",
       "var x = new MutationObserver(function (mutations, observer) {{\n",
       "        var display = window.getComputedStyle(gd).display;\n",
       "        if (!display || display === 'none') {{\n",
       "            console.log([gd, 'removed!']);\n",
       "            Plotly.purge(gd);\n",
       "            observer.disconnect();\n",
       "        }}\n",
       "}});\n",
       "\n",
       "// Listen for the removal of the full notebook cells\n",
       "var notebookContainer = gd.closest('#notebook-container');\n",
       "if (notebookContainer) {{\n",
       "    x.observe(notebookContainer, {childList: true});\n",
       "}}\n",
       "\n",
       "// Listen for the clearing of the current output cell\n",
       "var outputEl = gd.closest('.output');\n",
       "if (outputEl) {{\n",
       "    x.observe(outputEl, {childList: true});\n",
       "}}\n",
       "\n",
       "                        })                };                });            </script>        </div>"
      ]
     },
     "metadata": {},
     "output_type": "display_data"
    }
   ],
   "source": [
    "# Displaying segment reasons in a stacked bar chart\n",
    "reasons_sorted.drop(index = [0], inplace = True)\n",
    "px.bar(reasons_sorted, x = 'emissions', \n",
    "                       y = 'segment', \n",
    "                       title = 'Methane Emissions by Segment and Reason', \n",
    "                       color = 'reason')"
   ]
  },
  {
   "cell_type": "code",
   "execution_count": 21,
   "id": "319a3ef3",
   "metadata": {},
   "outputs": [
    {
     "data": {
      "application/vnd.plotly.v1+json": {
       "config": {
        "plotlyServerURL": "https://plot.ly"
       },
       "data": [
        {
         "branchvalues": "total",
         "customdata": [
          [
           718.8423636796163
          ],
          [
           904.3566076127894
          ],
          [
           176.78690389788517
          ],
          [
           381.08166847270553
          ],
          [
           4.569557500610923
          ],
          [
           181.7874777012428
          ],
          [
           1187.4720458984375
          ],
          [
           27.361416368853835
          ],
          [
           50.232312532953166
          ],
          [
           4526.467972081663
          ],
          [
           25.475299835205085
          ],
          [
           275.19590451106995
          ],
          [
           35.70140075683594
          ],
          [
           752.9033507897442
          ],
          [
           17.066499710083008
          ],
          [
           1718.5423716160499
          ],
          [
           81.68971116081119
          ],
          [
           231.85565653150752
          ],
          [
           76.43962507023836
          ],
          [
           201.579802097589
          ],
          [
           226.2271730583002
          ],
          [
           1284.6512400149138
          ],
          [
           62.285736459345
          ],
          [
           773.4954837187456
          ],
          [
           82.56495882359123
          ],
          [
           91.73191356552191
          ],
          [
           53.84774430141626
          ],
          [
           15.757270501274709
          ],
          [
           447.09696806017286
          ],
          [
           31.944286471337858
          ],
          [
           3.1931159824285853
          ],
          [
           60.36195636890841
          ],
          [
           330.8585898465231
          ],
          [
           137.40282822981874
          ],
          [
           688.4672830414737
          ],
          [
           34.09489526940812
          ],
          [
           501.9904515473799
          ],
          [
           334.3860513756222
          ],
          [
           0.02435662950716012
          ],
          [
           179.37401050774739
          ],
          [
           270.463722338821
          ],
          [
           284.7400702000724
          ],
          [
           150.17264534339554
          ],
          [
           53.382742245591096
          ],
          [
           121.6684855095799
          ],
          [
           2727.486872722982
          ],
          [
           14.53141070034098
          ],
          [
           1711.847028872216
          ],
          [
           632.5174079548602
          ],
          [
           480.98705262581854
          ],
          [
           833.2147003829315
          ],
          [
           47.85236663730301
          ],
          [
           1080.0948246364571
          ],
          [
           2980.605386366378
          ],
          [
           78.79915614955034
          ],
          [
           3162.7870205278296
          ],
          [
           41.23674942654571
          ],
          [
           661.8016943794485
          ],
          [
           2.3055107105834356
          ],
          [
           113.28146018318199
          ],
          [
           0.664649291236104
          ],
          [
           19.796921776106974
          ],
          [
           35.80628967285156
          ],
          [
           64.10408085911644
          ],
          [
           11.733201594691257
          ],
          [
           213.24915120076898
          ],
          [
           32.37948117160548
          ],
          [
           102.73497550937402
          ],
          [
           47.80389439212605
          ],
          [
           485.1084893734875
          ],
          [
           28.12497329711914
          ],
          [
           77.80590866830866
          ],
          [
           62.69444444444444
          ],
          [
           8.341111258651004
          ],
          [
           27.299999237060547
          ],
          [
           3.900000095367432
          ],
          [
           45.074554247702835
          ],
          [
           357.6000061035156
          ],
          [
           1180.5969111287511
          ],
          [
           1006.7608351805104
          ],
          [
           10845.736031273562
          ],
          [
           345.15363024598366
          ],
          [
           328.4562592991493
          ],
          [
           0.5593019723892212
          ],
          [
           1136.2769387323901
          ],
          [
           838.1268920898438
          ],
          [
           2202.2243929305628
          ],
          [
           543.1586365929181
          ],
          [
           6662.18596117644
          ],
          [
           565.0150817942601
          ],
          [
           234.68195737062558
          ],
          [
           778.1860623807323
          ],
          [
           2114.8488862812424
          ],
          [
           882.2091092573914
          ],
          [
           1969.8762743033685
          ]
         ],
         "domain": {
          "x": [
           0,
           1
          ],
          "y": [
           0,
           1
          ]
         },
         "hovertemplate": "labels=%{label}<br>emissions_sum=%{value}<br>parent=%{parent}<br>id=%{id}<br>emissions=%{color}<extra></extra>",
         "ids": [
          "Africa/Bioenergy",
          "Asia Pacific/Bioenergy",
          "Central and South America/Bioenergy",
          "Europe/Bioenergy",
          "Middle East/Bioenergy",
          "North America/Bioenergy",
          "Other/Bioenergy",
          "Russia & Caspian/Bioenergy",
          "Africa/Coking coal",
          "Asia Pacific/Coking coal",
          "Central and South America/Coking coal",
          "Europe/Coking coal",
          "Middle East/Coking coal",
          "North America/Coking coal",
          "Other/Coking coal",
          "Russia & Caspian/Coking coal",
          "Africa/Gas pipelines and LNG facilities",
          "Asia Pacific/Gas pipelines and LNG facilities",
          "Central and South America/Gas pipelines and LNG facilities",
          "Europe/Gas pipelines and LNG facilities",
          "Middle East/Gas pipelines and LNG facilities",
          "North America/Gas pipelines and LNG facilities",
          "Other/Gas pipelines and LNG facilities",
          "Russia & Caspian/Gas pipelines and LNG facilities",
          "Africa/Offshore gas",
          "Asia Pacific/Offshore gas",
          "Central and South America/Offshore gas",
          "Europe/Offshore gas",
          "Middle East/Offshore gas",
          "North America/Offshore gas",
          "Other/Offshore gas",
          "Russia & Caspian/Offshore gas",
          "Africa/Offshore oil",
          "Asia Pacific/Offshore oil",
          "Central and South America/Offshore oil",
          "Europe/Offshore oil",
          "Middle East/Offshore oil",
          "North America/Offshore oil",
          "Other/Offshore oil",
          "Russia & Caspian/Offshore oil",
          "Africa/Onshore gas",
          "Asia Pacific/Onshore gas",
          "Central and South America/Onshore gas",
          "Europe/Onshore gas",
          "Middle East/Onshore gas",
          "North America/Onshore gas",
          "Other/Onshore gas",
          "Russia & Caspian/Onshore gas",
          "Africa/Onshore oil",
          "Asia Pacific/Onshore oil",
          "Central and South America/Onshore oil",
          "Europe/Onshore oil",
          "Middle East/Onshore oil",
          "North America/Onshore oil",
          "Other/Onshore oil",
          "Russia & Caspian/Onshore oil",
          "Africa/Other from coal",
          "Asia Pacific/Other from coal",
          "Central and South America/Other from coal",
          "Europe/Other from coal",
          "Middle East/Other from coal",
          "North America/Other from coal",
          "Other/Other from coal",
          "Russia & Caspian/Other from coal",
          "Africa/Other from oil and gas",
          "Asia Pacific/Other from oil and gas",
          "Central and South America/Other from oil and gas",
          "Europe/Other from oil and gas",
          "Middle East/Other from oil and gas",
          "North America/Other from oil and gas",
          "Other/Other from oil and gas",
          "Russia & Caspian/Other from oil and gas",
          "Africa/Satellite-detected large oil and gas emissions",
          "Asia Pacific/Satellite-detected large oil and gas emissions",
          "Central and South America/Satellite-detected large oil and gas emissions",
          "Europe/Satellite-detected large oil and gas emissions",
          "Middle East/Satellite-detected large oil and gas emissions",
          "North America/Satellite-detected large oil and gas emissions",
          "Russia & Caspian/Satellite-detected large oil and gas emissions",
          "Africa/Steam coal",
          "Asia Pacific/Steam coal",
          "Central and South America/Steam coal",
          "Europe/Steam coal",
          "Middle East/Steam coal",
          "North America/Steam coal",
          "Other/Steam coal",
          "Russia & Caspian/Steam coal",
          "Africa",
          "Asia Pacific",
          "Central and South America",
          "Europe",
          "Middle East",
          "North America",
          "Other",
          "Russia & Caspian"
         ],
         "labels": [
          "Bioenergy",
          "Bioenergy",
          "Bioenergy",
          "Bioenergy",
          "Bioenergy",
          "Bioenergy",
          "Bioenergy",
          "Bioenergy",
          "Coking coal",
          "Coking coal",
          "Coking coal",
          "Coking coal",
          "Coking coal",
          "Coking coal",
          "Coking coal",
          "Coking coal",
          "Gas pipelines and LNG facilities",
          "Gas pipelines and LNG facilities",
          "Gas pipelines and LNG facilities",
          "Gas pipelines and LNG facilities",
          "Gas pipelines and LNG facilities",
          "Gas pipelines and LNG facilities",
          "Gas pipelines and LNG facilities",
          "Gas pipelines and LNG facilities",
          "Offshore gas",
          "Offshore gas",
          "Offshore gas",
          "Offshore gas",
          "Offshore gas",
          "Offshore gas",
          "Offshore gas",
          "Offshore gas",
          "Offshore oil",
          "Offshore oil",
          "Offshore oil",
          "Offshore oil",
          "Offshore oil",
          "Offshore oil",
          "Offshore oil",
          "Offshore oil",
          "Onshore gas",
          "Onshore gas",
          "Onshore gas",
          "Onshore gas",
          "Onshore gas",
          "Onshore gas",
          "Onshore gas",
          "Onshore gas",
          "Onshore oil",
          "Onshore oil",
          "Onshore oil",
          "Onshore oil",
          "Onshore oil",
          "Onshore oil",
          "Onshore oil",
          "Onshore oil",
          "Other from coal",
          "Other from coal",
          "Other from coal",
          "Other from coal",
          "Other from coal",
          "Other from coal",
          "Other from coal",
          "Other from coal",
          "Other from oil and gas",
          "Other from oil and gas",
          "Other from oil and gas",
          "Other from oil and gas",
          "Other from oil and gas",
          "Other from oil and gas",
          "Other from oil and gas",
          "Other from oil and gas",
          "Satellite-detected large oil and gas emissions",
          "Satellite-detected large oil and gas emissions",
          "Satellite-detected large oil and gas emissions",
          "Satellite-detected large oil and gas emissions",
          "Satellite-detected large oil and gas emissions",
          "Satellite-detected large oil and gas emissions",
          "Satellite-detected large oil and gas emissions",
          "Steam coal",
          "Steam coal",
          "Steam coal",
          "Steam coal",
          "Steam coal",
          "Steam coal",
          "Steam coal",
          "Steam coal",
          "Africa",
          "Asia Pacific",
          "Central and South America",
          "Europe",
          "Middle East",
          "North America",
          "Other",
          "Russia & Caspian"
         ],
         "marker": {
          "coloraxis": "coloraxis",
          "colors": [
           718.8423636796163,
           904.3566076127894,
           176.78690389788517,
           381.08166847270553,
           4.569557500610923,
           181.7874777012428,
           1187.4720458984375,
           27.361416368853835,
           50.232312532953166,
           4526.467972081663,
           25.475299835205085,
           275.19590451106995,
           35.70140075683594,
           752.9033507897442,
           17.066499710083008,
           1718.5423716160499,
           81.68971116081119,
           231.85565653150752,
           76.43962507023836,
           201.579802097589,
           226.2271730583002,
           1284.6512400149138,
           62.285736459345,
           773.4954837187456,
           82.56495882359123,
           91.73191356552191,
           53.84774430141626,
           15.757270501274709,
           447.09696806017286,
           31.944286471337858,
           3.1931159824285853,
           60.36195636890841,
           330.8585898465231,
           137.40282822981874,
           688.4672830414737,
           34.09489526940812,
           501.9904515473799,
           334.3860513756222,
           0.02435662950716012,
           179.37401050774739,
           270.463722338821,
           284.7400702000724,
           150.17264534339554,
           53.382742245591096,
           121.6684855095799,
           2727.486872722982,
           14.53141070034098,
           1711.847028872216,
           632.5174079548602,
           480.98705262581854,
           833.2147003829315,
           47.85236663730301,
           1080.0948246364571,
           2980.605386366378,
           78.79915614955034,
           3162.7870205278296,
           41.23674942654571,
           661.8016943794485,
           2.3055107105834356,
           113.28146018318199,
           0.664649291236104,
           19.796921776106974,
           35.80628967285156,
           64.10408085911644,
           11.733201594691257,
           213.24915120076898,
           32.37948117160548,
           102.73497550937402,
           47.80389439212605,
           485.1084893734875,
           28.12497329711914,
           77.80590866830866,
           62.69444444444444,
           8.341111258651004,
           27.299999237060547,
           3.900000095367432,
           45.074554247702835,
           357.6000061035156,
           1180.5969111287511,
           1006.7608351805104,
           10845.736031273562,
           345.15363024598366,
           328.4562592991493,
           0.5593019723892212,
           1136.2769387323901,
           838.1268920898438,
           2202.2243929305628,
           543.1586365929181,
           6662.18596117644,
           565.0150817942601,
           234.68195737062558,
           778.1860623807323,
           2114.8488862812424,
           882.2091092573914,
           1969.8762743033685
          ]
         },
         "name": "",
         "parents": [
          "Africa",
          "Asia Pacific",
          "Central and South America",
          "Europe",
          "Middle East",
          "North America",
          "Other",
          "Russia & Caspian",
          "Africa",
          "Asia Pacific",
          "Central and South America",
          "Europe",
          "Middle East",
          "North America",
          "Other",
          "Russia & Caspian",
          "Africa",
          "Asia Pacific",
          "Central and South America",
          "Europe",
          "Middle East",
          "North America",
          "Other",
          "Russia & Caspian",
          "Africa",
          "Asia Pacific",
          "Central and South America",
          "Europe",
          "Middle East",
          "North America",
          "Other",
          "Russia & Caspian",
          "Africa",
          "Asia Pacific",
          "Central and South America",
          "Europe",
          "Middle East",
          "North America",
          "Other",
          "Russia & Caspian",
          "Africa",
          "Asia Pacific",
          "Central and South America",
          "Europe",
          "Middle East",
          "North America",
          "Other",
          "Russia & Caspian",
          "Africa",
          "Asia Pacific",
          "Central and South America",
          "Europe",
          "Middle East",
          "North America",
          "Other",
          "Russia & Caspian",
          "Africa",
          "Asia Pacific",
          "Central and South America",
          "Europe",
          "Middle East",
          "North America",
          "Other",
          "Russia & Caspian",
          "Africa",
          "Asia Pacific",
          "Central and South America",
          "Europe",
          "Middle East",
          "North America",
          "Other",
          "Russia & Caspian",
          "Africa",
          "Asia Pacific",
          "Central and South America",
          "Europe",
          "Middle East",
          "North America",
          "Russia & Caspian",
          "Africa",
          "Asia Pacific",
          "Central and South America",
          "Europe",
          "Middle East",
          "North America",
          "Other",
          "Russia & Caspian",
          "",
          "",
          "",
          "",
          "",
          "",
          "",
          ""
         ],
         "type": "sunburst",
         "values": [
          2948.11202929914,
          3456.3639911413193,
          354.21199092268944,
          1592.1999818086624,
          9.655999910086393,
          348.9199981689453,
          1187.4720458984375,
          29.472000455483794,
          88.29019927978516,
          6671.294979095459,
          25.47529983520508,
          642.4851621389389,
          35.70140075683594,
          918.8790855407715,
          17.066499710083008,
          1913.9650573730466,
          635.7206603847444,
          2265.579352617264,
          599.9649664126337,
          1714.1594553813338,
          1360.741253376007,
          3224.3882751464844,
          114.00376892089844,
          2724.4659948349,
          486.39373986423016,
          1060.7053881287575,
          325.5057812035084,
          148.18582138512284,
          1824.2254307717085,
          111.66438076645136,
          5.620730042457579,
          380.0955047607422,
          2232.324178306386,
          776.787482346408,
          1289.8004188500345,
          146.38957866979763,
          1947.3134101629257,
          1001.8004970550537,
          0.028835613338742197,
          955.1674590110779,
          1073.1618391359225,
          1509.0012030899525,
          751.7600395083427,
          363.6694374021608,
          1150.6298131793737,
          6680.345411300659,
          25.5791072845459,
          6543.4507220983505,
          4468.8914928676095,
          1890.6945101991296,
          3453.331796333194,
          266.7061402415857,
          9633.234406337142,
          6346.88267993927,
          169.05092096328735,
          8103.991293430328,
          44.484001331496984,
          988.2669673673809,
          4.1663658688776195,
          464.6865867078304,
          1.3120796643197534,
          24.79606431722641,
          35.80628967285156,
          135.82365942001343,
          98.28119658166543,
          755.8738211393356,
          120.38978591561317,
          490.25170052051544,
          172.63882112503052,
          682.3980941772461,
          28.12497329711914,
          145.21930599212646,
          72,
          18.00000023841858,
          27.299999237060547,
          7.800000190734864,
          134.4000016450882,
          357.6000061035156,
          2489.2999992370605,
          1120.2797584533691,
          22227.517842829227,
          371.2563014328479,
          1045.9436118677258,
          0.5593019723892212,
          1201.6836290359497,
          838.1268920898438,
          3241.906005859375,
          13267.93909550435,
          41620.08553819265,
          7323.162745520007,
          6882.477476314409,
          16270.411918900907,
          20899.358121551573,
          2420.880063492863,
          26662.857002472505
         ]
        }
       ],
       "layout": {
        "coloraxis": {
         "colorbar": {
          "title": {
           "text": "emissions"
          }
         },
         "colorscale": [
          [
           0,
           "rgb(255,255,204)"
          ],
          [
           0.125,
           "rgb(255,237,160)"
          ],
          [
           0.25,
           "rgb(254,217,118)"
          ],
          [
           0.375,
           "rgb(254,178,76)"
          ],
          [
           0.5,
           "rgb(253,141,60)"
          ],
          [
           0.625,
           "rgb(252,78,42)"
          ],
          [
           0.75,
           "rgb(227,26,28)"
          ],
          [
           0.875,
           "rgb(189,0,38)"
          ],
          [
           1,
           "rgb(128,0,38)"
          ]
         ]
        },
        "legend": {
         "tracegroupgap": 0
        },
        "template": {
         "data": {
          "bar": [
           {
            "error_x": {
             "color": "#2a3f5f"
            },
            "error_y": {
             "color": "#2a3f5f"
            },
            "marker": {
             "line": {
              "color": "#E5ECF6",
              "width": 0.5
             },
             "pattern": {
              "fillmode": "overlay",
              "size": 10,
              "solidity": 0.2
             }
            },
            "type": "bar"
           }
          ],
          "barpolar": [
           {
            "marker": {
             "line": {
              "color": "#E5ECF6",
              "width": 0.5
             },
             "pattern": {
              "fillmode": "overlay",
              "size": 10,
              "solidity": 0.2
             }
            },
            "type": "barpolar"
           }
          ],
          "carpet": [
           {
            "aaxis": {
             "endlinecolor": "#2a3f5f",
             "gridcolor": "white",
             "linecolor": "white",
             "minorgridcolor": "white",
             "startlinecolor": "#2a3f5f"
            },
            "baxis": {
             "endlinecolor": "#2a3f5f",
             "gridcolor": "white",
             "linecolor": "white",
             "minorgridcolor": "white",
             "startlinecolor": "#2a3f5f"
            },
            "type": "carpet"
           }
          ],
          "choropleth": [
           {
            "colorbar": {
             "outlinewidth": 0,
             "ticks": ""
            },
            "type": "choropleth"
           }
          ],
          "contour": [
           {
            "colorbar": {
             "outlinewidth": 0,
             "ticks": ""
            },
            "colorscale": [
             [
              0,
              "#0d0887"
             ],
             [
              0.1111111111111111,
              "#46039f"
             ],
             [
              0.2222222222222222,
              "#7201a8"
             ],
             [
              0.3333333333333333,
              "#9c179e"
             ],
             [
              0.4444444444444444,
              "#bd3786"
             ],
             [
              0.5555555555555556,
              "#d8576b"
             ],
             [
              0.6666666666666666,
              "#ed7953"
             ],
             [
              0.7777777777777778,
              "#fb9f3a"
             ],
             [
              0.8888888888888888,
              "#fdca26"
             ],
             [
              1,
              "#f0f921"
             ]
            ],
            "type": "contour"
           }
          ],
          "contourcarpet": [
           {
            "colorbar": {
             "outlinewidth": 0,
             "ticks": ""
            },
            "type": "contourcarpet"
           }
          ],
          "heatmap": [
           {
            "colorbar": {
             "outlinewidth": 0,
             "ticks": ""
            },
            "colorscale": [
             [
              0,
              "#0d0887"
             ],
             [
              0.1111111111111111,
              "#46039f"
             ],
             [
              0.2222222222222222,
              "#7201a8"
             ],
             [
              0.3333333333333333,
              "#9c179e"
             ],
             [
              0.4444444444444444,
              "#bd3786"
             ],
             [
              0.5555555555555556,
              "#d8576b"
             ],
             [
              0.6666666666666666,
              "#ed7953"
             ],
             [
              0.7777777777777778,
              "#fb9f3a"
             ],
             [
              0.8888888888888888,
              "#fdca26"
             ],
             [
              1,
              "#f0f921"
             ]
            ],
            "type": "heatmap"
           }
          ],
          "heatmapgl": [
           {
            "colorbar": {
             "outlinewidth": 0,
             "ticks": ""
            },
            "colorscale": [
             [
              0,
              "#0d0887"
             ],
             [
              0.1111111111111111,
              "#46039f"
             ],
             [
              0.2222222222222222,
              "#7201a8"
             ],
             [
              0.3333333333333333,
              "#9c179e"
             ],
             [
              0.4444444444444444,
              "#bd3786"
             ],
             [
              0.5555555555555556,
              "#d8576b"
             ],
             [
              0.6666666666666666,
              "#ed7953"
             ],
             [
              0.7777777777777778,
              "#fb9f3a"
             ],
             [
              0.8888888888888888,
              "#fdca26"
             ],
             [
              1,
              "#f0f921"
             ]
            ],
            "type": "heatmapgl"
           }
          ],
          "histogram": [
           {
            "marker": {
             "pattern": {
              "fillmode": "overlay",
              "size": 10,
              "solidity": 0.2
             }
            },
            "type": "histogram"
           }
          ],
          "histogram2d": [
           {
            "colorbar": {
             "outlinewidth": 0,
             "ticks": ""
            },
            "colorscale": [
             [
              0,
              "#0d0887"
             ],
             [
              0.1111111111111111,
              "#46039f"
             ],
             [
              0.2222222222222222,
              "#7201a8"
             ],
             [
              0.3333333333333333,
              "#9c179e"
             ],
             [
              0.4444444444444444,
              "#bd3786"
             ],
             [
              0.5555555555555556,
              "#d8576b"
             ],
             [
              0.6666666666666666,
              "#ed7953"
             ],
             [
              0.7777777777777778,
              "#fb9f3a"
             ],
             [
              0.8888888888888888,
              "#fdca26"
             ],
             [
              1,
              "#f0f921"
             ]
            ],
            "type": "histogram2d"
           }
          ],
          "histogram2dcontour": [
           {
            "colorbar": {
             "outlinewidth": 0,
             "ticks": ""
            },
            "colorscale": [
             [
              0,
              "#0d0887"
             ],
             [
              0.1111111111111111,
              "#46039f"
             ],
             [
              0.2222222222222222,
              "#7201a8"
             ],
             [
              0.3333333333333333,
              "#9c179e"
             ],
             [
              0.4444444444444444,
              "#bd3786"
             ],
             [
              0.5555555555555556,
              "#d8576b"
             ],
             [
              0.6666666666666666,
              "#ed7953"
             ],
             [
              0.7777777777777778,
              "#fb9f3a"
             ],
             [
              0.8888888888888888,
              "#fdca26"
             ],
             [
              1,
              "#f0f921"
             ]
            ],
            "type": "histogram2dcontour"
           }
          ],
          "mesh3d": [
           {
            "colorbar": {
             "outlinewidth": 0,
             "ticks": ""
            },
            "type": "mesh3d"
           }
          ],
          "parcoords": [
           {
            "line": {
             "colorbar": {
              "outlinewidth": 0,
              "ticks": ""
             }
            },
            "type": "parcoords"
           }
          ],
          "pie": [
           {
            "automargin": true,
            "type": "pie"
           }
          ],
          "scatter": [
           {
            "fillpattern": {
             "fillmode": "overlay",
             "size": 10,
             "solidity": 0.2
            },
            "type": "scatter"
           }
          ],
          "scatter3d": [
           {
            "line": {
             "colorbar": {
              "outlinewidth": 0,
              "ticks": ""
             }
            },
            "marker": {
             "colorbar": {
              "outlinewidth": 0,
              "ticks": ""
             }
            },
            "type": "scatter3d"
           }
          ],
          "scattercarpet": [
           {
            "marker": {
             "colorbar": {
              "outlinewidth": 0,
              "ticks": ""
             }
            },
            "type": "scattercarpet"
           }
          ],
          "scattergeo": [
           {
            "marker": {
             "colorbar": {
              "outlinewidth": 0,
              "ticks": ""
             }
            },
            "type": "scattergeo"
           }
          ],
          "scattergl": [
           {
            "marker": {
             "colorbar": {
              "outlinewidth": 0,
              "ticks": ""
             }
            },
            "type": "scattergl"
           }
          ],
          "scattermapbox": [
           {
            "marker": {
             "colorbar": {
              "outlinewidth": 0,
              "ticks": ""
             }
            },
            "type": "scattermapbox"
           }
          ],
          "scatterpolar": [
           {
            "marker": {
             "colorbar": {
              "outlinewidth": 0,
              "ticks": ""
             }
            },
            "type": "scatterpolar"
           }
          ],
          "scatterpolargl": [
           {
            "marker": {
             "colorbar": {
              "outlinewidth": 0,
              "ticks": ""
             }
            },
            "type": "scatterpolargl"
           }
          ],
          "scatterternary": [
           {
            "marker": {
             "colorbar": {
              "outlinewidth": 0,
              "ticks": ""
             }
            },
            "type": "scatterternary"
           }
          ],
          "surface": [
           {
            "colorbar": {
             "outlinewidth": 0,
             "ticks": ""
            },
            "colorscale": [
             [
              0,
              "#0d0887"
             ],
             [
              0.1111111111111111,
              "#46039f"
             ],
             [
              0.2222222222222222,
              "#7201a8"
             ],
             [
              0.3333333333333333,
              "#9c179e"
             ],
             [
              0.4444444444444444,
              "#bd3786"
             ],
             [
              0.5555555555555556,
              "#d8576b"
             ],
             [
              0.6666666666666666,
              "#ed7953"
             ],
             [
              0.7777777777777778,
              "#fb9f3a"
             ],
             [
              0.8888888888888888,
              "#fdca26"
             ],
             [
              1,
              "#f0f921"
             ]
            ],
            "type": "surface"
           }
          ],
          "table": [
           {
            "cells": {
             "fill": {
              "color": "#EBF0F8"
             },
             "line": {
              "color": "white"
             }
            },
            "header": {
             "fill": {
              "color": "#C8D4E3"
             },
             "line": {
              "color": "white"
             }
            },
            "type": "table"
           }
          ]
         },
         "layout": {
          "annotationdefaults": {
           "arrowcolor": "#2a3f5f",
           "arrowhead": 0,
           "arrowwidth": 1
          },
          "autotypenumbers": "strict",
          "coloraxis": {
           "colorbar": {
            "outlinewidth": 0,
            "ticks": ""
           }
          },
          "colorscale": {
           "diverging": [
            [
             0,
             "#8e0152"
            ],
            [
             0.1,
             "#c51b7d"
            ],
            [
             0.2,
             "#de77ae"
            ],
            [
             0.3,
             "#f1b6da"
            ],
            [
             0.4,
             "#fde0ef"
            ],
            [
             0.5,
             "#f7f7f7"
            ],
            [
             0.6,
             "#e6f5d0"
            ],
            [
             0.7,
             "#b8e186"
            ],
            [
             0.8,
             "#7fbc41"
            ],
            [
             0.9,
             "#4d9221"
            ],
            [
             1,
             "#276419"
            ]
           ],
           "sequential": [
            [
             0,
             "#0d0887"
            ],
            [
             0.1111111111111111,
             "#46039f"
            ],
            [
             0.2222222222222222,
             "#7201a8"
            ],
            [
             0.3333333333333333,
             "#9c179e"
            ],
            [
             0.4444444444444444,
             "#bd3786"
            ],
            [
             0.5555555555555556,
             "#d8576b"
            ],
            [
             0.6666666666666666,
             "#ed7953"
            ],
            [
             0.7777777777777778,
             "#fb9f3a"
            ],
            [
             0.8888888888888888,
             "#fdca26"
            ],
            [
             1,
             "#f0f921"
            ]
           ],
           "sequentialminus": [
            [
             0,
             "#0d0887"
            ],
            [
             0.1111111111111111,
             "#46039f"
            ],
            [
             0.2222222222222222,
             "#7201a8"
            ],
            [
             0.3333333333333333,
             "#9c179e"
            ],
            [
             0.4444444444444444,
             "#bd3786"
            ],
            [
             0.5555555555555556,
             "#d8576b"
            ],
            [
             0.6666666666666666,
             "#ed7953"
            ],
            [
             0.7777777777777778,
             "#fb9f3a"
            ],
            [
             0.8888888888888888,
             "#fdca26"
            ],
            [
             1,
             "#f0f921"
            ]
           ]
          },
          "colorway": [
           "#636efa",
           "#EF553B",
           "#00cc96",
           "#ab63fa",
           "#FFA15A",
           "#19d3f3",
           "#FF6692",
           "#B6E880",
           "#FF97FF",
           "#FECB52"
          ],
          "font": {
           "color": "#2a3f5f"
          },
          "geo": {
           "bgcolor": "white",
           "lakecolor": "white",
           "landcolor": "#E5ECF6",
           "showlakes": true,
           "showland": true,
           "subunitcolor": "white"
          },
          "hoverlabel": {
           "align": "left"
          },
          "hovermode": "closest",
          "mapbox": {
           "style": "light"
          },
          "paper_bgcolor": "white",
          "plot_bgcolor": "#E5ECF6",
          "polar": {
           "angularaxis": {
            "gridcolor": "white",
            "linecolor": "white",
            "ticks": ""
           },
           "bgcolor": "#E5ECF6",
           "radialaxis": {
            "gridcolor": "white",
            "linecolor": "white",
            "ticks": ""
           }
          },
          "scene": {
           "xaxis": {
            "backgroundcolor": "#E5ECF6",
            "gridcolor": "white",
            "gridwidth": 2,
            "linecolor": "white",
            "showbackground": true,
            "ticks": "",
            "zerolinecolor": "white"
           },
           "yaxis": {
            "backgroundcolor": "#E5ECF6",
            "gridcolor": "white",
            "gridwidth": 2,
            "linecolor": "white",
            "showbackground": true,
            "ticks": "",
            "zerolinecolor": "white"
           },
           "zaxis": {
            "backgroundcolor": "#E5ECF6",
            "gridcolor": "white",
            "gridwidth": 2,
            "linecolor": "white",
            "showbackground": true,
            "ticks": "",
            "zerolinecolor": "white"
           }
          },
          "shapedefaults": {
           "line": {
            "color": "#2a3f5f"
           }
          },
          "ternary": {
           "aaxis": {
            "gridcolor": "white",
            "linecolor": "white",
            "ticks": ""
           },
           "baxis": {
            "gridcolor": "white",
            "linecolor": "white",
            "ticks": ""
           },
           "bgcolor": "#E5ECF6",
           "caxis": {
            "gridcolor": "white",
            "linecolor": "white",
            "ticks": ""
           }
          },
          "title": {
           "x": 0.05
          },
          "xaxis": {
           "automargin": true,
           "gridcolor": "white",
           "linecolor": "white",
           "ticks": "",
           "title": {
            "standoff": 15
           },
           "zerolinecolor": "white",
           "zerolinewidth": 2
          },
          "yaxis": {
           "automargin": true,
           "gridcolor": "white",
           "linecolor": "white",
           "ticks": "",
           "title": {
            "standoff": 15
           },
           "zerolinecolor": "white",
           "zerolinewidth": 2
          }
         }
        },
        "title": {
         "text": "Methane Emissions by Region and Segment"
        }
       }
      },
      "text/html": [
       "<div>                            <div id=\"a6341a42-7cf6-46cd-938a-a073d80b0408\" class=\"plotly-graph-div\" style=\"height:525px; width:100%;\"></div>            <script type=\"text/javascript\">                require([\"plotly\"], function(Plotly) {                    window.PLOTLYENV=window.PLOTLYENV || {};                                    if (document.getElementById(\"a6341a42-7cf6-46cd-938a-a073d80b0408\")) {                    Plotly.newPlot(                        \"a6341a42-7cf6-46cd-938a-a073d80b0408\",                        [{\"branchvalues\":\"total\",\"customdata\":[[718.8423636796163],[904.3566076127894],[176.78690389788517],[381.08166847270553],[4.569557500610923],[181.7874777012428],[1187.4720458984375],[27.361416368853835],[50.232312532953166],[4526.467972081663],[25.475299835205085],[275.19590451106995],[35.70140075683594],[752.9033507897442],[17.066499710083008],[1718.5423716160499],[81.68971116081119],[231.85565653150752],[76.43962507023836],[201.579802097589],[226.2271730583002],[1284.6512400149138],[62.285736459345],[773.4954837187456],[82.56495882359123],[91.73191356552191],[53.84774430141626],[15.757270501274709],[447.09696806017286],[31.944286471337858],[3.1931159824285853],[60.36195636890841],[330.8585898465231],[137.40282822981874],[688.4672830414737],[34.09489526940812],[501.9904515473799],[334.3860513756222],[0.02435662950716012],[179.37401050774739],[270.463722338821],[284.7400702000724],[150.17264534339554],[53.382742245591096],[121.6684855095799],[2727.486872722982],[14.53141070034098],[1711.847028872216],[632.5174079548602],[480.98705262581854],[833.2147003829315],[47.85236663730301],[1080.0948246364571],[2980.605386366378],[78.79915614955034],[3162.7870205278296],[41.23674942654571],[661.8016943794485],[2.3055107105834356],[113.28146018318199],[0.664649291236104],[19.796921776106974],[35.80628967285156],[64.10408085911644],[11.733201594691257],[213.24915120076898],[32.37948117160548],[102.73497550937402],[47.80389439212605],[485.1084893734875],[28.12497329711914],[77.80590866830866],[62.69444444444444],[8.341111258651004],[27.299999237060547],[3.900000095367432],[45.074554247702835],[357.6000061035156],[1180.5969111287511],[1006.7608351805104],[10845.736031273562],[345.15363024598366],[328.4562592991493],[0.5593019723892212],[1136.2769387323901],[838.1268920898438],[2202.2243929305628],[543.1586365929181],[6662.18596117644],[565.0150817942601],[234.68195737062558],[778.1860623807323],[2114.8488862812424],[882.2091092573914],[1969.8762743033685]],\"domain\":{\"x\":[0.0,1.0],\"y\":[0.0,1.0]},\"hovertemplate\":\"labels=%{label}<br>emissions_sum=%{value}<br>parent=%{parent}<br>id=%{id}<br>emissions=%{color}<extra></extra>\",\"ids\":[\"Africa/Bioenergy\",\"Asia Pacific/Bioenergy\",\"Central and South America/Bioenergy\",\"Europe/Bioenergy\",\"Middle East/Bioenergy\",\"North America/Bioenergy\",\"Other/Bioenergy\",\"Russia & Caspian/Bioenergy\",\"Africa/Coking coal\",\"Asia Pacific/Coking coal\",\"Central and South America/Coking coal\",\"Europe/Coking coal\",\"Middle East/Coking coal\",\"North America/Coking coal\",\"Other/Coking coal\",\"Russia & Caspian/Coking coal\",\"Africa/Gas pipelines and LNG facilities\",\"Asia Pacific/Gas pipelines and LNG facilities\",\"Central and South America/Gas pipelines and LNG facilities\",\"Europe/Gas pipelines and LNG facilities\",\"Middle East/Gas pipelines and LNG facilities\",\"North America/Gas pipelines and LNG facilities\",\"Other/Gas pipelines and LNG facilities\",\"Russia & Caspian/Gas pipelines and LNG facilities\",\"Africa/Offshore gas\",\"Asia Pacific/Offshore gas\",\"Central and South America/Offshore gas\",\"Europe/Offshore gas\",\"Middle East/Offshore gas\",\"North America/Offshore gas\",\"Other/Offshore gas\",\"Russia & Caspian/Offshore gas\",\"Africa/Offshore oil\",\"Asia Pacific/Offshore oil\",\"Central and South America/Offshore oil\",\"Europe/Offshore oil\",\"Middle East/Offshore oil\",\"North America/Offshore oil\",\"Other/Offshore oil\",\"Russia & Caspian/Offshore oil\",\"Africa/Onshore gas\",\"Asia Pacific/Onshore gas\",\"Central and South America/Onshore gas\",\"Europe/Onshore gas\",\"Middle East/Onshore gas\",\"North America/Onshore gas\",\"Other/Onshore gas\",\"Russia & Caspian/Onshore gas\",\"Africa/Onshore oil\",\"Asia Pacific/Onshore oil\",\"Central and South America/Onshore oil\",\"Europe/Onshore oil\",\"Middle East/Onshore oil\",\"North America/Onshore oil\",\"Other/Onshore oil\",\"Russia & Caspian/Onshore oil\",\"Africa/Other from coal\",\"Asia Pacific/Other from coal\",\"Central and South America/Other from coal\",\"Europe/Other from coal\",\"Middle East/Other from coal\",\"North America/Other from coal\",\"Other/Other from coal\",\"Russia & Caspian/Other from coal\",\"Africa/Other from oil and gas\",\"Asia Pacific/Other from oil and gas\",\"Central and South America/Other from oil and gas\",\"Europe/Other from oil and gas\",\"Middle East/Other from oil and gas\",\"North America/Other from oil and gas\",\"Other/Other from oil and gas\",\"Russia & Caspian/Other from oil and gas\",\"Africa/Satellite-detected large oil and gas emissions\",\"Asia Pacific/Satellite-detected large oil and gas emissions\",\"Central and South America/Satellite-detected large oil and gas emissions\",\"Europe/Satellite-detected large oil and gas emissions\",\"Middle East/Satellite-detected large oil and gas emissions\",\"North America/Satellite-detected large oil and gas emissions\",\"Russia & Caspian/Satellite-detected large oil and gas emissions\",\"Africa/Steam coal\",\"Asia Pacific/Steam coal\",\"Central and South America/Steam coal\",\"Europe/Steam coal\",\"Middle East/Steam coal\",\"North America/Steam coal\",\"Other/Steam coal\",\"Russia & Caspian/Steam coal\",\"Africa\",\"Asia Pacific\",\"Central and South America\",\"Europe\",\"Middle East\",\"North America\",\"Other\",\"Russia & Caspian\"],\"labels\":[\"Bioenergy\",\"Bioenergy\",\"Bioenergy\",\"Bioenergy\",\"Bioenergy\",\"Bioenergy\",\"Bioenergy\",\"Bioenergy\",\"Coking coal\",\"Coking coal\",\"Coking coal\",\"Coking coal\",\"Coking coal\",\"Coking coal\",\"Coking coal\",\"Coking coal\",\"Gas pipelines and LNG facilities\",\"Gas pipelines and LNG facilities\",\"Gas pipelines and LNG facilities\",\"Gas pipelines and LNG facilities\",\"Gas pipelines and LNG facilities\",\"Gas pipelines and LNG facilities\",\"Gas pipelines and LNG facilities\",\"Gas pipelines and LNG facilities\",\"Offshore gas\",\"Offshore gas\",\"Offshore gas\",\"Offshore gas\",\"Offshore gas\",\"Offshore gas\",\"Offshore gas\",\"Offshore gas\",\"Offshore oil\",\"Offshore oil\",\"Offshore oil\",\"Offshore oil\",\"Offshore oil\",\"Offshore oil\",\"Offshore oil\",\"Offshore oil\",\"Onshore gas\",\"Onshore gas\",\"Onshore gas\",\"Onshore gas\",\"Onshore gas\",\"Onshore gas\",\"Onshore gas\",\"Onshore gas\",\"Onshore oil\",\"Onshore oil\",\"Onshore oil\",\"Onshore oil\",\"Onshore oil\",\"Onshore oil\",\"Onshore oil\",\"Onshore oil\",\"Other from coal\",\"Other from coal\",\"Other from coal\",\"Other from coal\",\"Other from coal\",\"Other from coal\",\"Other from coal\",\"Other from coal\",\"Other from oil and gas\",\"Other from oil and gas\",\"Other from oil and gas\",\"Other from oil and gas\",\"Other from oil and gas\",\"Other from oil and gas\",\"Other from oil and gas\",\"Other from oil and gas\",\"Satellite-detected large oil and gas emissions\",\"Satellite-detected large oil and gas emissions\",\"Satellite-detected large oil and gas emissions\",\"Satellite-detected large oil and gas emissions\",\"Satellite-detected large oil and gas emissions\",\"Satellite-detected large oil and gas emissions\",\"Satellite-detected large oil and gas emissions\",\"Steam coal\",\"Steam coal\",\"Steam coal\",\"Steam coal\",\"Steam coal\",\"Steam coal\",\"Steam coal\",\"Steam coal\",\"Africa\",\"Asia Pacific\",\"Central and South America\",\"Europe\",\"Middle East\",\"North America\",\"Other\",\"Russia & Caspian\"],\"marker\":{\"coloraxis\":\"coloraxis\",\"colors\":[718.8423636796163,904.3566076127894,176.78690389788517,381.08166847270553,4.569557500610923,181.7874777012428,1187.4720458984375,27.361416368853835,50.232312532953166,4526.467972081663,25.475299835205085,275.19590451106995,35.70140075683594,752.9033507897442,17.066499710083008,1718.5423716160499,81.68971116081119,231.85565653150752,76.43962507023836,201.579802097589,226.2271730583002,1284.6512400149138,62.285736459345,773.4954837187456,82.56495882359123,91.73191356552191,53.84774430141626,15.757270501274709,447.09696806017286,31.944286471337858,3.1931159824285853,60.36195636890841,330.8585898465231,137.40282822981874,688.4672830414737,34.09489526940812,501.9904515473799,334.3860513756222,0.02435662950716012,179.37401050774739,270.463722338821,284.7400702000724,150.17264534339554,53.382742245591096,121.6684855095799,2727.486872722982,14.53141070034098,1711.847028872216,632.5174079548602,480.98705262581854,833.2147003829315,47.85236663730301,1080.0948246364571,2980.605386366378,78.79915614955034,3162.7870205278296,41.23674942654571,661.8016943794485,2.3055107105834356,113.28146018318199,0.664649291236104,19.796921776106974,35.80628967285156,64.10408085911644,11.733201594691257,213.24915120076898,32.37948117160548,102.73497550937402,47.80389439212605,485.1084893734875,28.12497329711914,77.80590866830866,62.69444444444444,8.341111258651004,27.299999237060547,3.900000095367432,45.074554247702835,357.6000061035156,1180.5969111287511,1006.7608351805104,10845.736031273562,345.15363024598366,328.4562592991493,0.5593019723892212,1136.2769387323901,838.1268920898438,2202.2243929305628,543.1586365929181,6662.18596117644,565.0150817942601,234.68195737062558,778.1860623807323,2114.8488862812424,882.2091092573914,1969.8762743033685]},\"name\":\"\",\"parents\":[\"Africa\",\"Asia Pacific\",\"Central and South America\",\"Europe\",\"Middle East\",\"North America\",\"Other\",\"Russia & Caspian\",\"Africa\",\"Asia Pacific\",\"Central and South America\",\"Europe\",\"Middle East\",\"North America\",\"Other\",\"Russia & Caspian\",\"Africa\",\"Asia Pacific\",\"Central and South America\",\"Europe\",\"Middle East\",\"North America\",\"Other\",\"Russia & Caspian\",\"Africa\",\"Asia Pacific\",\"Central and South America\",\"Europe\",\"Middle East\",\"North America\",\"Other\",\"Russia & Caspian\",\"Africa\",\"Asia Pacific\",\"Central and South America\",\"Europe\",\"Middle East\",\"North America\",\"Other\",\"Russia & Caspian\",\"Africa\",\"Asia Pacific\",\"Central and South America\",\"Europe\",\"Middle East\",\"North America\",\"Other\",\"Russia & Caspian\",\"Africa\",\"Asia Pacific\",\"Central and South America\",\"Europe\",\"Middle East\",\"North America\",\"Other\",\"Russia & Caspian\",\"Africa\",\"Asia Pacific\",\"Central and South America\",\"Europe\",\"Middle East\",\"North America\",\"Other\",\"Russia & Caspian\",\"Africa\",\"Asia Pacific\",\"Central and South America\",\"Europe\",\"Middle East\",\"North America\",\"Other\",\"Russia & Caspian\",\"Africa\",\"Asia Pacific\",\"Central and South America\",\"Europe\",\"Middle East\",\"North America\",\"Russia & Caspian\",\"Africa\",\"Asia Pacific\",\"Central and South America\",\"Europe\",\"Middle East\",\"North America\",\"Other\",\"Russia & Caspian\",\"\",\"\",\"\",\"\",\"\",\"\",\"\",\"\"],\"values\":[2948.11202929914,3456.3639911413193,354.21199092268944,1592.1999818086624,9.655999910086393,348.9199981689453,1187.4720458984375,29.472000455483794,88.29019927978516,6671.294979095459,25.47529983520508,642.4851621389389,35.70140075683594,918.8790855407715,17.066499710083008,1913.9650573730466,635.7206603847444,2265.579352617264,599.9649664126337,1714.1594553813338,1360.741253376007,3224.3882751464844,114.00376892089844,2724.4659948349,486.39373986423016,1060.7053881287575,325.5057812035084,148.18582138512284,1824.2254307717085,111.66438076645136,5.620730042457579,380.0955047607422,2232.324178306386,776.787482346408,1289.8004188500345,146.38957866979763,1947.3134101629257,1001.8004970550537,0.028835613338742197,955.1674590110779,1073.1618391359225,1509.0012030899525,751.7600395083427,363.6694374021608,1150.6298131793737,6680.345411300659,25.5791072845459,6543.4507220983505,4468.8914928676095,1890.6945101991296,3453.331796333194,266.7061402415857,9633.234406337142,6346.88267993927,169.05092096328735,8103.991293430328,44.484001331496984,988.2669673673809,4.1663658688776195,464.6865867078304,1.3120796643197534,24.79606431722641,35.80628967285156,135.82365942001343,98.28119658166543,755.8738211393356,120.38978591561317,490.25170052051544,172.63882112503052,682.3980941772461,28.12497329711914,145.21930599212646,72.0,18.00000023841858,27.299999237060547,7.800000190734864,134.4000016450882,357.6000061035156,2489.2999992370605,1120.2797584533691,22227.517842829227,371.2563014328479,1045.9436118677258,0.5593019723892212,1201.6836290359497,838.1268920898438,3241.906005859375,13267.93909550435,41620.08553819265,7323.162745520007,6882.477476314409,16270.411918900907,20899.358121551573,2420.880063492863,26662.857002472505],\"type\":\"sunburst\"}],                        {\"template\":{\"data\":{\"histogram2dcontour\":[{\"type\":\"histogram2dcontour\",\"colorbar\":{\"outlinewidth\":0,\"ticks\":\"\"},\"colorscale\":[[0.0,\"#0d0887\"],[0.1111111111111111,\"#46039f\"],[0.2222222222222222,\"#7201a8\"],[0.3333333333333333,\"#9c179e\"],[0.4444444444444444,\"#bd3786\"],[0.5555555555555556,\"#d8576b\"],[0.6666666666666666,\"#ed7953\"],[0.7777777777777778,\"#fb9f3a\"],[0.8888888888888888,\"#fdca26\"],[1.0,\"#f0f921\"]]}],\"choropleth\":[{\"type\":\"choropleth\",\"colorbar\":{\"outlinewidth\":0,\"ticks\":\"\"}}],\"histogram2d\":[{\"type\":\"histogram2d\",\"colorbar\":{\"outlinewidth\":0,\"ticks\":\"\"},\"colorscale\":[[0.0,\"#0d0887\"],[0.1111111111111111,\"#46039f\"],[0.2222222222222222,\"#7201a8\"],[0.3333333333333333,\"#9c179e\"],[0.4444444444444444,\"#bd3786\"],[0.5555555555555556,\"#d8576b\"],[0.6666666666666666,\"#ed7953\"],[0.7777777777777778,\"#fb9f3a\"],[0.8888888888888888,\"#fdca26\"],[1.0,\"#f0f921\"]]}],\"heatmap\":[{\"type\":\"heatmap\",\"colorbar\":{\"outlinewidth\":0,\"ticks\":\"\"},\"colorscale\":[[0.0,\"#0d0887\"],[0.1111111111111111,\"#46039f\"],[0.2222222222222222,\"#7201a8\"],[0.3333333333333333,\"#9c179e\"],[0.4444444444444444,\"#bd3786\"],[0.5555555555555556,\"#d8576b\"],[0.6666666666666666,\"#ed7953\"],[0.7777777777777778,\"#fb9f3a\"],[0.8888888888888888,\"#fdca26\"],[1.0,\"#f0f921\"]]}],\"heatmapgl\":[{\"type\":\"heatmapgl\",\"colorbar\":{\"outlinewidth\":0,\"ticks\":\"\"},\"colorscale\":[[0.0,\"#0d0887\"],[0.1111111111111111,\"#46039f\"],[0.2222222222222222,\"#7201a8\"],[0.3333333333333333,\"#9c179e\"],[0.4444444444444444,\"#bd3786\"],[0.5555555555555556,\"#d8576b\"],[0.6666666666666666,\"#ed7953\"],[0.7777777777777778,\"#fb9f3a\"],[0.8888888888888888,\"#fdca26\"],[1.0,\"#f0f921\"]]}],\"contourcarpet\":[{\"type\":\"contourcarpet\",\"colorbar\":{\"outlinewidth\":0,\"ticks\":\"\"}}],\"contour\":[{\"type\":\"contour\",\"colorbar\":{\"outlinewidth\":0,\"ticks\":\"\"},\"colorscale\":[[0.0,\"#0d0887\"],[0.1111111111111111,\"#46039f\"],[0.2222222222222222,\"#7201a8\"],[0.3333333333333333,\"#9c179e\"],[0.4444444444444444,\"#bd3786\"],[0.5555555555555556,\"#d8576b\"],[0.6666666666666666,\"#ed7953\"],[0.7777777777777778,\"#fb9f3a\"],[0.8888888888888888,\"#fdca26\"],[1.0,\"#f0f921\"]]}],\"surface\":[{\"type\":\"surface\",\"colorbar\":{\"outlinewidth\":0,\"ticks\":\"\"},\"colorscale\":[[0.0,\"#0d0887\"],[0.1111111111111111,\"#46039f\"],[0.2222222222222222,\"#7201a8\"],[0.3333333333333333,\"#9c179e\"],[0.4444444444444444,\"#bd3786\"],[0.5555555555555556,\"#d8576b\"],[0.6666666666666666,\"#ed7953\"],[0.7777777777777778,\"#fb9f3a\"],[0.8888888888888888,\"#fdca26\"],[1.0,\"#f0f921\"]]}],\"mesh3d\":[{\"type\":\"mesh3d\",\"colorbar\":{\"outlinewidth\":0,\"ticks\":\"\"}}],\"scatter\":[{\"fillpattern\":{\"fillmode\":\"overlay\",\"size\":10,\"solidity\":0.2},\"type\":\"scatter\"}],\"parcoords\":[{\"type\":\"parcoords\",\"line\":{\"colorbar\":{\"outlinewidth\":0,\"ticks\":\"\"}}}],\"scatterpolargl\":[{\"type\":\"scatterpolargl\",\"marker\":{\"colorbar\":{\"outlinewidth\":0,\"ticks\":\"\"}}}],\"bar\":[{\"error_x\":{\"color\":\"#2a3f5f\"},\"error_y\":{\"color\":\"#2a3f5f\"},\"marker\":{\"line\":{\"color\":\"#E5ECF6\",\"width\":0.5},\"pattern\":{\"fillmode\":\"overlay\",\"size\":10,\"solidity\":0.2}},\"type\":\"bar\"}],\"scattergeo\":[{\"type\":\"scattergeo\",\"marker\":{\"colorbar\":{\"outlinewidth\":0,\"ticks\":\"\"}}}],\"scatterpolar\":[{\"type\":\"scatterpolar\",\"marker\":{\"colorbar\":{\"outlinewidth\":0,\"ticks\":\"\"}}}],\"histogram\":[{\"marker\":{\"pattern\":{\"fillmode\":\"overlay\",\"size\":10,\"solidity\":0.2}},\"type\":\"histogram\"}],\"scattergl\":[{\"type\":\"scattergl\",\"marker\":{\"colorbar\":{\"outlinewidth\":0,\"ticks\":\"\"}}}],\"scatter3d\":[{\"type\":\"scatter3d\",\"line\":{\"colorbar\":{\"outlinewidth\":0,\"ticks\":\"\"}},\"marker\":{\"colorbar\":{\"outlinewidth\":0,\"ticks\":\"\"}}}],\"scattermapbox\":[{\"type\":\"scattermapbox\",\"marker\":{\"colorbar\":{\"outlinewidth\":0,\"ticks\":\"\"}}}],\"scatterternary\":[{\"type\":\"scatterternary\",\"marker\":{\"colorbar\":{\"outlinewidth\":0,\"ticks\":\"\"}}}],\"scattercarpet\":[{\"type\":\"scattercarpet\",\"marker\":{\"colorbar\":{\"outlinewidth\":0,\"ticks\":\"\"}}}],\"carpet\":[{\"aaxis\":{\"endlinecolor\":\"#2a3f5f\",\"gridcolor\":\"white\",\"linecolor\":\"white\",\"minorgridcolor\":\"white\",\"startlinecolor\":\"#2a3f5f\"},\"baxis\":{\"endlinecolor\":\"#2a3f5f\",\"gridcolor\":\"white\",\"linecolor\":\"white\",\"minorgridcolor\":\"white\",\"startlinecolor\":\"#2a3f5f\"},\"type\":\"carpet\"}],\"table\":[{\"cells\":{\"fill\":{\"color\":\"#EBF0F8\"},\"line\":{\"color\":\"white\"}},\"header\":{\"fill\":{\"color\":\"#C8D4E3\"},\"line\":{\"color\":\"white\"}},\"type\":\"table\"}],\"barpolar\":[{\"marker\":{\"line\":{\"color\":\"#E5ECF6\",\"width\":0.5},\"pattern\":{\"fillmode\":\"overlay\",\"size\":10,\"solidity\":0.2}},\"type\":\"barpolar\"}],\"pie\":[{\"automargin\":true,\"type\":\"pie\"}]},\"layout\":{\"autotypenumbers\":\"strict\",\"colorway\":[\"#636efa\",\"#EF553B\",\"#00cc96\",\"#ab63fa\",\"#FFA15A\",\"#19d3f3\",\"#FF6692\",\"#B6E880\",\"#FF97FF\",\"#FECB52\"],\"font\":{\"color\":\"#2a3f5f\"},\"hovermode\":\"closest\",\"hoverlabel\":{\"align\":\"left\"},\"paper_bgcolor\":\"white\",\"plot_bgcolor\":\"#E5ECF6\",\"polar\":{\"bgcolor\":\"#E5ECF6\",\"angularaxis\":{\"gridcolor\":\"white\",\"linecolor\":\"white\",\"ticks\":\"\"},\"radialaxis\":{\"gridcolor\":\"white\",\"linecolor\":\"white\",\"ticks\":\"\"}},\"ternary\":{\"bgcolor\":\"#E5ECF6\",\"aaxis\":{\"gridcolor\":\"white\",\"linecolor\":\"white\",\"ticks\":\"\"},\"baxis\":{\"gridcolor\":\"white\",\"linecolor\":\"white\",\"ticks\":\"\"},\"caxis\":{\"gridcolor\":\"white\",\"linecolor\":\"white\",\"ticks\":\"\"}},\"coloraxis\":{\"colorbar\":{\"outlinewidth\":0,\"ticks\":\"\"}},\"colorscale\":{\"sequential\":[[0.0,\"#0d0887\"],[0.1111111111111111,\"#46039f\"],[0.2222222222222222,\"#7201a8\"],[0.3333333333333333,\"#9c179e\"],[0.4444444444444444,\"#bd3786\"],[0.5555555555555556,\"#d8576b\"],[0.6666666666666666,\"#ed7953\"],[0.7777777777777778,\"#fb9f3a\"],[0.8888888888888888,\"#fdca26\"],[1.0,\"#f0f921\"]],\"sequentialminus\":[[0.0,\"#0d0887\"],[0.1111111111111111,\"#46039f\"],[0.2222222222222222,\"#7201a8\"],[0.3333333333333333,\"#9c179e\"],[0.4444444444444444,\"#bd3786\"],[0.5555555555555556,\"#d8576b\"],[0.6666666666666666,\"#ed7953\"],[0.7777777777777778,\"#fb9f3a\"],[0.8888888888888888,\"#fdca26\"],[1.0,\"#f0f921\"]],\"diverging\":[[0,\"#8e0152\"],[0.1,\"#c51b7d\"],[0.2,\"#de77ae\"],[0.3,\"#f1b6da\"],[0.4,\"#fde0ef\"],[0.5,\"#f7f7f7\"],[0.6,\"#e6f5d0\"],[0.7,\"#b8e186\"],[0.8,\"#7fbc41\"],[0.9,\"#4d9221\"],[1,\"#276419\"]]},\"xaxis\":{\"gridcolor\":\"white\",\"linecolor\":\"white\",\"ticks\":\"\",\"title\":{\"standoff\":15},\"zerolinecolor\":\"white\",\"automargin\":true,\"zerolinewidth\":2},\"yaxis\":{\"gridcolor\":\"white\",\"linecolor\":\"white\",\"ticks\":\"\",\"title\":{\"standoff\":15},\"zerolinecolor\":\"white\",\"automargin\":true,\"zerolinewidth\":2},\"scene\":{\"xaxis\":{\"backgroundcolor\":\"#E5ECF6\",\"gridcolor\":\"white\",\"linecolor\":\"white\",\"showbackground\":true,\"ticks\":\"\",\"zerolinecolor\":\"white\",\"gridwidth\":2},\"yaxis\":{\"backgroundcolor\":\"#E5ECF6\",\"gridcolor\":\"white\",\"linecolor\":\"white\",\"showbackground\":true,\"ticks\":\"\",\"zerolinecolor\":\"white\",\"gridwidth\":2},\"zaxis\":{\"backgroundcolor\":\"#E5ECF6\",\"gridcolor\":\"white\",\"linecolor\":\"white\",\"showbackground\":true,\"ticks\":\"\",\"zerolinecolor\":\"white\",\"gridwidth\":2}},\"shapedefaults\":{\"line\":{\"color\":\"#2a3f5f\"}},\"annotationdefaults\":{\"arrowcolor\":\"#2a3f5f\",\"arrowhead\":0,\"arrowwidth\":1},\"geo\":{\"bgcolor\":\"white\",\"landcolor\":\"#E5ECF6\",\"subunitcolor\":\"white\",\"showland\":true,\"showlakes\":true,\"lakecolor\":\"white\"},\"title\":{\"x\":0.05},\"mapbox\":{\"style\":\"light\"}}},\"coloraxis\":{\"colorbar\":{\"title\":{\"text\":\"emissions\"}},\"colorscale\":[[0.0,\"rgb(255,255,204)\"],[0.125,\"rgb(255,237,160)\"],[0.25,\"rgb(254,217,118)\"],[0.375,\"rgb(254,178,76)\"],[0.5,\"rgb(253,141,60)\"],[0.625,\"rgb(252,78,42)\"],[0.75,\"rgb(227,26,28)\"],[0.875,\"rgb(189,0,38)\"],[1.0,\"rgb(128,0,38)\"]]},\"legend\":{\"tracegroupgap\":0},\"title\":{\"text\":\"Methane Emissions by Region and Segment\"}},                        {\"responsive\": true}                    ).then(function(){\n",
       "                            \n",
       "var gd = document.getElementById('a6341a42-7cf6-46cd-938a-a073d80b0408');\n",
       "var x = new MutationObserver(function (mutations, observer) {{\n",
       "        var display = window.getComputedStyle(gd).display;\n",
       "        if (!display || display === 'none') {{\n",
       "            console.log([gd, 'removed!']);\n",
       "            Plotly.purge(gd);\n",
       "            observer.disconnect();\n",
       "        }}\n",
       "}});\n",
       "\n",
       "// Listen for the removal of the full notebook cells\n",
       "var notebookContainer = gd.closest('#notebook-container');\n",
       "if (notebookContainer) {{\n",
       "    x.observe(notebookContainer, {childList: true});\n",
       "}}\n",
       "\n",
       "// Listen for the clearing of the current output cell\n",
       "var outputEl = gd.closest('.output');\n",
       "if (outputEl) {{\n",
       "    x.observe(outputEl, {childList: true});\n",
       "}}\n",
       "\n",
       "                        })                };                });            </script>        </div>"
      ]
     },
     "metadata": {},
     "output_type": "display_data"
    }
   ],
   "source": [
    "# Creating a region and segment sunburst chart\n",
    "energy_regions = countries[(countries['type'] == 'Energy') & (countries['segment'] != 'Total')]\n",
    "regions_sb = px.sunburst(energy_regions, path = ['region', 'segment'], \n",
    "                                         values = 'emissions',\n",
    "                                         title = 'Methane Emissions by Region and Segment',\n",
    "                                         color = 'emissions', \n",
    "                                         color_continuous_scale = 'YlOrRd')\n",
    "regions_sb.show()"
   ]
  },
  {
   "cell_type": "code",
   "execution_count": 22,
   "id": "983d42ac",
   "metadata": {},
   "outputs": [
    {
     "name": "stdout",
     "output_type": "stream",
     "text": [
      "country\n",
      "China             81048.371586\n",
      "United States     48604.877296\n",
      "Russia            42432.929804\n",
      "India             34852.007386\n",
      "Brazil            21720.838126\n",
      "Indonesia         19404.469000\n",
      "European Union    18985.173461\n",
      "Other             15997.357175\n",
      "Iran              13030.685366\n",
      "Nigeria            9903.895667\n",
      "Name: emissions, dtype: float64\n"
     ]
    }
   ],
   "source": [
    "# Finding the top 10 countries by emissions\n",
    "top_countries = countries.groupby('country')['emissions'].sum().sort_values(ascending=False).head(10)\n",
    "print(top_countries)"
   ]
  },
  {
   "cell_type": "code",
   "execution_count": 23,
   "id": "1e096a29",
   "metadata": {},
   "outputs": [
    {
     "data": {
      "text/html": [
       "<div>\n",
       "<style scoped>\n",
       "    .dataframe tbody tr th:only-of-type {\n",
       "        vertical-align: middle;\n",
       "    }\n",
       "\n",
       "    .dataframe tbody tr th {\n",
       "        vertical-align: top;\n",
       "    }\n",
       "\n",
       "    .dataframe thead th {\n",
       "        text-align: right;\n",
       "    }\n",
       "</style>\n",
       "<table border=\"1\" class=\"dataframe\">\n",
       "  <thead>\n",
       "    <tr style=\"text-align: right;\">\n",
       "      <th></th>\n",
       "      <th>type</th>\n",
       "      <th>segment</th>\n",
       "      <th>reason</th>\n",
       "      <th>emissions</th>\n",
       "      <th>baseYear</th>\n",
       "    </tr>\n",
       "  </thead>\n",
       "  <tbody>\n",
       "    <tr>\n",
       "      <th>0</th>\n",
       "      <td>Agriculture</td>\n",
       "      <td>Total</td>\n",
       "      <td>All</td>\n",
       "      <td>18501.914062</td>\n",
       "      <td>2019-2021</td>\n",
       "    </tr>\n",
       "    <tr>\n",
       "      <th>1</th>\n",
       "      <td>Energy</td>\n",
       "      <td>Bioenergy</td>\n",
       "      <td>All</td>\n",
       "      <td>984.200012</td>\n",
       "      <td>2022</td>\n",
       "    </tr>\n",
       "    <tr>\n",
       "      <th>2</th>\n",
       "      <td>Energy</td>\n",
       "      <td>Coking coal</td>\n",
       "      <td>All</td>\n",
       "      <td>5418.770020</td>\n",
       "      <td>2022</td>\n",
       "    </tr>\n",
       "    <tr>\n",
       "      <th>3</th>\n",
       "      <td>Energy</td>\n",
       "      <td>Gas pipelines and LNG facilities</td>\n",
       "      <td>Fugitive</td>\n",
       "      <td>552.119995</td>\n",
       "      <td>2022</td>\n",
       "    </tr>\n",
       "    <tr>\n",
       "      <th>4</th>\n",
       "      <td>Energy</td>\n",
       "      <td>Gas pipelines and LNG facilities</td>\n",
       "      <td>Vented</td>\n",
       "      <td>294.390991</td>\n",
       "      <td>2022</td>\n",
       "    </tr>\n",
       "  </tbody>\n",
       "</table>\n",
       "</div>"
      ],
      "text/plain": [
       "          type                           segment    reason     emissions  \\\n",
       "0  Agriculture                             Total       All  18501.914062   \n",
       "1       Energy                         Bioenergy       All    984.200012   \n",
       "2       Energy                       Coking coal       All   5418.770020   \n",
       "3       Energy  Gas pipelines and LNG facilities  Fugitive    552.119995   \n",
       "4       Energy  Gas pipelines and LNG facilities    Vented    294.390991   \n",
       "\n",
       "    baseYear  \n",
       "0  2019-2021  \n",
       "1       2022  \n",
       "2       2022  \n",
       "3       2022  \n",
       "4       2022  "
      ]
     },
     "execution_count": 23,
     "metadata": {},
     "output_type": "execute_result"
    }
   ],
   "source": [
    "# Pulling all data from China\n",
    "china = emissions.loc[emissions['country'] == 'China']\n",
    "china = china[['type', 'segment', 'reason', 'emissions', 'baseYear']]\n",
    "china = china.reset_index(drop=True)\n",
    "china.head()"
   ]
  },
  {
   "cell_type": "code",
   "execution_count": 24,
   "id": "b46ff317",
   "metadata": {},
   "outputs": [
    {
     "data": {
      "text/html": [
       "<div>\n",
       "<style scoped>\n",
       "    .dataframe tbody tr th:only-of-type {\n",
       "        vertical-align: middle;\n",
       "    }\n",
       "\n",
       "    .dataframe tbody tr th {\n",
       "        vertical-align: top;\n",
       "    }\n",
       "\n",
       "    .dataframe thead th {\n",
       "        text-align: right;\n",
       "    }\n",
       "</style>\n",
       "<table border=\"1\" class=\"dataframe\">\n",
       "  <thead>\n",
       "    <tr style=\"text-align: right;\">\n",
       "      <th></th>\n",
       "      <th>emissions</th>\n",
       "    </tr>\n",
       "    <tr>\n",
       "      <th>type</th>\n",
       "      <th></th>\n",
       "    </tr>\n",
       "  </thead>\n",
       "  <tbody>\n",
       "    <tr>\n",
       "      <th>Energy</th>\n",
       "      <td>50744.444950</td>\n",
       "    </tr>\n",
       "    <tr>\n",
       "      <th>Agriculture</th>\n",
       "      <td>18501.914062</td>\n",
       "    </tr>\n",
       "    <tr>\n",
       "      <th>Waste</th>\n",
       "      <td>10424.141602</td>\n",
       "    </tr>\n",
       "    <tr>\n",
       "      <th>Other</th>\n",
       "      <td>1377.870972</td>\n",
       "    </tr>\n",
       "  </tbody>\n",
       "</table>\n",
       "</div>"
      ],
      "text/plain": [
       "                emissions\n",
       "type                     \n",
       "Energy       50744.444950\n",
       "Agriculture  18501.914062\n",
       "Waste        10424.141602\n",
       "Other         1377.870972"
      ]
     },
     "execution_count": 24,
     "metadata": {},
     "output_type": "execute_result"
    }
   ],
   "source": [
    "# Grouping China data by emission type\n",
    "china_types = china.groupby('type').sum().sort_values('emissions', ascending=False)\n",
    "china_types"
   ]
  },
  {
   "cell_type": "code",
   "execution_count": null,
   "id": "c56f8154",
   "metadata": {},
   "outputs": [],
   "source": []
  }
 ],
 "metadata": {
  "kernelspec": {
   "display_name": "PythonData",
   "language": "python",
   "name": "pythondata"
  },
  "language_info": {
   "codemirror_mode": {
    "name": "ipython",
    "version": 3
   },
   "file_extension": ".py",
   "mimetype": "text/x-python",
   "name": "python",
   "nbconvert_exporter": "python",
   "pygments_lexer": "ipython3",
   "version": "3.10.9"
  }
 },
 "nbformat": 4,
 "nbformat_minor": 5
}
