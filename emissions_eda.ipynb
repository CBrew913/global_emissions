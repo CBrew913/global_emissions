{
 "cells": [
  {
   "cell_type": "code",
   "execution_count": 22,
   "id": "0587e334",
   "metadata": {},
   "outputs": [],
   "source": [
    "import warnings\n",
    "warnings.filterwarnings('ignore')\n",
    "\n",
    "# Dependencies\n",
    "import pandas as pd\n",
    "import numpy as np\n",
    "import seaborn as sns\n",
    "import plotly.express as px\n",
    "import matplotlib.pyplot as plt\n",
    "\n",
    "filepath = \"resources/Methane_final.csv\""
   ]
  },
  {
   "cell_type": "code",
   "execution_count": 23,
   "id": "74b730d2",
   "metadata": {},
   "outputs": [
    {
     "data": {
      "text/html": [
       "<div>\n",
       "<style scoped>\n",
       "    .dataframe tbody tr th:only-of-type {\n",
       "        vertical-align: middle;\n",
       "    }\n",
       "\n",
       "    .dataframe tbody tr th {\n",
       "        vertical-align: top;\n",
       "    }\n",
       "\n",
       "    .dataframe thead th {\n",
       "        text-align: right;\n",
       "    }\n",
       "</style>\n",
       "<table border=\"1\" class=\"dataframe\">\n",
       "  <thead>\n",
       "    <tr style=\"text-align: right;\">\n",
       "      <th></th>\n",
       "      <th>region</th>\n",
       "      <th>country</th>\n",
       "      <th>emissions</th>\n",
       "      <th>type</th>\n",
       "      <th>segment</th>\n",
       "      <th>reason</th>\n",
       "      <th>baseYear</th>\n",
       "      <th>notes</th>\n",
       "    </tr>\n",
       "  </thead>\n",
       "  <tbody>\n",
       "    <tr>\n",
       "      <th>0</th>\n",
       "      <td>Africa</td>\n",
       "      <td>Algeria</td>\n",
       "      <td>257.611206</td>\n",
       "      <td>Agriculture</td>\n",
       "      <td>Total</td>\n",
       "      <td>All</td>\n",
       "      <td>2019-2021</td>\n",
       "      <td>Average based on United Nations Framework Conv...</td>\n",
       "    </tr>\n",
       "    <tr>\n",
       "      <th>1</th>\n",
       "      <td>Africa</td>\n",
       "      <td>Algeria</td>\n",
       "      <td>0.052000</td>\n",
       "      <td>Energy</td>\n",
       "      <td>Bioenergy</td>\n",
       "      <td>All</td>\n",
       "      <td>2022</td>\n",
       "      <td>Estimates from end-uses are for 2020 or 2021 (...</td>\n",
       "    </tr>\n",
       "    <tr>\n",
       "      <th>2</th>\n",
       "      <td>Africa</td>\n",
       "      <td>Algeria</td>\n",
       "      <td>130.798996</td>\n",
       "      <td>Energy</td>\n",
       "      <td>Gas pipelines and LNG facilities</td>\n",
       "      <td>Fugitive</td>\n",
       "      <td>2022</td>\n",
       "      <td>Not available</td>\n",
       "    </tr>\n",
       "    <tr>\n",
       "      <th>3</th>\n",
       "      <td>Africa</td>\n",
       "      <td>Algeria</td>\n",
       "      <td>69.741898</td>\n",
       "      <td>Energy</td>\n",
       "      <td>Gas pipelines and LNG facilities</td>\n",
       "      <td>Vented</td>\n",
       "      <td>2022</td>\n",
       "      <td>Not available</td>\n",
       "    </tr>\n",
       "    <tr>\n",
       "      <th>4</th>\n",
       "      <td>Africa</td>\n",
       "      <td>Algeria</td>\n",
       "      <td>213.987000</td>\n",
       "      <td>Energy</td>\n",
       "      <td>Onshore gas</td>\n",
       "      <td>Fugitive</td>\n",
       "      <td>2022</td>\n",
       "      <td>Not available</td>\n",
       "    </tr>\n",
       "  </tbody>\n",
       "</table>\n",
       "</div>"
      ],
      "text/plain": [
       "   region  country   emissions         type                           segment  \\\n",
       "0  Africa  Algeria  257.611206  Agriculture                             Total   \n",
       "1  Africa  Algeria    0.052000       Energy                         Bioenergy   \n",
       "2  Africa  Algeria  130.798996       Energy  Gas pipelines and LNG facilities   \n",
       "3  Africa  Algeria   69.741898       Energy  Gas pipelines and LNG facilities   \n",
       "4  Africa  Algeria  213.987000       Energy                       Onshore gas   \n",
       "\n",
       "     reason   baseYear                                              notes  \n",
       "0       All  2019-2021  Average based on United Nations Framework Conv...  \n",
       "1       All       2022  Estimates from end-uses are for 2020 or 2021 (...  \n",
       "2  Fugitive       2022                                      Not available  \n",
       "3    Vented       2022                                      Not available  \n",
       "4  Fugitive       2022                                      Not available  "
      ]
     },
     "execution_count": 23,
     "metadata": {},
     "output_type": "execute_result"
    }
   ],
   "source": [
    "# Read csv\n",
    "emissions = pd.read_csv(filepath, index_col=[0])\n",
    "emissions.head()"
   ]
  },
  {
   "cell_type": "code",
   "execution_count": 24,
   "id": "bbe2a935",
   "metadata": {},
   "outputs": [
    {
     "name": "stdout",
     "output_type": "stream",
     "text": [
      "<class 'pandas.core.frame.DataFrame'>\n",
      "Int64Index: 1548 entries, 0 to 1547\n",
      "Data columns (total 8 columns):\n",
      " #   Column     Non-Null Count  Dtype  \n",
      "---  ------     --------------  -----  \n",
      " 0   region     1548 non-null   object \n",
      " 1   country    1548 non-null   object \n",
      " 2   emissions  1548 non-null   float64\n",
      " 3   type       1548 non-null   object \n",
      " 4   segment    1548 non-null   object \n",
      " 5   reason     1548 non-null   object \n",
      " 6   baseYear   1548 non-null   object \n",
      " 7   notes      1548 non-null   object \n",
      "dtypes: float64(1), object(7)\n",
      "memory usage: 108.8+ KB\n"
     ]
    }
   ],
   "source": [
    "# region -\n",
    "# country - Country of Emission\n",
    "# emissions - Methane Emissions (kt)\n",
    "# type - Sector from which emissions occur\n",
    "# Segment- Sub-sector from which emissions occur\n",
    "# reason - The reason for the emission\n",
    "# baseYear - Base year for the tracking of emissions\n",
    "# notes - The source of data\n",
    "emissions.info()"
   ]
  },
  {
   "cell_type": "code",
   "execution_count": 25,
   "id": "5cde4fc5",
   "metadata": {},
   "outputs": [
    {
     "data": {
      "text/plain": [
       "877"
      ]
     },
     "execution_count": 25,
     "metadata": {},
     "output_type": "execute_result"
    }
   ],
   "source": [
    "# Evaluating notes column\n",
    "na = (emissions['notes'] == 'Not available').sum()\n",
    "na"
   ]
  },
  {
   "cell_type": "code",
   "execution_count": 26,
   "id": "92355d13",
   "metadata": {},
   "outputs": [
    {
     "data": {
      "text/plain": [
       "Energy         1233\n",
       "Agriculture     105\n",
       "Other           105\n",
       "Waste           105\n",
       "Name: type, dtype: int64"
      ]
     },
     "execution_count": 26,
     "metadata": {},
     "output_type": "execute_result"
    }
   ],
   "source": [
    "# Dropping notes column and evaluating type column\n",
    "emissions.drop('notes', axis=1, inplace=True)\n",
    "emissions['type'].value_counts()"
   ]
  },
  {
   "cell_type": "code",
   "execution_count": 27,
   "id": "a7527d2a",
   "metadata": {
    "scrolled": true
   },
   "outputs": [
    {
     "data": {
      "text/plain": [
       "Total                                             414\n",
       "Onshore oil                                       217\n",
       "Gas pipelines and LNG facilities                  164\n",
       "Offshore oil                                      159\n",
       "Onshore gas                                       144\n",
       "Offshore gas                                      118\n",
       "Other from oil and gas                             98\n",
       "Bioenergy                                          93\n",
       "Other from coal                                    66\n",
       "Steam coal                                         30\n",
       "Coking coal                                        24\n",
       "Satellite-detected large oil and gas emissions     21\n",
       "Name: segment, dtype: int64"
      ]
     },
     "execution_count": 27,
     "metadata": {},
     "output_type": "execute_result"
    }
   ],
   "source": [
    "# Evaluating segment column\n",
    "emissions['segment'].value_counts()"
   ]
  },
  {
   "cell_type": "code",
   "execution_count": 28,
   "id": "457ff509",
   "metadata": {},
   "outputs": [],
   "source": [
    "emissions = emissions[emissions['region'] != 'World']"
   ]
  },
  {
   "cell_type": "code",
   "execution_count": 29,
   "id": "670a5025",
   "metadata": {},
   "outputs": [
    {
     "data": {
      "text/html": [
       "<div>\n",
       "<style scoped>\n",
       "    .dataframe tbody tr th:only-of-type {\n",
       "        vertical-align: middle;\n",
       "    }\n",
       "\n",
       "    .dataframe tbody tr th {\n",
       "        vertical-align: top;\n",
       "    }\n",
       "\n",
       "    .dataframe thead th {\n",
       "        text-align: right;\n",
       "    }\n",
       "</style>\n",
       "<table border=\"1\" class=\"dataframe\">\n",
       "  <thead>\n",
       "    <tr style=\"text-align: right;\">\n",
       "      <th></th>\n",
       "      <th>region</th>\n",
       "      <th>country</th>\n",
       "      <th>emissions</th>\n",
       "      <th>type</th>\n",
       "      <th>segment</th>\n",
       "      <th>reason</th>\n",
       "      <th>baseYear</th>\n",
       "    </tr>\n",
       "  </thead>\n",
       "  <tbody>\n",
       "    <tr>\n",
       "      <th>1</th>\n",
       "      <td>Africa</td>\n",
       "      <td>Algeria</td>\n",
       "      <td>0.052000</td>\n",
       "      <td>Energy</td>\n",
       "      <td>Bioenergy</td>\n",
       "      <td>All</td>\n",
       "      <td>2022</td>\n",
       "    </tr>\n",
       "    <tr>\n",
       "      <th>2</th>\n",
       "      <td>Africa</td>\n",
       "      <td>Algeria</td>\n",
       "      <td>130.798996</td>\n",
       "      <td>Energy</td>\n",
       "      <td>Gas pipelines and LNG facilities</td>\n",
       "      <td>Fugitive</td>\n",
       "      <td>2022</td>\n",
       "    </tr>\n",
       "    <tr>\n",
       "      <th>3</th>\n",
       "      <td>Africa</td>\n",
       "      <td>Algeria</td>\n",
       "      <td>69.741898</td>\n",
       "      <td>Energy</td>\n",
       "      <td>Gas pipelines and LNG facilities</td>\n",
       "      <td>Vented</td>\n",
       "      <td>2022</td>\n",
       "    </tr>\n",
       "    <tr>\n",
       "      <th>4</th>\n",
       "      <td>Africa</td>\n",
       "      <td>Algeria</td>\n",
       "      <td>213.987000</td>\n",
       "      <td>Energy</td>\n",
       "      <td>Onshore gas</td>\n",
       "      <td>Fugitive</td>\n",
       "      <td>2022</td>\n",
       "    </tr>\n",
       "    <tr>\n",
       "      <th>5</th>\n",
       "      <td>Africa</td>\n",
       "      <td>Algeria</td>\n",
       "      <td>464.308014</td>\n",
       "      <td>Energy</td>\n",
       "      <td>Onshore gas</td>\n",
       "      <td>Vented</td>\n",
       "      <td>2022</td>\n",
       "    </tr>\n",
       "  </tbody>\n",
       "</table>\n",
       "</div>"
      ],
      "text/plain": [
       "   region  country   emissions    type                           segment  \\\n",
       "1  Africa  Algeria    0.052000  Energy                         Bioenergy   \n",
       "2  Africa  Algeria  130.798996  Energy  Gas pipelines and LNG facilities   \n",
       "3  Africa  Algeria   69.741898  Energy  Gas pipelines and LNG facilities   \n",
       "4  Africa  Algeria  213.987000  Energy                       Onshore gas   \n",
       "5  Africa  Algeria  464.308014  Energy                       Onshore gas   \n",
       "\n",
       "     reason baseYear  \n",
       "1       All     2022  \n",
       "2  Fugitive     2022  \n",
       "3    Vented     2022  \n",
       "4  Fugitive     2022  \n",
       "5    Vented     2022  "
      ]
     },
     "execution_count": 29,
     "metadata": {},
     "output_type": "execute_result"
    }
   ],
   "source": [
    "segment = emissions[emissions['segment'] != 'Total']\n",
    "segment.head()"
   ]
  },
  {
   "cell_type": "code",
   "execution_count": 34,
   "id": "aae9caef",
   "metadata": {},
   "outputs": [
    {
     "data": {
      "application/vnd.plotly.v1+json": {
       "config": {
        "plotlyServerURL": "https://plot.ly"
       },
       "data": [
        {
         "branchvalues": "total",
         "customdata": [
          [
           "Africa"
          ],
          [
           "Europe"
          ],
          [
           "Africa"
          ],
          [
           "Middle East"
          ],
          [
           "Russia & Caspian"
          ],
          [
           "Europe"
          ],
          [
           "Middle East"
          ],
          [
           "Europe"
          ],
          [
           "Asia Pacific"
          ],
          [
           "Central and South America"
          ],
          [
           "Central and South America"
          ],
          [
           "Africa"
          ],
          [
           "Asia Pacific"
          ],
          [
           "Europe"
          ],
          [
           "Europe"
          ],
          [
           "Europe"
          ],
          [
           "Other"
          ],
          [
           "Middle East"
          ],
          [
           "Europe"
          ],
          [
           "Africa"
          ],
          [
           "Africa"
          ],
          [
           "Asia Pacific"
          ],
          [
           "Europe"
          ],
          [
           "Asia Pacific"
          ],
          [
           "Africa"
          ],
          [
           "Africa"
          ],
          [
           "Africa"
          ],
          [
           "North America"
          ],
          [
           "Middle East"
          ],
          [
           "Europe"
          ],
          [
           "Central and South America"
          ],
          [
           "Asia Pacific"
          ],
          [
           "Africa"
          ],
          [
           "Middle East"
          ],
          [
           "Asia Pacific"
          ],
          [
           "Central and South America"
          ],
          [
           "Russia & Caspian"
          ],
          [
           "Central and South America"
          ],
          [
           "North America"
          ],
          [
           "Europe"
          ],
          [
           "Middle East"
          ],
          [
           "Europe"
          ],
          [
           "Russia & Caspian"
          ],
          [
           "Africa"
          ],
          [
           "Central and South America"
          ],
          [
           "Africa"
          ],
          [
           "Asia Pacific"
          ],
          [
           "Africa"
          ],
          [
           "Middle East"
          ],
          [
           "Europe"
          ],
          [
           "Africa"
          ],
          [
           "Africa"
          ],
          [
           "Africa"
          ],
          [
           "Asia Pacific"
          ],
          [
           "Africa"
          ],
          [
           "Central and South America"
          ],
          [
           "Europe"
          ],
          [
           "Africa"
          ],
          [
           "Central and South America"
          ],
          [
           "Africa"
          ],
          [
           "Africa"
          ],
          [
           "Central and South America"
          ],
          [
           "Asia Pacific"
          ],
          [
           "Africa"
          ],
          [
           "North America"
          ],
          [
           "Africa"
          ],
          [
           "Asia Pacific"
          ],
          [
           "Central and South America"
          ],
          [
           "Africa"
          ],
          [
           "Central and South America"
          ],
          [
           "Africa"
          ],
          [
           "Asia Pacific"
          ],
          [
           "Middle East"
          ],
          [
           "Russia & Caspian"
          ],
          [
           "Asia Pacific"
          ],
          [
           "Central and South America"
          ],
          [
           "Africa"
          ],
          [
           "Africa"
          ],
          [
           "Other"
          ],
          [
           "Africa"
          ],
          [
           "Africa"
          ],
          [
           "North America"
          ],
          [
           "Asia Pacific"
          ],
          [
           "Africa"
          ],
          [
           "Middle East"
          ],
          [
           "Middle East"
          ],
          [
           "Asia Pacific"
          ],
          [
           "Africa"
          ],
          [
           "Russia & Caspian"
          ],
          [
           "Middle East"
          ],
          [
           "Asia Pacific"
          ],
          [
           "Europe"
          ],
          [
           "Europe"
          ],
          [
           "Middle East"
          ],
          [
           "Middle East"
          ],
          [
           "Asia Pacific"
          ],
          [
           "Asia Pacific"
          ],
          [
           "Central and South America"
          ],
          [
           "Africa"
          ],
          [
           "Africa"
          ],
          [
           "Europe"
          ],
          [
           "Africa"
          ],
          [
           "Europe"
          ],
          [
           "Europe"
          ],
          [
           "Europe"
          ],
          [
           "Russia & Caspian"
          ]
         ],
         "domain": {
          "x": [
           0,
           1
          ],
          "y": [
           0,
           1
          ]
         },
         "hovertemplate": "labels=%{label}<br>emissions=%{value}<br>parent=%{parent}<br>id=%{id}<br>region=%{customdata[0]}<extra></extra>",
         "ids": [
          "Africa/Algeria",
          "Europe/Slovenia",
          "Africa/Senegal",
          "Middle East/Saudi Arabia",
          "Russia & Caspian/Russia",
          "Europe/Romania",
          "Middle East/Qatar",
          "Europe/Poland",
          "Asia Pacific/Philippines",
          "Central and South America/Peru",
          "Central and South America/Paraguay",
          "Africa/Somalia",
          "Asia Pacific/Pakistan",
          "Europe/Other countries in Europe",
          "Europe/Other EU7 countries",
          "Europe/Other EU17 countries",
          "Other/Other",
          "Middle East/Oman",
          "Europe/Norway",
          "Africa/Nigeria",
          "Africa/Niger",
          "Asia Pacific/New Zealand",
          "Europe/Netherlands",
          "Asia Pacific/Other countries in Southeast Asia",
          "Africa/South Africa",
          "Africa/South Sudan",
          "Africa/Sudan",
          "North America",
          "Middle East",
          "Europe",
          "Central and South America",
          "Asia Pacific",
          "Africa",
          "Middle East/Yemen",
          "Asia Pacific/Vietnam",
          "Central and South America/Venezuela",
          "Russia & Caspian/Uzbekistan",
          "Central and South America/Uruguay",
          "North America/United States",
          "Europe/United Kingdom",
          "Middle East/United Arab Emirates",
          "Europe/Ukraine",
          "Russia & Caspian/Turkmenistan",
          "Africa/Tunisia",
          "Central and South America/Trinidad and Tobago",
          "Africa/Togo",
          "Asia Pacific/Thailand",
          "Africa/Tanzania",
          "Middle East/Syria",
          "Europe/Sweden",
          "Africa/Namibia",
          "Africa/Mozambique",
          "Africa/Morocco",
          "Asia Pacific/Mongolia",
          "Africa/Egypt",
          "Central and South America/Ecuador",
          "Europe/Denmark",
          "Africa/Democratic Republic of Congo",
          "Central and South America/Cuba",
          "Africa/Cote d'Ivoire",
          "Africa/Congo",
          "Central and South America/Colombia",
          "Asia Pacific/China",
          "Africa/Chad",
          "North America/Canada",
          "Africa/Cameroon",
          "Asia Pacific/Brunei",
          "Central and South America/Brazil",
          "Africa/Botswana",
          "Central and South America/Bolivia",
          "Africa/Benin",
          "Asia Pacific/Bangladesh",
          "Middle East/Bahrain",
          "Russia & Caspian/Azerbaijan",
          "Asia Pacific/Australia",
          "Central and South America/Argentina",
          "Africa/Angola",
          "Africa/Equatorial Guinea",
          "Other",
          "Africa/Eritrea",
          "Africa/Ethiopia",
          "North America/Mexico",
          "Asia Pacific/Malaysia",
          "Africa/Libya",
          "Middle East/Lebanon",
          "Middle East/Kuwait",
          "Asia Pacific/Korea",
          "Africa/Kenya",
          "Russia & Caspian/Kazakhstan",
          "Middle East/Jordan",
          "Asia Pacific/Japan",
          "Europe/Italy",
          "Europe/Israel",
          "Middle East/Iraq",
          "Middle East/Iran",
          "Asia Pacific/Indonesia",
          "Asia Pacific/India",
          "Central and South America/Guyana",
          "Africa/Guinea",
          "Africa/Ghana",
          "Europe/Germany",
          "Africa/Gabon",
          "Europe/France",
          "Europe/European Union",
          "Europe/Estonia",
          "Russia & Caspian"
         ],
         "labels": [
          "Algeria",
          "Slovenia",
          "Senegal",
          "Saudi Arabia",
          "Russia",
          "Romania",
          "Qatar",
          "Poland",
          "Philippines",
          "Peru",
          "Paraguay",
          "Somalia",
          "Pakistan",
          "Other countries in Europe",
          "Other EU7 countries",
          "Other EU17 countries",
          "Other",
          "Oman",
          "Norway",
          "Nigeria",
          "Niger",
          "New Zealand",
          "Netherlands",
          "Other countries in Southeast Asia",
          "South Africa",
          "South Sudan",
          "Sudan",
          "North America",
          "Middle East",
          "Europe",
          "Central and South America",
          "Asia Pacific",
          "Africa",
          "Yemen",
          "Vietnam",
          "Venezuela",
          "Uzbekistan",
          "Uruguay",
          "United States",
          "United Kingdom",
          "United Arab Emirates",
          "Ukraine",
          "Turkmenistan",
          "Tunisia",
          "Trinidad and Tobago",
          "Togo",
          "Thailand",
          "Tanzania",
          "Syria",
          "Sweden",
          "Namibia",
          "Mozambique",
          "Morocco",
          "Mongolia",
          "Egypt",
          "Ecuador",
          "Denmark",
          "Democratic Republic of Congo",
          "Cuba",
          "Cote d'Ivoire",
          "Congo",
          "Colombia",
          "China",
          "Chad",
          "Canada",
          "Cameroon",
          "Brunei",
          "Brazil",
          "Botswana",
          "Bolivia",
          "Benin",
          "Bangladesh",
          "Bahrain",
          "Azerbaijan",
          "Australia",
          "Argentina",
          "Angola",
          "Equatorial Guinea",
          "Other",
          "Eritrea",
          "Ethiopia",
          "Mexico",
          "Malaysia",
          "Libya",
          "Lebanon",
          "Kuwait",
          "Korea",
          "Kenya",
          "Kazakhstan",
          "Jordan",
          "Japan",
          "Italy",
          "Israel",
          "Iraq",
          "Iran",
          "Indonesia",
          "India",
          "Guyana",
          "Guinea",
          "Ghana",
          "Germany",
          "Gabon",
          "France",
          "European Union",
          "Estonia",
          "Russia & Caspian"
         ],
         "marker": {
          "colors": [
           "#636efa",
           "#EF553B",
           "#636efa",
           "#00cc96",
           "#ab63fa",
           "#EF553B",
           "#00cc96",
           "#EF553B",
           "#FFA15A",
           "#19d3f3",
           "#19d3f3",
           "#636efa",
           "#FFA15A",
           "#EF553B",
           "#EF553B",
           "#EF553B",
           "#FF6692",
           "#00cc96",
           "#EF553B",
           "#636efa",
           "#636efa",
           "#FFA15A",
           "#EF553B",
           "#FFA15A",
           "#636efa",
           "#636efa",
           "#636efa",
           "#B6E880",
           "#00cc96",
           "#EF553B",
           "#19d3f3",
           "#FFA15A",
           "#636efa",
           "#00cc96",
           "#FFA15A",
           "#19d3f3",
           "#ab63fa",
           "#19d3f3",
           "#B6E880",
           "#EF553B",
           "#00cc96",
           "#EF553B",
           "#ab63fa",
           "#636efa",
           "#19d3f3",
           "#636efa",
           "#FFA15A",
           "#636efa",
           "#00cc96",
           "#EF553B",
           "#636efa",
           "#636efa",
           "#636efa",
           "#FFA15A",
           "#636efa",
           "#19d3f3",
           "#EF553B",
           "#636efa",
           "#19d3f3",
           "#636efa",
           "#636efa",
           "#19d3f3",
           "#FFA15A",
           "#636efa",
           "#B6E880",
           "#636efa",
           "#FFA15A",
           "#19d3f3",
           "#636efa",
           "#19d3f3",
           "#636efa",
           "#FFA15A",
           "#00cc96",
           "#ab63fa",
           "#FFA15A",
           "#19d3f3",
           "#636efa",
           "#636efa",
           "#FF6692",
           "#636efa",
           "#636efa",
           "#B6E880",
           "#FFA15A",
           "#636efa",
           "#00cc96",
           "#00cc96",
           "#FFA15A",
           "#636efa",
           "#ab63fa",
           "#00cc96",
           "#FFA15A",
           "#EF553B",
           "#EF553B",
           "#00cc96",
           "#00cc96",
           "#FFA15A",
           "#FFA15A",
           "#19d3f3",
           "#636efa",
           "#636efa",
           "#EF553B",
           "#636efa",
           "#EF553B",
           "#EF553B",
           "#EF553B",
           "#ab63fa"
          ]
         },
         "name": "",
         "parents": [
          "Africa",
          "Europe",
          "Africa",
          "Middle East",
          "Russia & Caspian",
          "Europe",
          "Middle East",
          "Europe",
          "Asia Pacific",
          "Central and South America",
          "Central and South America",
          "Africa",
          "Asia Pacific",
          "Europe",
          "Europe",
          "Europe",
          "Other",
          "Middle East",
          "Europe",
          "Africa",
          "Africa",
          "Asia Pacific",
          "Europe",
          "Asia Pacific",
          "Africa",
          "Africa",
          "Africa",
          "",
          "",
          "",
          "",
          "",
          "",
          "Middle East",
          "Asia Pacific",
          "Central and South America",
          "Russia & Caspian",
          "Central and South America",
          "North America",
          "Europe",
          "Middle East",
          "Europe",
          "Russia & Caspian",
          "Africa",
          "Central and South America",
          "Africa",
          "Asia Pacific",
          "Africa",
          "Middle East",
          "Europe",
          "Africa",
          "Africa",
          "Africa",
          "Asia Pacific",
          "Africa",
          "Central and South America",
          "Europe",
          "Africa",
          "Central and South America",
          "Africa",
          "Africa",
          "Central and South America",
          "Asia Pacific",
          "Africa",
          "North America",
          "Africa",
          "Asia Pacific",
          "Central and South America",
          "Africa",
          "Central and South America",
          "Africa",
          "Asia Pacific",
          "Middle East",
          "Russia & Caspian",
          "Asia Pacific",
          "Central and South America",
          "Africa",
          "Africa",
          "",
          "Africa",
          "Africa",
          "North America",
          "Asia Pacific",
          "Africa",
          "Middle East",
          "Middle East",
          "Asia Pacific",
          "Africa",
          "Russia & Caspian",
          "Middle East",
          "Asia Pacific",
          "Europe",
          "Europe",
          "Middle East",
          "Middle East",
          "Asia Pacific",
          "Asia Pacific",
          "Central and South America",
          "Africa",
          "Africa",
          "Europe",
          "Africa",
          "Europe",
          "Europe",
          "Europe",
          ""
         ],
         "type": "sunburst",
         "values": [
          2669.194642312359,
          7.726953619392589,
          13.024876680225136,
          3051.0966617316008,
          18078.08385658264,
          285.410905867815,
          1138.517774708569,
          865.2888784296811,
          116.43430654332042,
          131.71063903719187,
          16.34809112548828,
          29.507999420166016,
          920.3993654251099,
          448.1883523222059,
          55.59594362974167,
          600.0644304789603,
          2420.880063492863,
          869.2565175741911,
          41.103772475384176,
          3306.071265136823,
          40.86768516106531,
          37.334140941500664,
          29.25938070891425,
          527.3272294998169,
          1239.029734870419,
          76.9888933300972,
          143.06582760810852,
          20899.358121551573,
          16270.411918900907,
          6882.477476314409,
          7323.162745520007,
          41620.08553819265,
          13267.93909550435,
          145.1815997250378,
          60.932000160217285,
          2642.703637290746,
          780.9161390420049,
          7.599424537271261,
          16769.630409240723,
          274.6314067803323,
          1439.1328016519547,
          553.4212055206299,
          4740.040899455547,
          77.23422545194626,
          209.22000166773796,
          19.225591253489256,
          535.2486734390259,
          203.39022368192667,
          237.66441609337926,
          31.990554362535477,
          2.6310891509056096,
          227.35590098937973,
          22.18147224164568,
          216.8521963953972,
          958.0423972010612,
          277.09926027059555,
          41.515834495425224,
          260.69290310144424,
          21.065090607851744,
          93.39645344018936,
          264.7666951417923,
          778.1613088846207,
          25372.22229385376,
          51.4169500390999,
          2548.398477651179,
          216.56076430529356,
          43.507292967289686,
          1756.4953835010529,
          6.199222539551556,
          128.09658127231523,
          26.628539759665728,
          334.3358369767666,
          190.68525731563568,
          323.2549617290497,
          2232.2388623952866,
          1307.0935932584107,
          568.7333822846413,
          169.01870894432068,
          2420.880063492863,
          5.936958324164152,
          464.2127700597048,
          1581.3292346596718,
          474.02106988430023,
          1599.4412817955017,
          4.712916038930416,
          1002.0822172164917,
          200.32664331793785,
          143.82598201930523,
          2740.5611456632614,
          47.2069646269083,
          283.30033407267183,
          285.78645250946283,
          43.2089960873127,
          2515.052600413561,
          5629.822191804647,
          5080.369268417358,
          5185.236023902893,
          47.56973406672478,
          0.0080000003799796,
          120.73608818650246,
          353.09372605290264,
          248.55257107317448,
          193.59646832570434,
          2760.969970226288,
          11.624244421720505,
          26662.857002472505
         ]
        }
       ],
       "layout": {
        "legend": {
         "tracegroupgap": 0
        },
        "margin": {
         "t": 60
        },
        "template": {
         "data": {
          "bar": [
           {
            "error_x": {
             "color": "#2a3f5f"
            },
            "error_y": {
             "color": "#2a3f5f"
            },
            "marker": {
             "line": {
              "color": "#E5ECF6",
              "width": 0.5
             },
             "pattern": {
              "fillmode": "overlay",
              "size": 10,
              "solidity": 0.2
             }
            },
            "type": "bar"
           }
          ],
          "barpolar": [
           {
            "marker": {
             "line": {
              "color": "#E5ECF6",
              "width": 0.5
             },
             "pattern": {
              "fillmode": "overlay",
              "size": 10,
              "solidity": 0.2
             }
            },
            "type": "barpolar"
           }
          ],
          "carpet": [
           {
            "aaxis": {
             "endlinecolor": "#2a3f5f",
             "gridcolor": "white",
             "linecolor": "white",
             "minorgridcolor": "white",
             "startlinecolor": "#2a3f5f"
            },
            "baxis": {
             "endlinecolor": "#2a3f5f",
             "gridcolor": "white",
             "linecolor": "white",
             "minorgridcolor": "white",
             "startlinecolor": "#2a3f5f"
            },
            "type": "carpet"
           }
          ],
          "choropleth": [
           {
            "colorbar": {
             "outlinewidth": 0,
             "ticks": ""
            },
            "type": "choropleth"
           }
          ],
          "contour": [
           {
            "colorbar": {
             "outlinewidth": 0,
             "ticks": ""
            },
            "colorscale": [
             [
              0,
              "#0d0887"
             ],
             [
              0.1111111111111111,
              "#46039f"
             ],
             [
              0.2222222222222222,
              "#7201a8"
             ],
             [
              0.3333333333333333,
              "#9c179e"
             ],
             [
              0.4444444444444444,
              "#bd3786"
             ],
             [
              0.5555555555555556,
              "#d8576b"
             ],
             [
              0.6666666666666666,
              "#ed7953"
             ],
             [
              0.7777777777777778,
              "#fb9f3a"
             ],
             [
              0.8888888888888888,
              "#fdca26"
             ],
             [
              1,
              "#f0f921"
             ]
            ],
            "type": "contour"
           }
          ],
          "contourcarpet": [
           {
            "colorbar": {
             "outlinewidth": 0,
             "ticks": ""
            },
            "type": "contourcarpet"
           }
          ],
          "heatmap": [
           {
            "colorbar": {
             "outlinewidth": 0,
             "ticks": ""
            },
            "colorscale": [
             [
              0,
              "#0d0887"
             ],
             [
              0.1111111111111111,
              "#46039f"
             ],
             [
              0.2222222222222222,
              "#7201a8"
             ],
             [
              0.3333333333333333,
              "#9c179e"
             ],
             [
              0.4444444444444444,
              "#bd3786"
             ],
             [
              0.5555555555555556,
              "#d8576b"
             ],
             [
              0.6666666666666666,
              "#ed7953"
             ],
             [
              0.7777777777777778,
              "#fb9f3a"
             ],
             [
              0.8888888888888888,
              "#fdca26"
             ],
             [
              1,
              "#f0f921"
             ]
            ],
            "type": "heatmap"
           }
          ],
          "heatmapgl": [
           {
            "colorbar": {
             "outlinewidth": 0,
             "ticks": ""
            },
            "colorscale": [
             [
              0,
              "#0d0887"
             ],
             [
              0.1111111111111111,
              "#46039f"
             ],
             [
              0.2222222222222222,
              "#7201a8"
             ],
             [
              0.3333333333333333,
              "#9c179e"
             ],
             [
              0.4444444444444444,
              "#bd3786"
             ],
             [
              0.5555555555555556,
              "#d8576b"
             ],
             [
              0.6666666666666666,
              "#ed7953"
             ],
             [
              0.7777777777777778,
              "#fb9f3a"
             ],
             [
              0.8888888888888888,
              "#fdca26"
             ],
             [
              1,
              "#f0f921"
             ]
            ],
            "type": "heatmapgl"
           }
          ],
          "histogram": [
           {
            "marker": {
             "pattern": {
              "fillmode": "overlay",
              "size": 10,
              "solidity": 0.2
             }
            },
            "type": "histogram"
           }
          ],
          "histogram2d": [
           {
            "colorbar": {
             "outlinewidth": 0,
             "ticks": ""
            },
            "colorscale": [
             [
              0,
              "#0d0887"
             ],
             [
              0.1111111111111111,
              "#46039f"
             ],
             [
              0.2222222222222222,
              "#7201a8"
             ],
             [
              0.3333333333333333,
              "#9c179e"
             ],
             [
              0.4444444444444444,
              "#bd3786"
             ],
             [
              0.5555555555555556,
              "#d8576b"
             ],
             [
              0.6666666666666666,
              "#ed7953"
             ],
             [
              0.7777777777777778,
              "#fb9f3a"
             ],
             [
              0.8888888888888888,
              "#fdca26"
             ],
             [
              1,
              "#f0f921"
             ]
            ],
            "type": "histogram2d"
           }
          ],
          "histogram2dcontour": [
           {
            "colorbar": {
             "outlinewidth": 0,
             "ticks": ""
            },
            "colorscale": [
             [
              0,
              "#0d0887"
             ],
             [
              0.1111111111111111,
              "#46039f"
             ],
             [
              0.2222222222222222,
              "#7201a8"
             ],
             [
              0.3333333333333333,
              "#9c179e"
             ],
             [
              0.4444444444444444,
              "#bd3786"
             ],
             [
              0.5555555555555556,
              "#d8576b"
             ],
             [
              0.6666666666666666,
              "#ed7953"
             ],
             [
              0.7777777777777778,
              "#fb9f3a"
             ],
             [
              0.8888888888888888,
              "#fdca26"
             ],
             [
              1,
              "#f0f921"
             ]
            ],
            "type": "histogram2dcontour"
           }
          ],
          "mesh3d": [
           {
            "colorbar": {
             "outlinewidth": 0,
             "ticks": ""
            },
            "type": "mesh3d"
           }
          ],
          "parcoords": [
           {
            "line": {
             "colorbar": {
              "outlinewidth": 0,
              "ticks": ""
             }
            },
            "type": "parcoords"
           }
          ],
          "pie": [
           {
            "automargin": true,
            "type": "pie"
           }
          ],
          "scatter": [
           {
            "fillpattern": {
             "fillmode": "overlay",
             "size": 10,
             "solidity": 0.2
            },
            "type": "scatter"
           }
          ],
          "scatter3d": [
           {
            "line": {
             "colorbar": {
              "outlinewidth": 0,
              "ticks": ""
             }
            },
            "marker": {
             "colorbar": {
              "outlinewidth": 0,
              "ticks": ""
             }
            },
            "type": "scatter3d"
           }
          ],
          "scattercarpet": [
           {
            "marker": {
             "colorbar": {
              "outlinewidth": 0,
              "ticks": ""
             }
            },
            "type": "scattercarpet"
           }
          ],
          "scattergeo": [
           {
            "marker": {
             "colorbar": {
              "outlinewidth": 0,
              "ticks": ""
             }
            },
            "type": "scattergeo"
           }
          ],
          "scattergl": [
           {
            "marker": {
             "colorbar": {
              "outlinewidth": 0,
              "ticks": ""
             }
            },
            "type": "scattergl"
           }
          ],
          "scattermapbox": [
           {
            "marker": {
             "colorbar": {
              "outlinewidth": 0,
              "ticks": ""
             }
            },
            "type": "scattermapbox"
           }
          ],
          "scatterpolar": [
           {
            "marker": {
             "colorbar": {
              "outlinewidth": 0,
              "ticks": ""
             }
            },
            "type": "scatterpolar"
           }
          ],
          "scatterpolargl": [
           {
            "marker": {
             "colorbar": {
              "outlinewidth": 0,
              "ticks": ""
             }
            },
            "type": "scatterpolargl"
           }
          ],
          "scatterternary": [
           {
            "marker": {
             "colorbar": {
              "outlinewidth": 0,
              "ticks": ""
             }
            },
            "type": "scatterternary"
           }
          ],
          "surface": [
           {
            "colorbar": {
             "outlinewidth": 0,
             "ticks": ""
            },
            "colorscale": [
             [
              0,
              "#0d0887"
             ],
             [
              0.1111111111111111,
              "#46039f"
             ],
             [
              0.2222222222222222,
              "#7201a8"
             ],
             [
              0.3333333333333333,
              "#9c179e"
             ],
             [
              0.4444444444444444,
              "#bd3786"
             ],
             [
              0.5555555555555556,
              "#d8576b"
             ],
             [
              0.6666666666666666,
              "#ed7953"
             ],
             [
              0.7777777777777778,
              "#fb9f3a"
             ],
             [
              0.8888888888888888,
              "#fdca26"
             ],
             [
              1,
              "#f0f921"
             ]
            ],
            "type": "surface"
           }
          ],
          "table": [
           {
            "cells": {
             "fill": {
              "color": "#EBF0F8"
             },
             "line": {
              "color": "white"
             }
            },
            "header": {
             "fill": {
              "color": "#C8D4E3"
             },
             "line": {
              "color": "white"
             }
            },
            "type": "table"
           }
          ]
         },
         "layout": {
          "annotationdefaults": {
           "arrowcolor": "#2a3f5f",
           "arrowhead": 0,
           "arrowwidth": 1
          },
          "autotypenumbers": "strict",
          "coloraxis": {
           "colorbar": {
            "outlinewidth": 0,
            "ticks": ""
           }
          },
          "colorscale": {
           "diverging": [
            [
             0,
             "#8e0152"
            ],
            [
             0.1,
             "#c51b7d"
            ],
            [
             0.2,
             "#de77ae"
            ],
            [
             0.3,
             "#f1b6da"
            ],
            [
             0.4,
             "#fde0ef"
            ],
            [
             0.5,
             "#f7f7f7"
            ],
            [
             0.6,
             "#e6f5d0"
            ],
            [
             0.7,
             "#b8e186"
            ],
            [
             0.8,
             "#7fbc41"
            ],
            [
             0.9,
             "#4d9221"
            ],
            [
             1,
             "#276419"
            ]
           ],
           "sequential": [
            [
             0,
             "#0d0887"
            ],
            [
             0.1111111111111111,
             "#46039f"
            ],
            [
             0.2222222222222222,
             "#7201a8"
            ],
            [
             0.3333333333333333,
             "#9c179e"
            ],
            [
             0.4444444444444444,
             "#bd3786"
            ],
            [
             0.5555555555555556,
             "#d8576b"
            ],
            [
             0.6666666666666666,
             "#ed7953"
            ],
            [
             0.7777777777777778,
             "#fb9f3a"
            ],
            [
             0.8888888888888888,
             "#fdca26"
            ],
            [
             1,
             "#f0f921"
            ]
           ],
           "sequentialminus": [
            [
             0,
             "#0d0887"
            ],
            [
             0.1111111111111111,
             "#46039f"
            ],
            [
             0.2222222222222222,
             "#7201a8"
            ],
            [
             0.3333333333333333,
             "#9c179e"
            ],
            [
             0.4444444444444444,
             "#bd3786"
            ],
            [
             0.5555555555555556,
             "#d8576b"
            ],
            [
             0.6666666666666666,
             "#ed7953"
            ],
            [
             0.7777777777777778,
             "#fb9f3a"
            ],
            [
             0.8888888888888888,
             "#fdca26"
            ],
            [
             1,
             "#f0f921"
            ]
           ]
          },
          "colorway": [
           "#636efa",
           "#EF553B",
           "#00cc96",
           "#ab63fa",
           "#FFA15A",
           "#19d3f3",
           "#FF6692",
           "#B6E880",
           "#FF97FF",
           "#FECB52"
          ],
          "font": {
           "color": "#2a3f5f"
          },
          "geo": {
           "bgcolor": "white",
           "lakecolor": "white",
           "landcolor": "#E5ECF6",
           "showlakes": true,
           "showland": true,
           "subunitcolor": "white"
          },
          "hoverlabel": {
           "align": "left"
          },
          "hovermode": "closest",
          "mapbox": {
           "style": "light"
          },
          "paper_bgcolor": "white",
          "plot_bgcolor": "#E5ECF6",
          "polar": {
           "angularaxis": {
            "gridcolor": "white",
            "linecolor": "white",
            "ticks": ""
           },
           "bgcolor": "#E5ECF6",
           "radialaxis": {
            "gridcolor": "white",
            "linecolor": "white",
            "ticks": ""
           }
          },
          "scene": {
           "xaxis": {
            "backgroundcolor": "#E5ECF6",
            "gridcolor": "white",
            "gridwidth": 2,
            "linecolor": "white",
            "showbackground": true,
            "ticks": "",
            "zerolinecolor": "white"
           },
           "yaxis": {
            "backgroundcolor": "#E5ECF6",
            "gridcolor": "white",
            "gridwidth": 2,
            "linecolor": "white",
            "showbackground": true,
            "ticks": "",
            "zerolinecolor": "white"
           },
           "zaxis": {
            "backgroundcolor": "#E5ECF6",
            "gridcolor": "white",
            "gridwidth": 2,
            "linecolor": "white",
            "showbackground": true,
            "ticks": "",
            "zerolinecolor": "white"
           }
          },
          "shapedefaults": {
           "line": {
            "color": "#2a3f5f"
           }
          },
          "ternary": {
           "aaxis": {
            "gridcolor": "white",
            "linecolor": "white",
            "ticks": ""
           },
           "baxis": {
            "gridcolor": "white",
            "linecolor": "white",
            "ticks": ""
           },
           "bgcolor": "#E5ECF6",
           "caxis": {
            "gridcolor": "white",
            "linecolor": "white",
            "ticks": ""
           }
          },
          "title": {
           "x": 0.05
          },
          "xaxis": {
           "automargin": true,
           "gridcolor": "white",
           "linecolor": "white",
           "ticks": "",
           "title": {
            "standoff": 15
           },
           "zerolinecolor": "white",
           "zerolinewidth": 2
          },
          "yaxis": {
           "automargin": true,
           "gridcolor": "white",
           "linecolor": "white",
           "ticks": "",
           "title": {
            "standoff": 15
           },
           "zerolinecolor": "white",
           "zerolinewidth": 2
          }
         }
        }
       }
      },
      "text/html": [
       "<div>                            <div id=\"7d009d59-3b76-4c5d-80e0-901b86bea6d8\" class=\"plotly-graph-div\" style=\"height:525px; width:100%;\"></div>            <script type=\"text/javascript\">                require([\"plotly\"], function(Plotly) {                    window.PLOTLYENV=window.PLOTLYENV || {};                                    if (document.getElementById(\"7d009d59-3b76-4c5d-80e0-901b86bea6d8\")) {                    Plotly.newPlot(                        \"7d009d59-3b76-4c5d-80e0-901b86bea6d8\",                        [{\"branchvalues\":\"total\",\"customdata\":[[\"Africa\"],[\"Europe\"],[\"Africa\"],[\"Middle East\"],[\"Russia & Caspian\"],[\"Europe\"],[\"Middle East\"],[\"Europe\"],[\"Asia Pacific\"],[\"Central and South America\"],[\"Central and South America\"],[\"Africa\"],[\"Asia Pacific\"],[\"Europe\"],[\"Europe\"],[\"Europe\"],[\"Other\"],[\"Middle East\"],[\"Europe\"],[\"Africa\"],[\"Africa\"],[\"Asia Pacific\"],[\"Europe\"],[\"Asia Pacific\"],[\"Africa\"],[\"Africa\"],[\"Africa\"],[\"North America\"],[\"Middle East\"],[\"Europe\"],[\"Central and South America\"],[\"Asia Pacific\"],[\"Africa\"],[\"Middle East\"],[\"Asia Pacific\"],[\"Central and South America\"],[\"Russia & Caspian\"],[\"Central and South America\"],[\"North America\"],[\"Europe\"],[\"Middle East\"],[\"Europe\"],[\"Russia & Caspian\"],[\"Africa\"],[\"Central and South America\"],[\"Africa\"],[\"Asia Pacific\"],[\"Africa\"],[\"Middle East\"],[\"Europe\"],[\"Africa\"],[\"Africa\"],[\"Africa\"],[\"Asia Pacific\"],[\"Africa\"],[\"Central and South America\"],[\"Europe\"],[\"Africa\"],[\"Central and South America\"],[\"Africa\"],[\"Africa\"],[\"Central and South America\"],[\"Asia Pacific\"],[\"Africa\"],[\"North America\"],[\"Africa\"],[\"Asia Pacific\"],[\"Central and South America\"],[\"Africa\"],[\"Central and South America\"],[\"Africa\"],[\"Asia Pacific\"],[\"Middle East\"],[\"Russia & Caspian\"],[\"Asia Pacific\"],[\"Central and South America\"],[\"Africa\"],[\"Africa\"],[\"Other\"],[\"Africa\"],[\"Africa\"],[\"North America\"],[\"Asia Pacific\"],[\"Africa\"],[\"Middle East\"],[\"Middle East\"],[\"Asia Pacific\"],[\"Africa\"],[\"Russia & Caspian\"],[\"Middle East\"],[\"Asia Pacific\"],[\"Europe\"],[\"Europe\"],[\"Middle East\"],[\"Middle East\"],[\"Asia Pacific\"],[\"Asia Pacific\"],[\"Central and South America\"],[\"Africa\"],[\"Africa\"],[\"Europe\"],[\"Africa\"],[\"Europe\"],[\"Europe\"],[\"Europe\"],[\"Russia & Caspian\"]],\"domain\":{\"x\":[0.0,1.0],\"y\":[0.0,1.0]},\"hovertemplate\":\"labels=%{label}<br>emissions=%{value}<br>parent=%{parent}<br>id=%{id}<br>region=%{customdata[0]}<extra></extra>\",\"ids\":[\"Africa/Algeria\",\"Europe/Slovenia\",\"Africa/Senegal\",\"Middle East/Saudi Arabia\",\"Russia & Caspian/Russia\",\"Europe/Romania\",\"Middle East/Qatar\",\"Europe/Poland\",\"Asia Pacific/Philippines\",\"Central and South America/Peru\",\"Central and South America/Paraguay\",\"Africa/Somalia\",\"Asia Pacific/Pakistan\",\"Europe/Other countries in Europe\",\"Europe/Other EU7 countries\",\"Europe/Other EU17 countries\",\"Other/Other\",\"Middle East/Oman\",\"Europe/Norway\",\"Africa/Nigeria\",\"Africa/Niger\",\"Asia Pacific/New Zealand\",\"Europe/Netherlands\",\"Asia Pacific/Other countries in Southeast Asia\",\"Africa/South Africa\",\"Africa/South Sudan\",\"Africa/Sudan\",\"North America\",\"Middle East\",\"Europe\",\"Central and South America\",\"Asia Pacific\",\"Africa\",\"Middle East/Yemen\",\"Asia Pacific/Vietnam\",\"Central and South America/Venezuela\",\"Russia & Caspian/Uzbekistan\",\"Central and South America/Uruguay\",\"North America/United States\",\"Europe/United Kingdom\",\"Middle East/United Arab Emirates\",\"Europe/Ukraine\",\"Russia & Caspian/Turkmenistan\",\"Africa/Tunisia\",\"Central and South America/Trinidad and Tobago\",\"Africa/Togo\",\"Asia Pacific/Thailand\",\"Africa/Tanzania\",\"Middle East/Syria\",\"Europe/Sweden\",\"Africa/Namibia\",\"Africa/Mozambique\",\"Africa/Morocco\",\"Asia Pacific/Mongolia\",\"Africa/Egypt\",\"Central and South America/Ecuador\",\"Europe/Denmark\",\"Africa/Democratic Republic of Congo\",\"Central and South America/Cuba\",\"Africa/Cote d'Ivoire\",\"Africa/Congo\",\"Central and South America/Colombia\",\"Asia Pacific/China\",\"Africa/Chad\",\"North America/Canada\",\"Africa/Cameroon\",\"Asia Pacific/Brunei\",\"Central and South America/Brazil\",\"Africa/Botswana\",\"Central and South America/Bolivia\",\"Africa/Benin\",\"Asia Pacific/Bangladesh\",\"Middle East/Bahrain\",\"Russia & Caspian/Azerbaijan\",\"Asia Pacific/Australia\",\"Central and South America/Argentina\",\"Africa/Angola\",\"Africa/Equatorial Guinea\",\"Other\",\"Africa/Eritrea\",\"Africa/Ethiopia\",\"North America/Mexico\",\"Asia Pacific/Malaysia\",\"Africa/Libya\",\"Middle East/Lebanon\",\"Middle East/Kuwait\",\"Asia Pacific/Korea\",\"Africa/Kenya\",\"Russia & Caspian/Kazakhstan\",\"Middle East/Jordan\",\"Asia Pacific/Japan\",\"Europe/Italy\",\"Europe/Israel\",\"Middle East/Iraq\",\"Middle East/Iran\",\"Asia Pacific/Indonesia\",\"Asia Pacific/India\",\"Central and South America/Guyana\",\"Africa/Guinea\",\"Africa/Ghana\",\"Europe/Germany\",\"Africa/Gabon\",\"Europe/France\",\"Europe/European Union\",\"Europe/Estonia\",\"Russia & Caspian\"],\"labels\":[\"Algeria\",\"Slovenia\",\"Senegal\",\"Saudi Arabia\",\"Russia\",\"Romania\",\"Qatar\",\"Poland\",\"Philippines\",\"Peru\",\"Paraguay\",\"Somalia\",\"Pakistan\",\"Other countries in Europe\",\"Other EU7 countries\",\"Other EU17 countries\",\"Other\",\"Oman\",\"Norway\",\"Nigeria\",\"Niger\",\"New Zealand\",\"Netherlands\",\"Other countries in Southeast Asia\",\"South Africa\",\"South Sudan\",\"Sudan\",\"North America\",\"Middle East\",\"Europe\",\"Central and South America\",\"Asia Pacific\",\"Africa\",\"Yemen\",\"Vietnam\",\"Venezuela\",\"Uzbekistan\",\"Uruguay\",\"United States\",\"United Kingdom\",\"United Arab Emirates\",\"Ukraine\",\"Turkmenistan\",\"Tunisia\",\"Trinidad and Tobago\",\"Togo\",\"Thailand\",\"Tanzania\",\"Syria\",\"Sweden\",\"Namibia\",\"Mozambique\",\"Morocco\",\"Mongolia\",\"Egypt\",\"Ecuador\",\"Denmark\",\"Democratic Republic of Congo\",\"Cuba\",\"Cote d'Ivoire\",\"Congo\",\"Colombia\",\"China\",\"Chad\",\"Canada\",\"Cameroon\",\"Brunei\",\"Brazil\",\"Botswana\",\"Bolivia\",\"Benin\",\"Bangladesh\",\"Bahrain\",\"Azerbaijan\",\"Australia\",\"Argentina\",\"Angola\",\"Equatorial Guinea\",\"Other\",\"Eritrea\",\"Ethiopia\",\"Mexico\",\"Malaysia\",\"Libya\",\"Lebanon\",\"Kuwait\",\"Korea\",\"Kenya\",\"Kazakhstan\",\"Jordan\",\"Japan\",\"Italy\",\"Israel\",\"Iraq\",\"Iran\",\"Indonesia\",\"India\",\"Guyana\",\"Guinea\",\"Ghana\",\"Germany\",\"Gabon\",\"France\",\"European Union\",\"Estonia\",\"Russia & Caspian\"],\"marker\":{\"colors\":[\"#636efa\",\"#EF553B\",\"#636efa\",\"#00cc96\",\"#ab63fa\",\"#EF553B\",\"#00cc96\",\"#EF553B\",\"#FFA15A\",\"#19d3f3\",\"#19d3f3\",\"#636efa\",\"#FFA15A\",\"#EF553B\",\"#EF553B\",\"#EF553B\",\"#FF6692\",\"#00cc96\",\"#EF553B\",\"#636efa\",\"#636efa\",\"#FFA15A\",\"#EF553B\",\"#FFA15A\",\"#636efa\",\"#636efa\",\"#636efa\",\"#B6E880\",\"#00cc96\",\"#EF553B\",\"#19d3f3\",\"#FFA15A\",\"#636efa\",\"#00cc96\",\"#FFA15A\",\"#19d3f3\",\"#ab63fa\",\"#19d3f3\",\"#B6E880\",\"#EF553B\",\"#00cc96\",\"#EF553B\",\"#ab63fa\",\"#636efa\",\"#19d3f3\",\"#636efa\",\"#FFA15A\",\"#636efa\",\"#00cc96\",\"#EF553B\",\"#636efa\",\"#636efa\",\"#636efa\",\"#FFA15A\",\"#636efa\",\"#19d3f3\",\"#EF553B\",\"#636efa\",\"#19d3f3\",\"#636efa\",\"#636efa\",\"#19d3f3\",\"#FFA15A\",\"#636efa\",\"#B6E880\",\"#636efa\",\"#FFA15A\",\"#19d3f3\",\"#636efa\",\"#19d3f3\",\"#636efa\",\"#FFA15A\",\"#00cc96\",\"#ab63fa\",\"#FFA15A\",\"#19d3f3\",\"#636efa\",\"#636efa\",\"#FF6692\",\"#636efa\",\"#636efa\",\"#B6E880\",\"#FFA15A\",\"#636efa\",\"#00cc96\",\"#00cc96\",\"#FFA15A\",\"#636efa\",\"#ab63fa\",\"#00cc96\",\"#FFA15A\",\"#EF553B\",\"#EF553B\",\"#00cc96\",\"#00cc96\",\"#FFA15A\",\"#FFA15A\",\"#19d3f3\",\"#636efa\",\"#636efa\",\"#EF553B\",\"#636efa\",\"#EF553B\",\"#EF553B\",\"#EF553B\",\"#ab63fa\"]},\"name\":\"\",\"parents\":[\"Africa\",\"Europe\",\"Africa\",\"Middle East\",\"Russia & Caspian\",\"Europe\",\"Middle East\",\"Europe\",\"Asia Pacific\",\"Central and South America\",\"Central and South America\",\"Africa\",\"Asia Pacific\",\"Europe\",\"Europe\",\"Europe\",\"Other\",\"Middle East\",\"Europe\",\"Africa\",\"Africa\",\"Asia Pacific\",\"Europe\",\"Asia Pacific\",\"Africa\",\"Africa\",\"Africa\",\"\",\"\",\"\",\"\",\"\",\"\",\"Middle East\",\"Asia Pacific\",\"Central and South America\",\"Russia & Caspian\",\"Central and South America\",\"North America\",\"Europe\",\"Middle East\",\"Europe\",\"Russia & Caspian\",\"Africa\",\"Central and South America\",\"Africa\",\"Asia Pacific\",\"Africa\",\"Middle East\",\"Europe\",\"Africa\",\"Africa\",\"Africa\",\"Asia Pacific\",\"Africa\",\"Central and South America\",\"Europe\",\"Africa\",\"Central and South America\",\"Africa\",\"Africa\",\"Central and South America\",\"Asia Pacific\",\"Africa\",\"North America\",\"Africa\",\"Asia Pacific\",\"Central and South America\",\"Africa\",\"Central and South America\",\"Africa\",\"Asia Pacific\",\"Middle East\",\"Russia & Caspian\",\"Asia Pacific\",\"Central and South America\",\"Africa\",\"Africa\",\"\",\"Africa\",\"Africa\",\"North America\",\"Asia Pacific\",\"Africa\",\"Middle East\",\"Middle East\",\"Asia Pacific\",\"Africa\",\"Russia & Caspian\",\"Middle East\",\"Asia Pacific\",\"Europe\",\"Europe\",\"Middle East\",\"Middle East\",\"Asia Pacific\",\"Asia Pacific\",\"Central and South America\",\"Africa\",\"Africa\",\"Europe\",\"Africa\",\"Europe\",\"Europe\",\"Europe\",\"\"],\"values\":[2669.194642312359,7.726953619392589,13.024876680225136,3051.0966617316008,18078.08385658264,285.410905867815,1138.517774708569,865.2888784296811,116.43430654332042,131.71063903719187,16.34809112548828,29.507999420166016,920.3993654251099,448.1883523222059,55.59594362974167,600.0644304789603,2420.880063492863,869.2565175741911,41.103772475384176,3306.071265136823,40.86768516106531,37.334140941500664,29.25938070891425,527.3272294998169,1239.029734870419,76.9888933300972,143.06582760810852,20899.358121551573,16270.411918900907,6882.477476314409,7323.162745520007,41620.08553819265,13267.93909550435,145.1815997250378,60.932000160217285,2642.703637290746,780.9161390420049,7.599424537271261,16769.630409240723,274.6314067803323,1439.1328016519547,553.4212055206299,4740.040899455547,77.23422545194626,209.22000166773796,19.225591253489256,535.2486734390259,203.39022368192667,237.66441609337926,31.990554362535477,2.6310891509056096,227.35590098937973,22.18147224164568,216.8521963953972,958.0423972010612,277.09926027059555,41.515834495425224,260.69290310144424,21.065090607851744,93.39645344018936,264.7666951417923,778.1613088846207,25372.22229385376,51.4169500390999,2548.398477651179,216.56076430529356,43.507292967289686,1756.4953835010529,6.199222539551556,128.09658127231523,26.628539759665728,334.3358369767666,190.68525731563568,323.2549617290497,2232.2388623952866,1307.0935932584107,568.7333822846413,169.01870894432068,2420.880063492863,5.936958324164152,464.2127700597048,1581.3292346596718,474.02106988430023,1599.4412817955017,4.712916038930416,1002.0822172164917,200.32664331793785,143.82598201930523,2740.5611456632614,47.2069646269083,283.30033407267183,285.78645250946283,43.2089960873127,2515.052600413561,5629.822191804647,5080.369268417358,5185.236023902893,47.56973406672478,0.0080000003799796,120.73608818650246,353.09372605290264,248.55257107317448,193.59646832570434,2760.969970226288,11.624244421720505,26662.857002472505],\"type\":\"sunburst\"}],                        {\"template\":{\"data\":{\"histogram2dcontour\":[{\"type\":\"histogram2dcontour\",\"colorbar\":{\"outlinewidth\":0,\"ticks\":\"\"},\"colorscale\":[[0.0,\"#0d0887\"],[0.1111111111111111,\"#46039f\"],[0.2222222222222222,\"#7201a8\"],[0.3333333333333333,\"#9c179e\"],[0.4444444444444444,\"#bd3786\"],[0.5555555555555556,\"#d8576b\"],[0.6666666666666666,\"#ed7953\"],[0.7777777777777778,\"#fb9f3a\"],[0.8888888888888888,\"#fdca26\"],[1.0,\"#f0f921\"]]}],\"choropleth\":[{\"type\":\"choropleth\",\"colorbar\":{\"outlinewidth\":0,\"ticks\":\"\"}}],\"histogram2d\":[{\"type\":\"histogram2d\",\"colorbar\":{\"outlinewidth\":0,\"ticks\":\"\"},\"colorscale\":[[0.0,\"#0d0887\"],[0.1111111111111111,\"#46039f\"],[0.2222222222222222,\"#7201a8\"],[0.3333333333333333,\"#9c179e\"],[0.4444444444444444,\"#bd3786\"],[0.5555555555555556,\"#d8576b\"],[0.6666666666666666,\"#ed7953\"],[0.7777777777777778,\"#fb9f3a\"],[0.8888888888888888,\"#fdca26\"],[1.0,\"#f0f921\"]]}],\"heatmap\":[{\"type\":\"heatmap\",\"colorbar\":{\"outlinewidth\":0,\"ticks\":\"\"},\"colorscale\":[[0.0,\"#0d0887\"],[0.1111111111111111,\"#46039f\"],[0.2222222222222222,\"#7201a8\"],[0.3333333333333333,\"#9c179e\"],[0.4444444444444444,\"#bd3786\"],[0.5555555555555556,\"#d8576b\"],[0.6666666666666666,\"#ed7953\"],[0.7777777777777778,\"#fb9f3a\"],[0.8888888888888888,\"#fdca26\"],[1.0,\"#f0f921\"]]}],\"heatmapgl\":[{\"type\":\"heatmapgl\",\"colorbar\":{\"outlinewidth\":0,\"ticks\":\"\"},\"colorscale\":[[0.0,\"#0d0887\"],[0.1111111111111111,\"#46039f\"],[0.2222222222222222,\"#7201a8\"],[0.3333333333333333,\"#9c179e\"],[0.4444444444444444,\"#bd3786\"],[0.5555555555555556,\"#d8576b\"],[0.6666666666666666,\"#ed7953\"],[0.7777777777777778,\"#fb9f3a\"],[0.8888888888888888,\"#fdca26\"],[1.0,\"#f0f921\"]]}],\"contourcarpet\":[{\"type\":\"contourcarpet\",\"colorbar\":{\"outlinewidth\":0,\"ticks\":\"\"}}],\"contour\":[{\"type\":\"contour\",\"colorbar\":{\"outlinewidth\":0,\"ticks\":\"\"},\"colorscale\":[[0.0,\"#0d0887\"],[0.1111111111111111,\"#46039f\"],[0.2222222222222222,\"#7201a8\"],[0.3333333333333333,\"#9c179e\"],[0.4444444444444444,\"#bd3786\"],[0.5555555555555556,\"#d8576b\"],[0.6666666666666666,\"#ed7953\"],[0.7777777777777778,\"#fb9f3a\"],[0.8888888888888888,\"#fdca26\"],[1.0,\"#f0f921\"]]}],\"surface\":[{\"type\":\"surface\",\"colorbar\":{\"outlinewidth\":0,\"ticks\":\"\"},\"colorscale\":[[0.0,\"#0d0887\"],[0.1111111111111111,\"#46039f\"],[0.2222222222222222,\"#7201a8\"],[0.3333333333333333,\"#9c179e\"],[0.4444444444444444,\"#bd3786\"],[0.5555555555555556,\"#d8576b\"],[0.6666666666666666,\"#ed7953\"],[0.7777777777777778,\"#fb9f3a\"],[0.8888888888888888,\"#fdca26\"],[1.0,\"#f0f921\"]]}],\"mesh3d\":[{\"type\":\"mesh3d\",\"colorbar\":{\"outlinewidth\":0,\"ticks\":\"\"}}],\"scatter\":[{\"fillpattern\":{\"fillmode\":\"overlay\",\"size\":10,\"solidity\":0.2},\"type\":\"scatter\"}],\"parcoords\":[{\"type\":\"parcoords\",\"line\":{\"colorbar\":{\"outlinewidth\":0,\"ticks\":\"\"}}}],\"scatterpolargl\":[{\"type\":\"scatterpolargl\",\"marker\":{\"colorbar\":{\"outlinewidth\":0,\"ticks\":\"\"}}}],\"bar\":[{\"error_x\":{\"color\":\"#2a3f5f\"},\"error_y\":{\"color\":\"#2a3f5f\"},\"marker\":{\"line\":{\"color\":\"#E5ECF6\",\"width\":0.5},\"pattern\":{\"fillmode\":\"overlay\",\"size\":10,\"solidity\":0.2}},\"type\":\"bar\"}],\"scattergeo\":[{\"type\":\"scattergeo\",\"marker\":{\"colorbar\":{\"outlinewidth\":0,\"ticks\":\"\"}}}],\"scatterpolar\":[{\"type\":\"scatterpolar\",\"marker\":{\"colorbar\":{\"outlinewidth\":0,\"ticks\":\"\"}}}],\"histogram\":[{\"marker\":{\"pattern\":{\"fillmode\":\"overlay\",\"size\":10,\"solidity\":0.2}},\"type\":\"histogram\"}],\"scattergl\":[{\"type\":\"scattergl\",\"marker\":{\"colorbar\":{\"outlinewidth\":0,\"ticks\":\"\"}}}],\"scatter3d\":[{\"type\":\"scatter3d\",\"line\":{\"colorbar\":{\"outlinewidth\":0,\"ticks\":\"\"}},\"marker\":{\"colorbar\":{\"outlinewidth\":0,\"ticks\":\"\"}}}],\"scattermapbox\":[{\"type\":\"scattermapbox\",\"marker\":{\"colorbar\":{\"outlinewidth\":0,\"ticks\":\"\"}}}],\"scatterternary\":[{\"type\":\"scatterternary\",\"marker\":{\"colorbar\":{\"outlinewidth\":0,\"ticks\":\"\"}}}],\"scattercarpet\":[{\"type\":\"scattercarpet\",\"marker\":{\"colorbar\":{\"outlinewidth\":0,\"ticks\":\"\"}}}],\"carpet\":[{\"aaxis\":{\"endlinecolor\":\"#2a3f5f\",\"gridcolor\":\"white\",\"linecolor\":\"white\",\"minorgridcolor\":\"white\",\"startlinecolor\":\"#2a3f5f\"},\"baxis\":{\"endlinecolor\":\"#2a3f5f\",\"gridcolor\":\"white\",\"linecolor\":\"white\",\"minorgridcolor\":\"white\",\"startlinecolor\":\"#2a3f5f\"},\"type\":\"carpet\"}],\"table\":[{\"cells\":{\"fill\":{\"color\":\"#EBF0F8\"},\"line\":{\"color\":\"white\"}},\"header\":{\"fill\":{\"color\":\"#C8D4E3\"},\"line\":{\"color\":\"white\"}},\"type\":\"table\"}],\"barpolar\":[{\"marker\":{\"line\":{\"color\":\"#E5ECF6\",\"width\":0.5},\"pattern\":{\"fillmode\":\"overlay\",\"size\":10,\"solidity\":0.2}},\"type\":\"barpolar\"}],\"pie\":[{\"automargin\":true,\"type\":\"pie\"}]},\"layout\":{\"autotypenumbers\":\"strict\",\"colorway\":[\"#636efa\",\"#EF553B\",\"#00cc96\",\"#ab63fa\",\"#FFA15A\",\"#19d3f3\",\"#FF6692\",\"#B6E880\",\"#FF97FF\",\"#FECB52\"],\"font\":{\"color\":\"#2a3f5f\"},\"hovermode\":\"closest\",\"hoverlabel\":{\"align\":\"left\"},\"paper_bgcolor\":\"white\",\"plot_bgcolor\":\"#E5ECF6\",\"polar\":{\"bgcolor\":\"#E5ECF6\",\"angularaxis\":{\"gridcolor\":\"white\",\"linecolor\":\"white\",\"ticks\":\"\"},\"radialaxis\":{\"gridcolor\":\"white\",\"linecolor\":\"white\",\"ticks\":\"\"}},\"ternary\":{\"bgcolor\":\"#E5ECF6\",\"aaxis\":{\"gridcolor\":\"white\",\"linecolor\":\"white\",\"ticks\":\"\"},\"baxis\":{\"gridcolor\":\"white\",\"linecolor\":\"white\",\"ticks\":\"\"},\"caxis\":{\"gridcolor\":\"white\",\"linecolor\":\"white\",\"ticks\":\"\"}},\"coloraxis\":{\"colorbar\":{\"outlinewidth\":0,\"ticks\":\"\"}},\"colorscale\":{\"sequential\":[[0.0,\"#0d0887\"],[0.1111111111111111,\"#46039f\"],[0.2222222222222222,\"#7201a8\"],[0.3333333333333333,\"#9c179e\"],[0.4444444444444444,\"#bd3786\"],[0.5555555555555556,\"#d8576b\"],[0.6666666666666666,\"#ed7953\"],[0.7777777777777778,\"#fb9f3a\"],[0.8888888888888888,\"#fdca26\"],[1.0,\"#f0f921\"]],\"sequentialminus\":[[0.0,\"#0d0887\"],[0.1111111111111111,\"#46039f\"],[0.2222222222222222,\"#7201a8\"],[0.3333333333333333,\"#9c179e\"],[0.4444444444444444,\"#bd3786\"],[0.5555555555555556,\"#d8576b\"],[0.6666666666666666,\"#ed7953\"],[0.7777777777777778,\"#fb9f3a\"],[0.8888888888888888,\"#fdca26\"],[1.0,\"#f0f921\"]],\"diverging\":[[0,\"#8e0152\"],[0.1,\"#c51b7d\"],[0.2,\"#de77ae\"],[0.3,\"#f1b6da\"],[0.4,\"#fde0ef\"],[0.5,\"#f7f7f7\"],[0.6,\"#e6f5d0\"],[0.7,\"#b8e186\"],[0.8,\"#7fbc41\"],[0.9,\"#4d9221\"],[1,\"#276419\"]]},\"xaxis\":{\"gridcolor\":\"white\",\"linecolor\":\"white\",\"ticks\":\"\",\"title\":{\"standoff\":15},\"zerolinecolor\":\"white\",\"automargin\":true,\"zerolinewidth\":2},\"yaxis\":{\"gridcolor\":\"white\",\"linecolor\":\"white\",\"ticks\":\"\",\"title\":{\"standoff\":15},\"zerolinecolor\":\"white\",\"automargin\":true,\"zerolinewidth\":2},\"scene\":{\"xaxis\":{\"backgroundcolor\":\"#E5ECF6\",\"gridcolor\":\"white\",\"linecolor\":\"white\",\"showbackground\":true,\"ticks\":\"\",\"zerolinecolor\":\"white\",\"gridwidth\":2},\"yaxis\":{\"backgroundcolor\":\"#E5ECF6\",\"gridcolor\":\"white\",\"linecolor\":\"white\",\"showbackground\":true,\"ticks\":\"\",\"zerolinecolor\":\"white\",\"gridwidth\":2},\"zaxis\":{\"backgroundcolor\":\"#E5ECF6\",\"gridcolor\":\"white\",\"linecolor\":\"white\",\"showbackground\":true,\"ticks\":\"\",\"zerolinecolor\":\"white\",\"gridwidth\":2}},\"shapedefaults\":{\"line\":{\"color\":\"#2a3f5f\"}},\"annotationdefaults\":{\"arrowcolor\":\"#2a3f5f\",\"arrowhead\":0,\"arrowwidth\":1},\"geo\":{\"bgcolor\":\"white\",\"landcolor\":\"#E5ECF6\",\"subunitcolor\":\"white\",\"showland\":true,\"showlakes\":true,\"lakecolor\":\"white\"},\"title\":{\"x\":0.05},\"mapbox\":{\"style\":\"light\"}}},\"legend\":{\"tracegroupgap\":0},\"margin\":{\"t\":60}},                        {\"responsive\": true}                    ).then(function(){\n",
       "                            \n",
       "var gd = document.getElementById('7d009d59-3b76-4c5d-80e0-901b86bea6d8');\n",
       "var x = new MutationObserver(function (mutations, observer) {{\n",
       "        var display = window.getComputedStyle(gd).display;\n",
       "        if (!display || display === 'none') {{\n",
       "            console.log([gd, 'removed!']);\n",
       "            Plotly.purge(gd);\n",
       "            observer.disconnect();\n",
       "        }}\n",
       "}});\n",
       "\n",
       "// Listen for the removal of the full notebook cells\n",
       "var notebookContainer = gd.closest('#notebook-container');\n",
       "if (notebookContainer) {{\n",
       "    x.observe(notebookContainer, {childList: true});\n",
       "}}\n",
       "\n",
       "// Listen for the clearing of the current output cell\n",
       "var outputEl = gd.closest('.output');\n",
       "if (outputEl) {{\n",
       "    x.observe(outputEl, {childList: true});\n",
       "}}\n",
       "\n",
       "                        })                };                });            </script>        </div>"
      ]
     },
     "metadata": {},
     "output_type": "display_data"
    }
   ],
   "source": [
    "segment_sb = px.sunburst(segment, path=['region', 'country'], values='emissions', color='region')\n",
    "segment_sb.show()"
   ]
  },
  {
   "cell_type": "code",
   "execution_count": 31,
   "id": "76c0f868",
   "metadata": {},
   "outputs": [
    {
     "data": {
      "text/html": [
       "<div>\n",
       "<style scoped>\n",
       "    .dataframe tbody tr th:only-of-type {\n",
       "        vertical-align: middle;\n",
       "    }\n",
       "\n",
       "    .dataframe tbody tr th {\n",
       "        vertical-align: top;\n",
       "    }\n",
       "\n",
       "    .dataframe thead th {\n",
       "        text-align: right;\n",
       "    }\n",
       "</style>\n",
       "<table border=\"1\" class=\"dataframe\">\n",
       "  <thead>\n",
       "    <tr style=\"text-align: right;\">\n",
       "      <th></th>\n",
       "      <th>emissions</th>\n",
       "    </tr>\n",
       "    <tr>\n",
       "      <th>segment</th>\n",
       "      <th></th>\n",
       "    </tr>\n",
       "  </thead>\n",
       "  <tbody>\n",
       "    <tr>\n",
       "      <th>Onshore oil</th>\n",
       "      <td>34332.783240</td>\n",
       "    </tr>\n",
       "    <tr>\n",
       "      <th>Steam coal</th>\n",
       "      <td>30047.273344</td>\n",
       "    </tr>\n",
       "    <tr>\n",
       "      <th>Onshore gas</th>\n",
       "      <td>18097.597573</td>\n",
       "    </tr>\n",
       "    <tr>\n",
       "      <th>Gas pipelines and LNG facilities</th>\n",
       "      <td>12639.023727</td>\n",
       "    </tr>\n",
       "    <tr>\n",
       "      <th>Coking coal</th>\n",
       "      <td>10313.157684</td>\n",
       "    </tr>\n",
       "    <tr>\n",
       "      <th>Bioenergy</th>\n",
       "      <td>9926.408038</td>\n",
       "    </tr>\n",
       "    <tr>\n",
       "      <th>Offshore oil</th>\n",
       "      <td>8349.611860</td>\n",
       "    </tr>\n",
       "    <tr>\n",
       "      <th>Offshore gas</th>\n",
       "      <td>4342.396777</td>\n",
       "    </tr>\n",
       "    <tr>\n",
       "      <th>Satellite-detected large oil and gas emissions</th>\n",
       "      <td>3106.400007</td>\n",
       "    </tr>\n",
       "    <tr>\n",
       "      <th>Other from oil and gas</th>\n",
       "      <td>2493.177699</td>\n",
       "    </tr>\n",
       "    <tr>\n",
       "      <th>Other from coal</th>\n",
       "      <td>1699.342014</td>\n",
       "    </tr>\n",
       "  </tbody>\n",
       "</table>\n",
       "</div>"
      ],
      "text/plain": [
       "                                                   emissions\n",
       "segment                                                     \n",
       "Onshore oil                                     34332.783240\n",
       "Steam coal                                      30047.273344\n",
       "Onshore gas                                     18097.597573\n",
       "Gas pipelines and LNG facilities                12639.023727\n",
       "Coking coal                                     10313.157684\n",
       "Bioenergy                                        9926.408038\n",
       "Offshore oil                                     8349.611860\n",
       "Offshore gas                                     4342.396777\n",
       "Satellite-detected large oil and gas emissions   3106.400007\n",
       "Other from oil and gas                           2493.177699\n",
       "Other from coal                                  1699.342014"
      ]
     },
     "execution_count": 31,
     "metadata": {},
     "output_type": "execute_result"
    }
   ],
   "source": [
    "segment_grouped = segment.groupby('segment').sum()\n",
    "segment_grouped.sort_values('emissions', ascending=False, inplace=True)\n",
    "segment_grouped.reset_index(drop=True)\n",
    "segment_grouped"
   ]
  },
  {
   "cell_type": "code",
   "execution_count": 32,
   "id": "268b973f",
   "metadata": {},
   "outputs": [
    {
     "ename": "ValueError",
     "evalue": "Value of 'x' is not the name of a column in 'data_frame'. Expected one of ['emissions'] but received: segment",
     "output_type": "error",
     "traceback": [
      "\u001b[0;31m---------------------------------------------------------------------------\u001b[0m",
      "\u001b[0;31mValueError\u001b[0m                                Traceback (most recent call last)",
      "Cell \u001b[0;32mIn[32], line 1\u001b[0m\n\u001b[0;32m----> 1\u001b[0m \u001b[43mpx\u001b[49m\u001b[38;5;241;43m.\u001b[39;49m\u001b[43mbar\u001b[49m\u001b[43m(\u001b[49m\u001b[43msegment_grouped\u001b[49m\u001b[43m,\u001b[49m\u001b[43m \u001b[49m\u001b[43mx\u001b[49m\u001b[38;5;241;43m=\u001b[39;49m\u001b[38;5;124;43m'\u001b[39;49m\u001b[38;5;124;43msegment\u001b[39;49m\u001b[38;5;124;43m'\u001b[39;49m\u001b[43m,\u001b[49m\u001b[43my\u001b[49m\u001b[38;5;241;43m=\u001b[39;49m\u001b[38;5;124;43m'\u001b[39;49m\u001b[38;5;124;43memissions\u001b[39;49m\u001b[38;5;124;43m'\u001b[39;49m\u001b[43m,\u001b[49m\u001b[43mcolor\u001b[49m\u001b[38;5;241;43m=\u001b[39;49m\u001b[38;5;124;43m'\u001b[39;49m\u001b[38;5;124;43msegment\u001b[39;49m\u001b[38;5;124;43m'\u001b[39;49m\u001b[43m,\u001b[49m\u001b[43mlabels\u001b[49m\u001b[38;5;241;43m=\u001b[39;49m\u001b[43m{\u001b[49m\u001b[38;5;124;43m'\u001b[39;49m\u001b[38;5;124;43memissions\u001b[39;49m\u001b[38;5;124;43m'\u001b[39;49m\u001b[43m:\u001b[49m\u001b[38;5;124;43m'\u001b[39;49m\u001b[38;5;124;43mMethane emission\u001b[39;49m\u001b[38;5;124;43m'\u001b[39;49m\u001b[43m}\u001b[49m\u001b[43m)\u001b[49m\n",
      "File \u001b[0;32m~/.local/lib/python3.10/site-packages/plotly/express/_chart_types.py:373\u001b[0m, in \u001b[0;36mbar\u001b[0;34m(data_frame, x, y, color, pattern_shape, facet_row, facet_col, facet_col_wrap, facet_row_spacing, facet_col_spacing, hover_name, hover_data, custom_data, text, base, error_x, error_x_minus, error_y, error_y_minus, animation_frame, animation_group, category_orders, labels, color_discrete_sequence, color_discrete_map, color_continuous_scale, pattern_shape_sequence, pattern_shape_map, range_color, color_continuous_midpoint, opacity, orientation, barmode, log_x, log_y, range_x, range_y, text_auto, title, template, width, height)\u001b[0m\n\u001b[1;32m    325\u001b[0m \u001b[38;5;28;01mdef\u001b[39;00m \u001b[38;5;21mbar\u001b[39m(\n\u001b[1;32m    326\u001b[0m     data_frame\u001b[38;5;241m=\u001b[39m\u001b[38;5;28;01mNone\u001b[39;00m,\n\u001b[1;32m    327\u001b[0m     x\u001b[38;5;241m=\u001b[39m\u001b[38;5;28;01mNone\u001b[39;00m,\n\u001b[0;32m   (...)\u001b[0m\n\u001b[1;32m    367\u001b[0m     height\u001b[38;5;241m=\u001b[39m\u001b[38;5;28;01mNone\u001b[39;00m,\n\u001b[1;32m    368\u001b[0m ) \u001b[38;5;241m-\u001b[39m\u001b[38;5;241m>\u001b[39m go\u001b[38;5;241m.\u001b[39mFigure:\n\u001b[1;32m    369\u001b[0m \u001b[38;5;250m    \u001b[39m\u001b[38;5;124;03m\"\"\"\u001b[39;00m\n\u001b[1;32m    370\u001b[0m \u001b[38;5;124;03m    In a bar plot, each row of `data_frame` is represented as a rectangular\u001b[39;00m\n\u001b[1;32m    371\u001b[0m \u001b[38;5;124;03m    mark.\u001b[39;00m\n\u001b[1;32m    372\u001b[0m \u001b[38;5;124;03m    \"\"\"\u001b[39;00m\n\u001b[0;32m--> 373\u001b[0m     \u001b[38;5;28;01mreturn\u001b[39;00m \u001b[43mmake_figure\u001b[49m\u001b[43m(\u001b[49m\n\u001b[1;32m    374\u001b[0m \u001b[43m        \u001b[49m\u001b[43margs\u001b[49m\u001b[38;5;241;43m=\u001b[39;49m\u001b[38;5;28;43mlocals\u001b[39;49m\u001b[43m(\u001b[49m\u001b[43m)\u001b[49m\u001b[43m,\u001b[49m\n\u001b[1;32m    375\u001b[0m \u001b[43m        \u001b[49m\u001b[43mconstructor\u001b[49m\u001b[38;5;241;43m=\u001b[39;49m\u001b[43mgo\u001b[49m\u001b[38;5;241;43m.\u001b[39;49m\u001b[43mBar\u001b[49m\u001b[43m,\u001b[49m\n\u001b[1;32m    376\u001b[0m \u001b[43m        \u001b[49m\u001b[43mtrace_patch\u001b[49m\u001b[38;5;241;43m=\u001b[39;49m\u001b[38;5;28;43mdict\u001b[39;49m\u001b[43m(\u001b[49m\u001b[43mtextposition\u001b[49m\u001b[38;5;241;43m=\u001b[39;49m\u001b[38;5;124;43m\"\u001b[39;49m\u001b[38;5;124;43mauto\u001b[39;49m\u001b[38;5;124;43m\"\u001b[39;49m\u001b[43m)\u001b[49m\u001b[43m,\u001b[49m\n\u001b[1;32m    377\u001b[0m \u001b[43m        \u001b[49m\u001b[43mlayout_patch\u001b[49m\u001b[38;5;241;43m=\u001b[39;49m\u001b[38;5;28;43mdict\u001b[39;49m\u001b[43m(\u001b[49m\u001b[43mbarmode\u001b[49m\u001b[38;5;241;43m=\u001b[39;49m\u001b[43mbarmode\u001b[49m\u001b[43m)\u001b[49m\u001b[43m,\u001b[49m\n\u001b[1;32m    378\u001b[0m \u001b[43m    \u001b[49m\u001b[43m)\u001b[49m\n",
      "File \u001b[0;32m~/.local/lib/python3.10/site-packages/plotly/express/_core.py:1996\u001b[0m, in \u001b[0;36mmake_figure\u001b[0;34m(args, constructor, trace_patch, layout_patch)\u001b[0m\n\u001b[1;32m   1993\u001b[0m layout_patch \u001b[38;5;241m=\u001b[39m layout_patch \u001b[38;5;129;01mor\u001b[39;00m {}\n\u001b[1;32m   1994\u001b[0m apply_default_cascade(args)\n\u001b[0;32m-> 1996\u001b[0m args \u001b[38;5;241m=\u001b[39m \u001b[43mbuild_dataframe\u001b[49m\u001b[43m(\u001b[49m\u001b[43margs\u001b[49m\u001b[43m,\u001b[49m\u001b[43m \u001b[49m\u001b[43mconstructor\u001b[49m\u001b[43m)\u001b[49m\n\u001b[1;32m   1997\u001b[0m \u001b[38;5;28;01mif\u001b[39;00m constructor \u001b[38;5;129;01min\u001b[39;00m [go\u001b[38;5;241m.\u001b[39mTreemap, go\u001b[38;5;241m.\u001b[39mSunburst, go\u001b[38;5;241m.\u001b[39mIcicle] \u001b[38;5;129;01mand\u001b[39;00m args[\u001b[38;5;124m\"\u001b[39m\u001b[38;5;124mpath\u001b[39m\u001b[38;5;124m\"\u001b[39m] \u001b[38;5;129;01mis\u001b[39;00m \u001b[38;5;129;01mnot\u001b[39;00m \u001b[38;5;28;01mNone\u001b[39;00m:\n\u001b[1;32m   1998\u001b[0m     args \u001b[38;5;241m=\u001b[39m process_dataframe_hierarchy(args)\n",
      "File \u001b[0;32m~/.local/lib/python3.10/site-packages/plotly/express/_core.py:1409\u001b[0m, in \u001b[0;36mbuild_dataframe\u001b[0;34m(args, constructor)\u001b[0m\n\u001b[1;32m   1406\u001b[0m     args[\u001b[38;5;124m\"\u001b[39m\u001b[38;5;124mcolor\u001b[39m\u001b[38;5;124m\"\u001b[39m] \u001b[38;5;241m=\u001b[39m \u001b[38;5;28;01mNone\u001b[39;00m\n\u001b[1;32m   1407\u001b[0m \u001b[38;5;66;03m# now that things have been prepped, we do the systematic rewriting of `args`\u001b[39;00m\n\u001b[0;32m-> 1409\u001b[0m df_output, wide_id_vars \u001b[38;5;241m=\u001b[39m \u001b[43mprocess_args_into_dataframe\u001b[49m\u001b[43m(\u001b[49m\n\u001b[1;32m   1410\u001b[0m \u001b[43m    \u001b[49m\u001b[43margs\u001b[49m\u001b[43m,\u001b[49m\u001b[43m \u001b[49m\u001b[43mwide_mode\u001b[49m\u001b[43m,\u001b[49m\u001b[43m \u001b[49m\u001b[43mvar_name\u001b[49m\u001b[43m,\u001b[49m\u001b[43m \u001b[49m\u001b[43mvalue_name\u001b[49m\n\u001b[1;32m   1411\u001b[0m \u001b[43m\u001b[49m\u001b[43m)\u001b[49m\n\u001b[1;32m   1413\u001b[0m \u001b[38;5;66;03m# now that `df_output` exists and `args` contains only references, we complete\u001b[39;00m\n\u001b[1;32m   1414\u001b[0m \u001b[38;5;66;03m# the special-case and wide-mode handling by further rewriting args and/or mutating\u001b[39;00m\n\u001b[1;32m   1415\u001b[0m \u001b[38;5;66;03m# df_output\u001b[39;00m\n\u001b[1;32m   1417\u001b[0m count_name \u001b[38;5;241m=\u001b[39m _escape_col_name(df_output, \u001b[38;5;124m\"\u001b[39m\u001b[38;5;124mcount\u001b[39m\u001b[38;5;124m\"\u001b[39m, [var_name, value_name])\n",
      "File \u001b[0;32m~/.local/lib/python3.10/site-packages/plotly/express/_core.py:1208\u001b[0m, in \u001b[0;36mprocess_args_into_dataframe\u001b[0;34m(args, wide_mode, var_name, value_name)\u001b[0m\n\u001b[1;32m   1206\u001b[0m         \u001b[38;5;28;01mif\u001b[39;00m argument \u001b[38;5;241m==\u001b[39m \u001b[38;5;124m\"\u001b[39m\u001b[38;5;124mindex\u001b[39m\u001b[38;5;124m\"\u001b[39m:\n\u001b[1;32m   1207\u001b[0m             err_msg \u001b[38;5;241m+\u001b[39m\u001b[38;5;241m=\u001b[39m \u001b[38;5;124m\"\u001b[39m\u001b[38;5;130;01m\\n\u001b[39;00m\u001b[38;5;124m To use the index, pass it in directly as `df.index`.\u001b[39m\u001b[38;5;124m\"\u001b[39m\n\u001b[0;32m-> 1208\u001b[0m         \u001b[38;5;28;01mraise\u001b[39;00m \u001b[38;5;167;01mValueError\u001b[39;00m(err_msg)\n\u001b[1;32m   1209\u001b[0m \u001b[38;5;28;01melif\u001b[39;00m length \u001b[38;5;129;01mand\u001b[39;00m \u001b[38;5;28mlen\u001b[39m(df_input[argument]) \u001b[38;5;241m!=\u001b[39m length:\n\u001b[1;32m   1210\u001b[0m     \u001b[38;5;28;01mraise\u001b[39;00m \u001b[38;5;167;01mValueError\u001b[39;00m(\n\u001b[1;32m   1211\u001b[0m         \u001b[38;5;124m\"\u001b[39m\u001b[38;5;124mAll arguments should have the same length. \u001b[39m\u001b[38;5;124m\"\u001b[39m\n\u001b[1;32m   1212\u001b[0m         \u001b[38;5;124m\"\u001b[39m\u001b[38;5;124mThe length of column argument `df[\u001b[39m\u001b[38;5;132;01m%s\u001b[39;00m\u001b[38;5;124m]` is \u001b[39m\u001b[38;5;132;01m%d\u001b[39;00m\u001b[38;5;124m, whereas the \u001b[39m\u001b[38;5;124m\"\u001b[39m\n\u001b[0;32m   (...)\u001b[0m\n\u001b[1;32m   1219\u001b[0m         )\n\u001b[1;32m   1220\u001b[0m     )\n",
      "\u001b[0;31mValueError\u001b[0m: Value of 'x' is not the name of a column in 'data_frame'. Expected one of ['emissions'] but received: segment"
     ]
    }
   ],
   "source": [
    "px.bar(segment_grouped, x='segment',y='emissions',color='segment',labels={'emissions':'Methane emission'})"
   ]
  },
  {
   "cell_type": "code",
   "execution_count": null,
   "id": "983d42ac",
   "metadata": {},
   "outputs": [],
   "source": [
    "top_countries = emissions.groupby('country')['emissions'].sum().sort_values(ascending=False).head(10)\n",
    "print(top_countries)"
   ]
  },
  {
   "cell_type": "code",
   "execution_count": null,
   "id": "1e096a29",
   "metadata": {},
   "outputs": [],
   "source": [
    "china = emissions.loc[emissions['country'] == 'China']\n",
    "china = china[['type', 'segment', 'reason', 'emissions', 'baseYear']]\n",
    "china = china.reset_index(drop=True)\n",
    "china.head()"
   ]
  },
  {
   "cell_type": "code",
   "execution_count": null,
   "id": "b46ff317",
   "metadata": {},
   "outputs": [],
   "source": [
    "china_types = china.groupby('type').sum()\n",
    "china_types"
   ]
  },
  {
   "cell_type": "code",
   "execution_count": null,
   "id": "cd411414",
   "metadata": {},
   "outputs": [],
   "source": []
  },
  {
   "cell_type": "code",
   "execution_count": null,
   "id": "7087bd61",
   "metadata": {},
   "outputs": [],
   "source": []
  }
 ],
 "metadata": {
  "kernelspec": {
   "display_name": "PythonData",
   "language": "python",
   "name": "pythondata"
  },
  "language_info": {
   "codemirror_mode": {
    "name": "ipython",
    "version": 3
   },
   "file_extension": ".py",
   "mimetype": "text/x-python",
   "name": "python",
   "nbconvert_exporter": "python",
   "pygments_lexer": "ipython3",
   "version": "3.10.9"
  }
 },
 "nbformat": 4,
 "nbformat_minor": 5
}
