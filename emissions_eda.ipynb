{
 "cells": [
  {
   "cell_type": "code",
   "execution_count": 16,
   "id": "0587e334",
   "metadata": {},
   "outputs": [],
   "source": [
    "import warnings\n",
    "warnings.filterwarnings('ignore')\n",
    "\n",
    "# Dependencies\n",
    "import pandas as pd\n",
    "import numpy as np\n",
    "import seaborn as sns\n",
    "import plotly.express as px\n",
    "import matplotlib.pyplot as plt\n",
    "\n",
    "filepath = \"resources/Methane_final.csv\""
   ]
  },
  {
   "cell_type": "code",
   "execution_count": 2,
   "id": "74b730d2",
   "metadata": {},
   "outputs": [
    {
     "data": {
      "text/html": [
       "<div>\n",
       "<style scoped>\n",
       "    .dataframe tbody tr th:only-of-type {\n",
       "        vertical-align: middle;\n",
       "    }\n",
       "\n",
       "    .dataframe tbody tr th {\n",
       "        vertical-align: top;\n",
       "    }\n",
       "\n",
       "    .dataframe thead th {\n",
       "        text-align: right;\n",
       "    }\n",
       "</style>\n",
       "<table border=\"1\" class=\"dataframe\">\n",
       "  <thead>\n",
       "    <tr style=\"text-align: right;\">\n",
       "      <th></th>\n",
       "      <th>region</th>\n",
       "      <th>country</th>\n",
       "      <th>emissions</th>\n",
       "      <th>type</th>\n",
       "      <th>segment</th>\n",
       "      <th>reason</th>\n",
       "      <th>baseYear</th>\n",
       "      <th>notes</th>\n",
       "    </tr>\n",
       "  </thead>\n",
       "  <tbody>\n",
       "    <tr>\n",
       "      <th>0</th>\n",
       "      <td>Africa</td>\n",
       "      <td>Algeria</td>\n",
       "      <td>257.611206</td>\n",
       "      <td>Agriculture</td>\n",
       "      <td>Total</td>\n",
       "      <td>All</td>\n",
       "      <td>2019-2021</td>\n",
       "      <td>Average based on United Nations Framework Conv...</td>\n",
       "    </tr>\n",
       "    <tr>\n",
       "      <th>1</th>\n",
       "      <td>Africa</td>\n",
       "      <td>Algeria</td>\n",
       "      <td>0.052000</td>\n",
       "      <td>Energy</td>\n",
       "      <td>Bioenergy</td>\n",
       "      <td>All</td>\n",
       "      <td>2022</td>\n",
       "      <td>Estimates from end-uses are for 2020 or 2021 (...</td>\n",
       "    </tr>\n",
       "    <tr>\n",
       "      <th>2</th>\n",
       "      <td>Africa</td>\n",
       "      <td>Algeria</td>\n",
       "      <td>130.798996</td>\n",
       "      <td>Energy</td>\n",
       "      <td>Gas pipelines and LNG facilities</td>\n",
       "      <td>Fugitive</td>\n",
       "      <td>2022</td>\n",
       "      <td>Not available</td>\n",
       "    </tr>\n",
       "    <tr>\n",
       "      <th>3</th>\n",
       "      <td>Africa</td>\n",
       "      <td>Algeria</td>\n",
       "      <td>69.741898</td>\n",
       "      <td>Energy</td>\n",
       "      <td>Gas pipelines and LNG facilities</td>\n",
       "      <td>Vented</td>\n",
       "      <td>2022</td>\n",
       "      <td>Not available</td>\n",
       "    </tr>\n",
       "    <tr>\n",
       "      <th>4</th>\n",
       "      <td>Africa</td>\n",
       "      <td>Algeria</td>\n",
       "      <td>213.987000</td>\n",
       "      <td>Energy</td>\n",
       "      <td>Onshore gas</td>\n",
       "      <td>Fugitive</td>\n",
       "      <td>2022</td>\n",
       "      <td>Not available</td>\n",
       "    </tr>\n",
       "  </tbody>\n",
       "</table>\n",
       "</div>"
      ],
      "text/plain": [
       "   region  country   emissions         type                           segment  \\\n",
       "0  Africa  Algeria  257.611206  Agriculture                             Total   \n",
       "1  Africa  Algeria    0.052000       Energy                         Bioenergy   \n",
       "2  Africa  Algeria  130.798996       Energy  Gas pipelines and LNG facilities   \n",
       "3  Africa  Algeria   69.741898       Energy  Gas pipelines and LNG facilities   \n",
       "4  Africa  Algeria  213.987000       Energy                       Onshore gas   \n",
       "\n",
       "     reason   baseYear                                              notes  \n",
       "0       All  2019-2021  Average based on United Nations Framework Conv...  \n",
       "1       All       2022  Estimates from end-uses are for 2020 or 2021 (...  \n",
       "2  Fugitive       2022                                      Not available  \n",
       "3    Vented       2022                                      Not available  \n",
       "4  Fugitive       2022                                      Not available  "
      ]
     },
     "execution_count": 2,
     "metadata": {},
     "output_type": "execute_result"
    }
   ],
   "source": [
    "# Read csv\n",
    "emissions_df = pd.read_csv(filepath, index_col=[0])\n",
    "emissions_df.head()"
   ]
  },
  {
   "cell_type": "code",
   "execution_count": 3,
   "id": "bbe2a935",
   "metadata": {},
   "outputs": [
    {
     "name": "stdout",
     "output_type": "stream",
     "text": [
      "<class 'pandas.core.frame.DataFrame'>\n",
      "Int64Index: 1548 entries, 0 to 1547\n",
      "Data columns (total 8 columns):\n",
      " #   Column     Non-Null Count  Dtype  \n",
      "---  ------     --------------  -----  \n",
      " 0   region     1548 non-null   object \n",
      " 1   country    1548 non-null   object \n",
      " 2   emissions  1548 non-null   float64\n",
      " 3   type       1548 non-null   object \n",
      " 4   segment    1548 non-null   object \n",
      " 5   reason     1548 non-null   object \n",
      " 6   baseYear   1548 non-null   object \n",
      " 7   notes      1548 non-null   object \n",
      "dtypes: float64(1), object(7)\n",
      "memory usage: 108.8+ KB\n"
     ]
    }
   ],
   "source": [
    "# region -\n",
    "# country - Country of Emission\n",
    "# emissions - Methane Emissions (kt)\n",
    "# type - Sector from which emissions occur\n",
    "# Segment- Sub-sector from which emissions occur\n",
    "# reason - The reason for the emission\n",
    "# baseYear - Base year for the tracking of emissions\n",
    "# notes - The source of data\n",
    "emissions_df.info()"
   ]
  },
  {
   "cell_type": "code",
   "execution_count": 4,
   "id": "3c0db8ca",
   "metadata": {},
   "outputs": [
    {
     "data": {
      "text/plain": [
       "region       0\n",
       "country      0\n",
       "emissions    0\n",
       "type         0\n",
       "segment      0\n",
       "reason       0\n",
       "baseYear     0\n",
       "notes        0\n",
       "dtype: int64"
      ]
     },
     "execution_count": 4,
     "metadata": {},
     "output_type": "execute_result"
    }
   ],
   "source": [
    "# Checking null values\n",
    "emissions_df.isnull().sum()"
   ]
  },
  {
   "cell_type": "code",
   "execution_count": 5,
   "id": "5cde4fc5",
   "metadata": {},
   "outputs": [
    {
     "data": {
      "text/plain": [
       "877"
      ]
     },
     "execution_count": 5,
     "metadata": {},
     "output_type": "execute_result"
    }
   ],
   "source": [
    "# Evaluating notes column\n",
    "na = (emissions_df['notes'] == 'Not available').sum()\n",
    "na"
   ]
  },
  {
   "cell_type": "code",
   "execution_count": 6,
   "id": "92355d13",
   "metadata": {},
   "outputs": [
    {
     "data": {
      "text/plain": [
       "Energy         1233\n",
       "Agriculture     105\n",
       "Other           105\n",
       "Waste           105\n",
       "Name: type, dtype: int64"
      ]
     },
     "execution_count": 6,
     "metadata": {},
     "output_type": "execute_result"
    }
   ],
   "source": [
    "# Dropping notes column and evaluating type column\n",
    "emissions_df.drop('notes', axis=1, inplace=True)\n",
    "emissions_df['type'].value_counts()"
   ]
  },
  {
   "cell_type": "code",
   "execution_count": 7,
   "id": "a7527d2a",
   "metadata": {},
   "outputs": [
    {
     "data": {
      "text/plain": [
       "Total                                             414\n",
       "Onshore oil                                       217\n",
       "Gas pipelines and LNG facilities                  164\n",
       "Offshore oil                                      159\n",
       "Onshore gas                                       144\n",
       "Offshore gas                                      118\n",
       "Other from oil and gas                             98\n",
       "Bioenergy                                          93\n",
       "Other from coal                                    66\n",
       "Steam coal                                         30\n",
       "Coking coal                                        24\n",
       "Satellite-detected large oil and gas emissions     21\n",
       "Name: segment, dtype: int64"
      ]
     },
     "execution_count": 7,
     "metadata": {},
     "output_type": "execute_result"
    }
   ],
   "source": [
    "# Evaluating segment column\n",
    "emissions_df['segment'].value_counts()"
   ]
  },
  {
   "cell_type": "code",
   "execution_count": 8,
   "id": "93da871b",
   "metadata": {},
   "outputs": [
    {
     "data": {
      "text/html": [
       "<div>\n",
       "<style scoped>\n",
       "    .dataframe tbody tr th:only-of-type {\n",
       "        vertical-align: middle;\n",
       "    }\n",
       "\n",
       "    .dataframe tbody tr th {\n",
       "        vertical-align: top;\n",
       "    }\n",
       "\n",
       "    .dataframe thead th {\n",
       "        text-align: right;\n",
       "    }\n",
       "</style>\n",
       "<table border=\"1\" class=\"dataframe\">\n",
       "  <thead>\n",
       "    <tr style=\"text-align: right;\">\n",
       "      <th></th>\n",
       "      <th>region</th>\n",
       "      <th>country</th>\n",
       "      <th>emissions</th>\n",
       "      <th>segment</th>\n",
       "      <th>reason</th>\n",
       "      <th>baseYear</th>\n",
       "    </tr>\n",
       "  </thead>\n",
       "  <tbody>\n",
       "    <tr>\n",
       "      <th>1</th>\n",
       "      <td>Africa</td>\n",
       "      <td>Algeria</td>\n",
       "      <td>0.052000</td>\n",
       "      <td>Bioenergy</td>\n",
       "      <td>All</td>\n",
       "      <td>2022</td>\n",
       "    </tr>\n",
       "    <tr>\n",
       "      <th>2</th>\n",
       "      <td>Africa</td>\n",
       "      <td>Algeria</td>\n",
       "      <td>130.798996</td>\n",
       "      <td>Gas pipelines and LNG facilities</td>\n",
       "      <td>Fugitive</td>\n",
       "      <td>2022</td>\n",
       "    </tr>\n",
       "    <tr>\n",
       "      <th>3</th>\n",
       "      <td>Africa</td>\n",
       "      <td>Algeria</td>\n",
       "      <td>69.741898</td>\n",
       "      <td>Gas pipelines and LNG facilities</td>\n",
       "      <td>Vented</td>\n",
       "      <td>2022</td>\n",
       "    </tr>\n",
       "    <tr>\n",
       "      <th>4</th>\n",
       "      <td>Africa</td>\n",
       "      <td>Algeria</td>\n",
       "      <td>213.987000</td>\n",
       "      <td>Onshore gas</td>\n",
       "      <td>Fugitive</td>\n",
       "      <td>2022</td>\n",
       "    </tr>\n",
       "    <tr>\n",
       "      <th>5</th>\n",
       "      <td>Africa</td>\n",
       "      <td>Algeria</td>\n",
       "      <td>464.308014</td>\n",
       "      <td>Onshore gas</td>\n",
       "      <td>Vented</td>\n",
       "      <td>2022</td>\n",
       "    </tr>\n",
       "  </tbody>\n",
       "</table>\n",
       "</div>"
      ],
      "text/plain": [
       "   region  country   emissions                           segment    reason  \\\n",
       "1  Africa  Algeria    0.052000                         Bioenergy       All   \n",
       "2  Africa  Algeria  130.798996  Gas pipelines and LNG facilities  Fugitive   \n",
       "3  Africa  Algeria   69.741898  Gas pipelines and LNG facilities    Vented   \n",
       "4  Africa  Algeria  213.987000                       Onshore gas  Fugitive   \n",
       "5  Africa  Algeria  464.308014                       Onshore gas    Vented   \n",
       "\n",
       "  baseYear  \n",
       "1     2022  \n",
       "2     2022  \n",
       "3     2022  \n",
       "4     2022  \n",
       "5     2022  "
      ]
     },
     "execution_count": 8,
     "metadata": {},
     "output_type": "execute_result"
    }
   ],
   "source": [
    "# Creating DataFrame with all 'Energy' type emissions \n",
    "energy_df = emissions_df[emissions_df['type'] == 'Energy']\n",
    "energy_df.drop(['type'], axis=1, inplace=True)\n",
    "energy_df = energy_df[energy_df['segment'] != 'Total']\n",
    "energy_df = energy_df[energy_df['region'] != 'World']\n",
    "energy_df.head()"
   ]
  },
  {
   "cell_type": "code",
   "execution_count": 9,
   "id": "f5d96b81",
   "metadata": {
    "scrolled": true
   },
   "outputs": [
    {
     "data": {
      "text/html": [
       "<div>\n",
       "<style scoped>\n",
       "    .dataframe tbody tr th:only-of-type {\n",
       "        vertical-align: middle;\n",
       "    }\n",
       "\n",
       "    .dataframe tbody tr th {\n",
       "        vertical-align: top;\n",
       "    }\n",
       "\n",
       "    .dataframe thead th {\n",
       "        text-align: right;\n",
       "    }\n",
       "</style>\n",
       "<table border=\"1\" class=\"dataframe\">\n",
       "  <thead>\n",
       "    <tr style=\"text-align: right;\">\n",
       "      <th></th>\n",
       "      <th>region</th>\n",
       "      <th>country</th>\n",
       "      <th>emissions</th>\n",
       "      <th>type</th>\n",
       "      <th>segment</th>\n",
       "      <th>reason</th>\n",
       "      <th>baseYear</th>\n",
       "    </tr>\n",
       "  </thead>\n",
       "  <tbody>\n",
       "    <tr>\n",
       "      <th>0</th>\n",
       "      <td>Africa</td>\n",
       "      <td>Algeria</td>\n",
       "      <td>257.611206</td>\n",
       "      <td>Agriculture</td>\n",
       "      <td>Total</td>\n",
       "      <td>All</td>\n",
       "      <td>2019-2021</td>\n",
       "    </tr>\n",
       "    <tr>\n",
       "      <th>1</th>\n",
       "      <td>Africa</td>\n",
       "      <td>Algeria</td>\n",
       "      <td>0.052000</td>\n",
       "      <td>Energy</td>\n",
       "      <td>Bioenergy</td>\n",
       "      <td>All</td>\n",
       "      <td>2022</td>\n",
       "    </tr>\n",
       "    <tr>\n",
       "      <th>2</th>\n",
       "      <td>Africa</td>\n",
       "      <td>Algeria</td>\n",
       "      <td>130.798996</td>\n",
       "      <td>Energy</td>\n",
       "      <td>Gas pipelines and LNG facilities</td>\n",
       "      <td>Fugitive</td>\n",
       "      <td>2022</td>\n",
       "    </tr>\n",
       "    <tr>\n",
       "      <th>3</th>\n",
       "      <td>Africa</td>\n",
       "      <td>Algeria</td>\n",
       "      <td>69.741898</td>\n",
       "      <td>Energy</td>\n",
       "      <td>Gas pipelines and LNG facilities</td>\n",
       "      <td>Vented</td>\n",
       "      <td>2022</td>\n",
       "    </tr>\n",
       "    <tr>\n",
       "      <th>4</th>\n",
       "      <td>Africa</td>\n",
       "      <td>Algeria</td>\n",
       "      <td>213.987000</td>\n",
       "      <td>Energy</td>\n",
       "      <td>Onshore gas</td>\n",
       "      <td>Fugitive</td>\n",
       "      <td>2022</td>\n",
       "    </tr>\n",
       "  </tbody>\n",
       "</table>\n",
       "</div>"
      ],
      "text/plain": [
       "   region  country   emissions         type                           segment  \\\n",
       "0  Africa  Algeria  257.611206  Agriculture                             Total   \n",
       "1  Africa  Algeria    0.052000       Energy                         Bioenergy   \n",
       "2  Africa  Algeria  130.798996       Energy  Gas pipelines and LNG facilities   \n",
       "3  Africa  Algeria   69.741898       Energy  Gas pipelines and LNG facilities   \n",
       "4  Africa  Algeria  213.987000       Energy                       Onshore gas   \n",
       "\n",
       "     reason   baseYear  \n",
       "0       All  2019-2021  \n",
       "1       All       2022  \n",
       "2  Fugitive       2022  \n",
       "3    Vented       2022  \n",
       "4  Fugitive       2022  "
      ]
     },
     "execution_count": 9,
     "metadata": {},
     "output_type": "execute_result"
    }
   ],
   "source": [
    "# Creating a DataFrame excluding 'World' values for country analysis\n",
    "country_df = emissions_df[(emissions_df['region'] != 'World') & (emissions_df['country'] != 'World')]\n",
    "country_df.head()"
   ]
  },
  {
   "cell_type": "code",
   "execution_count": 14,
   "id": "19b6617d",
   "metadata": {},
   "outputs": [
    {
     "data": {
      "text/html": [
       "<div>\n",
       "<style scoped>\n",
       "    .dataframe tbody tr th:only-of-type {\n",
       "        vertical-align: middle;\n",
       "    }\n",
       "\n",
       "    .dataframe tbody tr th {\n",
       "        vertical-align: top;\n",
       "    }\n",
       "\n",
       "    .dataframe thead th {\n",
       "        text-align: right;\n",
       "    }\n",
       "</style>\n",
       "<table border=\"1\" class=\"dataframe\">\n",
       "  <thead>\n",
       "    <tr style=\"text-align: right;\">\n",
       "      <th></th>\n",
       "      <th>type</th>\n",
       "      <th>emissions</th>\n",
       "    </tr>\n",
       "  </thead>\n",
       "  <tbody>\n",
       "    <tr>\n",
       "      <th>0</th>\n",
       "      <td>Agriculture</td>\n",
       "      <td>150805.103144</td>\n",
       "    </tr>\n",
       "    <tr>\n",
       "      <th>1</th>\n",
       "      <td>Energy</td>\n",
       "      <td>135347.173195</td>\n",
       "    </tr>\n",
       "    <tr>\n",
       "      <th>2</th>\n",
       "      <td>Other</td>\n",
       "      <td>10028.772862</td>\n",
       "    </tr>\n",
       "    <tr>\n",
       "      <th>3</th>\n",
       "      <td>Waste</td>\n",
       "      <td>75079.707008</td>\n",
       "    </tr>\n",
       "  </tbody>\n",
       "</table>\n",
       "</div>"
      ],
      "text/plain": [
       "          type      emissions\n",
       "0  Agriculture  150805.103144\n",
       "1       Energy  135347.173195\n",
       "2        Other   10028.772862\n",
       "3        Waste   75079.707008"
      ]
     },
     "execution_count": 14,
     "metadata": {},
     "output_type": "execute_result"
    }
   ],
   "source": [
    "# Creating a DataFrame isolating type values\n",
    "type_df = emissions_df.loc[np.where((country_df['segment']=='Total'))]\n",
    "type_df.groupby('type').sum().reset_index()"
   ]
  },
  {
   "cell_type": "code",
   "execution_count": 18,
   "id": "06a1dd83",
   "metadata": {},
   "outputs": [
    {
     "data": {
      "application/vnd.plotly.v1+json": {
       "config": {
        "plotlyServerURL": "https://plot.ly"
       },
       "data": [
        {
         "domain": {
          "x": [
           0,
           1
          ],
          "y": [
           0,
           1
          ]
         },
         "hole": 0.5,
         "hovertemplate": "type=%{label}<br>emissions=%{value}<extra></extra>",
         "labels": [
          "Agriculture",
          "Energy",
          "Other",
          "Waste",
          "Agriculture",
          "Energy",
          "Other",
          "Waste",
          "Agriculture",
          "Energy",
          "Other",
          "Waste",
          "Agriculture",
          "Energy",
          "Other",
          "Waste",
          "Agriculture",
          "Energy",
          "Other",
          "Waste",
          "Agriculture",
          "Other",
          "Waste",
          "Agriculture",
          "Energy",
          "Other",
          "Waste",
          "Agriculture",
          "Energy",
          "Other",
          "Waste",
          "Agriculture",
          "Energy",
          "Other",
          "Waste",
          "Agriculture",
          "Energy",
          "Other",
          "Waste",
          "Agriculture",
          "Energy",
          "Other",
          "Waste",
          "Agriculture",
          "Energy",
          "Other",
          "Waste",
          "Agriculture",
          "Energy",
          "Other",
          "Waste",
          "Agriculture",
          "Energy",
          "Other",
          "Waste",
          "Agriculture",
          "Energy",
          "Other",
          "Waste",
          "Agriculture",
          "Other",
          "Waste",
          "Agriculture",
          "Energy",
          "Other",
          "Waste",
          "Agriculture",
          "Energy",
          "Other",
          "Waste",
          "Agriculture",
          "Other",
          "Waste",
          "Agriculture",
          "Energy",
          "Other",
          "Waste",
          "Agriculture",
          "Other",
          "Waste",
          "Agriculture",
          "Energy",
          "Other",
          "Waste",
          "Agriculture",
          "Energy",
          "Other",
          "Waste",
          "Agriculture",
          "Energy",
          "Other",
          "Waste",
          "Agriculture",
          "Energy",
          "Other",
          "Waste",
          "Agriculture",
          "Energy",
          "Other",
          "Waste",
          "Agriculture",
          "Energy",
          "Other",
          "Waste",
          "Agriculture",
          "Energy",
          "Other",
          "Waste",
          "Agriculture",
          "Other",
          "Waste",
          "Agriculture",
          "Other",
          "Waste",
          "Agriculture",
          "Energy",
          "Other",
          "Waste",
          "Agriculture",
          "Energy",
          "Other",
          "Waste",
          "Agriculture",
          "Energy",
          "Other",
          "Waste",
          "Agriculture",
          "Energy",
          "Other",
          "Waste",
          "Agriculture",
          "Energy",
          "Other",
          "Waste",
          "Agriculture",
          "Energy",
          "Other",
          "Waste",
          "Agriculture",
          "Energy",
          "Other",
          "Waste",
          "Agriculture",
          "Energy",
          "Other",
          "Waste",
          "Agriculture",
          "Energy",
          "Other",
          "Waste",
          "Agriculture",
          "Energy",
          "Other",
          "Waste",
          "Agriculture",
          "Energy",
          "Other",
          "Waste",
          "Agriculture",
          "Energy",
          "Other",
          "Waste",
          "Agriculture",
          "Energy",
          "Other",
          "Waste",
          "Agriculture",
          "Energy",
          "Other",
          "Waste",
          "Agriculture",
          "Energy",
          "Other",
          "Waste",
          "Agriculture",
          "Energy",
          "Other",
          "Waste",
          "Agriculture",
          "Energy",
          "Other",
          "Waste",
          "Agriculture",
          "Energy",
          "Other",
          "Waste",
          "Agriculture",
          "Energy",
          "Other",
          "Waste",
          "Agriculture",
          "Energy",
          "Other",
          "Waste",
          "Agriculture",
          "Energy",
          "Other",
          "Waste",
          "Agriculture",
          "Energy",
          "Other",
          "Waste",
          "Agriculture",
          "Energy",
          "Other",
          "Waste",
          "Agriculture",
          "Energy",
          "Other",
          "Waste",
          "Agriculture",
          "Energy",
          "Other",
          "Waste",
          "Agriculture",
          "Energy",
          "Other",
          "Waste",
          "Agriculture",
          "Energy",
          "Other",
          "Waste",
          "Agriculture",
          "Energy",
          "Other",
          "Waste",
          "Agriculture",
          "Energy",
          "Other",
          "Waste",
          "Agriculture",
          "Energy",
          "Other",
          "Waste",
          "Agriculture",
          "Energy",
          "Other",
          "Waste",
          "Agriculture",
          "Energy",
          "Other",
          "Waste",
          "Agriculture",
          "Energy",
          "Other",
          "Waste",
          "Agriculture",
          "Energy",
          "Other",
          "Waste",
          "Agriculture",
          "Energy",
          "Other",
          "Waste",
          "Agriculture",
          "Energy",
          "Other",
          "Waste",
          "Agriculture",
          "Energy",
          "Other",
          "Waste",
          "Agriculture",
          "Energy",
          "Other",
          "Waste",
          "Agriculture",
          "Energy",
          "Other",
          "Waste",
          "Agriculture",
          "Energy",
          "Other",
          "Waste",
          "Agriculture",
          "Energy",
          "Other",
          "Waste",
          "Agriculture",
          "Energy",
          "Other",
          "Waste",
          "Agriculture",
          "Energy",
          "Other",
          "Waste",
          "Agriculture",
          "Energy",
          "Other",
          "Waste",
          "Agriculture",
          "Energy",
          "Other",
          "Waste",
          "Agriculture",
          "Energy",
          "Other",
          "Waste",
          "Agriculture",
          "Energy",
          "Other",
          "Waste",
          "Agriculture",
          "Energy",
          "Other",
          "Waste",
          "Agriculture",
          "Energy",
          "Other",
          "Waste",
          "Agriculture",
          "Energy",
          "Other",
          "Waste",
          "Agriculture",
          "Energy",
          "Other",
          "Waste",
          "Agriculture",
          "Energy",
          "Other",
          "Waste",
          "Agriculture",
          "Energy",
          "Other",
          "Waste",
          "Agriculture",
          "Energy",
          "Other",
          "Waste",
          "Agriculture",
          "Energy",
          "Other",
          "Waste",
          "Agriculture",
          "Energy",
          "Other",
          "Waste",
          "Agriculture",
          "Energy",
          "Other",
          "Waste",
          "Agriculture",
          "Energy",
          "Other",
          "Waste",
          "Agriculture",
          "Energy",
          "Other",
          "Waste",
          "Agriculture",
          "Energy",
          "Other",
          "Waste",
          "Agriculture",
          "Energy",
          "Other",
          "Waste",
          "Agriculture",
          "Energy",
          "Other",
          "Waste",
          "Agriculture",
          "Energy",
          "Other",
          "Waste",
          "Agriculture",
          "Energy",
          "Other",
          "Waste",
          "Agriculture",
          "Energy",
          "Other",
          "Waste",
          "Agriculture",
          "Energy",
          "Other",
          "Waste",
          "Agriculture",
          "Energy",
          "Other",
          "Waste",
          "Agriculture",
          "Energy",
          "Other",
          "Waste",
          "Agriculture",
          "Energy",
          "Other",
          "Waste",
          "Agriculture",
          "Energy",
          "Other",
          "Waste",
          "Agriculture",
          "Energy",
          "Other",
          "Waste",
          "Agriculture",
          "Energy",
          "Other",
          "Waste",
          "Agriculture",
          "Energy",
          "Other",
          "Waste",
          "Agriculture",
          "Energy",
          "Other",
          "Waste"
         ],
         "legendgroup": "",
         "name": "",
         "showlegend": true,
         "type": "pie",
         "values": [
          257.6112060546875,
          2669.194580078125,
          6.475720882415772,
          510.9656066894531,
          400.9695739746094,
          568.7333374023438,
          81.70992279052734,
          151.49404907226562,
          105.69103240966795,
          26.6285400390625,
          43.24774169921875,
          42.10737228393555,
          97.25849151611328,
          6.199222564697266,
          2.236912250518799,
          843.4016723632812,
          279.5312194824219,
          216.560775756836,
          23.94275665283203,
          194.51437377929688,
          250.8168029785156,
          173.46914672851562,
          22.85633850097656,
          1223.9329833984375,
          51.41695022583008,
          13.205078125,
          70.19759368896484,
          23.8709659576416,
          264.7666931152344,
          11.99696445465088,
          30.08274269104004,
          185.7007751464844,
          93.39645385742188,
          28.767297744750977,
          220.2355194091797,
          555.5286865234375,
          260.6929016113281,
          201.8346710205078,
          566.8305053710938,
          684.5322265625,
          958.0424194335938,
          12.003130912780762,
          947.93408203125,
          0.438739001750946,
          169.01870727539062,
          2.3649120330810547,
          11.922514915466309,
          120.17935180664062,
          5.936958312988281,
          2.5068612098693848,
          24.038236618041992,
          1910.0897216796875,
          464.2127685546875,
          177.9381866455078,
          414.8589172363281,
          5.590458393096924,
          248.5525665283203,
          5.498744964599609,
          21.208723068237305,
          29.567506790161133,
          3.931763887405396,
          14.088419914245604,
          169.0322265625,
          120.73609161376952,
          26.986873626708984,
          159.3824005126953,
          438.159423828125,
          0.0080000003799796,
          17.251436233520508,
          68.93671417236328,
          52.83677673339844,
          26.177602767944336,
          8.758500099182129,
          1250.951904296875,
          143.8259735107422,
          34.40288162231445,
          180.646713256836,
          9.208291053771973,
          15.316903114318848,
          19.37256050109864,
          67.41584777832031,
          1599.4412841796875,
          3.0724658966064453,
          83.35655975341797,
          295.3795166015625,
          22.181472778320312,
          6.258478164672852,
          405.1220397949219,
          210.65399169921875,
          227.3558959960937,
          106.01947784423828,
          155.7392578125,
          181.9879150390625,
          2.631089210510254,
          1.329381227493286,
          15.859238624572754,
          696.4396362304688,
          40.86768341064453,
          10.043743133544922,
          152.30502319335938,
          2082.188232421875,
          3306.0712890625,
          347.1287841796875,
          862.4360961914062,
          261.5225524902344,
          13.024876594543455,
          4.177417755126953,
          101.4332275390625,
          0.078720711171627,
          0.0518720373511314,
          2.491305351257324,
          86.26763916015625,
          9.578605651855469,
          49.99830627441406,
          625.7147827148438,
          29.507999420166016,
          23.82088088989257,
          108.4111557006836,
          760.32275390625,
          1239.0296630859375,
          42.40746307373047,
          834.2140502929688,
          695.7181396484375,
          76.9888916015625,
          3.3333332538604736,
          121.76155090332033,
          1549.11083984375,
          143.06582641601562,
          36.831764221191406,
          233.21359252929688,
          1180.221923828125,
          203.3902282714844,
          1225.0953369140625,
          227.552978515625,
          50.73590850830078,
          19.2255916595459,
          9.78065299987793,
          37.90462112426758,
          97.72246551513672,
          77.23422241210938,
          4.220635890960693,
          108.2469711303711,
          2450.463134765625,
          2232.23876953125,
          241.8041534423828,
          619.0491333007812,
          2410.234375,
          334.3358459472656,
          54.36891174316406,
          825.30224609375,
          0.8412342667579651,
          43.50729370117188,
          0.2182318568229675,
          9.676277160644531,
          18501.9140625,
          25372.22265625,
          1377.8709716796875,
          10424.1416015625,
          18358.517578125,
          5185.236328125,
          571.2567138671875,
          5551.7607421875,
          3518.344482421875,
          5080.369140625,
          1156.4476318359375,
          4568.9384765625,
          991.6493530273438,
          283.3003234863281,
          21.91791725158692,
          243.30145263671875,
          508.4415588378906,
          200.3266448974609,
          28.59282493591309,
          527.2578125,
          189.0501708984375,
          474.0210876464844,
          27.7065544128418,
          893.9114379882812,
          549.2429809570312,
          216.8521881103516,
          6.77065896987915,
          16.66093635559082,
          1155.9993896484375,
          37.33414077758789,
          8.055159568786621,
          165.2618865966797,
          3300.293701171875,
          527.3272094726562,
          149.16900634765625,
          436.8053588867188,
          5319.4560546875,
          920.3993530273438,
          156.03668212890625,
          854.3361206054688,
          1714.848876953125,
          116.43431091308594,
          52.23356628417969,
          649.79248046875,
          2078.933837890625,
          535.2486572265625,
          56.79174041748047,
          703.9661254882812,
          2193.2626953125,
          60.93199920654297,
          34.768653869628906,
          783.7750244140625,
          3152.9326171875,
          1307.0936279296875,
          85.4056396484375,
          705.7312622070312,
          673.754150390625,
          128.09658813476562,
          146.38304138183594,
          87.08856201171875,
          14020.0888671875,
          1756.495361328125,
          387.7013854980469,
          3800.05712890625,
          1795.9031982421875,
          778.1613159179688,
          17.213926315307617,
          643.7293090820312,
          267.4549255371094,
          21.06509017944336,
          2.341588258743286,
          160.3751678466797,
          359.8713684082031,
          277.0992736816406,
          3.937007188796997,
          235.403060913086,
          57.39715576171875,
          47.569732666015625,
          1.915329933166504,
          8.31496524810791,
          835.0689086914062,
          16.34809112548828,
          13.040079116821287,
          115.26103973388672,
          639.6949462890625,
          131.71063232421875,
          50.463600158691406,
          355.07745361328125,
          4.345527648925781,
          209.22000122070312,
          5.858375072479248,
          62.29243469238281,
          751.9459228515625,
          7.599424362182617,
          3.5114591121673584,
          138.26727294921875,
          1015.0640869140624,
          2642.70361328125,
          10.820260047912598,
          379.9532775878906,
          240.09361267089844,
          41.51583480834961,
          5.735045909881592,
          40.26875686645508,
          27.72345733642578,
          11.624244689941406,
          2.18104100227356,
          37.32962417602539,
          8851.337890625,
          2760.969970703125,
          290.8985595703125,
          4320.9970703125,
          1564.2218017578125,
          193.59646606445312,
          39.94035720825195,
          630.8741455078125,
          1269.36865234375,
          353.0937194824219,
          67.88993072509766,
          605.1366577148438,
          39.840087890625,
          43.2089958190918,
          0.6706947088241577,
          282.4595642089844,
          800.047119140625,
          285.7864685058594,
          30.06378936767578,
          579.596923828125,
          466.8436584472656,
          29.25938034057617,
          15.82078742980957,
          137.8373260498047,
          103.60773468017578,
          41.1037712097168,
          5.547865867614746,
          46.46012496948242,
          2284.248779296875,
          448.1883544921875,
          84.71975708007812,
          2321.68505859375,
          2811.933837890625,
          600.064453125,
          98.36200714111328,
          1850.4228515625,
          139.63568115234375,
          55.59594345092773,
          8.988862991333008,
          249.8030548095703,
          615.5054321289062,
          865.2888793945312,
          44.48818588256836,
          347.61395263671875,
          367.9289245605469,
          285.4109191894531,
          11.696823120117188,
          244.40768432617188,
          48.42922592163086,
          7.726953983306885,
          1.593956470489502,
          17.910375595092773,
          128.65838623046875,
          31.990554809570312,
          10.069866180419922,
          159.8013458251953,
          377.1493225097656,
          553.4212036132812,
          71.82522583007812,
          401.859619140625,
          1064.6658935546875,
          274.63140869140625,
          64.70419311523438,
          1113.1412353515625,
          0.9645923376083374,
          190.6852569580078,
          1.48150372505188,
          172.3936004638672,
          802.454345703125,
          5629.822265625,
          37.20094299316406,
          931.3856201171876,
          168.22393798828125,
          2515.052734375,
          3.4219236373901367,
          362.1964721679688,
          25.815542221069336,
          47.20696640014648,
          0.5782174468040466,
          200.5210418701172,
          7.323050498962402,
          1002.0822143554688,
          0.8249784111976624,
          257.99493408203125,
          12.067669868469238,
          4.712915897369385,
          0.7648441195487976,
          112.2239990234375,
          37.05989837646485,
          869.2565307617188,
          9.764742851257324,
          64.55561828613281,
          11.3685884475708,
          1138.517822265625,
          5.521563529968262,
          64.40309143066406,
          121.0209732055664,
          3051.0966796875,
          27.8301010131836,
          955.779541015625,
          133.05282592773438,
          237.66441345214844,
          1.1841530799865725,
          169.2044219970703,
          47.43784332275391,
          1439.1328125,
          2.969593048095703,
          462.6634826660156,
          181.29298400878903,
          145.18161010742188,
          0.5342848896980286,
          161.4936981201172,
          1072.710693359375,
          2548.3984375,
          42.62068176269531,
          897.9652709960938,
          2420.791015625,
          1581.3292236328125,
          54.36140441894531,
          1994.62744140625,
          9409.3251953125,
          16769.630859375,
          538.3626098632812,
          5117.92822265625,
          7259.01416015625,
          2420.8798828125,
          682.0879516601562,
          3214.4951171875,
          195.1975250244141,
          323.2549743652344,
          0.96043461561203,
          104.27503204345705,
          762.0980834960938,
          2740.561279296875,
          17.407060623168945,
          198.9350128173828,
          2022.095947265625,
          18078.083984375,
          323.421630859375,
          3931.244384765625,
          304.87176513671875,
          4740.041015625,
          1.4148011207580566,
          48.02981185913086,
          901.6826171875,
          780.9161376953125,
          3.845616340637207,
          280.4182434082031
         ]
        }
       ],
       "layout": {
        "legend": {
         "tracegroupgap": 0
        },
        "margin": {
         "t": 60
        },
        "template": {
         "data": {
          "bar": [
           {
            "error_x": {
             "color": "#2a3f5f"
            },
            "error_y": {
             "color": "#2a3f5f"
            },
            "marker": {
             "line": {
              "color": "#E5ECF6",
              "width": 0.5
             },
             "pattern": {
              "fillmode": "overlay",
              "size": 10,
              "solidity": 0.2
             }
            },
            "type": "bar"
           }
          ],
          "barpolar": [
           {
            "marker": {
             "line": {
              "color": "#E5ECF6",
              "width": 0.5
             },
             "pattern": {
              "fillmode": "overlay",
              "size": 10,
              "solidity": 0.2
             }
            },
            "type": "barpolar"
           }
          ],
          "carpet": [
           {
            "aaxis": {
             "endlinecolor": "#2a3f5f",
             "gridcolor": "white",
             "linecolor": "white",
             "minorgridcolor": "white",
             "startlinecolor": "#2a3f5f"
            },
            "baxis": {
             "endlinecolor": "#2a3f5f",
             "gridcolor": "white",
             "linecolor": "white",
             "minorgridcolor": "white",
             "startlinecolor": "#2a3f5f"
            },
            "type": "carpet"
           }
          ],
          "choropleth": [
           {
            "colorbar": {
             "outlinewidth": 0,
             "ticks": ""
            },
            "type": "choropleth"
           }
          ],
          "contour": [
           {
            "colorbar": {
             "outlinewidth": 0,
             "ticks": ""
            },
            "colorscale": [
             [
              0,
              "#0d0887"
             ],
             [
              0.1111111111111111,
              "#46039f"
             ],
             [
              0.2222222222222222,
              "#7201a8"
             ],
             [
              0.3333333333333333,
              "#9c179e"
             ],
             [
              0.4444444444444444,
              "#bd3786"
             ],
             [
              0.5555555555555556,
              "#d8576b"
             ],
             [
              0.6666666666666666,
              "#ed7953"
             ],
             [
              0.7777777777777778,
              "#fb9f3a"
             ],
             [
              0.8888888888888888,
              "#fdca26"
             ],
             [
              1,
              "#f0f921"
             ]
            ],
            "type": "contour"
           }
          ],
          "contourcarpet": [
           {
            "colorbar": {
             "outlinewidth": 0,
             "ticks": ""
            },
            "type": "contourcarpet"
           }
          ],
          "heatmap": [
           {
            "colorbar": {
             "outlinewidth": 0,
             "ticks": ""
            },
            "colorscale": [
             [
              0,
              "#0d0887"
             ],
             [
              0.1111111111111111,
              "#46039f"
             ],
             [
              0.2222222222222222,
              "#7201a8"
             ],
             [
              0.3333333333333333,
              "#9c179e"
             ],
             [
              0.4444444444444444,
              "#bd3786"
             ],
             [
              0.5555555555555556,
              "#d8576b"
             ],
             [
              0.6666666666666666,
              "#ed7953"
             ],
             [
              0.7777777777777778,
              "#fb9f3a"
             ],
             [
              0.8888888888888888,
              "#fdca26"
             ],
             [
              1,
              "#f0f921"
             ]
            ],
            "type": "heatmap"
           }
          ],
          "heatmapgl": [
           {
            "colorbar": {
             "outlinewidth": 0,
             "ticks": ""
            },
            "colorscale": [
             [
              0,
              "#0d0887"
             ],
             [
              0.1111111111111111,
              "#46039f"
             ],
             [
              0.2222222222222222,
              "#7201a8"
             ],
             [
              0.3333333333333333,
              "#9c179e"
             ],
             [
              0.4444444444444444,
              "#bd3786"
             ],
             [
              0.5555555555555556,
              "#d8576b"
             ],
             [
              0.6666666666666666,
              "#ed7953"
             ],
             [
              0.7777777777777778,
              "#fb9f3a"
             ],
             [
              0.8888888888888888,
              "#fdca26"
             ],
             [
              1,
              "#f0f921"
             ]
            ],
            "type": "heatmapgl"
           }
          ],
          "histogram": [
           {
            "marker": {
             "pattern": {
              "fillmode": "overlay",
              "size": 10,
              "solidity": 0.2
             }
            },
            "type": "histogram"
           }
          ],
          "histogram2d": [
           {
            "colorbar": {
             "outlinewidth": 0,
             "ticks": ""
            },
            "colorscale": [
             [
              0,
              "#0d0887"
             ],
             [
              0.1111111111111111,
              "#46039f"
             ],
             [
              0.2222222222222222,
              "#7201a8"
             ],
             [
              0.3333333333333333,
              "#9c179e"
             ],
             [
              0.4444444444444444,
              "#bd3786"
             ],
             [
              0.5555555555555556,
              "#d8576b"
             ],
             [
              0.6666666666666666,
              "#ed7953"
             ],
             [
              0.7777777777777778,
              "#fb9f3a"
             ],
             [
              0.8888888888888888,
              "#fdca26"
             ],
             [
              1,
              "#f0f921"
             ]
            ],
            "type": "histogram2d"
           }
          ],
          "histogram2dcontour": [
           {
            "colorbar": {
             "outlinewidth": 0,
             "ticks": ""
            },
            "colorscale": [
             [
              0,
              "#0d0887"
             ],
             [
              0.1111111111111111,
              "#46039f"
             ],
             [
              0.2222222222222222,
              "#7201a8"
             ],
             [
              0.3333333333333333,
              "#9c179e"
             ],
             [
              0.4444444444444444,
              "#bd3786"
             ],
             [
              0.5555555555555556,
              "#d8576b"
             ],
             [
              0.6666666666666666,
              "#ed7953"
             ],
             [
              0.7777777777777778,
              "#fb9f3a"
             ],
             [
              0.8888888888888888,
              "#fdca26"
             ],
             [
              1,
              "#f0f921"
             ]
            ],
            "type": "histogram2dcontour"
           }
          ],
          "mesh3d": [
           {
            "colorbar": {
             "outlinewidth": 0,
             "ticks": ""
            },
            "type": "mesh3d"
           }
          ],
          "parcoords": [
           {
            "line": {
             "colorbar": {
              "outlinewidth": 0,
              "ticks": ""
             }
            },
            "type": "parcoords"
           }
          ],
          "pie": [
           {
            "automargin": true,
            "type": "pie"
           }
          ],
          "scatter": [
           {
            "fillpattern": {
             "fillmode": "overlay",
             "size": 10,
             "solidity": 0.2
            },
            "type": "scatter"
           }
          ],
          "scatter3d": [
           {
            "line": {
             "colorbar": {
              "outlinewidth": 0,
              "ticks": ""
             }
            },
            "marker": {
             "colorbar": {
              "outlinewidth": 0,
              "ticks": ""
             }
            },
            "type": "scatter3d"
           }
          ],
          "scattercarpet": [
           {
            "marker": {
             "colorbar": {
              "outlinewidth": 0,
              "ticks": ""
             }
            },
            "type": "scattercarpet"
           }
          ],
          "scattergeo": [
           {
            "marker": {
             "colorbar": {
              "outlinewidth": 0,
              "ticks": ""
             }
            },
            "type": "scattergeo"
           }
          ],
          "scattergl": [
           {
            "marker": {
             "colorbar": {
              "outlinewidth": 0,
              "ticks": ""
             }
            },
            "type": "scattergl"
           }
          ],
          "scattermapbox": [
           {
            "marker": {
             "colorbar": {
              "outlinewidth": 0,
              "ticks": ""
             }
            },
            "type": "scattermapbox"
           }
          ],
          "scatterpolar": [
           {
            "marker": {
             "colorbar": {
              "outlinewidth": 0,
              "ticks": ""
             }
            },
            "type": "scatterpolar"
           }
          ],
          "scatterpolargl": [
           {
            "marker": {
             "colorbar": {
              "outlinewidth": 0,
              "ticks": ""
             }
            },
            "type": "scatterpolargl"
           }
          ],
          "scatterternary": [
           {
            "marker": {
             "colorbar": {
              "outlinewidth": 0,
              "ticks": ""
             }
            },
            "type": "scatterternary"
           }
          ],
          "surface": [
           {
            "colorbar": {
             "outlinewidth": 0,
             "ticks": ""
            },
            "colorscale": [
             [
              0,
              "#0d0887"
             ],
             [
              0.1111111111111111,
              "#46039f"
             ],
             [
              0.2222222222222222,
              "#7201a8"
             ],
             [
              0.3333333333333333,
              "#9c179e"
             ],
             [
              0.4444444444444444,
              "#bd3786"
             ],
             [
              0.5555555555555556,
              "#d8576b"
             ],
             [
              0.6666666666666666,
              "#ed7953"
             ],
             [
              0.7777777777777778,
              "#fb9f3a"
             ],
             [
              0.8888888888888888,
              "#fdca26"
             ],
             [
              1,
              "#f0f921"
             ]
            ],
            "type": "surface"
           }
          ],
          "table": [
           {
            "cells": {
             "fill": {
              "color": "#EBF0F8"
             },
             "line": {
              "color": "white"
             }
            },
            "header": {
             "fill": {
              "color": "#C8D4E3"
             },
             "line": {
              "color": "white"
             }
            },
            "type": "table"
           }
          ]
         },
         "layout": {
          "annotationdefaults": {
           "arrowcolor": "#2a3f5f",
           "arrowhead": 0,
           "arrowwidth": 1
          },
          "autotypenumbers": "strict",
          "coloraxis": {
           "colorbar": {
            "outlinewidth": 0,
            "ticks": ""
           }
          },
          "colorscale": {
           "diverging": [
            [
             0,
             "#8e0152"
            ],
            [
             0.1,
             "#c51b7d"
            ],
            [
             0.2,
             "#de77ae"
            ],
            [
             0.3,
             "#f1b6da"
            ],
            [
             0.4,
             "#fde0ef"
            ],
            [
             0.5,
             "#f7f7f7"
            ],
            [
             0.6,
             "#e6f5d0"
            ],
            [
             0.7,
             "#b8e186"
            ],
            [
             0.8,
             "#7fbc41"
            ],
            [
             0.9,
             "#4d9221"
            ],
            [
             1,
             "#276419"
            ]
           ],
           "sequential": [
            [
             0,
             "#0d0887"
            ],
            [
             0.1111111111111111,
             "#46039f"
            ],
            [
             0.2222222222222222,
             "#7201a8"
            ],
            [
             0.3333333333333333,
             "#9c179e"
            ],
            [
             0.4444444444444444,
             "#bd3786"
            ],
            [
             0.5555555555555556,
             "#d8576b"
            ],
            [
             0.6666666666666666,
             "#ed7953"
            ],
            [
             0.7777777777777778,
             "#fb9f3a"
            ],
            [
             0.8888888888888888,
             "#fdca26"
            ],
            [
             1,
             "#f0f921"
            ]
           ],
           "sequentialminus": [
            [
             0,
             "#0d0887"
            ],
            [
             0.1111111111111111,
             "#46039f"
            ],
            [
             0.2222222222222222,
             "#7201a8"
            ],
            [
             0.3333333333333333,
             "#9c179e"
            ],
            [
             0.4444444444444444,
             "#bd3786"
            ],
            [
             0.5555555555555556,
             "#d8576b"
            ],
            [
             0.6666666666666666,
             "#ed7953"
            ],
            [
             0.7777777777777778,
             "#fb9f3a"
            ],
            [
             0.8888888888888888,
             "#fdca26"
            ],
            [
             1,
             "#f0f921"
            ]
           ]
          },
          "colorway": [
           "#636efa",
           "#EF553B",
           "#00cc96",
           "#ab63fa",
           "#FFA15A",
           "#19d3f3",
           "#FF6692",
           "#B6E880",
           "#FF97FF",
           "#FECB52"
          ],
          "font": {
           "color": "#2a3f5f"
          },
          "geo": {
           "bgcolor": "white",
           "lakecolor": "white",
           "landcolor": "#E5ECF6",
           "showlakes": true,
           "showland": true,
           "subunitcolor": "white"
          },
          "hoverlabel": {
           "align": "left"
          },
          "hovermode": "closest",
          "mapbox": {
           "style": "light"
          },
          "paper_bgcolor": "white",
          "plot_bgcolor": "#E5ECF6",
          "polar": {
           "angularaxis": {
            "gridcolor": "white",
            "linecolor": "white",
            "ticks": ""
           },
           "bgcolor": "#E5ECF6",
           "radialaxis": {
            "gridcolor": "white",
            "linecolor": "white",
            "ticks": ""
           }
          },
          "scene": {
           "xaxis": {
            "backgroundcolor": "#E5ECF6",
            "gridcolor": "white",
            "gridwidth": 2,
            "linecolor": "white",
            "showbackground": true,
            "ticks": "",
            "zerolinecolor": "white"
           },
           "yaxis": {
            "backgroundcolor": "#E5ECF6",
            "gridcolor": "white",
            "gridwidth": 2,
            "linecolor": "white",
            "showbackground": true,
            "ticks": "",
            "zerolinecolor": "white"
           },
           "zaxis": {
            "backgroundcolor": "#E5ECF6",
            "gridcolor": "white",
            "gridwidth": 2,
            "linecolor": "white",
            "showbackground": true,
            "ticks": "",
            "zerolinecolor": "white"
           }
          },
          "shapedefaults": {
           "line": {
            "color": "#2a3f5f"
           }
          },
          "ternary": {
           "aaxis": {
            "gridcolor": "white",
            "linecolor": "white",
            "ticks": ""
           },
           "baxis": {
            "gridcolor": "white",
            "linecolor": "white",
            "ticks": ""
           },
           "bgcolor": "#E5ECF6",
           "caxis": {
            "gridcolor": "white",
            "linecolor": "white",
            "ticks": ""
           }
          },
          "title": {
           "x": 0.05
          },
          "xaxis": {
           "automargin": true,
           "gridcolor": "white",
           "linecolor": "white",
           "ticks": "",
           "title": {
            "standoff": 15
           },
           "zerolinecolor": "white",
           "zerolinewidth": 2
          },
          "yaxis": {
           "automargin": true,
           "gridcolor": "white",
           "linecolor": "white",
           "ticks": "",
           "title": {
            "standoff": 15
           },
           "zerolinecolor": "white",
           "zerolinewidth": 2
          }
         }
        }
       }
      },
      "text/html": [
       "<div>                            <div id=\"dfd4b8bc-ee4d-4fb5-b5e6-093b13f39593\" class=\"plotly-graph-div\" style=\"height:525px; width:100%;\"></div>            <script type=\"text/javascript\">                require([\"plotly\"], function(Plotly) {                    window.PLOTLYENV=window.PLOTLYENV || {};                                    if (document.getElementById(\"dfd4b8bc-ee4d-4fb5-b5e6-093b13f39593\")) {                    Plotly.newPlot(                        \"dfd4b8bc-ee4d-4fb5-b5e6-093b13f39593\",                        [{\"domain\":{\"x\":[0.0,1.0],\"y\":[0.0,1.0]},\"hole\":0.5,\"hovertemplate\":\"type=%{label}<br>emissions=%{value}<extra></extra>\",\"labels\":[\"Agriculture\",\"Energy\",\"Other\",\"Waste\",\"Agriculture\",\"Energy\",\"Other\",\"Waste\",\"Agriculture\",\"Energy\",\"Other\",\"Waste\",\"Agriculture\",\"Energy\",\"Other\",\"Waste\",\"Agriculture\",\"Energy\",\"Other\",\"Waste\",\"Agriculture\",\"Other\",\"Waste\",\"Agriculture\",\"Energy\",\"Other\",\"Waste\",\"Agriculture\",\"Energy\",\"Other\",\"Waste\",\"Agriculture\",\"Energy\",\"Other\",\"Waste\",\"Agriculture\",\"Energy\",\"Other\",\"Waste\",\"Agriculture\",\"Energy\",\"Other\",\"Waste\",\"Agriculture\",\"Energy\",\"Other\",\"Waste\",\"Agriculture\",\"Energy\",\"Other\",\"Waste\",\"Agriculture\",\"Energy\",\"Other\",\"Waste\",\"Agriculture\",\"Energy\",\"Other\",\"Waste\",\"Agriculture\",\"Other\",\"Waste\",\"Agriculture\",\"Energy\",\"Other\",\"Waste\",\"Agriculture\",\"Energy\",\"Other\",\"Waste\",\"Agriculture\",\"Other\",\"Waste\",\"Agriculture\",\"Energy\",\"Other\",\"Waste\",\"Agriculture\",\"Other\",\"Waste\",\"Agriculture\",\"Energy\",\"Other\",\"Waste\",\"Agriculture\",\"Energy\",\"Other\",\"Waste\",\"Agriculture\",\"Energy\",\"Other\",\"Waste\",\"Agriculture\",\"Energy\",\"Other\",\"Waste\",\"Agriculture\",\"Energy\",\"Other\",\"Waste\",\"Agriculture\",\"Energy\",\"Other\",\"Waste\",\"Agriculture\",\"Energy\",\"Other\",\"Waste\",\"Agriculture\",\"Other\",\"Waste\",\"Agriculture\",\"Other\",\"Waste\",\"Agriculture\",\"Energy\",\"Other\",\"Waste\",\"Agriculture\",\"Energy\",\"Other\",\"Waste\",\"Agriculture\",\"Energy\",\"Other\",\"Waste\",\"Agriculture\",\"Energy\",\"Other\",\"Waste\",\"Agriculture\",\"Energy\",\"Other\",\"Waste\",\"Agriculture\",\"Energy\",\"Other\",\"Waste\",\"Agriculture\",\"Energy\",\"Other\",\"Waste\",\"Agriculture\",\"Energy\",\"Other\",\"Waste\",\"Agriculture\",\"Energy\",\"Other\",\"Waste\",\"Agriculture\",\"Energy\",\"Other\",\"Waste\",\"Agriculture\",\"Energy\",\"Other\",\"Waste\",\"Agriculture\",\"Energy\",\"Other\",\"Waste\",\"Agriculture\",\"Energy\",\"Other\",\"Waste\",\"Agriculture\",\"Energy\",\"Other\",\"Waste\",\"Agriculture\",\"Energy\",\"Other\",\"Waste\",\"Agriculture\",\"Energy\",\"Other\",\"Waste\",\"Agriculture\",\"Energy\",\"Other\",\"Waste\",\"Agriculture\",\"Energy\",\"Other\",\"Waste\",\"Agriculture\",\"Energy\",\"Other\",\"Waste\",\"Agriculture\",\"Energy\",\"Other\",\"Waste\",\"Agriculture\",\"Energy\",\"Other\",\"Waste\",\"Agriculture\",\"Energy\",\"Other\",\"Waste\",\"Agriculture\",\"Energy\",\"Other\",\"Waste\",\"Agriculture\",\"Energy\",\"Other\",\"Waste\",\"Agriculture\",\"Energy\",\"Other\",\"Waste\",\"Agriculture\",\"Energy\",\"Other\",\"Waste\",\"Agriculture\",\"Energy\",\"Other\",\"Waste\",\"Agriculture\",\"Energy\",\"Other\",\"Waste\",\"Agriculture\",\"Energy\",\"Other\",\"Waste\",\"Agriculture\",\"Energy\",\"Other\",\"Waste\",\"Agriculture\",\"Energy\",\"Other\",\"Waste\",\"Agriculture\",\"Energy\",\"Other\",\"Waste\",\"Agriculture\",\"Energy\",\"Other\",\"Waste\",\"Agriculture\",\"Energy\",\"Other\",\"Waste\",\"Agriculture\",\"Energy\",\"Other\",\"Waste\",\"Agriculture\",\"Energy\",\"Other\",\"Waste\",\"Agriculture\",\"Energy\",\"Other\",\"Waste\",\"Agriculture\",\"Energy\",\"Other\",\"Waste\",\"Agriculture\",\"Energy\",\"Other\",\"Waste\",\"Agriculture\",\"Energy\",\"Other\",\"Waste\",\"Agriculture\",\"Energy\",\"Other\",\"Waste\",\"Agriculture\",\"Energy\",\"Other\",\"Waste\",\"Agriculture\",\"Energy\",\"Other\",\"Waste\",\"Agriculture\",\"Energy\",\"Other\",\"Waste\",\"Agriculture\",\"Energy\",\"Other\",\"Waste\",\"Agriculture\",\"Energy\",\"Other\",\"Waste\",\"Agriculture\",\"Energy\",\"Other\",\"Waste\",\"Agriculture\",\"Energy\",\"Other\",\"Waste\",\"Agriculture\",\"Energy\",\"Other\",\"Waste\",\"Agriculture\",\"Energy\",\"Other\",\"Waste\",\"Agriculture\",\"Energy\",\"Other\",\"Waste\",\"Agriculture\",\"Energy\",\"Other\",\"Waste\",\"Agriculture\",\"Energy\",\"Other\",\"Waste\",\"Agriculture\",\"Energy\",\"Other\",\"Waste\",\"Agriculture\",\"Energy\",\"Other\",\"Waste\",\"Agriculture\",\"Energy\",\"Other\",\"Waste\",\"Agriculture\",\"Energy\",\"Other\",\"Waste\",\"Agriculture\",\"Energy\",\"Other\",\"Waste\",\"Agriculture\",\"Energy\",\"Other\",\"Waste\",\"Agriculture\",\"Energy\",\"Other\",\"Waste\",\"Agriculture\",\"Energy\",\"Other\",\"Waste\",\"Agriculture\",\"Energy\",\"Other\",\"Waste\",\"Agriculture\",\"Energy\",\"Other\",\"Waste\",\"Agriculture\",\"Energy\",\"Other\",\"Waste\",\"Agriculture\",\"Energy\",\"Other\",\"Waste\",\"Agriculture\",\"Energy\",\"Other\",\"Waste\",\"Agriculture\",\"Energy\",\"Other\",\"Waste\",\"Agriculture\",\"Energy\",\"Other\",\"Waste\",\"Agriculture\",\"Energy\",\"Other\",\"Waste\",\"Agriculture\",\"Energy\",\"Other\",\"Waste\",\"Agriculture\",\"Energy\",\"Other\",\"Waste\",\"Agriculture\",\"Energy\",\"Other\",\"Waste\",\"Agriculture\",\"Energy\",\"Other\",\"Waste\",\"Agriculture\",\"Energy\",\"Other\",\"Waste\"],\"legendgroup\":\"\",\"name\":\"\",\"showlegend\":true,\"values\":[257.6112060546875,2669.194580078125,6.475720882415772,510.9656066894531,400.9695739746094,568.7333374023438,81.70992279052734,151.49404907226562,105.69103240966795,26.6285400390625,43.24774169921875,42.10737228393555,97.25849151611328,6.199222564697266,2.236912250518799,843.4016723632812,279.5312194824219,216.560775756836,23.94275665283203,194.51437377929688,250.8168029785156,173.46914672851562,22.85633850097656,1223.9329833984375,51.41695022583008,13.205078125,70.19759368896484,23.8709659576416,264.7666931152344,11.99696445465088,30.08274269104004,185.7007751464844,93.39645385742188,28.767297744750977,220.2355194091797,555.5286865234375,260.6929016113281,201.8346710205078,566.8305053710938,684.5322265625,958.0424194335938,12.003130912780762,947.93408203125,0.438739001750946,169.01870727539062,2.3649120330810547,11.922514915466309,120.17935180664062,5.936958312988281,2.5068612098693848,24.038236618041992,1910.0897216796875,464.2127685546875,177.9381866455078,414.8589172363281,5.590458393096924,248.5525665283203,5.498744964599609,21.208723068237305,29.567506790161133,3.931763887405396,14.088419914245604,169.0322265625,120.73609161376952,26.986873626708984,159.3824005126953,438.159423828125,0.0080000003799796,17.251436233520508,68.93671417236328,52.83677673339844,26.177602767944336,8.758500099182129,1250.951904296875,143.8259735107422,34.40288162231445,180.646713256836,9.208291053771973,15.316903114318848,19.37256050109864,67.41584777832031,1599.4412841796875,3.0724658966064453,83.35655975341797,295.3795166015625,22.181472778320312,6.258478164672852,405.1220397949219,210.65399169921875,227.3558959960937,106.01947784423828,155.7392578125,181.9879150390625,2.631089210510254,1.329381227493286,15.859238624572754,696.4396362304688,40.86768341064453,10.043743133544922,152.30502319335938,2082.188232421875,3306.0712890625,347.1287841796875,862.4360961914062,261.5225524902344,13.024876594543455,4.177417755126953,101.4332275390625,0.078720711171627,0.0518720373511314,2.491305351257324,86.26763916015625,9.578605651855469,49.99830627441406,625.7147827148438,29.507999420166016,23.82088088989257,108.4111557006836,760.32275390625,1239.0296630859375,42.40746307373047,834.2140502929688,695.7181396484375,76.9888916015625,3.3333332538604736,121.76155090332033,1549.11083984375,143.06582641601562,36.831764221191406,233.21359252929688,1180.221923828125,203.3902282714844,1225.0953369140625,227.552978515625,50.73590850830078,19.2255916595459,9.78065299987793,37.90462112426758,97.72246551513672,77.23422241210938,4.220635890960693,108.2469711303711,2450.463134765625,2232.23876953125,241.8041534423828,619.0491333007812,2410.234375,334.3358459472656,54.36891174316406,825.30224609375,0.8412342667579651,43.50729370117188,0.2182318568229675,9.676277160644531,18501.9140625,25372.22265625,1377.8709716796875,10424.1416015625,18358.517578125,5185.236328125,571.2567138671875,5551.7607421875,3518.344482421875,5080.369140625,1156.4476318359375,4568.9384765625,991.6493530273438,283.3003234863281,21.91791725158692,243.30145263671875,508.4415588378906,200.3266448974609,28.59282493591309,527.2578125,189.0501708984375,474.0210876464844,27.7065544128418,893.9114379882812,549.2429809570312,216.8521881103516,6.77065896987915,16.66093635559082,1155.9993896484375,37.33414077758789,8.055159568786621,165.2618865966797,3300.293701171875,527.3272094726562,149.16900634765625,436.8053588867188,5319.4560546875,920.3993530273438,156.03668212890625,854.3361206054688,1714.848876953125,116.43431091308594,52.23356628417969,649.79248046875,2078.933837890625,535.2486572265625,56.79174041748047,703.9661254882812,2193.2626953125,60.93199920654297,34.768653869628906,783.7750244140625,3152.9326171875,1307.0936279296875,85.4056396484375,705.7312622070312,673.754150390625,128.09658813476562,146.38304138183594,87.08856201171875,14020.0888671875,1756.495361328125,387.7013854980469,3800.05712890625,1795.9031982421875,778.1613159179688,17.213926315307617,643.7293090820312,267.4549255371094,21.06509017944336,2.341588258743286,160.3751678466797,359.8713684082031,277.0992736816406,3.937007188796997,235.403060913086,57.39715576171875,47.569732666015625,1.915329933166504,8.31496524810791,835.0689086914062,16.34809112548828,13.040079116821287,115.26103973388672,639.6949462890625,131.71063232421875,50.463600158691406,355.07745361328125,4.345527648925781,209.22000122070312,5.858375072479248,62.29243469238281,751.9459228515625,7.599424362182617,3.5114591121673584,138.26727294921875,1015.0640869140624,2642.70361328125,10.820260047912598,379.9532775878906,240.09361267089844,41.51583480834961,5.735045909881592,40.26875686645508,27.72345733642578,11.624244689941406,2.18104100227356,37.32962417602539,8851.337890625,2760.969970703125,290.8985595703125,4320.9970703125,1564.2218017578125,193.59646606445312,39.94035720825195,630.8741455078125,1269.36865234375,353.0937194824219,67.88993072509766,605.1366577148438,39.840087890625,43.2089958190918,0.6706947088241577,282.4595642089844,800.047119140625,285.7864685058594,30.06378936767578,579.596923828125,466.8436584472656,29.25938034057617,15.82078742980957,137.8373260498047,103.60773468017578,41.1037712097168,5.547865867614746,46.46012496948242,2284.248779296875,448.1883544921875,84.71975708007812,2321.68505859375,2811.933837890625,600.064453125,98.36200714111328,1850.4228515625,139.63568115234375,55.59594345092773,8.988862991333008,249.8030548095703,615.5054321289062,865.2888793945312,44.48818588256836,347.61395263671875,367.9289245605469,285.4109191894531,11.696823120117188,244.40768432617188,48.42922592163086,7.726953983306885,1.593956470489502,17.910375595092773,128.65838623046875,31.990554809570312,10.069866180419922,159.8013458251953,377.1493225097656,553.4212036132812,71.82522583007812,401.859619140625,1064.6658935546875,274.63140869140625,64.70419311523438,1113.1412353515625,0.9645923376083374,190.6852569580078,1.48150372505188,172.3936004638672,802.454345703125,5629.822265625,37.20094299316406,931.3856201171876,168.22393798828125,2515.052734375,3.4219236373901367,362.1964721679688,25.815542221069336,47.20696640014648,0.5782174468040466,200.5210418701172,7.323050498962402,1002.0822143554688,0.8249784111976624,257.99493408203125,12.067669868469238,4.712915897369385,0.7648441195487976,112.2239990234375,37.05989837646485,869.2565307617188,9.764742851257324,64.55561828613281,11.3685884475708,1138.517822265625,5.521563529968262,64.40309143066406,121.0209732055664,3051.0966796875,27.8301010131836,955.779541015625,133.05282592773438,237.66441345214844,1.1841530799865725,169.2044219970703,47.43784332275391,1439.1328125,2.969593048095703,462.6634826660156,181.29298400878903,145.18161010742188,0.5342848896980286,161.4936981201172,1072.710693359375,2548.3984375,42.62068176269531,897.9652709960938,2420.791015625,1581.3292236328125,54.36140441894531,1994.62744140625,9409.3251953125,16769.630859375,538.3626098632812,5117.92822265625,7259.01416015625,2420.8798828125,682.0879516601562,3214.4951171875,195.1975250244141,323.2549743652344,0.96043461561203,104.27503204345705,762.0980834960938,2740.561279296875,17.407060623168945,198.9350128173828,2022.095947265625,18078.083984375,323.421630859375,3931.244384765625,304.87176513671875,4740.041015625,1.4148011207580566,48.02981185913086,901.6826171875,780.9161376953125,3.845616340637207,280.4182434082031],\"type\":\"pie\"}],                        {\"template\":{\"data\":{\"histogram2dcontour\":[{\"type\":\"histogram2dcontour\",\"colorbar\":{\"outlinewidth\":0,\"ticks\":\"\"},\"colorscale\":[[0.0,\"#0d0887\"],[0.1111111111111111,\"#46039f\"],[0.2222222222222222,\"#7201a8\"],[0.3333333333333333,\"#9c179e\"],[0.4444444444444444,\"#bd3786\"],[0.5555555555555556,\"#d8576b\"],[0.6666666666666666,\"#ed7953\"],[0.7777777777777778,\"#fb9f3a\"],[0.8888888888888888,\"#fdca26\"],[1.0,\"#f0f921\"]]}],\"choropleth\":[{\"type\":\"choropleth\",\"colorbar\":{\"outlinewidth\":0,\"ticks\":\"\"}}],\"histogram2d\":[{\"type\":\"histogram2d\",\"colorbar\":{\"outlinewidth\":0,\"ticks\":\"\"},\"colorscale\":[[0.0,\"#0d0887\"],[0.1111111111111111,\"#46039f\"],[0.2222222222222222,\"#7201a8\"],[0.3333333333333333,\"#9c179e\"],[0.4444444444444444,\"#bd3786\"],[0.5555555555555556,\"#d8576b\"],[0.6666666666666666,\"#ed7953\"],[0.7777777777777778,\"#fb9f3a\"],[0.8888888888888888,\"#fdca26\"],[1.0,\"#f0f921\"]]}],\"heatmap\":[{\"type\":\"heatmap\",\"colorbar\":{\"outlinewidth\":0,\"ticks\":\"\"},\"colorscale\":[[0.0,\"#0d0887\"],[0.1111111111111111,\"#46039f\"],[0.2222222222222222,\"#7201a8\"],[0.3333333333333333,\"#9c179e\"],[0.4444444444444444,\"#bd3786\"],[0.5555555555555556,\"#d8576b\"],[0.6666666666666666,\"#ed7953\"],[0.7777777777777778,\"#fb9f3a\"],[0.8888888888888888,\"#fdca26\"],[1.0,\"#f0f921\"]]}],\"heatmapgl\":[{\"type\":\"heatmapgl\",\"colorbar\":{\"outlinewidth\":0,\"ticks\":\"\"},\"colorscale\":[[0.0,\"#0d0887\"],[0.1111111111111111,\"#46039f\"],[0.2222222222222222,\"#7201a8\"],[0.3333333333333333,\"#9c179e\"],[0.4444444444444444,\"#bd3786\"],[0.5555555555555556,\"#d8576b\"],[0.6666666666666666,\"#ed7953\"],[0.7777777777777778,\"#fb9f3a\"],[0.8888888888888888,\"#fdca26\"],[1.0,\"#f0f921\"]]}],\"contourcarpet\":[{\"type\":\"contourcarpet\",\"colorbar\":{\"outlinewidth\":0,\"ticks\":\"\"}}],\"contour\":[{\"type\":\"contour\",\"colorbar\":{\"outlinewidth\":0,\"ticks\":\"\"},\"colorscale\":[[0.0,\"#0d0887\"],[0.1111111111111111,\"#46039f\"],[0.2222222222222222,\"#7201a8\"],[0.3333333333333333,\"#9c179e\"],[0.4444444444444444,\"#bd3786\"],[0.5555555555555556,\"#d8576b\"],[0.6666666666666666,\"#ed7953\"],[0.7777777777777778,\"#fb9f3a\"],[0.8888888888888888,\"#fdca26\"],[1.0,\"#f0f921\"]]}],\"surface\":[{\"type\":\"surface\",\"colorbar\":{\"outlinewidth\":0,\"ticks\":\"\"},\"colorscale\":[[0.0,\"#0d0887\"],[0.1111111111111111,\"#46039f\"],[0.2222222222222222,\"#7201a8\"],[0.3333333333333333,\"#9c179e\"],[0.4444444444444444,\"#bd3786\"],[0.5555555555555556,\"#d8576b\"],[0.6666666666666666,\"#ed7953\"],[0.7777777777777778,\"#fb9f3a\"],[0.8888888888888888,\"#fdca26\"],[1.0,\"#f0f921\"]]}],\"mesh3d\":[{\"type\":\"mesh3d\",\"colorbar\":{\"outlinewidth\":0,\"ticks\":\"\"}}],\"scatter\":[{\"fillpattern\":{\"fillmode\":\"overlay\",\"size\":10,\"solidity\":0.2},\"type\":\"scatter\"}],\"parcoords\":[{\"type\":\"parcoords\",\"line\":{\"colorbar\":{\"outlinewidth\":0,\"ticks\":\"\"}}}],\"scatterpolargl\":[{\"type\":\"scatterpolargl\",\"marker\":{\"colorbar\":{\"outlinewidth\":0,\"ticks\":\"\"}}}],\"bar\":[{\"error_x\":{\"color\":\"#2a3f5f\"},\"error_y\":{\"color\":\"#2a3f5f\"},\"marker\":{\"line\":{\"color\":\"#E5ECF6\",\"width\":0.5},\"pattern\":{\"fillmode\":\"overlay\",\"size\":10,\"solidity\":0.2}},\"type\":\"bar\"}],\"scattergeo\":[{\"type\":\"scattergeo\",\"marker\":{\"colorbar\":{\"outlinewidth\":0,\"ticks\":\"\"}}}],\"scatterpolar\":[{\"type\":\"scatterpolar\",\"marker\":{\"colorbar\":{\"outlinewidth\":0,\"ticks\":\"\"}}}],\"histogram\":[{\"marker\":{\"pattern\":{\"fillmode\":\"overlay\",\"size\":10,\"solidity\":0.2}},\"type\":\"histogram\"}],\"scattergl\":[{\"type\":\"scattergl\",\"marker\":{\"colorbar\":{\"outlinewidth\":0,\"ticks\":\"\"}}}],\"scatter3d\":[{\"type\":\"scatter3d\",\"line\":{\"colorbar\":{\"outlinewidth\":0,\"ticks\":\"\"}},\"marker\":{\"colorbar\":{\"outlinewidth\":0,\"ticks\":\"\"}}}],\"scattermapbox\":[{\"type\":\"scattermapbox\",\"marker\":{\"colorbar\":{\"outlinewidth\":0,\"ticks\":\"\"}}}],\"scatterternary\":[{\"type\":\"scatterternary\",\"marker\":{\"colorbar\":{\"outlinewidth\":0,\"ticks\":\"\"}}}],\"scattercarpet\":[{\"type\":\"scattercarpet\",\"marker\":{\"colorbar\":{\"outlinewidth\":0,\"ticks\":\"\"}}}],\"carpet\":[{\"aaxis\":{\"endlinecolor\":\"#2a3f5f\",\"gridcolor\":\"white\",\"linecolor\":\"white\",\"minorgridcolor\":\"white\",\"startlinecolor\":\"#2a3f5f\"},\"baxis\":{\"endlinecolor\":\"#2a3f5f\",\"gridcolor\":\"white\",\"linecolor\":\"white\",\"minorgridcolor\":\"white\",\"startlinecolor\":\"#2a3f5f\"},\"type\":\"carpet\"}],\"table\":[{\"cells\":{\"fill\":{\"color\":\"#EBF0F8\"},\"line\":{\"color\":\"white\"}},\"header\":{\"fill\":{\"color\":\"#C8D4E3\"},\"line\":{\"color\":\"white\"}},\"type\":\"table\"}],\"barpolar\":[{\"marker\":{\"line\":{\"color\":\"#E5ECF6\",\"width\":0.5},\"pattern\":{\"fillmode\":\"overlay\",\"size\":10,\"solidity\":0.2}},\"type\":\"barpolar\"}],\"pie\":[{\"automargin\":true,\"type\":\"pie\"}]},\"layout\":{\"autotypenumbers\":\"strict\",\"colorway\":[\"#636efa\",\"#EF553B\",\"#00cc96\",\"#ab63fa\",\"#FFA15A\",\"#19d3f3\",\"#FF6692\",\"#B6E880\",\"#FF97FF\",\"#FECB52\"],\"font\":{\"color\":\"#2a3f5f\"},\"hovermode\":\"closest\",\"hoverlabel\":{\"align\":\"left\"},\"paper_bgcolor\":\"white\",\"plot_bgcolor\":\"#E5ECF6\",\"polar\":{\"bgcolor\":\"#E5ECF6\",\"angularaxis\":{\"gridcolor\":\"white\",\"linecolor\":\"white\",\"ticks\":\"\"},\"radialaxis\":{\"gridcolor\":\"white\",\"linecolor\":\"white\",\"ticks\":\"\"}},\"ternary\":{\"bgcolor\":\"#E5ECF6\",\"aaxis\":{\"gridcolor\":\"white\",\"linecolor\":\"white\",\"ticks\":\"\"},\"baxis\":{\"gridcolor\":\"white\",\"linecolor\":\"white\",\"ticks\":\"\"},\"caxis\":{\"gridcolor\":\"white\",\"linecolor\":\"white\",\"ticks\":\"\"}},\"coloraxis\":{\"colorbar\":{\"outlinewidth\":0,\"ticks\":\"\"}},\"colorscale\":{\"sequential\":[[0.0,\"#0d0887\"],[0.1111111111111111,\"#46039f\"],[0.2222222222222222,\"#7201a8\"],[0.3333333333333333,\"#9c179e\"],[0.4444444444444444,\"#bd3786\"],[0.5555555555555556,\"#d8576b\"],[0.6666666666666666,\"#ed7953\"],[0.7777777777777778,\"#fb9f3a\"],[0.8888888888888888,\"#fdca26\"],[1.0,\"#f0f921\"]],\"sequentialminus\":[[0.0,\"#0d0887\"],[0.1111111111111111,\"#46039f\"],[0.2222222222222222,\"#7201a8\"],[0.3333333333333333,\"#9c179e\"],[0.4444444444444444,\"#bd3786\"],[0.5555555555555556,\"#d8576b\"],[0.6666666666666666,\"#ed7953\"],[0.7777777777777778,\"#fb9f3a\"],[0.8888888888888888,\"#fdca26\"],[1.0,\"#f0f921\"]],\"diverging\":[[0,\"#8e0152\"],[0.1,\"#c51b7d\"],[0.2,\"#de77ae\"],[0.3,\"#f1b6da\"],[0.4,\"#fde0ef\"],[0.5,\"#f7f7f7\"],[0.6,\"#e6f5d0\"],[0.7,\"#b8e186\"],[0.8,\"#7fbc41\"],[0.9,\"#4d9221\"],[1,\"#276419\"]]},\"xaxis\":{\"gridcolor\":\"white\",\"linecolor\":\"white\",\"ticks\":\"\",\"title\":{\"standoff\":15},\"zerolinecolor\":\"white\",\"automargin\":true,\"zerolinewidth\":2},\"yaxis\":{\"gridcolor\":\"white\",\"linecolor\":\"white\",\"ticks\":\"\",\"title\":{\"standoff\":15},\"zerolinecolor\":\"white\",\"automargin\":true,\"zerolinewidth\":2},\"scene\":{\"xaxis\":{\"backgroundcolor\":\"#E5ECF6\",\"gridcolor\":\"white\",\"linecolor\":\"white\",\"showbackground\":true,\"ticks\":\"\",\"zerolinecolor\":\"white\",\"gridwidth\":2},\"yaxis\":{\"backgroundcolor\":\"#E5ECF6\",\"gridcolor\":\"white\",\"linecolor\":\"white\",\"showbackground\":true,\"ticks\":\"\",\"zerolinecolor\":\"white\",\"gridwidth\":2},\"zaxis\":{\"backgroundcolor\":\"#E5ECF6\",\"gridcolor\":\"white\",\"linecolor\":\"white\",\"showbackground\":true,\"ticks\":\"\",\"zerolinecolor\":\"white\",\"gridwidth\":2}},\"shapedefaults\":{\"line\":{\"color\":\"#2a3f5f\"}},\"annotationdefaults\":{\"arrowcolor\":\"#2a3f5f\",\"arrowhead\":0,\"arrowwidth\":1},\"geo\":{\"bgcolor\":\"white\",\"landcolor\":\"#E5ECF6\",\"subunitcolor\":\"white\",\"showland\":true,\"showlakes\":true,\"lakecolor\":\"white\"},\"title\":{\"x\":0.05},\"mapbox\":{\"style\":\"light\"}}},\"legend\":{\"tracegroupgap\":0},\"margin\":{\"t\":60}},                        {\"responsive\": true}                    ).then(function(){\n",
       "                            \n",
       "var gd = document.getElementById('dfd4b8bc-ee4d-4fb5-b5e6-093b13f39593');\n",
       "var x = new MutationObserver(function (mutations, observer) {{\n",
       "        var display = window.getComputedStyle(gd).display;\n",
       "        if (!display || display === 'none') {{\n",
       "            console.log([gd, 'removed!']);\n",
       "            Plotly.purge(gd);\n",
       "            observer.disconnect();\n",
       "        }}\n",
       "}});\n",
       "\n",
       "// Listen for the removal of the full notebook cells\n",
       "var notebookContainer = gd.closest('#notebook-container');\n",
       "if (notebookContainer) {{\n",
       "    x.observe(notebookContainer, {childList: true});\n",
       "}}\n",
       "\n",
       "// Listen for the clearing of the current output cell\n",
       "var outputEl = gd.closest('.output');\n",
       "if (outputEl) {{\n",
       "    x.observe(outputEl, {childList: true});\n",
       "}}\n",
       "\n",
       "                        })                };                });            </script>        </div>"
      ]
     },
     "metadata": {},
     "output_type": "display_data"
    }
   ],
   "source": [
    "px.pie(type_df, values = 'emissions', \n",
    "                names = 'type', \n",
    "                hole = 0.5)"
   ]
  },
  {
   "cell_type": "code",
   "execution_count": 11,
   "id": "05538b26",
   "metadata": {},
   "outputs": [
    {
     "data": {
      "text/html": [
       "<div>\n",
       "<style scoped>\n",
       "    .dataframe tbody tr th:only-of-type {\n",
       "        vertical-align: middle;\n",
       "    }\n",
       "\n",
       "    .dataframe tbody tr th {\n",
       "        vertical-align: top;\n",
       "    }\n",
       "\n",
       "    .dataframe thead th {\n",
       "        text-align: right;\n",
       "    }\n",
       "</style>\n",
       "<table border=\"1\" class=\"dataframe\">\n",
       "  <thead>\n",
       "    <tr style=\"text-align: right;\">\n",
       "      <th></th>\n",
       "      <th>segment</th>\n",
       "      <th>emissions</th>\n",
       "    </tr>\n",
       "  </thead>\n",
       "  <tbody>\n",
       "    <tr>\n",
       "      <th>6</th>\n",
       "      <td>Onshore oil</td>\n",
       "      <td>34332.783240</td>\n",
       "    </tr>\n",
       "    <tr>\n",
       "      <th>10</th>\n",
       "      <td>Steam coal</td>\n",
       "      <td>30047.273344</td>\n",
       "    </tr>\n",
       "    <tr>\n",
       "      <th>5</th>\n",
       "      <td>Onshore gas</td>\n",
       "      <td>18097.597573</td>\n",
       "    </tr>\n",
       "    <tr>\n",
       "      <th>2</th>\n",
       "      <td>Gas pipelines and LNG facilities</td>\n",
       "      <td>12639.023727</td>\n",
       "    </tr>\n",
       "    <tr>\n",
       "      <th>1</th>\n",
       "      <td>Coking coal</td>\n",
       "      <td>10313.157684</td>\n",
       "    </tr>\n",
       "  </tbody>\n",
       "</table>\n",
       "</div>"
      ],
      "text/plain": [
       "                             segment     emissions\n",
       "6                        Onshore oil  34332.783240\n",
       "10                        Steam coal  30047.273344\n",
       "5                        Onshore gas  18097.597573\n",
       "2   Gas pipelines and LNG facilities  12639.023727\n",
       "1                        Coking coal  10313.157684"
      ]
     },
     "execution_count": 11,
     "metadata": {},
     "output_type": "execute_result"
    }
   ],
   "source": [
    "# Creating a DataFrame isolating segment values\n",
    "segment_df = energy_df.groupby('segment').sum().reset_index()\n",
    "segment_df.sort_values('emissions', ascending=False, inplace=True)\n",
    "segment_df.head()"
   ]
  },
  {
   "cell_type": "code",
   "execution_count": 12,
   "id": "716eaad9",
   "metadata": {},
   "outputs": [],
   "source": [
    "# Outputting DataFrames to CSV files\n",
    "emissions_fp = 'output/emissions.csv'\n",
    "energy_fp = 'output/energy.csv'\n",
    "country_fp = 'output/country.csv'\n",
    "segment_fp = 'output/segment.csv'\n",
    "\n",
    "dfs = [emissions_df, energy_df, country_df, segment_df]\n",
    "filepaths = [emissions_fp, energy_fp, country_fp, segment_fp]\n",
    "\n",
    "def dfs_to_csv(dfs, filepaths):\n",
    "    for i, df in enumerate(dfs):\n",
    "        df.to_csv(filepaths[i])\n",
    "    return print('CSVs created!')"
   ]
  },
  {
   "cell_type": "code",
   "execution_count": 13,
   "id": "b074e0c1",
   "metadata": {},
   "outputs": [
    {
     "name": "stdout",
     "output_type": "stream",
     "text": [
      "CSVs created!\n"
     ]
    }
   ],
   "source": [
    "dfs_to_csv(dfs, filepaths)"
   ]
  }
 ],
 "metadata": {
  "kernelspec": {
   "display_name": "Python 3 (ipykernel)",
   "language": "python",
   "name": "python3"
  },
  "language_info": {
   "codemirror_mode": {
    "name": "ipython",
    "version": 3
   },
   "file_extension": ".py",
   "mimetype": "text/x-python",
   "name": "python",
   "nbconvert_exporter": "python",
   "pygments_lexer": "ipython3",
   "version": "3.10.9"
  }
 },
 "nbformat": 4,
 "nbformat_minor": 5
}
