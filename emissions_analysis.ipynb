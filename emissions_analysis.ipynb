{
 "cells": [
  {
   "cell_type": "code",
   "execution_count": 1,
   "id": "ddaed3ab",
   "metadata": {},
   "outputs": [],
   "source": [
    "%matplotlib inline\n",
    "%matplotlib notebook\n",
    "\n",
    "import warnings\n",
    "warnings.filterwarnings('ignore')"
   ]
  },
  {
   "cell_type": "code",
   "execution_count": 2,
   "id": "0587e334",
   "metadata": {},
   "outputs": [],
   "source": [
    "# Dependencies\n",
    "import os\n",
    "import numpy as np\n",
    "import pandas as pd\n",
    "import plotly.io as pio\n",
    "import plotly.express as px\n",
    "import matplotlib.pyplot as plt\n",
    "\n",
    "pio.renderers.default='notebook'"
   ]
  },
  {
   "cell_type": "code",
   "execution_count": null,
   "id": "9ecd9978",
   "metadata": {},
   "outputs": [],
   "source": [
    "# Setting dataset filepath and export dir\n",
    "filepath = os.path.join('resources', 'Methane_final.csv')\n",
    "\n",
    "if not os.path.exists('images'):\n",
    "    os.mkdir('images')\n",
    "    \n",
    "if not os.path.exists('html'):\n",
    "    os.mkdir('html')"
   ]
  },
  {
   "cell_type": "code",
   "execution_count": 4,
   "id": "74b730d2",
   "metadata": {},
   "outputs": [
    {
     "data": {
      "text/html": [
       "<div>\n",
       "<style scoped>\n",
       "    .dataframe tbody tr th:only-of-type {\n",
       "        vertical-align: middle;\n",
       "    }\n",
       "\n",
       "    .dataframe tbody tr th {\n",
       "        vertical-align: top;\n",
       "    }\n",
       "\n",
       "    .dataframe thead th {\n",
       "        text-align: right;\n",
       "    }\n",
       "</style>\n",
       "<table border=\"1\" class=\"dataframe\">\n",
       "  <thead>\n",
       "    <tr style=\"text-align: right;\">\n",
       "      <th></th>\n",
       "      <th>region</th>\n",
       "      <th>country</th>\n",
       "      <th>emissions</th>\n",
       "      <th>type</th>\n",
       "      <th>segment</th>\n",
       "      <th>reason</th>\n",
       "      <th>baseYear</th>\n",
       "      <th>notes</th>\n",
       "    </tr>\n",
       "  </thead>\n",
       "  <tbody>\n",
       "    <tr>\n",
       "      <th>0</th>\n",
       "      <td>Africa</td>\n",
       "      <td>Algeria</td>\n",
       "      <td>257.611206</td>\n",
       "      <td>Agriculture</td>\n",
       "      <td>Total</td>\n",
       "      <td>All</td>\n",
       "      <td>2019-2021</td>\n",
       "      <td>Average based on United Nations Framework Conv...</td>\n",
       "    </tr>\n",
       "    <tr>\n",
       "      <th>1</th>\n",
       "      <td>Africa</td>\n",
       "      <td>Algeria</td>\n",
       "      <td>0.052000</td>\n",
       "      <td>Energy</td>\n",
       "      <td>Bioenergy</td>\n",
       "      <td>All</td>\n",
       "      <td>2022</td>\n",
       "      <td>Estimates from end-uses are for 2020 or 2021 (...</td>\n",
       "    </tr>\n",
       "    <tr>\n",
       "      <th>2</th>\n",
       "      <td>Africa</td>\n",
       "      <td>Algeria</td>\n",
       "      <td>130.798996</td>\n",
       "      <td>Energy</td>\n",
       "      <td>Gas pipelines and LNG facilities</td>\n",
       "      <td>Fugitive</td>\n",
       "      <td>2022</td>\n",
       "      <td>Not available</td>\n",
       "    </tr>\n",
       "    <tr>\n",
       "      <th>3</th>\n",
       "      <td>Africa</td>\n",
       "      <td>Algeria</td>\n",
       "      <td>69.741898</td>\n",
       "      <td>Energy</td>\n",
       "      <td>Gas pipelines and LNG facilities</td>\n",
       "      <td>Vented</td>\n",
       "      <td>2022</td>\n",
       "      <td>Not available</td>\n",
       "    </tr>\n",
       "    <tr>\n",
       "      <th>4</th>\n",
       "      <td>Africa</td>\n",
       "      <td>Algeria</td>\n",
       "      <td>213.987000</td>\n",
       "      <td>Energy</td>\n",
       "      <td>Onshore gas</td>\n",
       "      <td>Fugitive</td>\n",
       "      <td>2022</td>\n",
       "      <td>Not available</td>\n",
       "    </tr>\n",
       "  </tbody>\n",
       "</table>\n",
       "</div>"
      ],
      "text/plain": [
       "   region  country   emissions         type                           segment  \\\n",
       "0  Africa  Algeria  257.611206  Agriculture                             Total   \n",
       "1  Africa  Algeria    0.052000       Energy                         Bioenergy   \n",
       "2  Africa  Algeria  130.798996       Energy  Gas pipelines and LNG facilities   \n",
       "3  Africa  Algeria   69.741898       Energy  Gas pipelines and LNG facilities   \n",
       "4  Africa  Algeria  213.987000       Energy                       Onshore gas   \n",
       "\n",
       "     reason   baseYear                                              notes  \n",
       "0       All  2019-2021  Average based on United Nations Framework Conv...  \n",
       "1       All       2022  Estimates from end-uses are for 2020 or 2021 (...  \n",
       "2  Fugitive       2022                                      Not available  \n",
       "3    Vented       2022                                      Not available  \n",
       "4  Fugitive       2022                                      Not available  "
      ]
     },
     "execution_count": 4,
     "metadata": {},
     "output_type": "execute_result"
    }
   ],
   "source": [
    "# Read csv\n",
    "emissions = pd.read_csv(filepath, index_col=[0])\n",
    "emissions.head()"
   ]
  },
  {
   "cell_type": "code",
   "execution_count": 5,
   "id": "bbe2a935",
   "metadata": {},
   "outputs": [
    {
     "name": "stdout",
     "output_type": "stream",
     "text": [
      "<class 'pandas.core.frame.DataFrame'>\n",
      "Int64Index: 1548 entries, 0 to 1547\n",
      "Data columns (total 8 columns):\n",
      " #   Column     Non-Null Count  Dtype  \n",
      "---  ------     --------------  -----  \n",
      " 0   region     1548 non-null   object \n",
      " 1   country    1548 non-null   object \n",
      " 2   emissions  1548 non-null   float64\n",
      " 3   type       1548 non-null   object \n",
      " 4   segment    1548 non-null   object \n",
      " 5   reason     1548 non-null   object \n",
      " 6   baseYear   1548 non-null   object \n",
      " 7   notes      1548 non-null   object \n",
      "dtypes: float64(1), object(7)\n",
      "memory usage: 108.8+ KB\n"
     ]
    }
   ],
   "source": [
    "# region\n",
    "# country - Country of Emission\n",
    "# emissions - Methane Emissions (kt)\n",
    "# type - Sector from which emissions occur\n",
    "# Segment- Sub-sector from which emissions occur\n",
    "# reason - The reason for the emission\n",
    "# baseYear - Base year for the tracking of emissions\n",
    "# notes - The source of data\n",
    "emissions.info()"
   ]
  },
  {
   "cell_type": "code",
   "execution_count": 6,
   "id": "5cde4fc5",
   "metadata": {},
   "outputs": [
    {
     "data": {
      "text/plain": [
       "877"
      ]
     },
     "execution_count": 6,
     "metadata": {},
     "output_type": "execute_result"
    }
   ],
   "source": [
    "# Evaluating notes column\n",
    "na = (emissions['notes'] == 'Not available').sum()\n",
    "na"
   ]
  },
  {
   "cell_type": "code",
   "execution_count": 7,
   "id": "92355d13",
   "metadata": {},
   "outputs": [
    {
     "data": {
      "text/plain": [
       "Energy         1233\n",
       "Agriculture     105\n",
       "Other           105\n",
       "Waste           105\n",
       "Name: type, dtype: int64"
      ]
     },
     "execution_count": 7,
     "metadata": {},
     "output_type": "execute_result"
    }
   ],
   "source": [
    "# Dropping notes column and evaluating type column\n",
    "emissions.drop('notes', axis=1, inplace=True)\n",
    "emissions['type'].value_counts()"
   ]
  },
  {
   "cell_type": "code",
   "execution_count": 8,
   "id": "a7527d2a",
   "metadata": {
    "scrolled": true
   },
   "outputs": [
    {
     "data": {
      "text/plain": [
       "Total                                             414\n",
       "Onshore oil                                       217\n",
       "Gas pipelines and LNG facilities                  164\n",
       "Offshore oil                                      159\n",
       "Onshore gas                                       144\n",
       "Offshore gas                                      118\n",
       "Other from oil and gas                             98\n",
       "Bioenergy                                          93\n",
       "Other from coal                                    66\n",
       "Steam coal                                         30\n",
       "Coking coal                                        24\n",
       "Satellite-detected large oil and gas emissions     21\n",
       "Name: segment, dtype: int64"
      ]
     },
     "execution_count": 8,
     "metadata": {},
     "output_type": "execute_result"
    }
   ],
   "source": [
    "# Evaluating segment column\n",
    "emissions['segment'].value_counts()"
   ]
  },
  {
   "cell_type": "code",
   "execution_count": 9,
   "id": "457ff509",
   "metadata": {},
   "outputs": [],
   "source": [
    "# Removing 'World' values\n",
    "emissions = emissions[emissions['region'] != 'World']"
   ]
  },
  {
   "cell_type": "code",
   "execution_count": 10,
   "id": "670a5025",
   "metadata": {},
   "outputs": [
    {
     "data": {
      "text/html": [
       "<div>\n",
       "<style scoped>\n",
       "    .dataframe tbody tr th:only-of-type {\n",
       "        vertical-align: middle;\n",
       "    }\n",
       "\n",
       "    .dataframe tbody tr th {\n",
       "        vertical-align: top;\n",
       "    }\n",
       "\n",
       "    .dataframe thead th {\n",
       "        text-align: right;\n",
       "    }\n",
       "</style>\n",
       "<table border=\"1\" class=\"dataframe\">\n",
       "  <thead>\n",
       "    <tr style=\"text-align: right;\">\n",
       "      <th></th>\n",
       "      <th>region</th>\n",
       "      <th>country</th>\n",
       "      <th>emissions</th>\n",
       "      <th>type</th>\n",
       "      <th>segment</th>\n",
       "      <th>reason</th>\n",
       "      <th>baseYear</th>\n",
       "    </tr>\n",
       "  </thead>\n",
       "  <tbody>\n",
       "    <tr>\n",
       "      <th>1</th>\n",
       "      <td>Africa</td>\n",
       "      <td>Algeria</td>\n",
       "      <td>0.052000</td>\n",
       "      <td>Energy</td>\n",
       "      <td>Bioenergy</td>\n",
       "      <td>All</td>\n",
       "      <td>2022</td>\n",
       "    </tr>\n",
       "    <tr>\n",
       "      <th>2</th>\n",
       "      <td>Africa</td>\n",
       "      <td>Algeria</td>\n",
       "      <td>130.798996</td>\n",
       "      <td>Energy</td>\n",
       "      <td>Gas pipelines and LNG facilities</td>\n",
       "      <td>Fugitive</td>\n",
       "      <td>2022</td>\n",
       "    </tr>\n",
       "    <tr>\n",
       "      <th>3</th>\n",
       "      <td>Africa</td>\n",
       "      <td>Algeria</td>\n",
       "      <td>69.741898</td>\n",
       "      <td>Energy</td>\n",
       "      <td>Gas pipelines and LNG facilities</td>\n",
       "      <td>Vented</td>\n",
       "      <td>2022</td>\n",
       "    </tr>\n",
       "    <tr>\n",
       "      <th>4</th>\n",
       "      <td>Africa</td>\n",
       "      <td>Algeria</td>\n",
       "      <td>213.987000</td>\n",
       "      <td>Energy</td>\n",
       "      <td>Onshore gas</td>\n",
       "      <td>Fugitive</td>\n",
       "      <td>2022</td>\n",
       "    </tr>\n",
       "    <tr>\n",
       "      <th>5</th>\n",
       "      <td>Africa</td>\n",
       "      <td>Algeria</td>\n",
       "      <td>464.308014</td>\n",
       "      <td>Energy</td>\n",
       "      <td>Onshore gas</td>\n",
       "      <td>Vented</td>\n",
       "      <td>2022</td>\n",
       "    </tr>\n",
       "  </tbody>\n",
       "</table>\n",
       "</div>"
      ],
      "text/plain": [
       "   region  country   emissions    type                           segment  \\\n",
       "1  Africa  Algeria    0.052000  Energy                         Bioenergy   \n",
       "2  Africa  Algeria  130.798996  Energy  Gas pipelines and LNG facilities   \n",
       "3  Africa  Algeria   69.741898  Energy  Gas pipelines and LNG facilities   \n",
       "4  Africa  Algeria  213.987000  Energy                       Onshore gas   \n",
       "5  Africa  Algeria  464.308014  Energy                       Onshore gas   \n",
       "\n",
       "     reason baseYear  \n",
       "1       All     2022  \n",
       "2  Fugitive     2022  \n",
       "3    Vented     2022  \n",
       "4  Fugitive     2022  \n",
       "5    Vented     2022  "
      ]
     },
     "execution_count": 10,
     "metadata": {},
     "output_type": "execute_result"
    }
   ],
   "source": [
    "# Pulling segment spec\n",
    "seg_totals = emissions[emissions['segment'] != 'Total']\n",
    "seg_totals.head()"
   ]
  },
  {
   "cell_type": "code",
   "execution_count": null,
   "id": "aae9caef",
   "metadata": {},
   "outputs": [],
   "source": [
    "# Creating region-based sunburst chart\n",
    "region_sb = px.sunburst(\n",
    "    seg_totals, \n",
    "    path=['region', 'country'], \n",
    "    title='Methane Emissions by Region',\n",
    "    values='emissions', \n",
    "    color='region'\n",
    ")\n",
    "\n",
    "\n",
    "\n",
    "region_sb.update_traces(\n",
    "    hoverinfo = 'value', \n",
    "    hovertemplate = '<b>%{id}:</b> %{value:,.2f} kt'\n",
    ")\n",
    "\n",
    "region_sb.show()"
   ]
  },
  {
   "cell_type": "code",
   "execution_count": null,
   "id": "9153f37f",
   "metadata": {},
   "outputs": [],
   "source": [
    "region_sb.write_image('images/region_sb.jpeg')\n",
    "pio.write_html(region_sb, file='html/region_sb.html')"
   ]
  },
  {
   "cell_type": "code",
   "execution_count": null,
   "id": "76c0f868",
   "metadata": {},
   "outputs": [],
   "source": [
    "# Grouping by segment data\n",
    "seg_grouped=seg_totals.groupby('segment').sum().reset_index()\n",
    "seg_grouped.sort_values('emissions',ascending=False,inplace=True)"
   ]
  },
  {
   "cell_type": "code",
   "execution_count": null,
   "id": "268b973f",
   "metadata": {},
   "outputs": [],
   "source": [
    "# Creating segment bar chart\n",
    "seg_bar = px.bar(\n",
    "    seg_grouped, \n",
    "    x = 'segment', \n",
    "    y = 'emissions', \n",
    "    title = 'Methane Emissions by Segment', \n",
    "    color = 'segment',\n",
    "    labels = {'emissions':'Methane emission (kt)'}\n",
    ")\n",
    "\n",
    "seg_bar.update_traces(\n",
    "    showlegend = False, \n",
    "    hovertemplate = '<b>Emissions:</b> %{value:,.2f}'\n",
    ")"
   ]
  },
  {
   "cell_type": "code",
   "execution_count": null,
   "id": "442183b0",
   "metadata": {},
   "outputs": [],
   "source": [
    "seg_bar.write_image('images/seg_bar.jpeg')\n",
    "seg_bar.write_html(seg_bar, file='html/seg_bar.html')"
   ]
  },
  {
   "cell_type": "code",
   "execution_count": null,
   "id": "df03b7e8",
   "metadata": {},
   "outputs": [],
   "source": [
    "# Pulling country specific data\n",
    "countries = emissions[emissions['country'] != 'World']\n",
    "countries.head()"
   ]
  },
  {
   "cell_type": "code",
   "execution_count": null,
   "id": "c156f629",
   "metadata": {},
   "outputs": [],
   "source": [
    "# Getting the total by emissions type\n",
    "country_totals = emissions.loc[np.where((countries['segment'] == 'Total'))]\n",
    "country_totals.groupby('type').sum().reset_index()"
   ]
  },
  {
   "cell_type": "code",
   "execution_count": null,
   "id": "34633abb",
   "metadata": {},
   "outputs": [],
   "source": [
    "# Creating type pie chart\n",
    "type_pie = px.pie(\n",
    "    country_totals, \n",
    "    values = 'emissions', \n",
    "    title = 'Methane Emissions by Type', \n",
    "    names = 'type', \n",
    "    hole = 0.5\n",
    ")\n",
    "\n",
    "type_pie.update_traces(hovertemplate = '<b>%{label}:</b> %{value:,.2f} kt')"
   ]
  },
  {
   "cell_type": "code",
   "execution_count": null,
   "id": "3a3c5368",
   "metadata": {},
   "outputs": [],
   "source": [
    "# Pulling data for energy data\n",
    "energy_totals = countries[~((countries['type'] == 'Energy') & (countries['segment'] == 'Total'))]\n",
    "energy_totals.head()"
   ]
  },
  {
   "cell_type": "code",
   "execution_count": null,
   "id": "e3ff419c",
   "metadata": {},
   "outputs": [],
   "source": [
    "# Grouping segment data by reasons\n",
    "energy_reasons = energy_totals.groupby(['segment', 'reason']).sum()\n",
    "reasons_sorted = energy_reasons.sort_values('emissions', ascending = False).reset_index()\n",
    "reasons_sorted"
   ]
  },
  {
   "cell_type": "code",
   "execution_count": null,
   "id": "c18a4a60",
   "metadata": {},
   "outputs": [],
   "source": [
    "reasons_sorted.drop(index = [0], inplace = True)"
   ]
  },
  {
   "cell_type": "code",
   "execution_count": null,
   "id": "940bd0ca",
   "metadata": {},
   "outputs": [],
   "source": [
    "# Displaying segment reasons in a stacked bar chart\n",
    "seg_res_bar = px.bar(\n",
    "    reasons_sorted, \n",
    "    x = 'emissions', \n",
    "    y = 'segment', \n",
    "    title = 'Methane Emissions by Segment and Reason', \n",
    "    color = 'reason'\n",
    ")\n",
    "\n",
    "seg_res_bar.update_traces(\n",
    "    hovertemplate =\n",
    "    '<b>%{y}</b><br>'+\n",
    "    '<b>Emissions:</b> %{value:,.2f} kt'\n",
    ")"
   ]
  },
  {
   "cell_type": "code",
   "execution_count": null,
   "id": "319a3ef3",
   "metadata": {},
   "outputs": [],
   "source": [
    "# Creating a region and segment sunburst chart\n",
    "energy_regions = countries[(countries['type'] == 'Energy') & (countries['segment'] != 'Total')]\n",
    "\n",
    "regions_sb = px.sunburst(\n",
    "    energy_regions, \n",
    "    path = ['region', 'segment'], \n",
    "    values = 'emissions',\n",
    "    title = 'Methane Emissions by Region and Segment',\n",
    "    color = 'emissions', \n",
    "    color_continuous_scale = 'YlOrRd'\n",
    ")\n",
    "\n",
    "regions_sb.update_traces(\n",
    "    hoverinfo = 'value', \n",
    "    hovertemplate = '%{id}: %{value:.2f} kt'\n",
    ")\n",
    "    \n",
    "regions_sb.show()"
   ]
  },
  {
   "cell_type": "code",
   "execution_count": null,
   "id": "983d42ac",
   "metadata": {},
   "outputs": [],
   "source": [
    "# Finding the top 10 countries by emissions\n",
    "top_countries = countries.groupby('country')['emissions'].sum().sort_values(ascending=False).head(10)\n",
    "print(top_countries)"
   ]
  },
  {
   "cell_type": "code",
   "execution_count": null,
   "id": "1e096a29",
   "metadata": {},
   "outputs": [],
   "source": [
    "# Pulling all data from China\n",
    "china = emissions.loc[emissions['country'] == 'China']\n",
    "china = china[['type', 'segment', 'reason', 'emissions', 'baseYear']]\n",
    "china = china.reset_index(drop=True)\n",
    "china.head()"
   ]
  },
  {
   "cell_type": "code",
   "execution_count": null,
   "id": "b46ff317",
   "metadata": {},
   "outputs": [],
   "source": [
    "# Grouping China data by emission type\n",
    "china_types = china.groupby('type').sum().sort_values('emissions', ascending=False)\n",
    "china_types"
   ]
  },
  {
   "cell_type": "code",
   "execution_count": null,
   "id": "c56f8154",
   "metadata": {},
   "outputs": [],
   "source": []
  }
 ],
 "metadata": {
  "kernelspec": {
   "display_name": "PythonData",
   "language": "python",
   "name": "pythondata"
  },
  "language_info": {
   "codemirror_mode": {
    "name": "ipython",
    "version": 3
   },
   "file_extension": ".py",
   "mimetype": "text/x-python",
   "name": "python",
   "nbconvert_exporter": "python",
   "pygments_lexer": "ipython3",
   "version": "3.10.9"
  }
 },
 "nbformat": 4,
 "nbformat_minor": 5
}
