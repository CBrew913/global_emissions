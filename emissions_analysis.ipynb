{
 "cells": [
  {
   "cell_type": "code",
   "execution_count": 6,
   "id": "f4b551eb",
   "metadata": {},
   "outputs": [],
   "source": [
    "%matplotlib inline\n",
    "\n",
    "import warnings\n",
    "warnings.filterwarnings('ignore')\n",
    "\n",
    "# Dependencies\n",
    "import pandas as pd\n",
    "import numpy as np\n",
    "import seaborn as sns\n",
    "import plotly.express as px\n",
    "import matplotlib.pyplot as plt\n",
    "\n",
    "# Data filepath\n",
    "emissions_fp = 'output/emissions.csv'"
   ]
  },
  {
   "cell_type": "code",
   "execution_count": 8,
   "id": "c36c7de0",
   "metadata": {},
   "outputs": [
    {
     "data": {
      "text/html": [
       "<div>\n",
       "<style scoped>\n",
       "    .dataframe tbody tr th:only-of-type {\n",
       "        vertical-align: middle;\n",
       "    }\n",
       "\n",
       "    .dataframe tbody tr th {\n",
       "        vertical-align: top;\n",
       "    }\n",
       "\n",
       "    .dataframe thead th {\n",
       "        text-align: right;\n",
       "    }\n",
       "</style>\n",
       "<table border=\"1\" class=\"dataframe\">\n",
       "  <thead>\n",
       "    <tr style=\"text-align: right;\">\n",
       "      <th></th>\n",
       "      <th>region</th>\n",
       "      <th>country</th>\n",
       "      <th>emissions</th>\n",
       "      <th>type</th>\n",
       "      <th>segment</th>\n",
       "      <th>reason</th>\n",
       "      <th>baseYear</th>\n",
       "    </tr>\n",
       "  </thead>\n",
       "  <tbody>\n",
       "    <tr>\n",
       "      <th>0</th>\n",
       "      <td>Africa</td>\n",
       "      <td>Algeria</td>\n",
       "      <td>257.611206</td>\n",
       "      <td>Agriculture</td>\n",
       "      <td>Total</td>\n",
       "      <td>All</td>\n",
       "      <td>2019-2021</td>\n",
       "    </tr>\n",
       "    <tr>\n",
       "      <th>1</th>\n",
       "      <td>Africa</td>\n",
       "      <td>Algeria</td>\n",
       "      <td>0.052000</td>\n",
       "      <td>Energy</td>\n",
       "      <td>Bioenergy</td>\n",
       "      <td>All</td>\n",
       "      <td>2022</td>\n",
       "    </tr>\n",
       "    <tr>\n",
       "      <th>2</th>\n",
       "      <td>Africa</td>\n",
       "      <td>Algeria</td>\n",
       "      <td>130.798996</td>\n",
       "      <td>Energy</td>\n",
       "      <td>Gas pipelines and LNG facilities</td>\n",
       "      <td>Fugitive</td>\n",
       "      <td>2022</td>\n",
       "    </tr>\n",
       "    <tr>\n",
       "      <th>3</th>\n",
       "      <td>Africa</td>\n",
       "      <td>Algeria</td>\n",
       "      <td>69.741898</td>\n",
       "      <td>Energy</td>\n",
       "      <td>Gas pipelines and LNG facilities</td>\n",
       "      <td>Vented</td>\n",
       "      <td>2022</td>\n",
       "    </tr>\n",
       "    <tr>\n",
       "      <th>4</th>\n",
       "      <td>Africa</td>\n",
       "      <td>Algeria</td>\n",
       "      <td>213.987000</td>\n",
       "      <td>Energy</td>\n",
       "      <td>Onshore gas</td>\n",
       "      <td>Fugitive</td>\n",
       "      <td>2022</td>\n",
       "    </tr>\n",
       "  </tbody>\n",
       "</table>\n",
       "</div>"
      ],
      "text/plain": [
       "   region  country   emissions         type                           segment  \\\n",
       "0  Africa  Algeria  257.611206  Agriculture                             Total   \n",
       "1  Africa  Algeria    0.052000       Energy                         Bioenergy   \n",
       "2  Africa  Algeria  130.798996       Energy  Gas pipelines and LNG facilities   \n",
       "3  Africa  Algeria   69.741898       Energy  Gas pipelines and LNG facilities   \n",
       "4  Africa  Algeria  213.987000       Energy                       Onshore gas   \n",
       "\n",
       "     reason   baseYear  \n",
       "0       All  2019-2021  \n",
       "1       All       2022  \n",
       "2  Fugitive       2022  \n",
       "3    Vented       2022  \n",
       "4  Fugitive       2022  "
      ]
     },
     "execution_count": 8,
     "metadata": {},
     "output_type": "execute_result"
    }
   ],
   "source": [
    "emissions = pd.read_csv(emissions_fp, index_col=[0])\n",
    "emissions.head()"
   ]
  },
  {
   "cell_type": "code",
   "execution_count": 9,
   "id": "2627e4c3",
   "metadata": {},
   "outputs": [
    {
     "data": {
      "application/vnd.plotly.v1+json": {
       "config": {
        "plotlyServerURL": "https://plot.ly"
       },
       "data": [
        {
         "branchvalues": "total",
         "customdata": [
          [
           "Africa"
          ],
          [
           "Europe"
          ],
          [
           "Central and South America"
          ],
          [
           "Asia Pacific"
          ],
          [
           "Africa"
          ],
          [
           "World"
          ],
          [
           "Russia & Caspian"
          ],
          [
           "Other"
          ],
          [
           "North America"
          ],
          [
           "Middle East"
          ],
          [
           "Europe"
          ],
          [
           "Central and South America"
          ],
          [
           "Asia Pacific"
          ],
          [
           "Africa"
          ],
          [
           "World"
          ],
          [
           "Russia & Caspian"
          ],
          [
           "Other"
          ],
          [
           "North America"
          ],
          [
           "Middle East"
          ],
          [
           "Europe"
          ],
          [
           "Central and South America"
          ],
          [
           "Asia Pacific"
          ],
          [
           "Africa"
          ],
          [
           "World"
          ],
          [
           "Russia & Caspian"
          ],
          [
           "Other"
          ],
          [
           "Middle East"
          ],
          [
           "North America"
          ],
          [
           "North America"
          ],
          [
           "World"
          ],
          [
           "Other"
          ],
          [
           "North America"
          ],
          [
           "Middle East"
          ],
          [
           "Europe"
          ],
          [
           "Central and South America"
          ],
          [
           "Asia Pacific"
          ],
          [
           "Africa"
          ],
          [
           "World"
          ],
          [
           "Russia & Caspian"
          ],
          [
           "Other"
          ],
          [
           "North America"
          ],
          [
           "Middle East"
          ],
          [
           "Europe"
          ],
          [
           "Central and South America"
          ],
          [
           "Asia Pacific"
          ],
          [
           "Africa"
          ],
          [
           "World"
          ],
          [
           "Russia & Caspian"
          ],
          [
           "Other"
          ],
          [
           "North America"
          ],
          [
           "Middle East"
          ],
          [
           "Europe"
          ],
          [
           "Central and South America"
          ],
          [
           "Asia Pacific"
          ],
          [
           "Africa"
          ],
          [
           "Russia & Caspian"
          ],
          [
           "Middle East"
          ],
          [
           "Europe"
          ],
          [
           "Central and South America"
          ],
          [
           "Russia & Caspian"
          ],
          [
           "Other"
          ],
          [
           "North America"
          ],
          [
           "Middle East"
          ],
          [
           "Europe"
          ],
          [
           "Central and South America"
          ],
          [
           "Asia Pacific"
          ],
          [
           "Africa"
          ],
          [
           "World"
          ],
          [
           "Russia & Caspian"
          ],
          [
           "Other"
          ],
          [
           "North America"
          ],
          [
           "Middle East"
          ],
          [
           "Europe"
          ],
          [
           "Central and South America"
          ],
          [
           "Asia Pacific"
          ],
          [
           "Africa"
          ],
          [
           "World"
          ],
          [
           "Russia & Caspian"
          ],
          [
           "Other"
          ],
          [
           "North America"
          ],
          [
           "Middle East"
          ],
          [
           "Europe"
          ],
          [
           "Central and South America"
          ],
          [
           "Asia Pacific"
          ],
          [
           "World"
          ],
          [
           "Africa"
          ],
          [
           "Asia Pacific"
          ],
          [
           "Central and South America"
          ],
          [
           "Asia Pacific"
          ],
          [
           "Africa"
          ],
          [
           "World"
          ],
          [
           "Russia & Caspian"
          ],
          [
           "Other"
          ],
          [
           "North America"
          ],
          [
           "Middle East"
          ],
          [
           "Europe"
          ],
          [
           "Central and South America"
          ],
          [
           "Asia Pacific"
          ],
          [
           "Africa"
          ],
          [
           "World"
          ],
          [
           "Russia & Caspian"
          ],
          [
           "Russia & Caspian"
          ],
          [
           "North America"
          ],
          [
           "Middle East"
          ],
          [
           "Europe"
          ],
          [
           "Central and South America"
          ],
          [
           "Asia Pacific"
          ],
          [
           "Africa"
          ],
          [
           "World"
          ],
          [
           "Russia & Caspian"
          ],
          [
           "Other"
          ],
          [
           "North America"
          ],
          [
           "Middle East"
          ],
          [
           "Europe"
          ],
          [
           "Other"
          ],
          [
           "World"
          ]
         ],
         "domain": {
          "x": [
           0,
           1
          ],
          "y": [
           0,
           1
          ]
         },
         "hovertemplate": "labels=%{label}<br>emissions=%{value}<br>parent=%{parent}<br>id=%{id}<br>region=%{customdata[0]}<extra></extra>",
         "ids": [
          "Africa/Bioenergy",
          "Europe/Satellite-detected large oil and gas emissions",
          "Central and South America/Satellite-detected large oil and gas emissions",
          "Asia Pacific/Satellite-detected large oil and gas emissions",
          "Africa/Satellite-detected large oil and gas emissions",
          "World/Other from oil and gas",
          "Russia & Caspian/Other from oil and gas",
          "Other/Other from oil and gas",
          "North America/Other from oil and gas",
          "Middle East/Other from oil and gas",
          "Europe/Other from oil and gas",
          "Central and South America/Other from oil and gas",
          "Asia Pacific/Other from oil and gas",
          "Africa/Other from oil and gas",
          "World/Other from coal",
          "Russia & Caspian/Other from coal",
          "Other/Other from coal",
          "North America/Other from coal",
          "Middle East/Other from coal",
          "Europe/Other from coal",
          "Central and South America/Other from coal",
          "Asia Pacific/Other from coal",
          "Africa/Other from coal",
          "World/Onshore oil",
          "Russia & Caspian/Onshore oil",
          "Other/Onshore oil",
          "Middle East/Satellite-detected large oil and gas emissions",
          "North America/Onshore oil",
          "North America/Satellite-detected large oil and gas emissions",
          "World/Satellite-detected large oil and gas emissions",
          "Other",
          "North America",
          "Middle East",
          "Europe",
          "Central and South America",
          "Asia Pacific",
          "Africa",
          "World/Total",
          "Russia & Caspian/Total",
          "Other/Total",
          "North America/Total",
          "Middle East/Total",
          "Europe/Total",
          "Central and South America/Total",
          "Asia Pacific/Total",
          "Africa/Total",
          "World/Steam coal",
          "Russia & Caspian/Steam coal",
          "Other/Steam coal",
          "North America/Steam coal",
          "Middle East/Steam coal",
          "Europe/Steam coal",
          "Central and South America/Steam coal",
          "Asia Pacific/Steam coal",
          "Africa/Steam coal",
          "Russia & Caspian/Satellite-detected large oil and gas emissions",
          "Middle East/Onshore oil",
          "Europe/Onshore oil",
          "Central and South America/Onshore oil",
          "Russia & Caspian/Gas pipelines and LNG facilities",
          "Other/Gas pipelines and LNG facilities",
          "North America/Gas pipelines and LNG facilities",
          "Middle East/Gas pipelines and LNG facilities",
          "Europe/Gas pipelines and LNG facilities",
          "Central and South America/Gas pipelines and LNG facilities",
          "Asia Pacific/Gas pipelines and LNG facilities",
          "Africa/Gas pipelines and LNG facilities",
          "World/Coking coal",
          "Russia & Caspian/Coking coal",
          "Other/Coking coal",
          "North America/Coking coal",
          "Middle East/Coking coal",
          "Europe/Coking coal",
          "Central and South America/Coking coal",
          "Asia Pacific/Coking coal",
          "Africa/Coking coal",
          "World/Bioenergy",
          "Russia & Caspian/Bioenergy",
          "Other/Bioenergy",
          "North America/Bioenergy",
          "Middle East/Bioenergy",
          "Europe/Bioenergy",
          "Central and South America/Bioenergy",
          "Asia Pacific/Bioenergy",
          "World/Gas pipelines and LNG facilities",
          "Africa/Offshore gas",
          "Asia Pacific/Offshore gas",
          "Central and South America/Offshore gas",
          "Asia Pacific/Onshore oil",
          "Africa/Onshore oil",
          "World/Onshore gas",
          "Russia & Caspian/Onshore gas",
          "Other/Onshore gas",
          "North America/Onshore gas",
          "Middle East/Onshore gas",
          "Europe/Onshore gas",
          "Central and South America/Onshore gas",
          "Asia Pacific/Onshore gas",
          "Africa/Onshore gas",
          "World/Offshore oil",
          "Russia & Caspian",
          "Russia & Caspian/Offshore oil",
          "North America/Offshore oil",
          "Middle East/Offshore oil",
          "Europe/Offshore oil",
          "Central and South America/Offshore oil",
          "Asia Pacific/Offshore oil",
          "Africa/Offshore oil",
          "World/Offshore gas",
          "Russia & Caspian/Offshore gas",
          "Other/Offshore gas",
          "North America/Offshore gas",
          "Middle East/Offshore gas",
          "Europe/Offshore gas",
          "Other/Offshore oil",
          "World"
         ],
         "labels": [
          "Bioenergy",
          "Satellite-detected large oil and gas emissions",
          "Satellite-detected large oil and gas emissions",
          "Satellite-detected large oil and gas emissions",
          "Satellite-detected large oil and gas emissions",
          "Other from oil and gas",
          "Other from oil and gas",
          "Other from oil and gas",
          "Other from oil and gas",
          "Other from oil and gas",
          "Other from oil and gas",
          "Other from oil and gas",
          "Other from oil and gas",
          "Other from oil and gas",
          "Other from coal",
          "Other from coal",
          "Other from coal",
          "Other from coal",
          "Other from coal",
          "Other from coal",
          "Other from coal",
          "Other from coal",
          "Other from coal",
          "Onshore oil",
          "Onshore oil",
          "Onshore oil",
          "Satellite-detected large oil and gas emissions",
          "Onshore oil",
          "Satellite-detected large oil and gas emissions",
          "Satellite-detected large oil and gas emissions",
          "Other",
          "North America",
          "Middle East",
          "Europe",
          "Central and South America",
          "Asia Pacific",
          "Africa",
          "Total",
          "Total",
          "Total",
          "Total",
          "Total",
          "Total",
          "Total",
          "Total",
          "Total",
          "Steam coal",
          "Steam coal",
          "Steam coal",
          "Steam coal",
          "Steam coal",
          "Steam coal",
          "Steam coal",
          "Steam coal",
          "Steam coal",
          "Satellite-detected large oil and gas emissions",
          "Onshore oil",
          "Onshore oil",
          "Onshore oil",
          "Gas pipelines and LNG facilities",
          "Gas pipelines and LNG facilities",
          "Gas pipelines and LNG facilities",
          "Gas pipelines and LNG facilities",
          "Gas pipelines and LNG facilities",
          "Gas pipelines and LNG facilities",
          "Gas pipelines and LNG facilities",
          "Gas pipelines and LNG facilities",
          "Coking coal",
          "Coking coal",
          "Coking coal",
          "Coking coal",
          "Coking coal",
          "Coking coal",
          "Coking coal",
          "Coking coal",
          "Coking coal",
          "Bioenergy",
          "Bioenergy",
          "Bioenergy",
          "Bioenergy",
          "Bioenergy",
          "Bioenergy",
          "Bioenergy",
          "Bioenergy",
          "Gas pipelines and LNG facilities",
          "Offshore gas",
          "Offshore gas",
          "Offshore gas",
          "Onshore oil",
          "Onshore oil",
          "Onshore gas",
          "Onshore gas",
          "Onshore gas",
          "Onshore gas",
          "Onshore gas",
          "Onshore gas",
          "Onshore gas",
          "Onshore gas",
          "Onshore gas",
          "Offshore oil",
          "Russia & Caspian",
          "Offshore oil",
          "Offshore oil",
          "Offshore oil",
          "Offshore oil",
          "Offshore oil",
          "Offshore oil",
          "Offshore oil",
          "Offshore gas",
          "Offshore gas",
          "Offshore gas",
          "Offshore gas",
          "Offshore gas",
          "Offshore gas",
          "Offshore oil",
          "World"
         ],
         "marker": {
          "colors": [
           "#636efa",
           "#EF553B",
           "#00cc96",
           "#ab63fa",
           "#636efa",
           "#FFA15A",
           "#19d3f3",
           "#FF6692",
           "#B6E880",
           "#FF97FF",
           "#EF553B",
           "#00cc96",
           "#ab63fa",
           "#636efa",
           "#FFA15A",
           "#19d3f3",
           "#FF6692",
           "#B6E880",
           "#FF97FF",
           "#EF553B",
           "#00cc96",
           "#ab63fa",
           "#636efa",
           "#FFA15A",
           "#19d3f3",
           "#FF6692",
           "#FF97FF",
           "#B6E880",
           "#B6E880",
           "#FFA15A",
           "#FF6692",
           "#B6E880",
           "#FF97FF",
           "#EF553B",
           "#00cc96",
           "#ab63fa",
           "#636efa",
           "#FFA15A",
           "#19d3f3",
           "#FF6692",
           "#B6E880",
           "#FF97FF",
           "#EF553B",
           "#00cc96",
           "#ab63fa",
           "#636efa",
           "#FFA15A",
           "#19d3f3",
           "#FF6692",
           "#B6E880",
           "#FF97FF",
           "#EF553B",
           "#00cc96",
           "#ab63fa",
           "#636efa",
           "#19d3f3",
           "#FF97FF",
           "#EF553B",
           "#00cc96",
           "#19d3f3",
           "#FF6692",
           "#B6E880",
           "#FF97FF",
           "#EF553B",
           "#00cc96",
           "#ab63fa",
           "#636efa",
           "#FFA15A",
           "#19d3f3",
           "#FF6692",
           "#B6E880",
           "#FF97FF",
           "#EF553B",
           "#00cc96",
           "#ab63fa",
           "#636efa",
           "#FFA15A",
           "#19d3f3",
           "#FF6692",
           "#B6E880",
           "#FF97FF",
           "#EF553B",
           "#00cc96",
           "#ab63fa",
           "#FFA15A",
           "#636efa",
           "#ab63fa",
           "#00cc96",
           "#ab63fa",
           "#636efa",
           "#FFA15A",
           "#19d3f3",
           "#FF6692",
           "#B6E880",
           "#FF97FF",
           "#EF553B",
           "#00cc96",
           "#ab63fa",
           "#636efa",
           "#FFA15A",
           "#19d3f3",
           "#19d3f3",
           "#B6E880",
           "#FF97FF",
           "#EF553B",
           "#00cc96",
           "#ab63fa",
           "#636efa",
           "#FFA15A",
           "#19d3f3",
           "#FF6692",
           "#B6E880",
           "#FF97FF",
           "#EF553B",
           "#FF6692",
           "#FFA15A"
          ]
         },
         "name": "",
         "parents": [
          "Africa",
          "Europe",
          "Central and South America",
          "Asia Pacific",
          "Africa",
          "World",
          "Russia & Caspian",
          "Other",
          "North America",
          "Middle East",
          "Europe",
          "Central and South America",
          "Asia Pacific",
          "Africa",
          "World",
          "Russia & Caspian",
          "Other",
          "North America",
          "Middle East",
          "Europe",
          "Central and South America",
          "Asia Pacific",
          "Africa",
          "World",
          "Russia & Caspian",
          "Other",
          "Middle East",
          "North America",
          "North America",
          "World",
          "",
          "",
          "",
          "",
          "",
          "",
          "",
          "World",
          "Russia & Caspian",
          "Other",
          "North America",
          "Middle East",
          "Europe",
          "Central and South America",
          "Asia Pacific",
          "Africa",
          "World",
          "Russia & Caspian",
          "Other",
          "North America",
          "Middle East",
          "Europe",
          "Central and South America",
          "Asia Pacific",
          "Africa",
          "Russia & Caspian",
          "Middle East",
          "Europe",
          "Central and South America",
          "Russia & Caspian",
          "Other",
          "North America",
          "Middle East",
          "Europe",
          "Central and South America",
          "Asia Pacific",
          "Africa",
          "World",
          "Russia & Caspian",
          "Other",
          "North America",
          "Middle East",
          "Europe",
          "Central and South America",
          "Asia Pacific",
          "Africa",
          "World",
          "Russia & Caspian",
          "Other",
          "North America",
          "Middle East",
          "Europe",
          "Central and South America",
          "Asia Pacific",
          "World",
          "Africa",
          "Asia Pacific",
          "Central and South America",
          "Asia Pacific",
          "Africa",
          "World",
          "Russia & Caspian",
          "Other",
          "North America",
          "Middle East",
          "Europe",
          "Central and South America",
          "Asia Pacific",
          "Africa",
          "World",
          "",
          "Russia & Caspian",
          "North America",
          "Middle East",
          "Europe",
          "Central and South America",
          "Asia Pacific",
          "Africa",
          "World",
          "Russia & Caspian",
          "Other",
          "North America",
          "Middle East",
          "Europe",
          "Other",
          ""
         ],
         "type": "sunburst",
         "values": [
          2948.11202929914,
          7.800000190734864,
          27.299999237060547,
          18.00000023841858,
          72,
          2292.331787109375,
          145.21930599212646,
          28.12497329711914,
          682.3980941772461,
          172.63882112503052,
          490.25170052051544,
          120.38978591561317,
          755.8738211393356,
          98.28119658166543,
          1518.4820556640625,
          135.82365942001343,
          35.80628967285156,
          24.79606431722641,
          1.3120796643197534,
          464.6865867078304,
          4.1663658688776195,
          988.2669673673809,
          44.484001331496984,
          34231.9599609375,
          8103.991293430328,
          169.05092096328735,
          134.4000016450882,
          6346.88267993927,
          357.6000061035156,
          3102.5,
          15997.35717530927,
          63347.40917745978,
          38095.79876317829,
          49208.99681790243,
          45639.98979930533,
          177699.61146502104,
          54197.15261313948,
          355801.3349609375,
          35758.75535792112,
          13576.477111816406,
          42448.0510559082,
          21825.386844277382,
          42326.51934158802,
          38316.827053785324,
          136079.52592682838,
          40929.21351763513,
          30296.5,
          3241.906005859375,
          838.1268920898438,
          1201.6836290359497,
          0.5593019723892212,
          1045.9436118677258,
          371.2563014328479,
          22227.517842829227,
          1120.2797584533691,
          2489.2999992370605,
          9633.234406337142,
          266.7061402415857,
          3453.331796333194,
          2724.4659948349,
          114.00376892089844,
          3224.3882751464844,
          1360.741253376007,
          1714.1594553813338,
          599.9649664126337,
          2265.579352617264,
          635.7206603847444,
          10009.900390625,
          1913.9650573730466,
          17.066499710083008,
          918.8790855407715,
          35.70140075683594,
          642.4851621389389,
          25.47529983520508,
          6671.294979095459,
          88.29019927978516,
          9208.0400390625,
          29.472000455483794,
          1187.4720458984375,
          348.9199981689453,
          9.655999910086393,
          1592.1999818086624,
          354.21199092268944,
          3456.3639911413193,
          11961.6201171875,
          486.39373986423016,
          1060.7053881287575,
          325.5057812035084,
          1890.6945101991296,
          4468.8914928676095,
          17957.06982421875,
          6543.4507220983505,
          25.5791072845459,
          6680.345411300659,
          1150.6298131793737,
          363.6694374021608,
          751.7600395083427,
          1509.0012030899525,
          1073.1618391359225,
          8429.137878417969,
          62421.61236039363,
          955.1674590110779,
          1001.8004970550537,
          1947.3134101629257,
          146.38957866979763,
          1289.8004188500345,
          776.787482346408,
          2232.324178306386,
          4343.43994140625,
          380.0955047607422,
          5.620730042457579,
          111.66438076645136,
          1824.2254307717085,
          148.18582138512284,
          0.028835613338742197,
          489152.3169555664
         ]
        }
       ],
       "layout": {
        "height": 700,
        "legend": {
         "tracegroupgap": 0
        },
        "margin": {
         "t": 60
        },
        "template": {
         "data": {
          "bar": [
           {
            "error_x": {
             "color": "#2a3f5f"
            },
            "error_y": {
             "color": "#2a3f5f"
            },
            "marker": {
             "line": {
              "color": "#E5ECF6",
              "width": 0.5
             },
             "pattern": {
              "fillmode": "overlay",
              "size": 10,
              "solidity": 0.2
             }
            },
            "type": "bar"
           }
          ],
          "barpolar": [
           {
            "marker": {
             "line": {
              "color": "#E5ECF6",
              "width": 0.5
             },
             "pattern": {
              "fillmode": "overlay",
              "size": 10,
              "solidity": 0.2
             }
            },
            "type": "barpolar"
           }
          ],
          "carpet": [
           {
            "aaxis": {
             "endlinecolor": "#2a3f5f",
             "gridcolor": "white",
             "linecolor": "white",
             "minorgridcolor": "white",
             "startlinecolor": "#2a3f5f"
            },
            "baxis": {
             "endlinecolor": "#2a3f5f",
             "gridcolor": "white",
             "linecolor": "white",
             "minorgridcolor": "white",
             "startlinecolor": "#2a3f5f"
            },
            "type": "carpet"
           }
          ],
          "choropleth": [
           {
            "colorbar": {
             "outlinewidth": 0,
             "ticks": ""
            },
            "type": "choropleth"
           }
          ],
          "contour": [
           {
            "colorbar": {
             "outlinewidth": 0,
             "ticks": ""
            },
            "colorscale": [
             [
              0,
              "#0d0887"
             ],
             [
              0.1111111111111111,
              "#46039f"
             ],
             [
              0.2222222222222222,
              "#7201a8"
             ],
             [
              0.3333333333333333,
              "#9c179e"
             ],
             [
              0.4444444444444444,
              "#bd3786"
             ],
             [
              0.5555555555555556,
              "#d8576b"
             ],
             [
              0.6666666666666666,
              "#ed7953"
             ],
             [
              0.7777777777777778,
              "#fb9f3a"
             ],
             [
              0.8888888888888888,
              "#fdca26"
             ],
             [
              1,
              "#f0f921"
             ]
            ],
            "type": "contour"
           }
          ],
          "contourcarpet": [
           {
            "colorbar": {
             "outlinewidth": 0,
             "ticks": ""
            },
            "type": "contourcarpet"
           }
          ],
          "heatmap": [
           {
            "colorbar": {
             "outlinewidth": 0,
             "ticks": ""
            },
            "colorscale": [
             [
              0,
              "#0d0887"
             ],
             [
              0.1111111111111111,
              "#46039f"
             ],
             [
              0.2222222222222222,
              "#7201a8"
             ],
             [
              0.3333333333333333,
              "#9c179e"
             ],
             [
              0.4444444444444444,
              "#bd3786"
             ],
             [
              0.5555555555555556,
              "#d8576b"
             ],
             [
              0.6666666666666666,
              "#ed7953"
             ],
             [
              0.7777777777777778,
              "#fb9f3a"
             ],
             [
              0.8888888888888888,
              "#fdca26"
             ],
             [
              1,
              "#f0f921"
             ]
            ],
            "type": "heatmap"
           }
          ],
          "heatmapgl": [
           {
            "colorbar": {
             "outlinewidth": 0,
             "ticks": ""
            },
            "colorscale": [
             [
              0,
              "#0d0887"
             ],
             [
              0.1111111111111111,
              "#46039f"
             ],
             [
              0.2222222222222222,
              "#7201a8"
             ],
             [
              0.3333333333333333,
              "#9c179e"
             ],
             [
              0.4444444444444444,
              "#bd3786"
             ],
             [
              0.5555555555555556,
              "#d8576b"
             ],
             [
              0.6666666666666666,
              "#ed7953"
             ],
             [
              0.7777777777777778,
              "#fb9f3a"
             ],
             [
              0.8888888888888888,
              "#fdca26"
             ],
             [
              1,
              "#f0f921"
             ]
            ],
            "type": "heatmapgl"
           }
          ],
          "histogram": [
           {
            "marker": {
             "pattern": {
              "fillmode": "overlay",
              "size": 10,
              "solidity": 0.2
             }
            },
            "type": "histogram"
           }
          ],
          "histogram2d": [
           {
            "colorbar": {
             "outlinewidth": 0,
             "ticks": ""
            },
            "colorscale": [
             [
              0,
              "#0d0887"
             ],
             [
              0.1111111111111111,
              "#46039f"
             ],
             [
              0.2222222222222222,
              "#7201a8"
             ],
             [
              0.3333333333333333,
              "#9c179e"
             ],
             [
              0.4444444444444444,
              "#bd3786"
             ],
             [
              0.5555555555555556,
              "#d8576b"
             ],
             [
              0.6666666666666666,
              "#ed7953"
             ],
             [
              0.7777777777777778,
              "#fb9f3a"
             ],
             [
              0.8888888888888888,
              "#fdca26"
             ],
             [
              1,
              "#f0f921"
             ]
            ],
            "type": "histogram2d"
           }
          ],
          "histogram2dcontour": [
           {
            "colorbar": {
             "outlinewidth": 0,
             "ticks": ""
            },
            "colorscale": [
             [
              0,
              "#0d0887"
             ],
             [
              0.1111111111111111,
              "#46039f"
             ],
             [
              0.2222222222222222,
              "#7201a8"
             ],
             [
              0.3333333333333333,
              "#9c179e"
             ],
             [
              0.4444444444444444,
              "#bd3786"
             ],
             [
              0.5555555555555556,
              "#d8576b"
             ],
             [
              0.6666666666666666,
              "#ed7953"
             ],
             [
              0.7777777777777778,
              "#fb9f3a"
             ],
             [
              0.8888888888888888,
              "#fdca26"
             ],
             [
              1,
              "#f0f921"
             ]
            ],
            "type": "histogram2dcontour"
           }
          ],
          "mesh3d": [
           {
            "colorbar": {
             "outlinewidth": 0,
             "ticks": ""
            },
            "type": "mesh3d"
           }
          ],
          "parcoords": [
           {
            "line": {
             "colorbar": {
              "outlinewidth": 0,
              "ticks": ""
             }
            },
            "type": "parcoords"
           }
          ],
          "pie": [
           {
            "automargin": true,
            "type": "pie"
           }
          ],
          "scatter": [
           {
            "fillpattern": {
             "fillmode": "overlay",
             "size": 10,
             "solidity": 0.2
            },
            "type": "scatter"
           }
          ],
          "scatter3d": [
           {
            "line": {
             "colorbar": {
              "outlinewidth": 0,
              "ticks": ""
             }
            },
            "marker": {
             "colorbar": {
              "outlinewidth": 0,
              "ticks": ""
             }
            },
            "type": "scatter3d"
           }
          ],
          "scattercarpet": [
           {
            "marker": {
             "colorbar": {
              "outlinewidth": 0,
              "ticks": ""
             }
            },
            "type": "scattercarpet"
           }
          ],
          "scattergeo": [
           {
            "marker": {
             "colorbar": {
              "outlinewidth": 0,
              "ticks": ""
             }
            },
            "type": "scattergeo"
           }
          ],
          "scattergl": [
           {
            "marker": {
             "colorbar": {
              "outlinewidth": 0,
              "ticks": ""
             }
            },
            "type": "scattergl"
           }
          ],
          "scattermapbox": [
           {
            "marker": {
             "colorbar": {
              "outlinewidth": 0,
              "ticks": ""
             }
            },
            "type": "scattermapbox"
           }
          ],
          "scatterpolar": [
           {
            "marker": {
             "colorbar": {
              "outlinewidth": 0,
              "ticks": ""
             }
            },
            "type": "scatterpolar"
           }
          ],
          "scatterpolargl": [
           {
            "marker": {
             "colorbar": {
              "outlinewidth": 0,
              "ticks": ""
             }
            },
            "type": "scatterpolargl"
           }
          ],
          "scatterternary": [
           {
            "marker": {
             "colorbar": {
              "outlinewidth": 0,
              "ticks": ""
             }
            },
            "type": "scatterternary"
           }
          ],
          "surface": [
           {
            "colorbar": {
             "outlinewidth": 0,
             "ticks": ""
            },
            "colorscale": [
             [
              0,
              "#0d0887"
             ],
             [
              0.1111111111111111,
              "#46039f"
             ],
             [
              0.2222222222222222,
              "#7201a8"
             ],
             [
              0.3333333333333333,
              "#9c179e"
             ],
             [
              0.4444444444444444,
              "#bd3786"
             ],
             [
              0.5555555555555556,
              "#d8576b"
             ],
             [
              0.6666666666666666,
              "#ed7953"
             ],
             [
              0.7777777777777778,
              "#fb9f3a"
             ],
             [
              0.8888888888888888,
              "#fdca26"
             ],
             [
              1,
              "#f0f921"
             ]
            ],
            "type": "surface"
           }
          ],
          "table": [
           {
            "cells": {
             "fill": {
              "color": "#EBF0F8"
             },
             "line": {
              "color": "white"
             }
            },
            "header": {
             "fill": {
              "color": "#C8D4E3"
             },
             "line": {
              "color": "white"
             }
            },
            "type": "table"
           }
          ]
         },
         "layout": {
          "annotationdefaults": {
           "arrowcolor": "#2a3f5f",
           "arrowhead": 0,
           "arrowwidth": 1
          },
          "autotypenumbers": "strict",
          "coloraxis": {
           "colorbar": {
            "outlinewidth": 0,
            "ticks": ""
           }
          },
          "colorscale": {
           "diverging": [
            [
             0,
             "#8e0152"
            ],
            [
             0.1,
             "#c51b7d"
            ],
            [
             0.2,
             "#de77ae"
            ],
            [
             0.3,
             "#f1b6da"
            ],
            [
             0.4,
             "#fde0ef"
            ],
            [
             0.5,
             "#f7f7f7"
            ],
            [
             0.6,
             "#e6f5d0"
            ],
            [
             0.7,
             "#b8e186"
            ],
            [
             0.8,
             "#7fbc41"
            ],
            [
             0.9,
             "#4d9221"
            ],
            [
             1,
             "#276419"
            ]
           ],
           "sequential": [
            [
             0,
             "#0d0887"
            ],
            [
             0.1111111111111111,
             "#46039f"
            ],
            [
             0.2222222222222222,
             "#7201a8"
            ],
            [
             0.3333333333333333,
             "#9c179e"
            ],
            [
             0.4444444444444444,
             "#bd3786"
            ],
            [
             0.5555555555555556,
             "#d8576b"
            ],
            [
             0.6666666666666666,
             "#ed7953"
            ],
            [
             0.7777777777777778,
             "#fb9f3a"
            ],
            [
             0.8888888888888888,
             "#fdca26"
            ],
            [
             1,
             "#f0f921"
            ]
           ],
           "sequentialminus": [
            [
             0,
             "#0d0887"
            ],
            [
             0.1111111111111111,
             "#46039f"
            ],
            [
             0.2222222222222222,
             "#7201a8"
            ],
            [
             0.3333333333333333,
             "#9c179e"
            ],
            [
             0.4444444444444444,
             "#bd3786"
            ],
            [
             0.5555555555555556,
             "#d8576b"
            ],
            [
             0.6666666666666666,
             "#ed7953"
            ],
            [
             0.7777777777777778,
             "#fb9f3a"
            ],
            [
             0.8888888888888888,
             "#fdca26"
            ],
            [
             1,
             "#f0f921"
            ]
           ]
          },
          "colorway": [
           "#636efa",
           "#EF553B",
           "#00cc96",
           "#ab63fa",
           "#FFA15A",
           "#19d3f3",
           "#FF6692",
           "#B6E880",
           "#FF97FF",
           "#FECB52"
          ],
          "font": {
           "color": "#2a3f5f"
          },
          "geo": {
           "bgcolor": "white",
           "lakecolor": "white",
           "landcolor": "#E5ECF6",
           "showlakes": true,
           "showland": true,
           "subunitcolor": "white"
          },
          "hoverlabel": {
           "align": "left"
          },
          "hovermode": "closest",
          "mapbox": {
           "style": "light"
          },
          "paper_bgcolor": "white",
          "plot_bgcolor": "#E5ECF6",
          "polar": {
           "angularaxis": {
            "gridcolor": "white",
            "linecolor": "white",
            "ticks": ""
           },
           "bgcolor": "#E5ECF6",
           "radialaxis": {
            "gridcolor": "white",
            "linecolor": "white",
            "ticks": ""
           }
          },
          "scene": {
           "xaxis": {
            "backgroundcolor": "#E5ECF6",
            "gridcolor": "white",
            "gridwidth": 2,
            "linecolor": "white",
            "showbackground": true,
            "ticks": "",
            "zerolinecolor": "white"
           },
           "yaxis": {
            "backgroundcolor": "#E5ECF6",
            "gridcolor": "white",
            "gridwidth": 2,
            "linecolor": "white",
            "showbackground": true,
            "ticks": "",
            "zerolinecolor": "white"
           },
           "zaxis": {
            "backgroundcolor": "#E5ECF6",
            "gridcolor": "white",
            "gridwidth": 2,
            "linecolor": "white",
            "showbackground": true,
            "ticks": "",
            "zerolinecolor": "white"
           }
          },
          "shapedefaults": {
           "line": {
            "color": "#2a3f5f"
           }
          },
          "ternary": {
           "aaxis": {
            "gridcolor": "white",
            "linecolor": "white",
            "ticks": ""
           },
           "baxis": {
            "gridcolor": "white",
            "linecolor": "white",
            "ticks": ""
           },
           "bgcolor": "#E5ECF6",
           "caxis": {
            "gridcolor": "white",
            "linecolor": "white",
            "ticks": ""
           }
          },
          "title": {
           "x": 0.05
          },
          "xaxis": {
           "automargin": true,
           "gridcolor": "white",
           "linecolor": "white",
           "ticks": "",
           "title": {
            "standoff": 15
           },
           "zerolinecolor": "white",
           "zerolinewidth": 2
          },
          "yaxis": {
           "automargin": true,
           "gridcolor": "white",
           "linecolor": "white",
           "ticks": "",
           "title": {
            "standoff": 15
           },
           "zerolinecolor": "white",
           "zerolinewidth": 2
          }
         }
        },
        "width": 700
       }
      },
      "text/html": [
       "<div>                            <div id=\"8f4b7487-85a2-4313-a5ca-804658989d31\" class=\"plotly-graph-div\" style=\"height:700px; width:700px;\"></div>            <script type=\"text/javascript\">                require([\"plotly\"], function(Plotly) {                    window.PLOTLYENV=window.PLOTLYENV || {};                                    if (document.getElementById(\"8f4b7487-85a2-4313-a5ca-804658989d31\")) {                    Plotly.newPlot(                        \"8f4b7487-85a2-4313-a5ca-804658989d31\",                        [{\"branchvalues\":\"total\",\"customdata\":[[\"Africa\"],[\"Europe\"],[\"Central and South America\"],[\"Asia Pacific\"],[\"Africa\"],[\"World\"],[\"Russia & Caspian\"],[\"Other\"],[\"North America\"],[\"Middle East\"],[\"Europe\"],[\"Central and South America\"],[\"Asia Pacific\"],[\"Africa\"],[\"World\"],[\"Russia & Caspian\"],[\"Other\"],[\"North America\"],[\"Middle East\"],[\"Europe\"],[\"Central and South America\"],[\"Asia Pacific\"],[\"Africa\"],[\"World\"],[\"Russia & Caspian\"],[\"Other\"],[\"Middle East\"],[\"North America\"],[\"North America\"],[\"World\"],[\"Other\"],[\"North America\"],[\"Middle East\"],[\"Europe\"],[\"Central and South America\"],[\"Asia Pacific\"],[\"Africa\"],[\"World\"],[\"Russia & Caspian\"],[\"Other\"],[\"North America\"],[\"Middle East\"],[\"Europe\"],[\"Central and South America\"],[\"Asia Pacific\"],[\"Africa\"],[\"World\"],[\"Russia & Caspian\"],[\"Other\"],[\"North America\"],[\"Middle East\"],[\"Europe\"],[\"Central and South America\"],[\"Asia Pacific\"],[\"Africa\"],[\"Russia & Caspian\"],[\"Middle East\"],[\"Europe\"],[\"Central and South America\"],[\"Russia & Caspian\"],[\"Other\"],[\"North America\"],[\"Middle East\"],[\"Europe\"],[\"Central and South America\"],[\"Asia Pacific\"],[\"Africa\"],[\"World\"],[\"Russia & Caspian\"],[\"Other\"],[\"North America\"],[\"Middle East\"],[\"Europe\"],[\"Central and South America\"],[\"Asia Pacific\"],[\"Africa\"],[\"World\"],[\"Russia & Caspian\"],[\"Other\"],[\"North America\"],[\"Middle East\"],[\"Europe\"],[\"Central and South America\"],[\"Asia Pacific\"],[\"World\"],[\"Africa\"],[\"Asia Pacific\"],[\"Central and South America\"],[\"Asia Pacific\"],[\"Africa\"],[\"World\"],[\"Russia & Caspian\"],[\"Other\"],[\"North America\"],[\"Middle East\"],[\"Europe\"],[\"Central and South America\"],[\"Asia Pacific\"],[\"Africa\"],[\"World\"],[\"Russia & Caspian\"],[\"Russia & Caspian\"],[\"North America\"],[\"Middle East\"],[\"Europe\"],[\"Central and South America\"],[\"Asia Pacific\"],[\"Africa\"],[\"World\"],[\"Russia & Caspian\"],[\"Other\"],[\"North America\"],[\"Middle East\"],[\"Europe\"],[\"Other\"],[\"World\"]],\"domain\":{\"x\":[0.0,1.0],\"y\":[0.0,1.0]},\"hovertemplate\":\"labels=%{label}<br>emissions=%{value}<br>parent=%{parent}<br>id=%{id}<br>region=%{customdata[0]}<extra></extra>\",\"ids\":[\"Africa/Bioenergy\",\"Europe/Satellite-detected large oil and gas emissions\",\"Central and South America/Satellite-detected large oil and gas emissions\",\"Asia Pacific/Satellite-detected large oil and gas emissions\",\"Africa/Satellite-detected large oil and gas emissions\",\"World/Other from oil and gas\",\"Russia & Caspian/Other from oil and gas\",\"Other/Other from oil and gas\",\"North America/Other from oil and gas\",\"Middle East/Other from oil and gas\",\"Europe/Other from oil and gas\",\"Central and South America/Other from oil and gas\",\"Asia Pacific/Other from oil and gas\",\"Africa/Other from oil and gas\",\"World/Other from coal\",\"Russia & Caspian/Other from coal\",\"Other/Other from coal\",\"North America/Other from coal\",\"Middle East/Other from coal\",\"Europe/Other from coal\",\"Central and South America/Other from coal\",\"Asia Pacific/Other from coal\",\"Africa/Other from coal\",\"World/Onshore oil\",\"Russia & Caspian/Onshore oil\",\"Other/Onshore oil\",\"Middle East/Satellite-detected large oil and gas emissions\",\"North America/Onshore oil\",\"North America/Satellite-detected large oil and gas emissions\",\"World/Satellite-detected large oil and gas emissions\",\"Other\",\"North America\",\"Middle East\",\"Europe\",\"Central and South America\",\"Asia Pacific\",\"Africa\",\"World/Total\",\"Russia & Caspian/Total\",\"Other/Total\",\"North America/Total\",\"Middle East/Total\",\"Europe/Total\",\"Central and South America/Total\",\"Asia Pacific/Total\",\"Africa/Total\",\"World/Steam coal\",\"Russia & Caspian/Steam coal\",\"Other/Steam coal\",\"North America/Steam coal\",\"Middle East/Steam coal\",\"Europe/Steam coal\",\"Central and South America/Steam coal\",\"Asia Pacific/Steam coal\",\"Africa/Steam coal\",\"Russia & Caspian/Satellite-detected large oil and gas emissions\",\"Middle East/Onshore oil\",\"Europe/Onshore oil\",\"Central and South America/Onshore oil\",\"Russia & Caspian/Gas pipelines and LNG facilities\",\"Other/Gas pipelines and LNG facilities\",\"North America/Gas pipelines and LNG facilities\",\"Middle East/Gas pipelines and LNG facilities\",\"Europe/Gas pipelines and LNG facilities\",\"Central and South America/Gas pipelines and LNG facilities\",\"Asia Pacific/Gas pipelines and LNG facilities\",\"Africa/Gas pipelines and LNG facilities\",\"World/Coking coal\",\"Russia & Caspian/Coking coal\",\"Other/Coking coal\",\"North America/Coking coal\",\"Middle East/Coking coal\",\"Europe/Coking coal\",\"Central and South America/Coking coal\",\"Asia Pacific/Coking coal\",\"Africa/Coking coal\",\"World/Bioenergy\",\"Russia & Caspian/Bioenergy\",\"Other/Bioenergy\",\"North America/Bioenergy\",\"Middle East/Bioenergy\",\"Europe/Bioenergy\",\"Central and South America/Bioenergy\",\"Asia Pacific/Bioenergy\",\"World/Gas pipelines and LNG facilities\",\"Africa/Offshore gas\",\"Asia Pacific/Offshore gas\",\"Central and South America/Offshore gas\",\"Asia Pacific/Onshore oil\",\"Africa/Onshore oil\",\"World/Onshore gas\",\"Russia & Caspian/Onshore gas\",\"Other/Onshore gas\",\"North America/Onshore gas\",\"Middle East/Onshore gas\",\"Europe/Onshore gas\",\"Central and South America/Onshore gas\",\"Asia Pacific/Onshore gas\",\"Africa/Onshore gas\",\"World/Offshore oil\",\"Russia & Caspian\",\"Russia & Caspian/Offshore oil\",\"North America/Offshore oil\",\"Middle East/Offshore oil\",\"Europe/Offshore oil\",\"Central and South America/Offshore oil\",\"Asia Pacific/Offshore oil\",\"Africa/Offshore oil\",\"World/Offshore gas\",\"Russia & Caspian/Offshore gas\",\"Other/Offshore gas\",\"North America/Offshore gas\",\"Middle East/Offshore gas\",\"Europe/Offshore gas\",\"Other/Offshore oil\",\"World\"],\"labels\":[\"Bioenergy\",\"Satellite-detected large oil and gas emissions\",\"Satellite-detected large oil and gas emissions\",\"Satellite-detected large oil and gas emissions\",\"Satellite-detected large oil and gas emissions\",\"Other from oil and gas\",\"Other from oil and gas\",\"Other from oil and gas\",\"Other from oil and gas\",\"Other from oil and gas\",\"Other from oil and gas\",\"Other from oil and gas\",\"Other from oil and gas\",\"Other from oil and gas\",\"Other from coal\",\"Other from coal\",\"Other from coal\",\"Other from coal\",\"Other from coal\",\"Other from coal\",\"Other from coal\",\"Other from coal\",\"Other from coal\",\"Onshore oil\",\"Onshore oil\",\"Onshore oil\",\"Satellite-detected large oil and gas emissions\",\"Onshore oil\",\"Satellite-detected large oil and gas emissions\",\"Satellite-detected large oil and gas emissions\",\"Other\",\"North America\",\"Middle East\",\"Europe\",\"Central and South America\",\"Asia Pacific\",\"Africa\",\"Total\",\"Total\",\"Total\",\"Total\",\"Total\",\"Total\",\"Total\",\"Total\",\"Total\",\"Steam coal\",\"Steam coal\",\"Steam coal\",\"Steam coal\",\"Steam coal\",\"Steam coal\",\"Steam coal\",\"Steam coal\",\"Steam coal\",\"Satellite-detected large oil and gas emissions\",\"Onshore oil\",\"Onshore oil\",\"Onshore oil\",\"Gas pipelines and LNG facilities\",\"Gas pipelines and LNG facilities\",\"Gas pipelines and LNG facilities\",\"Gas pipelines and LNG facilities\",\"Gas pipelines and LNG facilities\",\"Gas pipelines and LNG facilities\",\"Gas pipelines and LNG facilities\",\"Gas pipelines and LNG facilities\",\"Coking coal\",\"Coking coal\",\"Coking coal\",\"Coking coal\",\"Coking coal\",\"Coking coal\",\"Coking coal\",\"Coking coal\",\"Coking coal\",\"Bioenergy\",\"Bioenergy\",\"Bioenergy\",\"Bioenergy\",\"Bioenergy\",\"Bioenergy\",\"Bioenergy\",\"Bioenergy\",\"Gas pipelines and LNG facilities\",\"Offshore gas\",\"Offshore gas\",\"Offshore gas\",\"Onshore oil\",\"Onshore oil\",\"Onshore gas\",\"Onshore gas\",\"Onshore gas\",\"Onshore gas\",\"Onshore gas\",\"Onshore gas\",\"Onshore gas\",\"Onshore gas\",\"Onshore gas\",\"Offshore oil\",\"Russia & Caspian\",\"Offshore oil\",\"Offshore oil\",\"Offshore oil\",\"Offshore oil\",\"Offshore oil\",\"Offshore oil\",\"Offshore oil\",\"Offshore gas\",\"Offshore gas\",\"Offshore gas\",\"Offshore gas\",\"Offshore gas\",\"Offshore gas\",\"Offshore oil\",\"World\"],\"marker\":{\"colors\":[\"#636efa\",\"#EF553B\",\"#00cc96\",\"#ab63fa\",\"#636efa\",\"#FFA15A\",\"#19d3f3\",\"#FF6692\",\"#B6E880\",\"#FF97FF\",\"#EF553B\",\"#00cc96\",\"#ab63fa\",\"#636efa\",\"#FFA15A\",\"#19d3f3\",\"#FF6692\",\"#B6E880\",\"#FF97FF\",\"#EF553B\",\"#00cc96\",\"#ab63fa\",\"#636efa\",\"#FFA15A\",\"#19d3f3\",\"#FF6692\",\"#FF97FF\",\"#B6E880\",\"#B6E880\",\"#FFA15A\",\"#FF6692\",\"#B6E880\",\"#FF97FF\",\"#EF553B\",\"#00cc96\",\"#ab63fa\",\"#636efa\",\"#FFA15A\",\"#19d3f3\",\"#FF6692\",\"#B6E880\",\"#FF97FF\",\"#EF553B\",\"#00cc96\",\"#ab63fa\",\"#636efa\",\"#FFA15A\",\"#19d3f3\",\"#FF6692\",\"#B6E880\",\"#FF97FF\",\"#EF553B\",\"#00cc96\",\"#ab63fa\",\"#636efa\",\"#19d3f3\",\"#FF97FF\",\"#EF553B\",\"#00cc96\",\"#19d3f3\",\"#FF6692\",\"#B6E880\",\"#FF97FF\",\"#EF553B\",\"#00cc96\",\"#ab63fa\",\"#636efa\",\"#FFA15A\",\"#19d3f3\",\"#FF6692\",\"#B6E880\",\"#FF97FF\",\"#EF553B\",\"#00cc96\",\"#ab63fa\",\"#636efa\",\"#FFA15A\",\"#19d3f3\",\"#FF6692\",\"#B6E880\",\"#FF97FF\",\"#EF553B\",\"#00cc96\",\"#ab63fa\",\"#FFA15A\",\"#636efa\",\"#ab63fa\",\"#00cc96\",\"#ab63fa\",\"#636efa\",\"#FFA15A\",\"#19d3f3\",\"#FF6692\",\"#B6E880\",\"#FF97FF\",\"#EF553B\",\"#00cc96\",\"#ab63fa\",\"#636efa\",\"#FFA15A\",\"#19d3f3\",\"#19d3f3\",\"#B6E880\",\"#FF97FF\",\"#EF553B\",\"#00cc96\",\"#ab63fa\",\"#636efa\",\"#FFA15A\",\"#19d3f3\",\"#FF6692\",\"#B6E880\",\"#FF97FF\",\"#EF553B\",\"#FF6692\",\"#FFA15A\"]},\"name\":\"\",\"parents\":[\"Africa\",\"Europe\",\"Central and South America\",\"Asia Pacific\",\"Africa\",\"World\",\"Russia & Caspian\",\"Other\",\"North America\",\"Middle East\",\"Europe\",\"Central and South America\",\"Asia Pacific\",\"Africa\",\"World\",\"Russia & Caspian\",\"Other\",\"North America\",\"Middle East\",\"Europe\",\"Central and South America\",\"Asia Pacific\",\"Africa\",\"World\",\"Russia & Caspian\",\"Other\",\"Middle East\",\"North America\",\"North America\",\"World\",\"\",\"\",\"\",\"\",\"\",\"\",\"\",\"World\",\"Russia & Caspian\",\"Other\",\"North America\",\"Middle East\",\"Europe\",\"Central and South America\",\"Asia Pacific\",\"Africa\",\"World\",\"Russia & Caspian\",\"Other\",\"North America\",\"Middle East\",\"Europe\",\"Central and South America\",\"Asia Pacific\",\"Africa\",\"Russia & Caspian\",\"Middle East\",\"Europe\",\"Central and South America\",\"Russia & Caspian\",\"Other\",\"North America\",\"Middle East\",\"Europe\",\"Central and South America\",\"Asia Pacific\",\"Africa\",\"World\",\"Russia & Caspian\",\"Other\",\"North America\",\"Middle East\",\"Europe\",\"Central and South America\",\"Asia Pacific\",\"Africa\",\"World\",\"Russia & Caspian\",\"Other\",\"North America\",\"Middle East\",\"Europe\",\"Central and South America\",\"Asia Pacific\",\"World\",\"Africa\",\"Asia Pacific\",\"Central and South America\",\"Asia Pacific\",\"Africa\",\"World\",\"Russia & Caspian\",\"Other\",\"North America\",\"Middle East\",\"Europe\",\"Central and South America\",\"Asia Pacific\",\"Africa\",\"World\",\"\",\"Russia & Caspian\",\"North America\",\"Middle East\",\"Europe\",\"Central and South America\",\"Asia Pacific\",\"Africa\",\"World\",\"Russia & Caspian\",\"Other\",\"North America\",\"Middle East\",\"Europe\",\"Other\",\"\"],\"values\":[2948.11202929914,7.800000190734864,27.299999237060547,18.00000023841858,72.0,2292.331787109375,145.21930599212646,28.12497329711914,682.3980941772461,172.63882112503052,490.25170052051544,120.38978591561317,755.8738211393356,98.28119658166543,1518.4820556640625,135.82365942001343,35.80628967285156,24.79606431722641,1.3120796643197534,464.6865867078304,4.1663658688776195,988.2669673673809,44.484001331496984,34231.9599609375,8103.991293430328,169.05092096328735,134.4000016450882,6346.88267993927,357.6000061035156,3102.5,15997.35717530927,63347.40917745978,38095.79876317829,49208.99681790243,45639.98979930533,177699.61146502104,54197.15261313948,355801.3349609375,35758.75535792112,13576.477111816406,42448.0510559082,21825.386844277382,42326.51934158802,38316.827053785324,136079.52592682838,40929.21351763513,30296.5,3241.906005859375,838.1268920898438,1201.6836290359497,0.5593019723892212,1045.9436118677258,371.2563014328479,22227.517842829227,1120.2797584533691,2489.2999992370605,9633.234406337142,266.7061402415857,3453.331796333194,2724.4659948349,114.00376892089844,3224.3882751464844,1360.741253376007,1714.1594553813338,599.9649664126337,2265.579352617264,635.7206603847444,10009.900390625,1913.9650573730466,17.066499710083008,918.8790855407715,35.70140075683594,642.4851621389389,25.47529983520508,6671.294979095459,88.29019927978516,9208.0400390625,29.472000455483794,1187.4720458984375,348.9199981689453,9.655999910086393,1592.1999818086624,354.21199092268944,3456.3639911413193,11961.6201171875,486.39373986423016,1060.7053881287575,325.5057812035084,1890.6945101991296,4468.8914928676095,17957.06982421875,6543.4507220983505,25.5791072845459,6680.345411300659,1150.6298131793737,363.6694374021608,751.7600395083427,1509.0012030899525,1073.1618391359225,8429.137878417969,62421.61236039363,955.1674590110779,1001.8004970550537,1947.3134101629257,146.38957866979763,1289.8004188500345,776.787482346408,2232.324178306386,4343.43994140625,380.0955047607422,5.620730042457579,111.66438076645136,1824.2254307717085,148.18582138512284,0.028835613338742197,489152.3169555664],\"type\":\"sunburst\"}],                        {\"template\":{\"data\":{\"histogram2dcontour\":[{\"type\":\"histogram2dcontour\",\"colorbar\":{\"outlinewidth\":0,\"ticks\":\"\"},\"colorscale\":[[0.0,\"#0d0887\"],[0.1111111111111111,\"#46039f\"],[0.2222222222222222,\"#7201a8\"],[0.3333333333333333,\"#9c179e\"],[0.4444444444444444,\"#bd3786\"],[0.5555555555555556,\"#d8576b\"],[0.6666666666666666,\"#ed7953\"],[0.7777777777777778,\"#fb9f3a\"],[0.8888888888888888,\"#fdca26\"],[1.0,\"#f0f921\"]]}],\"choropleth\":[{\"type\":\"choropleth\",\"colorbar\":{\"outlinewidth\":0,\"ticks\":\"\"}}],\"histogram2d\":[{\"type\":\"histogram2d\",\"colorbar\":{\"outlinewidth\":0,\"ticks\":\"\"},\"colorscale\":[[0.0,\"#0d0887\"],[0.1111111111111111,\"#46039f\"],[0.2222222222222222,\"#7201a8\"],[0.3333333333333333,\"#9c179e\"],[0.4444444444444444,\"#bd3786\"],[0.5555555555555556,\"#d8576b\"],[0.6666666666666666,\"#ed7953\"],[0.7777777777777778,\"#fb9f3a\"],[0.8888888888888888,\"#fdca26\"],[1.0,\"#f0f921\"]]}],\"heatmap\":[{\"type\":\"heatmap\",\"colorbar\":{\"outlinewidth\":0,\"ticks\":\"\"},\"colorscale\":[[0.0,\"#0d0887\"],[0.1111111111111111,\"#46039f\"],[0.2222222222222222,\"#7201a8\"],[0.3333333333333333,\"#9c179e\"],[0.4444444444444444,\"#bd3786\"],[0.5555555555555556,\"#d8576b\"],[0.6666666666666666,\"#ed7953\"],[0.7777777777777778,\"#fb9f3a\"],[0.8888888888888888,\"#fdca26\"],[1.0,\"#f0f921\"]]}],\"heatmapgl\":[{\"type\":\"heatmapgl\",\"colorbar\":{\"outlinewidth\":0,\"ticks\":\"\"},\"colorscale\":[[0.0,\"#0d0887\"],[0.1111111111111111,\"#46039f\"],[0.2222222222222222,\"#7201a8\"],[0.3333333333333333,\"#9c179e\"],[0.4444444444444444,\"#bd3786\"],[0.5555555555555556,\"#d8576b\"],[0.6666666666666666,\"#ed7953\"],[0.7777777777777778,\"#fb9f3a\"],[0.8888888888888888,\"#fdca26\"],[1.0,\"#f0f921\"]]}],\"contourcarpet\":[{\"type\":\"contourcarpet\",\"colorbar\":{\"outlinewidth\":0,\"ticks\":\"\"}}],\"contour\":[{\"type\":\"contour\",\"colorbar\":{\"outlinewidth\":0,\"ticks\":\"\"},\"colorscale\":[[0.0,\"#0d0887\"],[0.1111111111111111,\"#46039f\"],[0.2222222222222222,\"#7201a8\"],[0.3333333333333333,\"#9c179e\"],[0.4444444444444444,\"#bd3786\"],[0.5555555555555556,\"#d8576b\"],[0.6666666666666666,\"#ed7953\"],[0.7777777777777778,\"#fb9f3a\"],[0.8888888888888888,\"#fdca26\"],[1.0,\"#f0f921\"]]}],\"surface\":[{\"type\":\"surface\",\"colorbar\":{\"outlinewidth\":0,\"ticks\":\"\"},\"colorscale\":[[0.0,\"#0d0887\"],[0.1111111111111111,\"#46039f\"],[0.2222222222222222,\"#7201a8\"],[0.3333333333333333,\"#9c179e\"],[0.4444444444444444,\"#bd3786\"],[0.5555555555555556,\"#d8576b\"],[0.6666666666666666,\"#ed7953\"],[0.7777777777777778,\"#fb9f3a\"],[0.8888888888888888,\"#fdca26\"],[1.0,\"#f0f921\"]]}],\"mesh3d\":[{\"type\":\"mesh3d\",\"colorbar\":{\"outlinewidth\":0,\"ticks\":\"\"}}],\"scatter\":[{\"fillpattern\":{\"fillmode\":\"overlay\",\"size\":10,\"solidity\":0.2},\"type\":\"scatter\"}],\"parcoords\":[{\"type\":\"parcoords\",\"line\":{\"colorbar\":{\"outlinewidth\":0,\"ticks\":\"\"}}}],\"scatterpolargl\":[{\"type\":\"scatterpolargl\",\"marker\":{\"colorbar\":{\"outlinewidth\":0,\"ticks\":\"\"}}}],\"bar\":[{\"error_x\":{\"color\":\"#2a3f5f\"},\"error_y\":{\"color\":\"#2a3f5f\"},\"marker\":{\"line\":{\"color\":\"#E5ECF6\",\"width\":0.5},\"pattern\":{\"fillmode\":\"overlay\",\"size\":10,\"solidity\":0.2}},\"type\":\"bar\"}],\"scattergeo\":[{\"type\":\"scattergeo\",\"marker\":{\"colorbar\":{\"outlinewidth\":0,\"ticks\":\"\"}}}],\"scatterpolar\":[{\"type\":\"scatterpolar\",\"marker\":{\"colorbar\":{\"outlinewidth\":0,\"ticks\":\"\"}}}],\"histogram\":[{\"marker\":{\"pattern\":{\"fillmode\":\"overlay\",\"size\":10,\"solidity\":0.2}},\"type\":\"histogram\"}],\"scattergl\":[{\"type\":\"scattergl\",\"marker\":{\"colorbar\":{\"outlinewidth\":0,\"ticks\":\"\"}}}],\"scatter3d\":[{\"type\":\"scatter3d\",\"line\":{\"colorbar\":{\"outlinewidth\":0,\"ticks\":\"\"}},\"marker\":{\"colorbar\":{\"outlinewidth\":0,\"ticks\":\"\"}}}],\"scattermapbox\":[{\"type\":\"scattermapbox\",\"marker\":{\"colorbar\":{\"outlinewidth\":0,\"ticks\":\"\"}}}],\"scatterternary\":[{\"type\":\"scatterternary\",\"marker\":{\"colorbar\":{\"outlinewidth\":0,\"ticks\":\"\"}}}],\"scattercarpet\":[{\"type\":\"scattercarpet\",\"marker\":{\"colorbar\":{\"outlinewidth\":0,\"ticks\":\"\"}}}],\"carpet\":[{\"aaxis\":{\"endlinecolor\":\"#2a3f5f\",\"gridcolor\":\"white\",\"linecolor\":\"white\",\"minorgridcolor\":\"white\",\"startlinecolor\":\"#2a3f5f\"},\"baxis\":{\"endlinecolor\":\"#2a3f5f\",\"gridcolor\":\"white\",\"linecolor\":\"white\",\"minorgridcolor\":\"white\",\"startlinecolor\":\"#2a3f5f\"},\"type\":\"carpet\"}],\"table\":[{\"cells\":{\"fill\":{\"color\":\"#EBF0F8\"},\"line\":{\"color\":\"white\"}},\"header\":{\"fill\":{\"color\":\"#C8D4E3\"},\"line\":{\"color\":\"white\"}},\"type\":\"table\"}],\"barpolar\":[{\"marker\":{\"line\":{\"color\":\"#E5ECF6\",\"width\":0.5},\"pattern\":{\"fillmode\":\"overlay\",\"size\":10,\"solidity\":0.2}},\"type\":\"barpolar\"}],\"pie\":[{\"automargin\":true,\"type\":\"pie\"}]},\"layout\":{\"autotypenumbers\":\"strict\",\"colorway\":[\"#636efa\",\"#EF553B\",\"#00cc96\",\"#ab63fa\",\"#FFA15A\",\"#19d3f3\",\"#FF6692\",\"#B6E880\",\"#FF97FF\",\"#FECB52\"],\"font\":{\"color\":\"#2a3f5f\"},\"hovermode\":\"closest\",\"hoverlabel\":{\"align\":\"left\"},\"paper_bgcolor\":\"white\",\"plot_bgcolor\":\"#E5ECF6\",\"polar\":{\"bgcolor\":\"#E5ECF6\",\"angularaxis\":{\"gridcolor\":\"white\",\"linecolor\":\"white\",\"ticks\":\"\"},\"radialaxis\":{\"gridcolor\":\"white\",\"linecolor\":\"white\",\"ticks\":\"\"}},\"ternary\":{\"bgcolor\":\"#E5ECF6\",\"aaxis\":{\"gridcolor\":\"white\",\"linecolor\":\"white\",\"ticks\":\"\"},\"baxis\":{\"gridcolor\":\"white\",\"linecolor\":\"white\",\"ticks\":\"\"},\"caxis\":{\"gridcolor\":\"white\",\"linecolor\":\"white\",\"ticks\":\"\"}},\"coloraxis\":{\"colorbar\":{\"outlinewidth\":0,\"ticks\":\"\"}},\"colorscale\":{\"sequential\":[[0.0,\"#0d0887\"],[0.1111111111111111,\"#46039f\"],[0.2222222222222222,\"#7201a8\"],[0.3333333333333333,\"#9c179e\"],[0.4444444444444444,\"#bd3786\"],[0.5555555555555556,\"#d8576b\"],[0.6666666666666666,\"#ed7953\"],[0.7777777777777778,\"#fb9f3a\"],[0.8888888888888888,\"#fdca26\"],[1.0,\"#f0f921\"]],\"sequentialminus\":[[0.0,\"#0d0887\"],[0.1111111111111111,\"#46039f\"],[0.2222222222222222,\"#7201a8\"],[0.3333333333333333,\"#9c179e\"],[0.4444444444444444,\"#bd3786\"],[0.5555555555555556,\"#d8576b\"],[0.6666666666666666,\"#ed7953\"],[0.7777777777777778,\"#fb9f3a\"],[0.8888888888888888,\"#fdca26\"],[1.0,\"#f0f921\"]],\"diverging\":[[0,\"#8e0152\"],[0.1,\"#c51b7d\"],[0.2,\"#de77ae\"],[0.3,\"#f1b6da\"],[0.4,\"#fde0ef\"],[0.5,\"#f7f7f7\"],[0.6,\"#e6f5d0\"],[0.7,\"#b8e186\"],[0.8,\"#7fbc41\"],[0.9,\"#4d9221\"],[1,\"#276419\"]]},\"xaxis\":{\"gridcolor\":\"white\",\"linecolor\":\"white\",\"ticks\":\"\",\"title\":{\"standoff\":15},\"zerolinecolor\":\"white\",\"automargin\":true,\"zerolinewidth\":2},\"yaxis\":{\"gridcolor\":\"white\",\"linecolor\":\"white\",\"ticks\":\"\",\"title\":{\"standoff\":15},\"zerolinecolor\":\"white\",\"automargin\":true,\"zerolinewidth\":2},\"scene\":{\"xaxis\":{\"backgroundcolor\":\"#E5ECF6\",\"gridcolor\":\"white\",\"linecolor\":\"white\",\"showbackground\":true,\"ticks\":\"\",\"zerolinecolor\":\"white\",\"gridwidth\":2},\"yaxis\":{\"backgroundcolor\":\"#E5ECF6\",\"gridcolor\":\"white\",\"linecolor\":\"white\",\"showbackground\":true,\"ticks\":\"\",\"zerolinecolor\":\"white\",\"gridwidth\":2},\"zaxis\":{\"backgroundcolor\":\"#E5ECF6\",\"gridcolor\":\"white\",\"linecolor\":\"white\",\"showbackground\":true,\"ticks\":\"\",\"zerolinecolor\":\"white\",\"gridwidth\":2}},\"shapedefaults\":{\"line\":{\"color\":\"#2a3f5f\"}},\"annotationdefaults\":{\"arrowcolor\":\"#2a3f5f\",\"arrowhead\":0,\"arrowwidth\":1},\"geo\":{\"bgcolor\":\"white\",\"landcolor\":\"#E5ECF6\",\"subunitcolor\":\"white\",\"showland\":true,\"showlakes\":true,\"lakecolor\":\"white\"},\"title\":{\"x\":0.05},\"mapbox\":{\"style\":\"light\"}}},\"legend\":{\"tracegroupgap\":0},\"margin\":{\"t\":60},\"height\":700,\"width\":700},                        {\"responsive\": true}                    ).then(function(){\n",
       "                            \n",
       "var gd = document.getElementById('8f4b7487-85a2-4313-a5ca-804658989d31');\n",
       "var x = new MutationObserver(function (mutations, observer) {{\n",
       "        var display = window.getComputedStyle(gd).display;\n",
       "        if (!display || display === 'none') {{\n",
       "            console.log([gd, 'removed!']);\n",
       "            Plotly.purge(gd);\n",
       "            observer.disconnect();\n",
       "        }}\n",
       "}});\n",
       "\n",
       "// Listen for the removal of the full notebook cells\n",
       "var notebookContainer = gd.closest('#notebook-container');\n",
       "if (notebookContainer) {{\n",
       "    x.observe(notebookContainer, {childList: true});\n",
       "}}\n",
       "\n",
       "// Listen for the clearing of the current output cell\n",
       "var outputEl = gd.closest('.output');\n",
       "if (outputEl) {{\n",
       "    x.observe(outputEl, {childList: true});\n",
       "}}\n",
       "\n",
       "                        })                };                });            </script>        </div>"
      ]
     },
     "metadata": {},
     "output_type": "display_data"
    }
   ],
   "source": [
    "# Region-based segment chart\n",
    "\n",
    "px.sunburst(emissions, values='emissions', \n",
    "                        path=['region', 'segment'], \n",
    "                        color='region', \n",
    "            width=700, height=700)"
   ]
  },
  {
   "cell_type": "code",
   "execution_count": null,
   "id": "5533854e",
   "metadata": {},
   "outputs": [],
   "source": []
  }
 ],
 "metadata": {
  "kernelspec": {
   "display_name": "PythonData",
   "language": "python",
   "name": "pythondata"
  },
  "language_info": {
   "codemirror_mode": {
    "name": "ipython",
    "version": 3
   },
   "file_extension": ".py",
   "mimetype": "text/x-python",
   "name": "python",
   "nbconvert_exporter": "python",
   "pygments_lexer": "ipython3",
   "version": "3.10.9"
  }
 },
 "nbformat": 4,
 "nbformat_minor": 5
}
